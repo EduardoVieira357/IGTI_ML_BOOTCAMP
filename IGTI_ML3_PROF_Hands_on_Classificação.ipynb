{
  "nbformat": 4,
  "nbformat_minor": 0,
  "metadata": {
    "kernelspec": {
      "display_name": "Python 3",
      "language": "python",
      "name": "python3"
    },
    "language_info": {
      "codemirror_mode": {
        "name": "ipython",
        "version": 3
      },
      "file_extension": ".py",
      "mimetype": "text/x-python",
      "name": "python",
      "nbconvert_exporter": "python",
      "pygments_lexer": "ipython3",
      "version": "3.6.4"
    },
    "colab": {
      "name": "IGTI_ML_PROF_Hands_on_Classificação.ipynb",
      "provenance": [],
      "collapsed_sections": []
    }
  },
  "cells": [
    {
      "cell_type": "markdown",
      "metadata": {
        "id": "wIl-k3lr8Qiv"
      },
      "source": [
        "# **Hands-on Classificação**\n",
        "\n",
        "---\n",
        "\n",
        "Classificação com sklearn "
      ]
    },
    {
      "cell_type": "markdown",
      "metadata": {
        "id": "SN6weYKF8N8v"
      },
      "source": [
        "Vamos começar a analisar algoritmos de classificação de acordo com as métricas vistas nas aula anteriores. \n",
        "\n",
        "Para isso, usaremos 3 classificadores diferentes. Todas as implementações são provenivientes do sklearn. São eles: \n",
        "\n",
        "\n",
        "*   <a href = https://scikit-learn.org/stable/modules/neighbors.html#nearest-neighbors-classification> KNN </a>\n",
        "*   <a href = https://scikit-learn.org/stable/modules/svm.html> Support Vector Machine (SVM)</a>\n",
        "*   <a href = https://scikit-learn.org/stable/modules/generated/sklearn.ensemble.RandomForestClassifier.html> Random Forest </a>\n",
        "\n",
        "Esses classificadores são amplamente utilizados no dia-a-dia quando se trata de uma tarefa de classificação. Mais informações sobre esses modelos podem ser encontradas nos links para a documentação do sklearn. \n",
        "\n",
        "\n",
        "Vamos utilizar a base de dados **diabetes.csv** </a> que pode ser encontrada no OpenML em: https://www.openml.org/d/37. Essa base descreve o problema de predizer o resultado positivo ou negativo de um teste para diabetes aplicado em um conjunto específico de pacientes na Índia. \n"
      ]
    },
    {
      "cell_type": "markdown",
      "metadata": {
        "id": "_5wwHwTQ8N8v"
      },
      "source": [
        "### *Importando* bibliotecas\n"
      ]
    },
    {
      "cell_type": "code",
      "metadata": {
        "id": "i_5G2bRaHU8i"
      },
      "source": [
        "import pandas as pd #biblioteca para manipulação de dados\n",
        "import numpy as np #biblioteca para utilizacao de vetores e matrizes\n",
        "import matplotlib.pyplot as plt #bibloteca para plotar graficos"
      ],
      "execution_count": 10,
      "outputs": []
    },
    {
      "cell_type": "code",
      "metadata": {
        "id": "wF4byr9qXd8q"
      },
      "source": [
        ""
      ],
      "execution_count": 11,
      "outputs": []
    },
    {
      "cell_type": "code",
      "metadata": {
        "id": "U_1WF5THX5UQ",
        "outputId": "b0138bd5-de6f-4678-95bd-25765dc51a23",
        "colab": {
          "base_uri": "https://localhost:8080/",
          "height": 54
        }
      },
      "source": [
        "from google.colab import drive\n",
        "drive.mount('/content/drive')"
      ],
      "execution_count": 12,
      "outputs": [
        {
          "output_type": "stream",
          "text": [
            "Drive already mounted at /content/drive; to attempt to forcibly remount, call drive.mount(\"/content/drive\", force_remount=True).\n"
          ],
          "name": "stdout"
        }
      ]
    },
    {
      "cell_type": "code",
      "metadata": {
        "id": "ObmR5QumfNt9",
        "outputId": "715df2db-8a9e-4cd3-fe30-33b79bdb1462",
        "colab": {
          "resources": {
            "http://localhost:8080/nbextensions/google.colab/files.js": {
              "data": "Ly8gQ29weXJpZ2h0IDIwMTcgR29vZ2xlIExMQwovLwovLyBMaWNlbnNlZCB1bmRlciB0aGUgQXBhY2hlIExpY2Vuc2UsIFZlcnNpb24gMi4wICh0aGUgIkxpY2Vuc2UiKTsKLy8geW91IG1heSBub3QgdXNlIHRoaXMgZmlsZSBleGNlcHQgaW4gY29tcGxpYW5jZSB3aXRoIHRoZSBMaWNlbnNlLgovLyBZb3UgbWF5IG9idGFpbiBhIGNvcHkgb2YgdGhlIExpY2Vuc2UgYXQKLy8KLy8gICAgICBodHRwOi8vd3d3LmFwYWNoZS5vcmcvbGljZW5zZXMvTElDRU5TRS0yLjAKLy8KLy8gVW5sZXNzIHJlcXVpcmVkIGJ5IGFwcGxpY2FibGUgbGF3IG9yIGFncmVlZCB0byBpbiB3cml0aW5nLCBzb2Z0d2FyZQovLyBkaXN0cmlidXRlZCB1bmRlciB0aGUgTGljZW5zZSBpcyBkaXN0cmlidXRlZCBvbiBhbiAiQVMgSVMiIEJBU0lTLAovLyBXSVRIT1VUIFdBUlJBTlRJRVMgT1IgQ09ORElUSU9OUyBPRiBBTlkgS0lORCwgZWl0aGVyIGV4cHJlc3Mgb3IgaW1wbGllZC4KLy8gU2VlIHRoZSBMaWNlbnNlIGZvciB0aGUgc3BlY2lmaWMgbGFuZ3VhZ2UgZ292ZXJuaW5nIHBlcm1pc3Npb25zIGFuZAovLyBsaW1pdGF0aW9ucyB1bmRlciB0aGUgTGljZW5zZS4KCi8qKgogKiBAZmlsZW92ZXJ2aWV3IEhlbHBlcnMgZm9yIGdvb2dsZS5jb2xhYiBQeXRob24gbW9kdWxlLgogKi8KKGZ1bmN0aW9uKHNjb3BlKSB7CmZ1bmN0aW9uIHNwYW4odGV4dCwgc3R5bGVBdHRyaWJ1dGVzID0ge30pIHsKICBjb25zdCBlbGVtZW50ID0gZG9jdW1lbnQuY3JlYXRlRWxlbWVudCgnc3BhbicpOwogIGVsZW1lbnQudGV4dENvbnRlbnQgPSB0ZXh0OwogIGZvciAoY29uc3Qga2V5IG9mIE9iamVjdC5rZXlzKHN0eWxlQXR0cmlidXRlcykpIHsKICAgIGVsZW1lbnQuc3R5bGVba2V5XSA9IHN0eWxlQXR0cmlidXRlc1trZXldOwogIH0KICByZXR1cm4gZWxlbWVudDsKfQoKLy8gTWF4IG51bWJlciBvZiBieXRlcyB3aGljaCB3aWxsIGJlIHVwbG9hZGVkIGF0IGEgdGltZS4KY29uc3QgTUFYX1BBWUxPQURfU0laRSA9IDEwMCAqIDEwMjQ7CgpmdW5jdGlvbiBfdXBsb2FkRmlsZXMoaW5wdXRJZCwgb3V0cHV0SWQpIHsKICBjb25zdCBzdGVwcyA9IHVwbG9hZEZpbGVzU3RlcChpbnB1dElkLCBvdXRwdXRJZCk7CiAgY29uc3Qgb3V0cHV0RWxlbWVudCA9IGRvY3VtZW50LmdldEVsZW1lbnRCeUlkKG91dHB1dElkKTsKICAvLyBDYWNoZSBzdGVwcyBvbiB0aGUgb3V0cHV0RWxlbWVudCB0byBtYWtlIGl0IGF2YWlsYWJsZSBmb3IgdGhlIG5leHQgY2FsbAogIC8vIHRvIHVwbG9hZEZpbGVzQ29udGludWUgZnJvbSBQeXRob24uCiAgb3V0cHV0RWxlbWVudC5zdGVwcyA9IHN0ZXBzOwoKICByZXR1cm4gX3VwbG9hZEZpbGVzQ29udGludWUob3V0cHV0SWQpOwp9CgovLyBUaGlzIGlzIHJvdWdobHkgYW4gYXN5bmMgZ2VuZXJhdG9yIChub3Qgc3VwcG9ydGVkIGluIHRoZSBicm93c2VyIHlldCksCi8vIHdoZXJlIHRoZXJlIGFyZSBtdWx0aXBsZSBhc3luY2hyb25vdXMgc3RlcHMgYW5kIHRoZSBQeXRob24gc2lkZSBpcyBnb2luZwovLyB0byBwb2xsIGZvciBjb21wbGV0aW9uIG9mIGVhY2ggc3RlcC4KLy8gVGhpcyB1c2VzIGEgUHJvbWlzZSB0byBibG9jayB0aGUgcHl0aG9uIHNpZGUgb24gY29tcGxldGlvbiBvZiBlYWNoIHN0ZXAsCi8vIHRoZW4gcGFzc2VzIHRoZSByZXN1bHQgb2YgdGhlIHByZXZpb3VzIHN0ZXAgYXMgdGhlIGlucHV0IHRvIHRoZSBuZXh0IHN0ZXAuCmZ1bmN0aW9uIF91cGxvYWRGaWxlc0NvbnRpbnVlKG91dHB1dElkKSB7CiAgY29uc3Qgb3V0cHV0RWxlbWVudCA9IGRvY3VtZW50LmdldEVsZW1lbnRCeUlkKG91dHB1dElkKTsKICBjb25zdCBzdGVwcyA9IG91dHB1dEVsZW1lbnQuc3RlcHM7CgogIGNvbnN0IG5leHQgPSBzdGVwcy5uZXh0KG91dHB1dEVsZW1lbnQubGFzdFByb21pc2VWYWx1ZSk7CiAgcmV0dXJuIFByb21pc2UucmVzb2x2ZShuZXh0LnZhbHVlLnByb21pc2UpLnRoZW4oKHZhbHVlKSA9PiB7CiAgICAvLyBDYWNoZSB0aGUgbGFzdCBwcm9taXNlIHZhbHVlIHRvIG1ha2UgaXQgYXZhaWxhYmxlIHRvIHRoZSBuZXh0CiAgICAvLyBzdGVwIG9mIHRoZSBnZW5lcmF0b3IuCiAgICBvdXRwdXRFbGVtZW50Lmxhc3RQcm9taXNlVmFsdWUgPSB2YWx1ZTsKICAgIHJldHVybiBuZXh0LnZhbHVlLnJlc3BvbnNlOwogIH0pOwp9CgovKioKICogR2VuZXJhdG9yIGZ1bmN0aW9uIHdoaWNoIGlzIGNhbGxlZCBiZXR3ZWVuIGVhY2ggYXN5bmMgc3RlcCBvZiB0aGUgdXBsb2FkCiAqIHByb2Nlc3MuCiAqIEBwYXJhbSB7c3RyaW5nfSBpbnB1dElkIEVsZW1lbnQgSUQgb2YgdGhlIGlucHV0IGZpbGUgcGlja2VyIGVsZW1lbnQuCiAqIEBwYXJhbSB7c3RyaW5nfSBvdXRwdXRJZCBFbGVtZW50IElEIG9mIHRoZSBvdXRwdXQgZGlzcGxheS4KICogQHJldHVybiB7IUl0ZXJhYmxlPCFPYmplY3Q+fSBJdGVyYWJsZSBvZiBuZXh0IHN0ZXBzLgogKi8KZnVuY3Rpb24qIHVwbG9hZEZpbGVzU3RlcChpbnB1dElkLCBvdXRwdXRJZCkgewogIGNvbnN0IGlucHV0RWxlbWVudCA9IGRvY3VtZW50LmdldEVsZW1lbnRCeUlkKGlucHV0SWQpOwogIGlucHV0RWxlbWVudC5kaXNhYmxlZCA9IGZhbHNlOwoKICBjb25zdCBvdXRwdXRFbGVtZW50ID0gZG9jdW1lbnQuZ2V0RWxlbWVudEJ5SWQob3V0cHV0SWQpOwogIG91dHB1dEVsZW1lbnQuaW5uZXJIVE1MID0gJyc7CgogIGNvbnN0IHBpY2tlZFByb21pc2UgPSBuZXcgUHJvbWlzZSgocmVzb2x2ZSkgPT4gewogICAgaW5wdXRFbGVtZW50LmFkZEV2ZW50TGlzdGVuZXIoJ2NoYW5nZScsIChlKSA9PiB7CiAgICAgIHJlc29sdmUoZS50YXJnZXQuZmlsZXMpOwogICAgfSk7CiAgfSk7CgogIGNvbnN0IGNhbmNlbCA9IGRvY3VtZW50LmNyZWF0ZUVsZW1lbnQoJ2J1dHRvbicpOwogIGlucHV0RWxlbWVudC5wYXJlbnRFbGVtZW50LmFwcGVuZENoaWxkKGNhbmNlbCk7CiAgY2FuY2VsLnRleHRDb250ZW50ID0gJ0NhbmNlbCB1cGxvYWQnOwogIGNvbnN0IGNhbmNlbFByb21pc2UgPSBuZXcgUHJvbWlzZSgocmVzb2x2ZSkgPT4gewogICAgY2FuY2VsLm9uY2xpY2sgPSAoKSA9PiB7CiAgICAgIHJlc29sdmUobnVsbCk7CiAgICB9OwogIH0pOwoKICAvLyBXYWl0IGZvciB0aGUgdXNlciB0byBwaWNrIHRoZSBmaWxlcy4KICBjb25zdCBmaWxlcyA9IHlpZWxkIHsKICAgIHByb21pc2U6IFByb21pc2UucmFjZShbcGlja2VkUHJvbWlzZSwgY2FuY2VsUHJvbWlzZV0pLAogICAgcmVzcG9uc2U6IHsKICAgICAgYWN0aW9uOiAnc3RhcnRpbmcnLAogICAgfQogIH07CgogIGNhbmNlbC5yZW1vdmUoKTsKCiAgLy8gRGlzYWJsZSB0aGUgaW5wdXQgZWxlbWVudCBzaW5jZSBmdXJ0aGVyIHBpY2tzIGFyZSBub3QgYWxsb3dlZC4KICBpbnB1dEVsZW1lbnQuZGlzYWJsZWQgPSB0cnVlOwoKICBpZiAoIWZpbGVzKSB7CiAgICByZXR1cm4gewogICAgICByZXNwb25zZTogewogICAgICAgIGFjdGlvbjogJ2NvbXBsZXRlJywKICAgICAgfQogICAgfTsKICB9CgogIGZvciAoY29uc3QgZmlsZSBvZiBmaWxlcykgewogICAgY29uc3QgbGkgPSBkb2N1bWVudC5jcmVhdGVFbGVtZW50KCdsaScpOwogICAgbGkuYXBwZW5kKHNwYW4oZmlsZS5uYW1lLCB7Zm9udFdlaWdodDogJ2JvbGQnfSkpOwogICAgbGkuYXBwZW5kKHNwYW4oCiAgICAgICAgYCgke2ZpbGUudHlwZSB8fCAnbi9hJ30pIC0gJHtmaWxlLnNpemV9IGJ5dGVzLCBgICsKICAgICAgICBgbGFzdCBtb2RpZmllZDogJHsKICAgICAgICAgICAgZmlsZS5sYXN0TW9kaWZpZWREYXRlID8gZmlsZS5sYXN0TW9kaWZpZWREYXRlLnRvTG9jYWxlRGF0ZVN0cmluZygpIDoKICAgICAgICAgICAgICAgICAgICAgICAgICAgICAgICAgICAgJ24vYSd9IC0gYCkpOwogICAgY29uc3QgcGVyY2VudCA9IHNwYW4oJzAlIGRvbmUnKTsKICAgIGxpLmFwcGVuZENoaWxkKHBlcmNlbnQpOwoKICAgIG91dHB1dEVsZW1lbnQuYXBwZW5kQ2hpbGQobGkpOwoKICAgIGNvbnN0IGZpbGVEYXRhUHJvbWlzZSA9IG5ldyBQcm9taXNlKChyZXNvbHZlKSA9PiB7CiAgICAgIGNvbnN0IHJlYWRlciA9IG5ldyBGaWxlUmVhZGVyKCk7CiAgICAgIHJlYWRlci5vbmxvYWQgPSAoZSkgPT4gewogICAgICAgIHJlc29sdmUoZS50YXJnZXQucmVzdWx0KTsKICAgICAgfTsKICAgICAgcmVhZGVyLnJlYWRBc0FycmF5QnVmZmVyKGZpbGUpOwogICAgfSk7CiAgICAvLyBXYWl0IGZvciB0aGUgZGF0YSB0byBiZSByZWFkeS4KICAgIGxldCBmaWxlRGF0YSA9IHlpZWxkIHsKICAgICAgcHJvbWlzZTogZmlsZURhdGFQcm9taXNlLAogICAgICByZXNwb25zZTogewogICAgICAgIGFjdGlvbjogJ2NvbnRpbnVlJywKICAgICAgfQogICAgfTsKCiAgICAvLyBVc2UgYSBjaHVua2VkIHNlbmRpbmcgdG8gYXZvaWQgbWVzc2FnZSBzaXplIGxpbWl0cy4gU2VlIGIvNjIxMTU2NjAuCiAgICBsZXQgcG9zaXRpb24gPSAwOwogICAgd2hpbGUgKHBvc2l0aW9uIDwgZmlsZURhdGEuYnl0ZUxlbmd0aCkgewogICAgICBjb25zdCBsZW5ndGggPSBNYXRoLm1pbihmaWxlRGF0YS5ieXRlTGVuZ3RoIC0gcG9zaXRpb24sIE1BWF9QQVlMT0FEX1NJWkUpOwogICAgICBjb25zdCBjaHVuayA9IG5ldyBVaW50OEFycmF5KGZpbGVEYXRhLCBwb3NpdGlvbiwgbGVuZ3RoKTsKICAgICAgcG9zaXRpb24gKz0gbGVuZ3RoOwoKICAgICAgY29uc3QgYmFzZTY0ID0gYnRvYShTdHJpbmcuZnJvbUNoYXJDb2RlLmFwcGx5KG51bGwsIGNodW5rKSk7CiAgICAgIHlpZWxkIHsKICAgICAgICByZXNwb25zZTogewogICAgICAgICAgYWN0aW9uOiAnYXBwZW5kJywKICAgICAgICAgIGZpbGU6IGZpbGUubmFtZSwKICAgICAgICAgIGRhdGE6IGJhc2U2NCwKICAgICAgICB9LAogICAgICB9OwogICAgICBwZXJjZW50LnRleHRDb250ZW50ID0KICAgICAgICAgIGAke01hdGgucm91bmQoKHBvc2l0aW9uIC8gZmlsZURhdGEuYnl0ZUxlbmd0aCkgKiAxMDApfSUgZG9uZWA7CiAgICB9CiAgfQoKICAvLyBBbGwgZG9uZS4KICB5aWVsZCB7CiAgICByZXNwb25zZTogewogICAgICBhY3Rpb246ICdjb21wbGV0ZScsCiAgICB9CiAgfTsKfQoKc2NvcGUuZ29vZ2xlID0gc2NvcGUuZ29vZ2xlIHx8IHt9OwpzY29wZS5nb29nbGUuY29sYWIgPSBzY29wZS5nb29nbGUuY29sYWIgfHwge307CnNjb3BlLmdvb2dsZS5jb2xhYi5fZmlsZXMgPSB7CiAgX3VwbG9hZEZpbGVzLAogIF91cGxvYWRGaWxlc0NvbnRpbnVlLAp9Owp9KShzZWxmKTsK",
              "ok": true,
              "headers": [
                [
                  "content-type",
                  "application/javascript"
                ]
              ],
              "status": 200,
              "status_text": ""
            }
          },
          "base_uri": "https://localhost:8080/",
          "height": 72
        }
      },
      "source": [
        "### EDUARDO maneira melhor de carregar o arquivo\n",
        "#from google.colab import files\n",
        "#uploaded = files.upload()"
      ],
      "execution_count": null,
      "outputs": [
        {
          "output_type": "display_data",
          "data": {
            "text/html": [
              "\n",
              "     <input type=\"file\" id=\"files-40f20fa0-33ee-4108-ad53-877f6aa382d9\" name=\"files[]\" multiple disabled\n",
              "        style=\"border:none\" />\n",
              "     <output id=\"result-40f20fa0-33ee-4108-ad53-877f6aa382d9\">\n",
              "      Upload widget is only available when the cell has been executed in the\n",
              "      current browser session. Please rerun this cell to enable.\n",
              "      </output>\n",
              "      <script src=\"/nbextensions/google.colab/files.js\"></script> "
            ],
            "text/plain": [
              "<IPython.core.display.HTML object>"
            ]
          },
          "metadata": {
            "tags": []
          }
        },
        {
          "output_type": "stream",
          "text": [
            "Saving diabetes.csv to diabetes.csv\n"
          ],
          "name": "stdout"
        }
      ]
    },
    {
      "cell_type": "code",
      "metadata": {
        "id": "ufc7rjN0Hbb7",
        "outputId": "bc464dbe-17e2-4855-aaa8-445071c5b4f0",
        "colab": {
          "base_uri": "https://localhost:8080/",
          "height": 34
        }
      },
      "source": [
        "#liberando acesso do colab aos arquivos no drive ### professora\n",
        "#from google.colab import drive\n",
        "#drive.mount('/content/gdrive/My Drive/Colab Notebooks/IGTI/DADOS')"
      ],
      "execution_count": null,
      "outputs": [
        {
          "output_type": "stream",
          "text": [
            "Mounted at /content/gdrive\n"
          ],
          "name": "stdout"
        }
      ]
    },
    {
      "cell_type": "markdown",
      "metadata": {
        "id": "L9aBPfZwHjwK"
      },
      "source": [
        "### Carregamento dos dados"
      ]
    },
    {
      "cell_type": "code",
      "metadata": {
        "id": "FTLPdcSaHsIo"
      },
      "source": [
        "#lendo o csv que contem a base de dados e armazanando em um df\n",
        "#df = pd.read_csv('/content/diabetes.csv')\n",
        "df = pd.read_csv('/content/drive/My Drive/DADOS/diabetes.csv')"
      ],
      "execution_count": 36,
      "outputs": []
    },
    {
      "cell_type": "code",
      "metadata": {
        "id": "Yw9wSFNd8N8w",
        "outputId": "9c95809b-0a9a-4c9b-d044-d2b59162b7ca",
        "colab": {
          "base_uri": "https://localhost:8080/",
          "height": 204
        }
      },
      "source": [
        "#imprimindo as 5 primeiras linhas do df para confirmação\n",
        "df.head(5)"
      ],
      "execution_count": 20,
      "outputs": [
        {
          "output_type": "execute_result",
          "data": {
            "text/html": [
              "<div>\n",
              "<style scoped>\n",
              "    .dataframe tbody tr th:only-of-type {\n",
              "        vertical-align: middle;\n",
              "    }\n",
              "\n",
              "    .dataframe tbody tr th {\n",
              "        vertical-align: top;\n",
              "    }\n",
              "\n",
              "    .dataframe thead th {\n",
              "        text-align: right;\n",
              "    }\n",
              "</style>\n",
              "<table border=\"1\" class=\"dataframe\">\n",
              "  <thead>\n",
              "    <tr style=\"text-align: right;\">\n",
              "      <th></th>\n",
              "      <th>preg</th>\n",
              "      <th>plas</th>\n",
              "      <th>pres</th>\n",
              "      <th>skin</th>\n",
              "      <th>insu</th>\n",
              "      <th>mass</th>\n",
              "      <th>pedi</th>\n",
              "      <th>age</th>\n",
              "      <th>class</th>\n",
              "    </tr>\n",
              "  </thead>\n",
              "  <tbody>\n",
              "    <tr>\n",
              "      <th>0</th>\n",
              "      <td>6</td>\n",
              "      <td>148</td>\n",
              "      <td>72</td>\n",
              "      <td>35</td>\n",
              "      <td>0</td>\n",
              "      <td>33.6</td>\n",
              "      <td>0.627</td>\n",
              "      <td>50</td>\n",
              "      <td>tested_positive</td>\n",
              "    </tr>\n",
              "    <tr>\n",
              "      <th>1</th>\n",
              "      <td>1</td>\n",
              "      <td>85</td>\n",
              "      <td>66</td>\n",
              "      <td>29</td>\n",
              "      <td>0</td>\n",
              "      <td>26.6</td>\n",
              "      <td>0.351</td>\n",
              "      <td>31</td>\n",
              "      <td>tested_negative</td>\n",
              "    </tr>\n",
              "    <tr>\n",
              "      <th>2</th>\n",
              "      <td>8</td>\n",
              "      <td>183</td>\n",
              "      <td>64</td>\n",
              "      <td>0</td>\n",
              "      <td>0</td>\n",
              "      <td>23.3</td>\n",
              "      <td>0.672</td>\n",
              "      <td>32</td>\n",
              "      <td>tested_positive</td>\n",
              "    </tr>\n",
              "    <tr>\n",
              "      <th>3</th>\n",
              "      <td>1</td>\n",
              "      <td>89</td>\n",
              "      <td>66</td>\n",
              "      <td>23</td>\n",
              "      <td>94</td>\n",
              "      <td>28.1</td>\n",
              "      <td>0.167</td>\n",
              "      <td>21</td>\n",
              "      <td>tested_negative</td>\n",
              "    </tr>\n",
              "    <tr>\n",
              "      <th>4</th>\n",
              "      <td>0</td>\n",
              "      <td>137</td>\n",
              "      <td>40</td>\n",
              "      <td>35</td>\n",
              "      <td>168</td>\n",
              "      <td>43.1</td>\n",
              "      <td>2.288</td>\n",
              "      <td>33</td>\n",
              "      <td>tested_positive</td>\n",
              "    </tr>\n",
              "  </tbody>\n",
              "</table>\n",
              "</div>"
            ],
            "text/plain": [
              "   preg  plas  pres  skin  insu  mass   pedi  age            class\n",
              "0     6   148    72    35     0  33.6  0.627   50  tested_positive\n",
              "1     1    85    66    29     0  26.6  0.351   31  tested_negative\n",
              "2     8   183    64     0     0  23.3  0.672   32  tested_positive\n",
              "3     1    89    66    23    94  28.1  0.167   21  tested_negative\n",
              "4     0   137    40    35   168  43.1  2.288   33  tested_positive"
            ]
          },
          "metadata": {
            "tags": []
          },
          "execution_count": 20
        }
      ]
    },
    {
      "cell_type": "markdown",
      "metadata": {
        "id": "cFaZnXnAIonA"
      },
      "source": [
        "*   preg: number of times pregnant\n",
        "*   plas: Plasma glucose concentration a 2 hours in an oral glucose tolerance test\n",
        "*   pres: Diastolic blood pressure (mm Hg)\n",
        "*   skin: Triceps skin fold thickness (mm)\n",
        "*   insu: 2-Hour serum insulin (mu U/ml)\n",
        "*   mass: Body mass index (weight in kg/(height in m)^2)\n",
        "*   pedi: Diabetes pedigree function\n",
        "*   age: Age (years)\n",
        "*   class: Class variable (tested_positive or tested_negative)"
      ]
    },
    {
      "cell_type": "code",
      "metadata": {
        "id": "d_lxVAD-8N86",
        "outputId": "8a8f96eb-351e-4171-837c-d61155e1acc7",
        "colab": {
          "base_uri": "https://localhost:8080/",
          "height": 34
        }
      },
      "source": [
        "# Verificando o numero de amostras (linhas) e features (colunas) do dataset. \n",
        "print('Amostras e Features:', df.shape)"
      ],
      "execution_count": 21,
      "outputs": [
        {
          "output_type": "stream",
          "text": [
            "Amostras e Features: (768, 9)\n"
          ],
          "name": "stdout"
        }
      ]
    },
    {
      "cell_type": "code",
      "metadata": {
        "id": "MILEATwd8N9A",
        "outputId": "332d610b-a334-4868-bc97-073b725227d7",
        "colab": {
          "base_uri": "https://localhost:8080/",
          "height": 34
        }
      },
      "source": [
        "# Verificando quais são os tipos das features \n",
        "#### EDUARDO a professora errou!  ISSO NÃO MOSTRA O TIPO DAS FEATURES, SÓ OS NOMES, QUE SÃO OBJETOS\n",
        "\n",
        "df.columns"
      ],
      "execution_count": 22,
      "outputs": [
        {
          "output_type": "execute_result",
          "data": {
            "text/plain": [
              "Index(['preg', 'plas', 'pres', 'skin', 'insu', 'mass', 'pedi', 'age', 'class'], dtype='object')"
            ]
          },
          "metadata": {
            "tags": []
          },
          "execution_count": 22
        }
      ]
    },
    {
      "cell_type": "code",
      "metadata": {
        "id": "-ix1fSIwhQsn",
        "outputId": "d71dbbb4-e619-4fed-a0be-d6989a832851",
        "colab": {
          "base_uri": "https://localhost:8080/",
          "height": 289
        }
      },
      "source": [
        "df.info() ### AQUI REALMENTE MOSTRA OS TIPOS DAS FEATURES......."
      ],
      "execution_count": 23,
      "outputs": [
        {
          "output_type": "stream",
          "text": [
            "<class 'pandas.core.frame.DataFrame'>\n",
            "RangeIndex: 768 entries, 0 to 767\n",
            "Data columns (total 9 columns):\n",
            " #   Column  Non-Null Count  Dtype  \n",
            "---  ------  --------------  -----  \n",
            " 0   preg    768 non-null    int64  \n",
            " 1   plas    768 non-null    int64  \n",
            " 2   pres    768 non-null    int64  \n",
            " 3   skin    768 non-null    int64  \n",
            " 4   insu    768 non-null    int64  \n",
            " 5   mass    768 non-null    float64\n",
            " 6   pedi    768 non-null    float64\n",
            " 7   age     768 non-null    int64  \n",
            " 8   class   768 non-null    object \n",
            "dtypes: float64(2), int64(6), object(1)\n",
            "memory usage: 54.1+ KB\n"
          ],
          "name": "stdout"
        }
      ]
    },
    {
      "cell_type": "code",
      "metadata": {
        "id": "MDSnmbY5iR6z"
      },
      "source": [
        "### df['class'] = df['class'].astype('category') #### EDUARDO transforma a coluna class em categórica"
      ],
      "execution_count": 24,
      "outputs": []
    },
    {
      "cell_type": "markdown",
      "metadata": {
        "id": "b2aq9YGyJ_YN"
      },
      "source": [
        "### Pré processamento"
      ]
    },
    {
      "cell_type": "markdown",
      "metadata": {
        "id": "WD1KwfP08N9E"
      },
      "source": [
        "Nesse problema, o único atributo categórico é a classe. Alguns modelos podem ter dificuldade de lidar com esse atributo. Nesse caso, precisamos transformar os valores de \"tested_negative\" e \"tested_positivo\" para 0 e 1.\n",
        "\n",
        "Para isso, vamos fazer uma função bem simples. "
      ]
    },
    {
      "cell_type": "code",
      "metadata": {
        "id": "RbSaDmfQqdfj",
        "outputId": "e95b93e2-cff9-4a4e-e70a-be7dd46070c8",
        "colab": {
          "base_uri": "https://localhost:8080/",
          "height": 204
        }
      },
      "source": [
        "#criando um dicionario de dados para o mapeamento\n",
        "name_to_class = {\n",
        "    'tested_negative': 0,\n",
        "    'tested_positive': 1\n",
        "}\n",
        "\n",
        "#substituindo os valores categóricos pelo mapeamento\n",
        "df['class'] = df['class'].map(name_to_class)\n",
        "\n",
        "#check\n",
        "df.head(5)"
      ],
      "execution_count": 37,
      "outputs": [
        {
          "output_type": "execute_result",
          "data": {
            "text/html": [
              "<div>\n",
              "<style scoped>\n",
              "    .dataframe tbody tr th:only-of-type {\n",
              "        vertical-align: middle;\n",
              "    }\n",
              "\n",
              "    .dataframe tbody tr th {\n",
              "        vertical-align: top;\n",
              "    }\n",
              "\n",
              "    .dataframe thead th {\n",
              "        text-align: right;\n",
              "    }\n",
              "</style>\n",
              "<table border=\"1\" class=\"dataframe\">\n",
              "  <thead>\n",
              "    <tr style=\"text-align: right;\">\n",
              "      <th></th>\n",
              "      <th>preg</th>\n",
              "      <th>plas</th>\n",
              "      <th>pres</th>\n",
              "      <th>skin</th>\n",
              "      <th>insu</th>\n",
              "      <th>mass</th>\n",
              "      <th>pedi</th>\n",
              "      <th>age</th>\n",
              "      <th>class</th>\n",
              "    </tr>\n",
              "  </thead>\n",
              "  <tbody>\n",
              "    <tr>\n",
              "      <th>0</th>\n",
              "      <td>6</td>\n",
              "      <td>148</td>\n",
              "      <td>72</td>\n",
              "      <td>35</td>\n",
              "      <td>0</td>\n",
              "      <td>33.6</td>\n",
              "      <td>0.627</td>\n",
              "      <td>50</td>\n",
              "      <td>1</td>\n",
              "    </tr>\n",
              "    <tr>\n",
              "      <th>1</th>\n",
              "      <td>1</td>\n",
              "      <td>85</td>\n",
              "      <td>66</td>\n",
              "      <td>29</td>\n",
              "      <td>0</td>\n",
              "      <td>26.6</td>\n",
              "      <td>0.351</td>\n",
              "      <td>31</td>\n",
              "      <td>0</td>\n",
              "    </tr>\n",
              "    <tr>\n",
              "      <th>2</th>\n",
              "      <td>8</td>\n",
              "      <td>183</td>\n",
              "      <td>64</td>\n",
              "      <td>0</td>\n",
              "      <td>0</td>\n",
              "      <td>23.3</td>\n",
              "      <td>0.672</td>\n",
              "      <td>32</td>\n",
              "      <td>1</td>\n",
              "    </tr>\n",
              "    <tr>\n",
              "      <th>3</th>\n",
              "      <td>1</td>\n",
              "      <td>89</td>\n",
              "      <td>66</td>\n",
              "      <td>23</td>\n",
              "      <td>94</td>\n",
              "      <td>28.1</td>\n",
              "      <td>0.167</td>\n",
              "      <td>21</td>\n",
              "      <td>0</td>\n",
              "    </tr>\n",
              "    <tr>\n",
              "      <th>4</th>\n",
              "      <td>0</td>\n",
              "      <td>137</td>\n",
              "      <td>40</td>\n",
              "      <td>35</td>\n",
              "      <td>168</td>\n",
              "      <td>43.1</td>\n",
              "      <td>2.288</td>\n",
              "      <td>33</td>\n",
              "      <td>1</td>\n",
              "    </tr>\n",
              "  </tbody>\n",
              "</table>\n",
              "</div>"
            ],
            "text/plain": [
              "   preg  plas  pres  skin  insu  mass   pedi  age  class\n",
              "0     6   148    72    35     0  33.6  0.627   50      1\n",
              "1     1    85    66    29     0  26.6  0.351   31      0\n",
              "2     8   183    64     0     0  23.3  0.672   32      1\n",
              "3     1    89    66    23    94  28.1  0.167   21      0\n",
              "4     0   137    40    35   168  43.1  2.288   33      1"
            ]
          },
          "metadata": {
            "tags": []
          },
          "execution_count": 37
        }
      ]
    },
    {
      "cell_type": "markdown",
      "metadata": {
        "id": "_J94oUYW8N9Q"
      },
      "source": [
        "Uma outra etapa importante do pré-processamento consiste na avaliação de dados faltantes. \n",
        "\n"
      ]
    },
    {
      "cell_type": "code",
      "metadata": {
        "id": "fOQWr4kR8N9R",
        "outputId": "dc8f1830-5e88-4c19-c487-25a3c02a9d26",
        "colab": {
          "base_uri": "https://localhost:8080/",
          "height": 297
        }
      },
      "source": [
        "# Analisando o resumo da base\n",
        "df.describe()"
      ],
      "execution_count": 38,
      "outputs": [
        {
          "output_type": "execute_result",
          "data": {
            "text/html": [
              "<div>\n",
              "<style scoped>\n",
              "    .dataframe tbody tr th:only-of-type {\n",
              "        vertical-align: middle;\n",
              "    }\n",
              "\n",
              "    .dataframe tbody tr th {\n",
              "        vertical-align: top;\n",
              "    }\n",
              "\n",
              "    .dataframe thead th {\n",
              "        text-align: right;\n",
              "    }\n",
              "</style>\n",
              "<table border=\"1\" class=\"dataframe\">\n",
              "  <thead>\n",
              "    <tr style=\"text-align: right;\">\n",
              "      <th></th>\n",
              "      <th>preg</th>\n",
              "      <th>plas</th>\n",
              "      <th>pres</th>\n",
              "      <th>skin</th>\n",
              "      <th>insu</th>\n",
              "      <th>mass</th>\n",
              "      <th>pedi</th>\n",
              "      <th>age</th>\n",
              "      <th>class</th>\n",
              "    </tr>\n",
              "  </thead>\n",
              "  <tbody>\n",
              "    <tr>\n",
              "      <th>count</th>\n",
              "      <td>768.000000</td>\n",
              "      <td>768.000000</td>\n",
              "      <td>768.000000</td>\n",
              "      <td>768.000000</td>\n",
              "      <td>768.000000</td>\n",
              "      <td>768.000000</td>\n",
              "      <td>768.000000</td>\n",
              "      <td>768.000000</td>\n",
              "      <td>768.000000</td>\n",
              "    </tr>\n",
              "    <tr>\n",
              "      <th>mean</th>\n",
              "      <td>3.845052</td>\n",
              "      <td>120.894531</td>\n",
              "      <td>69.105469</td>\n",
              "      <td>20.536458</td>\n",
              "      <td>79.799479</td>\n",
              "      <td>31.992578</td>\n",
              "      <td>0.471876</td>\n",
              "      <td>33.240885</td>\n",
              "      <td>0.348958</td>\n",
              "    </tr>\n",
              "    <tr>\n",
              "      <th>std</th>\n",
              "      <td>3.369578</td>\n",
              "      <td>31.972618</td>\n",
              "      <td>19.355807</td>\n",
              "      <td>15.952218</td>\n",
              "      <td>115.244002</td>\n",
              "      <td>7.884160</td>\n",
              "      <td>0.331329</td>\n",
              "      <td>11.760232</td>\n",
              "      <td>0.476951</td>\n",
              "    </tr>\n",
              "    <tr>\n",
              "      <th>min</th>\n",
              "      <td>0.000000</td>\n",
              "      <td>0.000000</td>\n",
              "      <td>0.000000</td>\n",
              "      <td>0.000000</td>\n",
              "      <td>0.000000</td>\n",
              "      <td>0.000000</td>\n",
              "      <td>0.078000</td>\n",
              "      <td>21.000000</td>\n",
              "      <td>0.000000</td>\n",
              "    </tr>\n",
              "    <tr>\n",
              "      <th>25%</th>\n",
              "      <td>1.000000</td>\n",
              "      <td>99.000000</td>\n",
              "      <td>62.000000</td>\n",
              "      <td>0.000000</td>\n",
              "      <td>0.000000</td>\n",
              "      <td>27.300000</td>\n",
              "      <td>0.243750</td>\n",
              "      <td>24.000000</td>\n",
              "      <td>0.000000</td>\n",
              "    </tr>\n",
              "    <tr>\n",
              "      <th>50%</th>\n",
              "      <td>3.000000</td>\n",
              "      <td>117.000000</td>\n",
              "      <td>72.000000</td>\n",
              "      <td>23.000000</td>\n",
              "      <td>30.500000</td>\n",
              "      <td>32.000000</td>\n",
              "      <td>0.372500</td>\n",
              "      <td>29.000000</td>\n",
              "      <td>0.000000</td>\n",
              "    </tr>\n",
              "    <tr>\n",
              "      <th>75%</th>\n",
              "      <td>6.000000</td>\n",
              "      <td>140.250000</td>\n",
              "      <td>80.000000</td>\n",
              "      <td>32.000000</td>\n",
              "      <td>127.250000</td>\n",
              "      <td>36.600000</td>\n",
              "      <td>0.626250</td>\n",
              "      <td>41.000000</td>\n",
              "      <td>1.000000</td>\n",
              "    </tr>\n",
              "    <tr>\n",
              "      <th>max</th>\n",
              "      <td>17.000000</td>\n",
              "      <td>199.000000</td>\n",
              "      <td>122.000000</td>\n",
              "      <td>99.000000</td>\n",
              "      <td>846.000000</td>\n",
              "      <td>67.100000</td>\n",
              "      <td>2.420000</td>\n",
              "      <td>81.000000</td>\n",
              "      <td>1.000000</td>\n",
              "    </tr>\n",
              "  </tbody>\n",
              "</table>\n",
              "</div>"
            ],
            "text/plain": [
              "             preg        plas        pres  ...        pedi         age       class\n",
              "count  768.000000  768.000000  768.000000  ...  768.000000  768.000000  768.000000\n",
              "mean     3.845052  120.894531   69.105469  ...    0.471876   33.240885    0.348958\n",
              "std      3.369578   31.972618   19.355807  ...    0.331329   11.760232    0.476951\n",
              "min      0.000000    0.000000    0.000000  ...    0.078000   21.000000    0.000000\n",
              "25%      1.000000   99.000000   62.000000  ...    0.243750   24.000000    0.000000\n",
              "50%      3.000000  117.000000   72.000000  ...    0.372500   29.000000    0.000000\n",
              "75%      6.000000  140.250000   80.000000  ...    0.626250   41.000000    1.000000\n",
              "max     17.000000  199.000000  122.000000  ...    2.420000   81.000000    1.000000\n",
              "\n",
              "[8 rows x 9 columns]"
            ]
          },
          "metadata": {
            "tags": []
          },
          "execution_count": 38
        }
      ]
    },
    {
      "cell_type": "code",
      "metadata": {
        "id": "XIa0YqWflWnw",
        "outputId": "05bdfe97-f413-4ea0-92cf-a6291152e59f",
        "colab": {
          "base_uri": "https://localhost:8080/",
          "height": 436
        }
      },
      "source": [
        "print(type(df.iloc[:,0:8]))  ### veja que é um dataframe\n",
        "df.iloc[:,0:8]  ######  EDUARDO jeito melhor de escolher o \"data\""
      ],
      "execution_count": 39,
      "outputs": [
        {
          "output_type": "stream",
          "text": [
            "<class 'pandas.core.frame.DataFrame'>\n"
          ],
          "name": "stdout"
        },
        {
          "output_type": "execute_result",
          "data": {
            "text/html": [
              "<div>\n",
              "<style scoped>\n",
              "    .dataframe tbody tr th:only-of-type {\n",
              "        vertical-align: middle;\n",
              "    }\n",
              "\n",
              "    .dataframe tbody tr th {\n",
              "        vertical-align: top;\n",
              "    }\n",
              "\n",
              "    .dataframe thead th {\n",
              "        text-align: right;\n",
              "    }\n",
              "</style>\n",
              "<table border=\"1\" class=\"dataframe\">\n",
              "  <thead>\n",
              "    <tr style=\"text-align: right;\">\n",
              "      <th></th>\n",
              "      <th>preg</th>\n",
              "      <th>plas</th>\n",
              "      <th>pres</th>\n",
              "      <th>skin</th>\n",
              "      <th>insu</th>\n",
              "      <th>mass</th>\n",
              "      <th>pedi</th>\n",
              "      <th>age</th>\n",
              "    </tr>\n",
              "  </thead>\n",
              "  <tbody>\n",
              "    <tr>\n",
              "      <th>0</th>\n",
              "      <td>6</td>\n",
              "      <td>148</td>\n",
              "      <td>72</td>\n",
              "      <td>35</td>\n",
              "      <td>0</td>\n",
              "      <td>33.6</td>\n",
              "      <td>0.627</td>\n",
              "      <td>50</td>\n",
              "    </tr>\n",
              "    <tr>\n",
              "      <th>1</th>\n",
              "      <td>1</td>\n",
              "      <td>85</td>\n",
              "      <td>66</td>\n",
              "      <td>29</td>\n",
              "      <td>0</td>\n",
              "      <td>26.6</td>\n",
              "      <td>0.351</td>\n",
              "      <td>31</td>\n",
              "    </tr>\n",
              "    <tr>\n",
              "      <th>2</th>\n",
              "      <td>8</td>\n",
              "      <td>183</td>\n",
              "      <td>64</td>\n",
              "      <td>0</td>\n",
              "      <td>0</td>\n",
              "      <td>23.3</td>\n",
              "      <td>0.672</td>\n",
              "      <td>32</td>\n",
              "    </tr>\n",
              "    <tr>\n",
              "      <th>3</th>\n",
              "      <td>1</td>\n",
              "      <td>89</td>\n",
              "      <td>66</td>\n",
              "      <td>23</td>\n",
              "      <td>94</td>\n",
              "      <td>28.1</td>\n",
              "      <td>0.167</td>\n",
              "      <td>21</td>\n",
              "    </tr>\n",
              "    <tr>\n",
              "      <th>4</th>\n",
              "      <td>0</td>\n",
              "      <td>137</td>\n",
              "      <td>40</td>\n",
              "      <td>35</td>\n",
              "      <td>168</td>\n",
              "      <td>43.1</td>\n",
              "      <td>2.288</td>\n",
              "      <td>33</td>\n",
              "    </tr>\n",
              "    <tr>\n",
              "      <th>...</th>\n",
              "      <td>...</td>\n",
              "      <td>...</td>\n",
              "      <td>...</td>\n",
              "      <td>...</td>\n",
              "      <td>...</td>\n",
              "      <td>...</td>\n",
              "      <td>...</td>\n",
              "      <td>...</td>\n",
              "    </tr>\n",
              "    <tr>\n",
              "      <th>763</th>\n",
              "      <td>10</td>\n",
              "      <td>101</td>\n",
              "      <td>76</td>\n",
              "      <td>48</td>\n",
              "      <td>180</td>\n",
              "      <td>32.9</td>\n",
              "      <td>0.171</td>\n",
              "      <td>63</td>\n",
              "    </tr>\n",
              "    <tr>\n",
              "      <th>764</th>\n",
              "      <td>2</td>\n",
              "      <td>122</td>\n",
              "      <td>70</td>\n",
              "      <td>27</td>\n",
              "      <td>0</td>\n",
              "      <td>36.8</td>\n",
              "      <td>0.340</td>\n",
              "      <td>27</td>\n",
              "    </tr>\n",
              "    <tr>\n",
              "      <th>765</th>\n",
              "      <td>5</td>\n",
              "      <td>121</td>\n",
              "      <td>72</td>\n",
              "      <td>23</td>\n",
              "      <td>112</td>\n",
              "      <td>26.2</td>\n",
              "      <td>0.245</td>\n",
              "      <td>30</td>\n",
              "    </tr>\n",
              "    <tr>\n",
              "      <th>766</th>\n",
              "      <td>1</td>\n",
              "      <td>126</td>\n",
              "      <td>60</td>\n",
              "      <td>0</td>\n",
              "      <td>0</td>\n",
              "      <td>30.1</td>\n",
              "      <td>0.349</td>\n",
              "      <td>47</td>\n",
              "    </tr>\n",
              "    <tr>\n",
              "      <th>767</th>\n",
              "      <td>1</td>\n",
              "      <td>93</td>\n",
              "      <td>70</td>\n",
              "      <td>31</td>\n",
              "      <td>0</td>\n",
              "      <td>30.4</td>\n",
              "      <td>0.315</td>\n",
              "      <td>23</td>\n",
              "    </tr>\n",
              "  </tbody>\n",
              "</table>\n",
              "<p>768 rows × 8 columns</p>\n",
              "</div>"
            ],
            "text/plain": [
              "     preg  plas  pres  skin  insu  mass   pedi  age\n",
              "0       6   148    72    35     0  33.6  0.627   50\n",
              "1       1    85    66    29     0  26.6  0.351   31\n",
              "2       8   183    64     0     0  23.3  0.672   32\n",
              "3       1    89    66    23    94  28.1  0.167   21\n",
              "4       0   137    40    35   168  43.1  2.288   33\n",
              "..    ...   ...   ...   ...   ...   ...    ...  ...\n",
              "763    10   101    76    48   180  32.9  0.171   63\n",
              "764     2   122    70    27     0  36.8  0.340   27\n",
              "765     5   121    72    23   112  26.2  0.245   30\n",
              "766     1   126    60     0     0  30.1  0.349   47\n",
              "767     1    93    70    31     0  30.4  0.315   23\n",
              "\n",
              "[768 rows x 8 columns]"
            ]
          },
          "metadata": {
            "tags": []
          },
          "execution_count": 39
        }
      ]
    },
    {
      "cell_type": "code",
      "metadata": {
        "id": "CLHfZmj5ZQQj",
        "outputId": "9e3c9180-0499-4f6f-afe6-72ac79e9a8e1",
        "colab": {
          "base_uri": "https://localhost:8080/",
          "height": 34
        }
      },
      "source": [
        "print(type(df.iloc[:,0:8].values))  ### veja que se colocar .values vira um array"
      ],
      "execution_count": 40,
      "outputs": [
        {
          "output_type": "stream",
          "text": [
            "<class 'numpy.ndarray'>\n"
          ],
          "name": "stdout"
        }
      ]
    },
    {
      "cell_type": "code",
      "metadata": {
        "id": "jTGSD_QFlywM",
        "outputId": "d62eca94-2a48-467f-b34f-e9ce8646f594",
        "colab": {
          "base_uri": "https://localhost:8080/",
          "height": 221
        }
      },
      "source": [
        "df.iloc[:,8]  #### jeito melhor de escolher o \"label\""
      ],
      "execution_count": 41,
      "outputs": [
        {
          "output_type": "execute_result",
          "data": {
            "text/plain": [
              "0      1\n",
              "1      0\n",
              "2      1\n",
              "3      0\n",
              "4      1\n",
              "      ..\n",
              "763    0\n",
              "764    0\n",
              "765    0\n",
              "766    1\n",
              "767    0\n",
              "Name: class, Length: 768, dtype: int64"
            ]
          },
          "metadata": {
            "tags": []
          },
          "execution_count": 41
        }
      ]
    },
    {
      "cell_type": "markdown",
      "metadata": {
        "id": "-mH3u8WT8N9f"
      },
      "source": [
        "Os modelos implementados no sklearn recebem como entrada para a modelagam um ou mais arrays. Dessa forma, precisamos modificar o df original para que seja possível a modelagem correta. \n",
        "\n",
        "Para isso, vamos separar o label das amotras, armazenar o nome das featues já que os arrays não fazem isso e depois retirar a coluna de labels do df original. Em seguida, vamos converter o df para array usando o numpy!"
      ]
    },
    {
      "cell_type": "code",
      "metadata": {
        "id": "WZ3jLCuEOfbJ"
      },
      "source": [
        "# armazenando os labels em um array   ### altera tudo para array\n",
        "labels = np.array(df['class'])\n",
        "\n",
        "# salvando a ordem das features\n",
        "feature_list = list(df.columns)"
      ],
      "execution_count": 42,
      "outputs": []
    },
    {
      "cell_type": "code",
      "metadata": {
        "id": "Q5wIxGj68N9g",
        "outputId": "5b19d9f2-fcd4-44e3-ab14-afe60c08d619",
        "colab": {
          "base_uri": "https://localhost:8080/",
          "height": 34
        }
      },
      "source": [
        "# removendo a coluna de labels do df original  ### eu não estragaria o df original... \n",
        "df = df.drop('class', axis = 1)\n",
        "\n",
        "# check\n",
        "df.columns"
      ],
      "execution_count": 43,
      "outputs": [
        {
          "output_type": "execute_result",
          "data": {
            "text/plain": [
              "Index(['preg', 'plas', 'pres', 'skin', 'insu', 'mass', 'pedi', 'age'], dtype='object')"
            ]
          },
          "metadata": {
            "tags": []
          },
          "execution_count": 43
        }
      ]
    },
    {
      "cell_type": "code",
      "metadata": {
        "id": "H24By9Vf8N9k"
      },
      "source": [
        "# convertendo df para array   #### interessante que ela converte tudo para array!   Por que??????\n",
        "data = np.array(df)"
      ],
      "execution_count": 44,
      "outputs": []
    },
    {
      "cell_type": "markdown",
      "metadata": {
        "id": "WY6_Mcme8N9o"
      },
      "source": [
        "Agora estamos quase prontos para a modelagem em si!\n",
        "\n",
        "Precisamos apenas separar uma parte dos nossos dados para que seja possível avaliar os modelos que vamos treinar. O sklearn tem uma função para isso: <a href = http://scikit-learn.org/stable/modules/generated/sklearn.model_selection.train_test_split.html> train_test_split<a>."
      ]
    },
    {
      "cell_type": "code",
      "metadata": {
        "id": "Ews_1IMu8N9p"
      },
      "source": [
        "# importar train_test_split do scikitlearn #### EDUARDO verificar se é assim mesmo o padrão pois acho que está diferente\n",
        "from sklearn.model_selection import train_test_split\n",
        "\n",
        "# aplicando a funcao train_test_split para separar os conjuntos de treino e \n",
        "# teste segundo uma porcentagem de separação definida. \n",
        "train_data, test_data, train_labels, test_labels = train_test_split(data, labels, test_size = 0.25, random_state = 42)"
      ],
      "execution_count": 47,
      "outputs": []
    },
    {
      "cell_type": "markdown",
      "metadata": {
        "id": "FYsqiOG18N9v"
      },
      "source": [
        "### Baseline: Comparando com um modelo aleatorio!"
      ]
    },
    {
      "cell_type": "markdown",
      "metadata": {
        "id": "JpkQtbyW8N9w"
      },
      "source": [
        "Como falamos durante as aulas teóricas, podemos criar uma base de comparação para os modelos que queremos avaliar. \n",
        "\n",
        "No caso da classificação, o baseline pode ser construído a partir de um modelo aleatório. Nesse caso, são atribuídos 0s e 1s de forma aleatória para todas as amostras de teste. Podemos pensar que o modelo baseline é apenas um chute aleatório sobre o resultado do teste positivo ou negativo. "
      ]
    },
    {
      "cell_type": "code",
      "metadata": {
        "id": "orOp85nl5QDw",
        "outputId": "3457ca12-3ac7-46c0-8962-dd4bdad5edc4",
        "colab": {
          "base_uri": "https://localhost:8080/",
          "height": 119
        }
      },
      "source": [
        "# criando baseline\n",
        "baseline_preds = np.random.choice([0,1], size = len(test_labels))\n",
        "\n",
        "print(baseline_preds)"
      ],
      "execution_count": 48,
      "outputs": [
        {
          "output_type": "stream",
          "text": [
            "[0 1 0 1 0 0 0 0 0 1 0 0 0 1 0 0 0 0 0 1 1 0 0 1 0 1 1 1 0 1 0 1 0 1 1 1 1\n",
            " 1 1 1 1 1 0 0 0 0 0 0 0 0 0 1 0 0 1 0 0 0 1 1 0 0 0 1 1 0 0 1 1 1 0 0 0 0\n",
            " 0 0 0 0 0 0 1 1 0 1 0 1 0 0 0 0 1 1 1 1 1 0 1 0 0 1 0 1 0 1 0 1 1 0 0 1 0\n",
            " 1 1 1 1 0 1 1 0 1 0 0 1 1 0 1 0 0 0 1 0 0 1 1 1 0 1 0 0 0 0 0 1 1 0 0 1 1\n",
            " 1 0 1 0 0 0 1 0 1 0 0 1 1 1 1 0 1 0 1 0 0 1 0 1 1 0 1 1 0 1 1 1 1 1 0 0 1\n",
            " 0 0 1 0 1 0 0]\n"
          ],
          "name": "stdout"
        }
      ]
    },
    {
      "cell_type": "markdown",
      "metadata": {
        "id": "WeZ5topCSLxn"
      },
      "source": [
        "O sklearn tem várias métricas implementadas! :D\n",
        "\n",
        "Vamos testar essas metricas? "
      ]
    },
    {
      "cell_type": "code",
      "metadata": {
        "id": "6Aobv8rd8N9x",
        "outputId": "cf261e40-028c-41aa-87fa-432baf22b23d",
        "colab": {
          "base_uri": "https://localhost:8080/",
          "height": 374
        }
      },
      "source": [
        "# importar biblioteca para calculo de métricas\n",
        "from sklearn import metrics  \n",
        "\n",
        "# calculando medidas de erro\n",
        "# essas medidas são calculadas a partir da comparação com o valor real do nosso conjunto de teste com o baseline_preds\n",
        "\n",
        "print('Matriz de Confusão\\n', metrics.confusion_matrix(test_labels, baseline_preds)) \n",
        "print('\\nAcurácia\\n', metrics.accuracy_score(test_labels, baseline_preds)) \n",
        "print('\\nAcurácia Balanceada por classe\\n', metrics.balanced_accuracy_score(test_labels, baseline_preds)) \n",
        "print('\\nPrecision\\n', metrics.precision_score(test_labels, baseline_preds)) \n",
        "print('\\nRecall\\n', metrics.recall_score(test_labels, baseline_preds)) \n",
        "print('\\nF1\\n', metrics.f1_score(test_labels, baseline_preds)) \n",
        "\n",
        "print('\\nAUCROC\\n', metrics.roc_auc_score(test_labels, baseline_preds))"
      ],
      "execution_count": 50,
      "outputs": [
        {
          "output_type": "stream",
          "text": [
            "Matriz de Confusão\n",
            " [[68 55]\n",
            " [36 33]]\n",
            "\n",
            "Acurácia\n",
            " 0.5260416666666666\n",
            "\n",
            "Acurácia Balanceada por classe\n",
            " 0.515553199010251\n",
            "\n",
            "Precision\n",
            " 0.375\n",
            "\n",
            "Recall\n",
            " 0.4782608695652174\n",
            "\n",
            "F1\n",
            " 0.42038216560509556\n",
            "\n",
            "AUCROC\n",
            " 0.515553199010251\n"
          ],
          "name": "stdout"
        }
      ]
    },
    {
      "cell_type": "markdown",
      "metadata": {
        "id": "AAwsSBcdVoku"
      },
      "source": [
        "O sklearn oferece uma função que nos dá um resumo das principais métricas de classificação. \n",
        "Podemos usar essa função no lugar de printar as métricas separadamente. \n",
        "\n",
        "Vamos testar?"
      ]
    },
    {
      "cell_type": "code",
      "metadata": {
        "id": "vKXqYbwLUkP_",
        "outputId": "bf116b5b-4796-446e-9d7e-900d54d88286",
        "colab": {
          "base_uri": "https://localhost:8080/",
          "height": 204
        }
      },
      "source": [
        "print('\\nClassification Report\\n', metrics.classification_report(test_labels, baseline_preds)) "
      ],
      "execution_count": 51,
      "outputs": [
        {
          "output_type": "stream",
          "text": [
            "\n",
            "Classification Report\n",
            "               precision    recall  f1-score   support\n",
            "\n",
            "           0       0.65      0.55      0.60       123\n",
            "           1       0.38      0.48      0.42        69\n",
            "\n",
            "    accuracy                           0.53       192\n",
            "   macro avg       0.51      0.52      0.51       192\n",
            "weighted avg       0.55      0.53      0.53       192\n",
            "\n"
          ],
          "name": "stdout"
        }
      ]
    },
    {
      "cell_type": "markdown",
      "metadata": {
        "id": "1NH3QMlf8N91"
      },
      "source": [
        "Agora que avaliamos nosso baseline e identificamos o erro desse modelo, podemos criar outros modelos de classificação e comparar os resultados encontrados!\n",
        "\n",
        "Dica: Se não conseguirmos um erro menor do que o baseline, talvez precisemos repensar nossa abordagem."
      ]
    },
    {
      "cell_type": "markdown",
      "metadata": {
        "id": "nstvyr-hdG1S"
      },
      "source": [
        "Vamos dar uma olhada como ficou o nosso baseline em relação as amostras de teste?\n",
        "\n",
        "*Não se preocupe em compreender o que foi realizado na célula a seguir, todas as manipulações foram realizadas no único intuito de gerar o gráfico.*"
      ]
    },
    {
      "cell_type": "code",
      "metadata": {
        "id": "eqGMncqndAaJ",
        "outputId": "8fddcbe3-7e13-4801-b68e-d20212d2fdce",
        "colab": {
          "base_uri": "https://localhost:8080/",
          "height": 297
        }
      },
      "source": [
        "#criando labels e os valores armazenados nas barras\n",
        "labels = ['Tested_negatives', 'Tested_positives']\n",
        "count_test = [(test_labels == 0).sum(), (test_labels == 1).sum()]\n",
        "count_baseline = [(baseline_preds == 0).sum(), (baseline_preds == 1).sum()]\n",
        "\n",
        "#criando as barras\n",
        "x = np.arange(len(labels))  # the label locations\n",
        "width = 0.3  # the width of the bars\n",
        "\n",
        "#criancdo os plots\n",
        "fig, ax = plt.subplots()\n",
        "rects1 = ax.bar(x - width/2, count_test, width, label='Real Values')\n",
        "rects2 = ax.bar(x + width/2, count_baseline, width, label='Baseline Values')\n",
        "\n",
        "# Add some text for labels, title and custom x-axis tick labels, etc.\n",
        "ax.set_ylabel('Instances')\n",
        "ax.set_title('Real x Baseline')\n",
        "ax.set_xticks(x)\n",
        "ax.set_xticklabels(labels)\n",
        "ax.legend()\n",
        "\n",
        "\n",
        "def autolabel(rects):\n",
        "    \"\"\"Attach a text label above each bar in *rects*, displaying its height.\"\"\"\n",
        "    for rect in rects:\n",
        "        height = rect.get_height()\n",
        "        ax.annotate('{}'.format(height),\n",
        "                    xy=(rect.get_x() + rect.get_width() / 2, height),\n",
        "                    xytext=(0, 3),  # 3 points vertical offset\n",
        "                    textcoords=\"offset points\",\n",
        "                    ha='center', va='bottom')\n",
        "\n",
        "#plotando o grafico de barras agrupadas\n",
        "autolabel(rects1)\n",
        "autolabel(rects2)\n",
        "fig.tight_layout()\n",
        "\n",
        "plt.show()"
      ],
      "execution_count": 52,
      "outputs": [
        {
          "output_type": "display_data",
          "data": {
            "image/png": "[encoded data removed]",
            "text/plain": [
              "<Figure size 432x288 with 1 Axes>"
            ]
          },
          "metadata": {
            "tags": [],
            "needs_background": "light"
          }
        }
      ]
    },
    {
      "cell_type": "markdown",
      "metadata": {
        "id": "p_6LHRU0WoaJ"
      },
      "source": [
        "# KNN"
      ]
    },
    {
      "cell_type": "markdown",
      "metadata": {
        "id": "uem0TvVMWw-X"
      },
      "source": [
        "Vamos aplicar o primeiro modelo de classificação: o k-nearest neighbors!"
      ]
    },
    {
      "cell_type": "code",
      "metadata": {
        "id": "ECIYz7rg8N92"
      },
      "source": [
        "# importar o modelo de KNN\n",
        "from sklearn.neighbors import KNeighborsClassifier \n",
        "\n",
        "# treinando o modelo no conjunto de dados de treino\n",
        "classifier = KNeighborsClassifier().fit(train_data, train_labels);"
      ],
      "execution_count": 53,
      "outputs": []
    },
    {
      "cell_type": "code",
      "metadata": {
        "id": "E-2XWEDe8N98",
        "outputId": "ac9e148f-daf8-4536-8a8e-361aae8e6618",
        "colab": {
          "base_uri": "https://localhost:8080/",
          "height": 359
        }
      },
      "source": [
        "# aplicando o modelo treinado para a previsão da temperatura \n",
        "#em todo o conjunto de teste\n",
        "predictions1_labels = classifier.predict(test_data)\n",
        "\n",
        "# Exibindo dataframe com valores 10 reais e suas respectivas previsões\n",
        "p = pd.DataFrame({'Real': test_labels, 'Previsto': predictions1_labels})  \n",
        "p.head(10)"
      ],
      "execution_count": 54,
      "outputs": [
        {
          "output_type": "execute_result",
          "data": {
            "text/html": [
              "<div>\n",
              "<style scoped>\n",
              "    .dataframe tbody tr th:only-of-type {\n",
              "        vertical-align: middle;\n",
              "    }\n",
              "\n",
              "    .dataframe tbody tr th {\n",
              "        vertical-align: top;\n",
              "    }\n",
              "\n",
              "    .dataframe thead th {\n",
              "        text-align: right;\n",
              "    }\n",
              "</style>\n",
              "<table border=\"1\" class=\"dataframe\">\n",
              "  <thead>\n",
              "    <tr style=\"text-align: right;\">\n",
              "      <th></th>\n",
              "      <th>Real</th>\n",
              "      <th>Previsto</th>\n",
              "    </tr>\n",
              "  </thead>\n",
              "  <tbody>\n",
              "    <tr>\n",
              "      <th>0</th>\n",
              "      <td>0</td>\n",
              "      <td>1</td>\n",
              "    </tr>\n",
              "    <tr>\n",
              "      <th>1</th>\n",
              "      <td>0</td>\n",
              "      <td>0</td>\n",
              "    </tr>\n",
              "    <tr>\n",
              "      <th>2</th>\n",
              "      <td>0</td>\n",
              "      <td>0</td>\n",
              "    </tr>\n",
              "    <tr>\n",
              "      <th>3</th>\n",
              "      <td>0</td>\n",
              "      <td>1</td>\n",
              "    </tr>\n",
              "    <tr>\n",
              "      <th>4</th>\n",
              "      <td>0</td>\n",
              "      <td>0</td>\n",
              "    </tr>\n",
              "    <tr>\n",
              "      <th>5</th>\n",
              "      <td>0</td>\n",
              "      <td>1</td>\n",
              "    </tr>\n",
              "    <tr>\n",
              "      <th>6</th>\n",
              "      <td>0</td>\n",
              "      <td>0</td>\n",
              "    </tr>\n",
              "    <tr>\n",
              "      <th>7</th>\n",
              "      <td>0</td>\n",
              "      <td>0</td>\n",
              "    </tr>\n",
              "    <tr>\n",
              "      <th>8</th>\n",
              "      <td>0</td>\n",
              "      <td>1</td>\n",
              "    </tr>\n",
              "    <tr>\n",
              "      <th>9</th>\n",
              "      <td>0</td>\n",
              "      <td>1</td>\n",
              "    </tr>\n",
              "  </tbody>\n",
              "</table>\n",
              "</div>"
            ],
            "text/plain": [
              "   Real  Previsto\n",
              "0     0         1\n",
              "1     0         0\n",
              "2     0         0\n",
              "3     0         1\n",
              "4     0         0\n",
              "5     0         1\n",
              "6     0         0\n",
              "7     0         0\n",
              "8     0         1\n",
              "9     0         1"
            ]
          },
          "metadata": {
            "tags": []
          },
          "execution_count": 54
        }
      ]
    },
    {
      "cell_type": "markdown",
      "metadata": {
        "id": "M_rj1T77X6Fy"
      },
      "source": [
        "Agora que criamos o modelo do knn e aplicamos o modelo criado ao conjunto de teste, podemos então avaliar o modelo gerado. "
      ]
    },
    {
      "cell_type": "code",
      "metadata": {
        "id": "UavyKXJ88N-A",
        "outputId": "c1a7ecf2-4f1f-480a-a606-0dd0112a2754",
        "colab": {
          "base_uri": "https://localhost:8080/",
          "height": 374
        }
      },
      "source": [
        "#avaliando o modelo\n",
        "print('Matriz de Confusão\\n', metrics.confusion_matrix(test_labels, predictions1_labels)) \n",
        "print('\\nAcurácia\\n', metrics.accuracy_score(test_labels, predictions1_labels)) \n",
        "print('\\nAcurácia Balanceada por classe\\n', metrics.balanced_accuracy_score(test_labels, predictions1_labels)) \n",
        "print('\\nPrecision\\n', metrics.precision_score(test_labels, predictions1_labels)) \n",
        "print('\\nRecall\\n', metrics.recall_score(test_labels, predictions1_labels)) \n",
        "print('\\nF1\\n', metrics.f1_score(test_labels, predictions1_labels)) \n",
        "\n",
        "print('\\nAUCROC\\n', metrics.roc_auc_score(test_labels, predictions1_labels))"
      ],
      "execution_count": 55,
      "outputs": [
        {
          "output_type": "stream",
          "text": [
            "Matriz de Confusão\n",
            " [[88 35]\n",
            " [31 38]]\n",
            "\n",
            "Acurácia\n",
            " 0.65625\n",
            "\n",
            "Acurácia Balanceada por classe\n",
            " 0.6330858960763521\n",
            "\n",
            "Precision\n",
            " 0.5205479452054794\n",
            "\n",
            "Recall\n",
            " 0.5507246376811594\n",
            "\n",
            "F1\n",
            " 0.5352112676056338\n",
            "\n",
            "AUCROC\n",
            " 0.633085896076352\n"
          ],
          "name": "stdout"
        }
      ]
    },
    {
      "cell_type": "markdown",
      "metadata": {
        "id": "KQ2Qg7WPfaAi"
      },
      "source": [
        "Resuminho:"
      ]
    },
    {
      "cell_type": "code",
      "metadata": {
        "id": "gBnEcrSbfeV3",
        "outputId": "f87e7951-9cdc-42e3-f48c-540f75175bc3",
        "colab": {
          "base_uri": "https://localhost:8080/",
          "height": 204
        }
      },
      "source": [
        "print('\\nClassification Report\\n', metrics.classification_report(test_labels, predictions1_labels)) "
      ],
      "execution_count": 56,
      "outputs": [
        {
          "output_type": "stream",
          "text": [
            "\n",
            "Classification Report\n",
            "               precision    recall  f1-score   support\n",
            "\n",
            "           0       0.74      0.72      0.73       123\n",
            "           1       0.52      0.55      0.54        69\n",
            "\n",
            "    accuracy                           0.66       192\n",
            "   macro avg       0.63      0.63      0.63       192\n",
            "weighted avg       0.66      0.66      0.66       192\n",
            "\n"
          ],
          "name": "stdout"
        }
      ]
    },
    {
      "cell_type": "markdown",
      "metadata": {
        "id": "7A0leRBV8N-E"
      },
      "source": [
        "O knn ja encontrou um erro bem menor do que o encontrado pelo nosso baseline! \n",
        "Entretanto, as medidas ainda estão proximas do resultado de um modelo aleatorio. \n",
        "\n",
        "Vamos dar uma olhada como ficou o knn em relação as amostras de teste?\n",
        "\n",
        "*Novamente, não é preciso se preocupar com o código da célula abaixo. *"
      ]
    },
    {
      "cell_type": "code",
      "metadata": {
        "id": "8C1PMnjA8N-F",
        "outputId": "fb7bbd6b-72f9-4b67-e58b-7b79d0027098",
        "colab": {
          "base_uri": "https://localhost:8080/",
          "height": 297
        }
      },
      "source": [
        "#criando labels e os valores armazenados nas barras\n",
        "labels = ['Tested_negatives', 'Tested_positives']\n",
        "count_test = [(test_labels == 0).sum(), (test_labels == 1).sum()]\n",
        "count_knn = [(predictions1_labels == 0).sum(), (predictions1_labels == 1).sum()]\n",
        "\n",
        "#criando as barras\n",
        "x = np.arange(len(labels))  # the label locations\n",
        "width = 0.3  # the width of the bars\n",
        "\n",
        "#criancdo os plots\n",
        "fig, ax = plt.subplots()\n",
        "rects1 = ax.bar(x - width/2, count_test, width, label='Real Values')\n",
        "rects2 = ax.bar(x + width/2, count_knn, width, label='KNN Values')\n",
        "\n",
        "# Add some text for labels, title and custom x-axis tick labels, etc.\n",
        "ax.set_ylabel('Instances')\n",
        "ax.set_title('Real x KNN')\n",
        "ax.set_xticks(x)\n",
        "ax.set_xticklabels(labels)\n",
        "ax.legend()\n",
        "\n",
        "\n",
        "def autolabel(rects):\n",
        "    \"\"\"Attach a text label above each bar in *rects*, displaying its height.\"\"\"\n",
        "    for rect in rects:\n",
        "        height = rect.get_height()\n",
        "        ax.annotate('{}'.format(height),\n",
        "                    xy=(rect.get_x() + rect.get_width() / 2, height),\n",
        "                    xytext=(0, 3),  # 3 points vertical offset\n",
        "                    textcoords=\"offset points\",\n",
        "                    ha='center', va='bottom')\n",
        "\n",
        "#plotando o grafico de barras agrupadas\n",
        "autolabel(rects1)\n",
        "autolabel(rects2)\n",
        "fig.tight_layout()\n",
        "\n",
        "plt.show()"
      ],
      "execution_count": 57,
      "outputs": [
        {
          "output_type": "display_data",
          "data": {
            "image/png": "[encoded data removed]",
            "text/plain": [
              "<Figure size 432x288 with 1 Axes>"
            ]
          },
          "metadata": {
            "tags": [],
            "needs_background": "light"
          }
        }
      ]
    },
    {
      "cell_type": "markdown",
      "metadata": {
        "id": "aJXB1tN4ZSOI"
      },
      "source": [
        "# Support Vector Machine SVM"
      ]
    },
    {
      "cell_type": "markdown",
      "metadata": {
        "id": "mjfmk5HkZgjj"
      },
      "source": [
        "Vamos dar uma olhada agora no comportamento do SVM"
      ]
    },
    {
      "cell_type": "code",
      "metadata": {
        "id": "vE-1qSaUZsA9",
        "outputId": "3f7f7f2c-cfea-49de-be29-1a991772e28a",
        "colab": {
          "base_uri": "https://localhost:8080/",
          "height": 85
        }
      },
      "source": [
        "#importar o modelo SVM\n",
        "from sklearn.svm import SVC\n",
        "\n",
        "# instanciacao e determinacao dos hiperparâmetros do SVM: tipo de kernel\n",
        "classifier = SVC(kernel='rbf')  ### vai usar gauseano\n",
        "\n",
        "# treinando o SVM\n",
        "classifier.fit(train_data,train_labels)"
      ],
      "execution_count": 76,
      "outputs": [
        {
          "output_type": "execute_result",
          "data": {
            "text/plain": [
              "SVC(C=1.0, break_ties=False, cache_size=200, class_weight=None, coef0=0.0,\n",
              "    decision_function_shape='ovr', degree=3, gamma='scale', kernel='rbf',\n",
              "    max_iter=-1, probability=False, random_state=None, shrinking=True,\n",
              "    tol=0.001, verbose=False)"
            ]
          },
          "metadata": {
            "tags": []
          },
          "execution_count": 76
        }
      ]
    },
    {
      "cell_type": "code",
      "metadata": {
        "id": "sEqrz0n9Zr5K",
        "outputId": "a36c3d4a-46c6-4ddd-dbd5-88855eb190a0",
        "colab": {
          "base_uri": "https://localhost:8080/",
          "height": 359
        }
      },
      "source": [
        "# aplicando o modelo treinado para a previsão da temperatura \n",
        "#em todo o conjunto de teste\n",
        "predictions2_labels = classifier.predict(test_data)\n",
        "\n",
        "# Exibindo dataframe com valores 10 reais e suas respectivas previsões\n",
        "p = pd.DataFrame({'Real': test_labels, 'Previsto': predictions2_labels})  \n",
        "p.head(10)"
      ],
      "execution_count": 77,
      "outputs": [
        {
          "output_type": "execute_result",
          "data": {
            "text/html": [
              "<div>\n",
              "<style scoped>\n",
              "    .dataframe tbody tr th:only-of-type {\n",
              "        vertical-align: middle;\n",
              "    }\n",
              "\n",
              "    .dataframe tbody tr th {\n",
              "        vertical-align: top;\n",
              "    }\n",
              "\n",
              "    .dataframe thead th {\n",
              "        text-align: right;\n",
              "    }\n",
              "</style>\n",
              "<table border=\"1\" class=\"dataframe\">\n",
              "  <thead>\n",
              "    <tr style=\"text-align: right;\">\n",
              "      <th></th>\n",
              "      <th>Real</th>\n",
              "      <th>Previsto</th>\n",
              "    </tr>\n",
              "  </thead>\n",
              "  <tbody>\n",
              "    <tr>\n",
              "      <th>0</th>\n",
              "      <td>0</td>\n",
              "      <td>0</td>\n",
              "    </tr>\n",
              "    <tr>\n",
              "      <th>1</th>\n",
              "      <td>0</td>\n",
              "      <td>0</td>\n",
              "    </tr>\n",
              "    <tr>\n",
              "      <th>2</th>\n",
              "      <td>0</td>\n",
              "      <td>0</td>\n",
              "    </tr>\n",
              "    <tr>\n",
              "      <th>3</th>\n",
              "      <td>0</td>\n",
              "      <td>0</td>\n",
              "    </tr>\n",
              "    <tr>\n",
              "      <th>4</th>\n",
              "      <td>0</td>\n",
              "      <td>0</td>\n",
              "    </tr>\n",
              "    <tr>\n",
              "      <th>5</th>\n",
              "      <td>0</td>\n",
              "      <td>0</td>\n",
              "    </tr>\n",
              "    <tr>\n",
              "      <th>6</th>\n",
              "      <td>0</td>\n",
              "      <td>0</td>\n",
              "    </tr>\n",
              "    <tr>\n",
              "      <th>7</th>\n",
              "      <td>0</td>\n",
              "      <td>0</td>\n",
              "    </tr>\n",
              "    <tr>\n",
              "      <th>8</th>\n",
              "      <td>0</td>\n",
              "      <td>1</td>\n",
              "    </tr>\n",
              "    <tr>\n",
              "      <th>9</th>\n",
              "      <td>0</td>\n",
              "      <td>1</td>\n",
              "    </tr>\n",
              "  </tbody>\n",
              "</table>\n",
              "</div>"
            ],
            "text/plain": [
              "   Real  Previsto\n",
              "0     0         0\n",
              "1     0         0\n",
              "2     0         0\n",
              "3     0         0\n",
              "4     0         0\n",
              "5     0         0\n",
              "6     0         0\n",
              "7     0         0\n",
              "8     0         1\n",
              "9     0         1"
            ]
          },
          "metadata": {
            "tags": []
          },
          "execution_count": 77
        }
      ]
    },
    {
      "cell_type": "code",
      "metadata": {
        "id": "sAkezhEKZrwC",
        "outputId": "80cef15f-53a4-4ae9-ff1a-a3564921efde",
        "colab": {
          "base_uri": "https://localhost:8080/",
          "height": 374
        }
      },
      "source": [
        "#avaliando o modelo \n",
        "print('Matriz de Confusão\\n', metrics.confusion_matrix(test_labels, predictions2_labels)) \n",
        "print('\\nAcurácia\\n', metrics.accuracy_score(test_labels, predictions2_labels)) \n",
        "print('\\nAcurácia Balanceada por classe\\n', metrics.balanced_accuracy_score(test_labels, predictions2_labels)) \n",
        "print('\\nPrecision\\n', metrics.precision_score(test_labels, predictions2_labels)) \n",
        "print('\\nRecall\\n', metrics.recall_score(test_labels, predictions2_labels)) \n",
        "print('\\nF1\\n', metrics.f1_score(test_labels, predictions2_labels)) \n",
        "\n",
        "print('\\nAUCROC\\n', metrics.roc_auc_score(test_labels, predictions2_labels))"
      ],
      "execution_count": 78,
      "outputs": [
        {
          "output_type": "stream",
          "text": [
            "Matriz de Confusão\n",
            " [[106  17]\n",
            " [ 35  34]]\n",
            "\n",
            "Acurácia\n",
            " 0.7291666666666666\n",
            "\n",
            "Acurácia Balanceada por classe\n",
            " 0.6772711205372923\n",
            "\n",
            "Precision\n",
            " 0.6666666666666666\n",
            "\n",
            "Recall\n",
            " 0.4927536231884058\n",
            "\n",
            "F1\n",
            " 0.5666666666666667\n",
            "\n",
            "AUCROC\n",
            " 0.6772711205372923\n"
          ],
          "name": "stdout"
        }
      ]
    },
    {
      "cell_type": "markdown",
      "metadata": {
        "id": "tWz5vVEkiQr2"
      },
      "source": [
        "Resuminho..."
      ]
    },
    {
      "cell_type": "code",
      "metadata": {
        "id": "IFGJLVR0iPtf",
        "outputId": "457ce797-c28c-4527-abbf-dae285467078",
        "colab": {
          "base_uri": "https://localhost:8080/",
          "height": 204
        }
      },
      "source": [
        "print('\\nClassification Report\\n', metrics.classification_report(test_labels, predictions2_labels)) "
      ],
      "execution_count": 61,
      "outputs": [
        {
          "output_type": "stream",
          "text": [
            "\n",
            "Classification Report\n",
            "               precision    recall  f1-score   support\n",
            "\n",
            "           0       0.75      0.86      0.80       123\n",
            "           1       0.67      0.49      0.57        69\n",
            "\n",
            "    accuracy                           0.73       192\n",
            "   macro avg       0.71      0.68      0.68       192\n",
            "weighted avg       0.72      0.73      0.72       192\n",
            "\n"
          ],
          "name": "stdout"
        }
      ]
    },
    {
      "cell_type": "markdown",
      "metadata": {
        "id": "GlmZZD4EbOmY"
      },
      "source": [
        "Vamos olhar como ficou o modelo? :)\n",
        "\n",
        "*Novamente, não precisa se preocupar com o código abaixo.*"
      ]
    },
    {
      "cell_type": "code",
      "metadata": {
        "id": "hzlc5wcha-a7",
        "outputId": "fabee0f5-594e-4244-ed7f-80d9fa7630c3",
        "colab": {
          "base_uri": "https://localhost:8080/",
          "height": 297
        }
      },
      "source": [
        "#criando labels e os valores armazenados nas barras\n",
        "labels = ['Tested_negatives', 'Tested_positives']\n",
        "count_test = [(test_labels == 0).sum(), (test_labels == 1).sum()]\n",
        "count_svm = [(predictions2_labels == 0).sum(), (predictions2_labels == 1).sum()]\n",
        "\n",
        "#criando as barras\n",
        "x = np.arange(len(labels))  # the label locations\n",
        "width = 0.3  # the width of the bars\n",
        "\n",
        "#criancdo os plots\n",
        "fig, ax = plt.subplots()\n",
        "rects1 = ax.bar(x - width/2, count_test, width, label='Real Values')\n",
        "rects2 = ax.bar(x + width/2, count_svm, width, label='SVM Values')\n",
        "\n",
        "# Add some text for labels, title and custom x-axis tick labels, etc.\n",
        "ax.set_ylabel('Instances')\n",
        "ax.set_title('Real x SVM')\n",
        "ax.set_xticks(x)\n",
        "ax.set_xticklabels(labels)\n",
        "ax.legend()\n",
        "\n",
        "\n",
        "def autolabel(rects):\n",
        "    \"\"\"Attach a text label above each bar in *rects*, displaying its height.\"\"\"\n",
        "    for rect in rects:\n",
        "        height = rect.get_height()\n",
        "        ax.annotate('{}'.format(height),\n",
        "                    xy=(rect.get_x() + rect.get_width() / 2, height),\n",
        "                    xytext=(0, 3),  # 3 points vertical offset\n",
        "                    textcoords=\"offset points\",\n",
        "                    ha='center', va='bottom')\n",
        "\n",
        "#plotando o grafico de barras agrupadas\n",
        "autolabel(rects1)\n",
        "autolabel(rects2)\n",
        "fig.tight_layout()\n",
        "\n",
        "plt.show()"
      ],
      "execution_count": 62,
      "outputs": [
        {
          "output_type": "display_data",
          "data": {
            "image/png": "[encoded data removed]",
            "text/plain": [
              "<Figure size 432x288 with 1 Axes>"
            ]
          },
          "metadata": {
            "tags": [],
            "needs_background": "light"
          }
        }
      ]
    },
    {
      "cell_type": "markdown",
      "metadata": {
        "id": "MglFMlLLbggA"
      },
      "source": [
        "# Random Forest Classifiers\n"
      ]
    },
    {
      "cell_type": "markdown",
      "metadata": {
        "id": "0qjPEqNfbmtk"
      },
      "source": [
        "Vamos agora modelar o nosso problema utilizando o Random Forest Classifier!\n",
        "\n",
        "Esse modelo é um dos mais utilizados tanto na sua versão de regressor quanto para sua versão de classificador e, em geral, apresenta otimos resultados!"
      ]
    },
    {
      "cell_type": "code",
      "metadata": {
        "id": "7LrKgJhb8N-K"
      },
      "source": [
        "# importar o modelo Random Forest Regressor\n",
        "from sklearn.ensemble import RandomForestClassifier\n",
        "\n",
        "# treinando o modelo \n",
        "classifier = RandomForestClassifier(n_estimators= 10, random_state=42).fit(train_data, train_labels);"
      ],
      "execution_count": 64,
      "outputs": []
    },
    {
      "cell_type": "code",
      "metadata": {
        "id": "o86GOgTY8N-P",
        "outputId": "aac23db4-0fd7-4812-e2e2-761573b68758",
        "colab": {
          "base_uri": "https://localhost:8080/",
          "height": 359
        }
      },
      "source": [
        "# aplicando o modelo treinado para a previsão do resultado do teste\n",
        "predictions3_labels = classifier.predict(test_data)\n",
        "\n",
        "# Exibindo dataframe com valores 10 reais e suas respectivas previsões\n",
        "p = pd.DataFrame({'Real': test_labels, 'Previsto': predictions3_labels})  \n",
        "p.head(10)"
      ],
      "execution_count": 65,
      "outputs": [
        {
          "output_type": "execute_result",
          "data": {
            "text/html": [
              "<div>\n",
              "<style scoped>\n",
              "    .dataframe tbody tr th:only-of-type {\n",
              "        vertical-align: middle;\n",
              "    }\n",
              "\n",
              "    .dataframe tbody tr th {\n",
              "        vertical-align: top;\n",
              "    }\n",
              "\n",
              "    .dataframe thead th {\n",
              "        text-align: right;\n",
              "    }\n",
              "</style>\n",
              "<table border=\"1\" class=\"dataframe\">\n",
              "  <thead>\n",
              "    <tr style=\"text-align: right;\">\n",
              "      <th></th>\n",
              "      <th>Real</th>\n",
              "      <th>Previsto</th>\n",
              "    </tr>\n",
              "  </thead>\n",
              "  <tbody>\n",
              "    <tr>\n",
              "      <th>0</th>\n",
              "      <td>0</td>\n",
              "      <td>0</td>\n",
              "    </tr>\n",
              "    <tr>\n",
              "      <th>1</th>\n",
              "      <td>0</td>\n",
              "      <td>0</td>\n",
              "    </tr>\n",
              "    <tr>\n",
              "      <th>2</th>\n",
              "      <td>0</td>\n",
              "      <td>0</td>\n",
              "    </tr>\n",
              "    <tr>\n",
              "      <th>3</th>\n",
              "      <td>0</td>\n",
              "      <td>0</td>\n",
              "    </tr>\n",
              "    <tr>\n",
              "      <th>4</th>\n",
              "      <td>0</td>\n",
              "      <td>0</td>\n",
              "    </tr>\n",
              "    <tr>\n",
              "      <th>5</th>\n",
              "      <td>0</td>\n",
              "      <td>1</td>\n",
              "    </tr>\n",
              "    <tr>\n",
              "      <th>6</th>\n",
              "      <td>0</td>\n",
              "      <td>0</td>\n",
              "    </tr>\n",
              "    <tr>\n",
              "      <th>7</th>\n",
              "      <td>0</td>\n",
              "      <td>1</td>\n",
              "    </tr>\n",
              "    <tr>\n",
              "      <th>8</th>\n",
              "      <td>0</td>\n",
              "      <td>1</td>\n",
              "    </tr>\n",
              "    <tr>\n",
              "      <th>9</th>\n",
              "      <td>0</td>\n",
              "      <td>1</td>\n",
              "    </tr>\n",
              "  </tbody>\n",
              "</table>\n",
              "</div>"
            ],
            "text/plain": [
              "   Real  Previsto\n",
              "0     0         0\n",
              "1     0         0\n",
              "2     0         0\n",
              "3     0         0\n",
              "4     0         0\n",
              "5     0         1\n",
              "6     0         0\n",
              "7     0         1\n",
              "8     0         1\n",
              "9     0         1"
            ]
          },
          "metadata": {
            "tags": []
          },
          "execution_count": 65
        }
      ]
    },
    {
      "cell_type": "code",
      "metadata": {
        "id": "j3XYU8C_clmb",
        "outputId": "2e83d9b7-3785-4eda-d475-3556ef5d8537",
        "colab": {
          "base_uri": "https://localhost:8080/",
          "height": 374
        }
      },
      "source": [
        "#avaliando o modelo\n",
        "print('Matriz de Confusão\\n', metrics.confusion_matrix(test_labels, predictions3_labels)) \n",
        "print('\\nAcurácia\\n', metrics.accuracy_score(test_labels, predictions3_labels)) \n",
        "print('\\nAcurácia Balanceada por classe\\n', metrics.balanced_accuracy_score(test_labels, predictions3_labels)) \n",
        "print('\\nPrecision\\n', metrics.precision_score(test_labels, predictions3_labels)) \n",
        "print('\\nRecall\\n', metrics.recall_score(test_labels, predictions3_labels)) \n",
        "print('\\nF1\\n', metrics.f1_score(test_labels, predictions3_labels)) \n",
        "\n",
        "print('\\nAUCROC\\n', metrics.roc_auc_score(test_labels, predictions3_labels))"
      ],
      "execution_count": 66,
      "outputs": [
        {
          "output_type": "stream",
          "text": [
            "Matriz de Confusão\n",
            " [[97 26]\n",
            " [24 45]]\n",
            "\n",
            "Acurácia\n",
            " 0.7395833333333334\n",
            "\n",
            "Acurácia Balanceada por classe\n",
            " 0.72039589961117\n",
            "\n",
            "Precision\n",
            " 0.6338028169014085\n",
            "\n",
            "Recall\n",
            " 0.6521739130434783\n",
            "\n",
            "F1\n",
            " 0.6428571428571428\n",
            "\n",
            "AUCROC\n",
            " 0.72039589961117\n"
          ],
          "name": "stdout"
        }
      ]
    },
    {
      "cell_type": "markdown",
      "metadata": {
        "id": "Ekq770pckaJp"
      },
      "source": [
        "Resuminho...\n",
        "\n"
      ]
    },
    {
      "cell_type": "code",
      "metadata": {
        "id": "ie2ZqN7pka5m",
        "outputId": "309b16c8-4d45-428c-c43f-526c3cf00e1f",
        "colab": {
          "base_uri": "https://localhost:8080/",
          "height": 204
        }
      },
      "source": [
        "print('\\nClassification Report\\n', metrics.classification_report(test_labels, predictions3_labels)) "
      ],
      "execution_count": 67,
      "outputs": [
        {
          "output_type": "stream",
          "text": [
            "\n",
            "Classification Report\n",
            "               precision    recall  f1-score   support\n",
            "\n",
            "           0       0.80      0.79      0.80       123\n",
            "           1       0.63      0.65      0.64        69\n",
            "\n",
            "    accuracy                           0.74       192\n",
            "   macro avg       0.72      0.72      0.72       192\n",
            "weighted avg       0.74      0.74      0.74       192\n",
            "\n"
          ],
          "name": "stdout"
        }
      ]
    },
    {
      "cell_type": "markdown",
      "metadata": {
        "id": "C2q6M07mc1Sm"
      },
      "source": [
        "Vamos olhar como ficou o modelo? :)\n",
        "\n",
        "*Novamente, não precisa se preocupar com o código abaixo.*"
      ]
    },
    {
      "cell_type": "code",
      "metadata": {
        "id": "dVZgXwW18N-W",
        "outputId": "f274f70c-a9f4-4759-e3b4-8b1be8c63921",
        "colab": {
          "base_uri": "https://localhost:8080/",
          "height": 297
        }
      },
      "source": [
        "#criando labels e os valores armazenados nas barras\n",
        "labels = ['Tested_negatives', 'Tested_positives']\n",
        "count_test = [(test_labels == 0).sum(), (test_labels == 1).sum()]\n",
        "count_rf = [(predictions3_labels == 0).sum(), (predictions3_labels == 1).sum()]\n",
        "\n",
        "#criando as barras\n",
        "x = np.arange(len(labels))  # the label locations\n",
        "width = 0.3  # the width of the bars\n",
        "\n",
        "#criancdo os plots\n",
        "fig, ax = plt.subplots()\n",
        "rects1 = ax.bar(x - width/2, count_test, width, label='Real Values')\n",
        "rects2 = ax.bar(x + width/2, count_rf, width, label='RF Values')\n",
        "\n",
        "# Add some text for labels, title and custom x-axis tick labels, etc.\n",
        "ax.set_ylabel('Instances')\n",
        "ax.set_title('Real x Random Forest')\n",
        "ax.set_xticks(x)\n",
        "ax.set_xticklabels(labels)\n",
        "ax.legend()\n",
        "\n",
        "\n",
        "def autolabel(rects):\n",
        "    \"\"\"Attach a text label above each bar in *rects*, displaying its height.\"\"\"\n",
        "    for rect in rects:\n",
        "        height = rect.get_height()\n",
        "        ax.annotate('{}'.format(height),\n",
        "                    xy=(rect.get_x() + rect.get_width() / 2, height),\n",
        "                    xytext=(0, 3),  # 3 points vertical offset\n",
        "                    textcoords=\"offset points\",\n",
        "                    ha='center', va='bottom')\n",
        "\n",
        "#plotando o grafico de barras agrupadas\n",
        "autolabel(rects1)\n",
        "autolabel(rects2)\n",
        "fig.tight_layout()\n",
        "\n",
        "plt.show()"
      ],
      "execution_count": 68,
      "outputs": [
        {
          "output_type": "display_data",
          "data": {
            "image/png": "[encoded data removed]",
            "text/plain": [
              "<Figure size 432x288 with 1 Axes>"
            ]
          },
          "metadata": {
            "tags": [],
            "needs_background": "light"
          }
        }
      ]
    },
    {
      "cell_type": "markdown",
      "metadata": {
        "id": "Ur8gD8oI8N-Y"
      },
      "source": [
        "Vamos agora comparar os resultados do 3 modelos de classificação e o nosso baseline?"
      ]
    },
    {
      "cell_type": "code",
      "metadata": {
        "id": "AviWSy_sehpN",
        "outputId": "f3110b5e-ca7c-421f-8f92-f791e619d66e",
        "colab": {
          "base_uri": "https://localhost:8080/",
          "height": 221
        }
      },
      "source": [
        "print('Erros do Baseline\\n')\n",
        "print('Classification Report\\n', metrics.classification_report(test_labels, baseline_preds)) \n"
      ],
      "execution_count": 69,
      "outputs": [
        {
          "output_type": "stream",
          "text": [
            "Erros do Baseline\n",
            "\n",
            "Classification Report\n",
            "               precision    recall  f1-score   support\n",
            "\n",
            "           0       0.65      0.55      0.60       123\n",
            "           1       0.38      0.48      0.42        69\n",
            "\n",
            "    accuracy                           0.53       192\n",
            "   macro avg       0.51      0.52      0.51       192\n",
            "weighted avg       0.55      0.53      0.53       192\n",
            "\n"
          ],
          "name": "stdout"
        }
      ]
    },
    {
      "cell_type": "code",
      "metadata": {
        "id": "V6riPr0lehgA",
        "outputId": "6d82d1e3-02fd-43a1-c95c-b70725bacf87",
        "colab": {
          "base_uri": "https://localhost:8080/",
          "height": 221
        }
      },
      "source": [
        "print('Erros do KNN\\n')\n",
        "print('Classification Report\\n', metrics.classification_report(test_labels, predictions1_labels)) "
      ],
      "execution_count": 70,
      "outputs": [
        {
          "output_type": "stream",
          "text": [
            "Erros do KNN\n",
            "\n",
            "Classification Report\n",
            "               precision    recall  f1-score   support\n",
            "\n",
            "           0       0.74      0.72      0.73       123\n",
            "           1       0.52      0.55      0.54        69\n",
            "\n",
            "    accuracy                           0.66       192\n",
            "   macro avg       0.63      0.63      0.63       192\n",
            "weighted avg       0.66      0.66      0.66       192\n",
            "\n"
          ],
          "name": "stdout"
        }
      ]
    },
    {
      "cell_type": "code",
      "metadata": {
        "id": "faWz7JGvehT_",
        "outputId": "149aebdf-b50f-4a90-99d5-9ad700902f23",
        "colab": {
          "base_uri": "https://localhost:8080/",
          "height": 204
        }
      },
      "source": [
        "print('Erros do SVM')\n",
        "print('Classification Report\\n', metrics.classification_report(test_labels, predictions2_labels)) "
      ],
      "execution_count": 71,
      "outputs": [
        {
          "output_type": "stream",
          "text": [
            "Erros do SVM\n",
            "Classification Report\n",
            "               precision    recall  f1-score   support\n",
            "\n",
            "           0       0.75      0.86      0.80       123\n",
            "           1       0.67      0.49      0.57        69\n",
            "\n",
            "    accuracy                           0.73       192\n",
            "   macro avg       0.71      0.68      0.68       192\n",
            "weighted avg       0.72      0.73      0.72       192\n",
            "\n"
          ],
          "name": "stdout"
        }
      ]
    },
    {
      "cell_type": "code",
      "metadata": {
        "id": "S2hKjSOSd4sh",
        "outputId": "27119c33-d5d1-4584-8038-80801133ce1b",
        "colab": {
          "base_uri": "https://localhost:8080/",
          "height": 204
        }
      },
      "source": [
        "print('Erros do Random Forest Classifier')\n",
        "print('Classification Report\\n', metrics.classification_report(test_labels, predictions3_labels)) "
      ],
      "execution_count": 72,
      "outputs": [
        {
          "output_type": "stream",
          "text": [
            "Erros do Random Forest Classifier\n",
            "Classification Report\n",
            "               precision    recall  f1-score   support\n",
            "\n",
            "           0       0.80      0.79      0.80       123\n",
            "           1       0.63      0.65      0.64        69\n",
            "\n",
            "    accuracy                           0.74       192\n",
            "   macro avg       0.72      0.72      0.72       192\n",
            "weighted avg       0.74      0.74      0.74       192\n",
            "\n"
          ],
          "name": "stdout"
        }
      ]
    },
    {
      "cell_type": "markdown",
      "metadata": {
        "id": "9Yvn2Ui9fDyK"
      },
      "source": [
        "# Na próxima aula vamos começar a falar sobre métricas de desempenho para clusterização.\n",
        "\n",
        "#Até lá!"
      ]
    }
  ]
}