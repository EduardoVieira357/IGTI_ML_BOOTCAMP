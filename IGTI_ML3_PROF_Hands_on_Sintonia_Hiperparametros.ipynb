{
 "cells": [
  {
   "cell_type": "markdown",
   "metadata": {
    "id": "wIl-k3lr8Qiv"
   },
   "source": [
    "# **Hands-on Sintonia de Hiperparâmetros**\n",
    "\n",
    "---\n",
    "\n",
    "Sintonia de Hiperparâmetros com sklearn "
   ]
  },
  {
   "cell_type": "markdown",
   "metadata": {
    "id": "4ZbKcSgXEGG0"
   },
   "source": [
    "Vamos começar a olhar para alguns hiperparâmetros diversos e também para algumas tecnicas de otimização de hiperparâmetros.\n",
    "\n",
    "Vamos seguir utilizando a base de dados **diabetes.csv** </a> que pode ser encontrada no OpenML em: https://www.openml.org/d/37. Essa base descreve o problema de predizer o resultado positivo ou negativo de um teste para diabetes aplicado em um conjunto específico de pacientes na Índia. "
   ]
  },
  {
   "cell_type": "markdown",
   "metadata": {
    "id": "SN6weYKF8N8v"
   },
   "source": [
    "Para a primeira etapa, vamos utilizar a divisão treino e teste e olhar para os dois dos três classificadores que usamos durante o hands-on de Classificação.\n",
    "Note que, o processo é equivalente para as demais tarefas, tanto a de regressão quanto a de clusterização. Aqui, usaremos a classificação devido a simplicidade de interpretação do resultadoo. Mais informações sobre os classificadores podem ser encontradas na documentação do sklearn nos links abaixo. \n",
    "\n",
    "*   <a href = https://scikit-learn.org/stable/modules/svm.html> Support Vector Machine (SVM)</a>\n",
    "*   <a href = https://scikit-learn.org/stable/modules/generated/sklearn.ensemble.RandomForestClassifier.html> Random Forest </a>\n",
    "\n",
    "\n",
    "Na segunda etapa, vamos aplicar a técnica de cross validation para o processo de validação dos modelos e, em conjunto, vamos usar os métodos de grid search e random search para otimização dos hiperparâmetros. \n"
   ]
  },
  {
   "cell_type": "markdown",
   "metadata": {
    "id": "_5wwHwTQ8N8v"
   },
   "source": [
    "### *Importando* bibliotecas\n"
   ]
  },
  {
   "cell_type": "code",
   "execution_count": 1,
   "metadata": {
    "id": "i_5G2bRaHU8i"
   },
   "outputs": [],
   "source": [
    "import pandas as pd #biblioteca para manipulação de dados\n",
    "import numpy as np #biblioteca para utilizacao de vetores e matrizes\n",
    "import matplotlib.pyplot as plt #bibloteca para plotar graficos"
   ]
  },
  {
   "cell_type": "code",
   "execution_count": 2,
   "metadata": {
    "colab": {
     "base_uri": "https://localhost:8080/"
    },
    "id": "ufc7rjN0Hbb7",
    "outputId": "63f747d1-1ecf-40f4-e905-56ea5253e549"
   },
   "outputs": [
    {
     "name": "stdout",
     "output_type": "stream",
     "text": [
      "Mounted at /content/gdrive\n"
     ]
    }
   ],
   "source": [
    "#liberando acesso do colab aos arquivos no drive\n",
    "from google.colab import drive\n",
    "drive.mount('/content/gdrive')"
   ]
  },
  {
   "cell_type": "markdown",
   "metadata": {
    "id": "L9aBPfZwHjwK"
   },
   "source": [
    "### Carregamento dos dados"
   ]
  },
  {
   "cell_type": "code",
   "execution_count": 3,
   "metadata": {
    "id": "FTLPdcSaHsIo"
   },
   "outputs": [],
   "source": [
    "#lendo o csv que contem a base de dados e armazanando em um df\n",
    "df = pd.read_csv('/content/gdrive/My Drive/DADOS/diabetes.csv')"
   ]
  },
  {
   "cell_type": "code",
   "execution_count": 4,
   "metadata": {
    "colab": {
     "base_uri": "https://localhost:8080/",
     "height": 204
    },
    "id": "Yw9wSFNd8N8w",
    "outputId": "a5d9f419-209f-483d-f4ff-1f53b0837e07"
   },
   "outputs": [
    {
     "data": {
      "text/html": [
       "<div>\n",
       "<style scoped>\n",
       "    .dataframe tbody tr th:only-of-type {\n",
       "        vertical-align: middle;\n",
       "    }\n",
       "\n",
       "    .dataframe tbody tr th {\n",
       "        vertical-align: top;\n",
       "    }\n",
       "\n",
       "    .dataframe thead th {\n",
       "        text-align: right;\n",
       "    }\n",
       "</style>\n",
       "<table border=\"1\" class=\"dataframe\">\n",
       "  <thead>\n",
       "    <tr style=\"text-align: right;\">\n",
       "      <th></th>\n",
       "      <th>preg</th>\n",
       "      <th>plas</th>\n",
       "      <th>pres</th>\n",
       "      <th>skin</th>\n",
       "      <th>insu</th>\n",
       "      <th>mass</th>\n",
       "      <th>pedi</th>\n",
       "      <th>age</th>\n",
       "      <th>class</th>\n",
       "    </tr>\n",
       "  </thead>\n",
       "  <tbody>\n",
       "    <tr>\n",
       "      <th>0</th>\n",
       "      <td>6</td>\n",
       "      <td>148</td>\n",
       "      <td>72</td>\n",
       "      <td>35</td>\n",
       "      <td>0</td>\n",
       "      <td>33.6</td>\n",
       "      <td>0.627</td>\n",
       "      <td>50</td>\n",
       "      <td>tested_positive</td>\n",
       "    </tr>\n",
       "    <tr>\n",
       "      <th>1</th>\n",
       "      <td>1</td>\n",
       "      <td>85</td>\n",
       "      <td>66</td>\n",
       "      <td>29</td>\n",
       "      <td>0</td>\n",
       "      <td>26.6</td>\n",
       "      <td>0.351</td>\n",
       "      <td>31</td>\n",
       "      <td>tested_negative</td>\n",
       "    </tr>\n",
       "    <tr>\n",
       "      <th>2</th>\n",
       "      <td>8</td>\n",
       "      <td>183</td>\n",
       "      <td>64</td>\n",
       "      <td>0</td>\n",
       "      <td>0</td>\n",
       "      <td>23.3</td>\n",
       "      <td>0.672</td>\n",
       "      <td>32</td>\n",
       "      <td>tested_positive</td>\n",
       "    </tr>\n",
       "    <tr>\n",
       "      <th>3</th>\n",
       "      <td>1</td>\n",
       "      <td>89</td>\n",
       "      <td>66</td>\n",
       "      <td>23</td>\n",
       "      <td>94</td>\n",
       "      <td>28.1</td>\n",
       "      <td>0.167</td>\n",
       "      <td>21</td>\n",
       "      <td>tested_negative</td>\n",
       "    </tr>\n",
       "    <tr>\n",
       "      <th>4</th>\n",
       "      <td>0</td>\n",
       "      <td>137</td>\n",
       "      <td>40</td>\n",
       "      <td>35</td>\n",
       "      <td>168</td>\n",
       "      <td>43.1</td>\n",
       "      <td>2.288</td>\n",
       "      <td>33</td>\n",
       "      <td>tested_positive</td>\n",
       "    </tr>\n",
       "  </tbody>\n",
       "</table>\n",
       "</div>"
      ],
      "text/plain": [
       "   preg  plas  pres  skin  insu  mass   pedi  age            class\n",
       "0     6   148    72    35     0  33.6  0.627   50  tested_positive\n",
       "1     1    85    66    29     0  26.6  0.351   31  tested_negative\n",
       "2     8   183    64     0     0  23.3  0.672   32  tested_positive\n",
       "3     1    89    66    23    94  28.1  0.167   21  tested_negative\n",
       "4     0   137    40    35   168  43.1  2.288   33  tested_positive"
      ]
     },
     "execution_count": 4,
     "metadata": {
      "tags": []
     },
     "output_type": "execute_result"
    }
   ],
   "source": [
    "#imprimindo as 5 primeiras linhas do df para confirmação\n",
    "df.head(5)"
   ]
  },
  {
   "cell_type": "markdown",
   "metadata": {
    "id": "cFaZnXnAIonA"
   },
   "source": [
    "*   preg: number of times pregnant\n",
    "*   plas: Plasma glucose concentration a 2 hours in an oral glucose tolerance test\n",
    "*   pres: Diastolic blood pressure (mm Hg)\n",
    "*   skin: Triceps skin fold thickness (mm)\n",
    "*   insu: 2-Hour serum insulin (mu U/ml)\n",
    "*   mass: Body mass index (weight in kg/(height in m)^2)\n",
    "*   pedi: Diabetes pedigree function\n",
    "*   age: Age (years)\n",
    "*   class: Class variable (tested_positive or tested_negative)"
   ]
  },
  {
   "cell_type": "code",
   "execution_count": 5,
   "metadata": {
    "colab": {
     "base_uri": "https://localhost:8080/"
    },
    "id": "d_lxVAD-8N86",
    "outputId": "a12265ff-dfcd-406f-86c9-11454f2a2ebf"
   },
   "outputs": [
    {
     "name": "stdout",
     "output_type": "stream",
     "text": [
      "Amostras e Features: (768, 9)\n"
     ]
    }
   ],
   "source": [
    "# Verificando o numero de amostras (linhas) e features (colunas) do dataset. \n",
    "print('Amostras e Features:', df.shape)"
   ]
  },
  {
   "cell_type": "code",
   "execution_count": 6,
   "metadata": {
    "colab": {
     "base_uri": "https://localhost:8080/"
    },
    "id": "MILEATwd8N9A",
    "outputId": "109b2371-0999-4c78-9cb3-189803735505"
   },
   "outputs": [
    {
     "data": {
      "text/plain": [
       "Index(['preg', 'plas', 'pres', 'skin', 'insu', 'mass', 'pedi', 'age', 'class'], dtype='object')"
      ]
     },
     "execution_count": 6,
     "metadata": {
      "tags": []
     },
     "output_type": "execute_result"
    }
   ],
   "source": [
    "# Verificando quais são os tipos das features\n",
    "df.columns"
   ]
  },
  {
   "cell_type": "code",
   "execution_count": 7,
   "metadata": {
    "colab": {
     "base_uri": "https://localhost:8080/"
    },
    "id": "fBTNlJJFm5a4",
    "outputId": "a40a1e2a-b5b8-425d-b4d0-03dba0056226"
   },
   "outputs": [
    {
     "name": "stdout",
     "output_type": "stream",
     "text": [
      "<class 'pandas.core.frame.DataFrame'>\n",
      "RangeIndex: 768 entries, 0 to 767\n",
      "Data columns (total 9 columns):\n",
      " #   Column  Non-Null Count  Dtype  \n",
      "---  ------  --------------  -----  \n",
      " 0   preg    768 non-null    int64  \n",
      " 1   plas    768 non-null    int64  \n",
      " 2   pres    768 non-null    int64  \n",
      " 3   skin    768 non-null    int64  \n",
      " 4   insu    768 non-null    int64  \n",
      " 5   mass    768 non-null    float64\n",
      " 6   pedi    768 non-null    float64\n",
      " 7   age     768 non-null    int64  \n",
      " 8   class   768 non-null    object \n",
      "dtypes: float64(2), int64(6), object(1)\n",
      "memory usage: 54.1+ KB\n"
     ]
    }
   ],
   "source": [
    "df.info() ###### eduardo"
   ]
  },
  {
   "cell_type": "code",
   "execution_count": 10,
   "metadata": {
    "colab": {
     "base_uri": "https://localhost:8080/",
     "height": 297
    },
    "id": "i6sHhwWZm8TV",
    "outputId": "c34e5923-1dc6-469b-ec04-cfd2be7fb832"
   },
   "outputs": [
    {
     "data": {
      "text/html": [
       "<div>\n",
       "<style scoped>\n",
       "    .dataframe tbody tr th:only-of-type {\n",
       "        vertical-align: middle;\n",
       "    }\n",
       "\n",
       "    .dataframe tbody tr th {\n",
       "        vertical-align: top;\n",
       "    }\n",
       "\n",
       "    .dataframe thead th {\n",
       "        text-align: right;\n",
       "    }\n",
       "</style>\n",
       "<table border=\"1\" class=\"dataframe\">\n",
       "  <thead>\n",
       "    <tr style=\"text-align: right;\">\n",
       "      <th></th>\n",
       "      <th>preg</th>\n",
       "      <th>plas</th>\n",
       "      <th>pres</th>\n",
       "      <th>skin</th>\n",
       "      <th>insu</th>\n",
       "      <th>mass</th>\n",
       "      <th>pedi</th>\n",
       "      <th>age</th>\n",
       "    </tr>\n",
       "  </thead>\n",
       "  <tbody>\n",
       "    <tr>\n",
       "      <th>count</th>\n",
       "      <td>768.000000</td>\n",
       "      <td>768.000000</td>\n",
       "      <td>768.000000</td>\n",
       "      <td>768.000000</td>\n",
       "      <td>768.000000</td>\n",
       "      <td>768.000000</td>\n",
       "      <td>768.000000</td>\n",
       "      <td>768.000000</td>\n",
       "    </tr>\n",
       "    <tr>\n",
       "      <th>mean</th>\n",
       "      <td>3.845052</td>\n",
       "      <td>120.894531</td>\n",
       "      <td>69.105469</td>\n",
       "      <td>20.536458</td>\n",
       "      <td>79.799479</td>\n",
       "      <td>31.992578</td>\n",
       "      <td>0.471876</td>\n",
       "      <td>33.240885</td>\n",
       "    </tr>\n",
       "    <tr>\n",
       "      <th>std</th>\n",
       "      <td>3.369578</td>\n",
       "      <td>31.972618</td>\n",
       "      <td>19.355807</td>\n",
       "      <td>15.952218</td>\n",
       "      <td>115.244002</td>\n",
       "      <td>7.884160</td>\n",
       "      <td>0.331329</td>\n",
       "      <td>11.760232</td>\n",
       "    </tr>\n",
       "    <tr>\n",
       "      <th>min</th>\n",
       "      <td>0.000000</td>\n",
       "      <td>0.000000</td>\n",
       "      <td>0.000000</td>\n",
       "      <td>0.000000</td>\n",
       "      <td>0.000000</td>\n",
       "      <td>0.000000</td>\n",
       "      <td>0.078000</td>\n",
       "      <td>21.000000</td>\n",
       "    </tr>\n",
       "    <tr>\n",
       "      <th>25%</th>\n",
       "      <td>1.000000</td>\n",
       "      <td>99.000000</td>\n",
       "      <td>62.000000</td>\n",
       "      <td>0.000000</td>\n",
       "      <td>0.000000</td>\n",
       "      <td>27.300000</td>\n",
       "      <td>0.243750</td>\n",
       "      <td>24.000000</td>\n",
       "    </tr>\n",
       "    <tr>\n",
       "      <th>50%</th>\n",
       "      <td>3.000000</td>\n",
       "      <td>117.000000</td>\n",
       "      <td>72.000000</td>\n",
       "      <td>23.000000</td>\n",
       "      <td>30.500000</td>\n",
       "      <td>32.000000</td>\n",
       "      <td>0.372500</td>\n",
       "      <td>29.000000</td>\n",
       "    </tr>\n",
       "    <tr>\n",
       "      <th>75%</th>\n",
       "      <td>6.000000</td>\n",
       "      <td>140.250000</td>\n",
       "      <td>80.000000</td>\n",
       "      <td>32.000000</td>\n",
       "      <td>127.250000</td>\n",
       "      <td>36.600000</td>\n",
       "      <td>0.626250</td>\n",
       "      <td>41.000000</td>\n",
       "    </tr>\n",
       "    <tr>\n",
       "      <th>max</th>\n",
       "      <td>17.000000</td>\n",
       "      <td>199.000000</td>\n",
       "      <td>122.000000</td>\n",
       "      <td>99.000000</td>\n",
       "      <td>846.000000</td>\n",
       "      <td>67.100000</td>\n",
       "      <td>2.420000</td>\n",
       "      <td>81.000000</td>\n",
       "    </tr>\n",
       "  </tbody>\n",
       "</table>\n",
       "</div>"
      ],
      "text/plain": [
       "             preg        plas        pres  ...        mass        pedi         age\n",
       "count  768.000000  768.000000  768.000000  ...  768.000000  768.000000  768.000000\n",
       "mean     3.845052  120.894531   69.105469  ...   31.992578    0.471876   33.240885\n",
       "std      3.369578   31.972618   19.355807  ...    7.884160    0.331329   11.760232\n",
       "min      0.000000    0.000000    0.000000  ...    0.000000    0.078000   21.000000\n",
       "25%      1.000000   99.000000   62.000000  ...   27.300000    0.243750   24.000000\n",
       "50%      3.000000  117.000000   72.000000  ...   32.000000    0.372500   29.000000\n",
       "75%      6.000000  140.250000   80.000000  ...   36.600000    0.626250   41.000000\n",
       "max     17.000000  199.000000  122.000000  ...   67.100000    2.420000   81.000000\n",
       "\n",
       "[8 rows x 8 columns]"
      ]
     },
     "execution_count": 10,
     "metadata": {
      "tags": []
     },
     "output_type": "execute_result"
    }
   ],
   "source": [
    "df.describe() ########### eduardo"
   ]
  },
  {
   "cell_type": "markdown",
   "metadata": {
    "id": "b2aq9YGyJ_YN"
   },
   "source": [
    "### Pré processamento"
   ]
  },
  {
   "cell_type": "markdown",
   "metadata": {
    "id": "WD1KwfP08N9E"
   },
   "source": [
    "Nesse problema, o único atributo categórico é a classe. Alguns modelos podem ter dificuldade de lidar com esse atributo. Nesse caso, precisamos transformar os valores de \"tested_negative\" e \"tested_positivo\" para 0 e 1.\n",
    "\n",
    "Para isso, vamos fazer uma função bem simples. "
   ]
  },
  {
   "cell_type": "code",
   "execution_count": 11,
   "metadata": {
    "colab": {
     "base_uri": "https://localhost:8080/",
     "height": 204
    },
    "id": "RbSaDmfQqdfj",
    "outputId": "49806ac4-971b-48a3-c10c-14823a634bf1"
   },
   "outputs": [
    {
     "data": {
      "text/html": [
       "<div>\n",
       "<style scoped>\n",
       "    .dataframe tbody tr th:only-of-type {\n",
       "        vertical-align: middle;\n",
       "    }\n",
       "\n",
       "    .dataframe tbody tr th {\n",
       "        vertical-align: top;\n",
       "    }\n",
       "\n",
       "    .dataframe thead th {\n",
       "        text-align: right;\n",
       "    }\n",
       "</style>\n",
       "<table border=\"1\" class=\"dataframe\">\n",
       "  <thead>\n",
       "    <tr style=\"text-align: right;\">\n",
       "      <th></th>\n",
       "      <th>preg</th>\n",
       "      <th>plas</th>\n",
       "      <th>pres</th>\n",
       "      <th>skin</th>\n",
       "      <th>insu</th>\n",
       "      <th>mass</th>\n",
       "      <th>pedi</th>\n",
       "      <th>age</th>\n",
       "      <th>class</th>\n",
       "    </tr>\n",
       "  </thead>\n",
       "  <tbody>\n",
       "    <tr>\n",
       "      <th>0</th>\n",
       "      <td>6</td>\n",
       "      <td>148</td>\n",
       "      <td>72</td>\n",
       "      <td>35</td>\n",
       "      <td>0</td>\n",
       "      <td>33.6</td>\n",
       "      <td>0.627</td>\n",
       "      <td>50</td>\n",
       "      <td>1</td>\n",
       "    </tr>\n",
       "    <tr>\n",
       "      <th>1</th>\n",
       "      <td>1</td>\n",
       "      <td>85</td>\n",
       "      <td>66</td>\n",
       "      <td>29</td>\n",
       "      <td>0</td>\n",
       "      <td>26.6</td>\n",
       "      <td>0.351</td>\n",
       "      <td>31</td>\n",
       "      <td>0</td>\n",
       "    </tr>\n",
       "    <tr>\n",
       "      <th>2</th>\n",
       "      <td>8</td>\n",
       "      <td>183</td>\n",
       "      <td>64</td>\n",
       "      <td>0</td>\n",
       "      <td>0</td>\n",
       "      <td>23.3</td>\n",
       "      <td>0.672</td>\n",
       "      <td>32</td>\n",
       "      <td>1</td>\n",
       "    </tr>\n",
       "    <tr>\n",
       "      <th>3</th>\n",
       "      <td>1</td>\n",
       "      <td>89</td>\n",
       "      <td>66</td>\n",
       "      <td>23</td>\n",
       "      <td>94</td>\n",
       "      <td>28.1</td>\n",
       "      <td>0.167</td>\n",
       "      <td>21</td>\n",
       "      <td>0</td>\n",
       "    </tr>\n",
       "    <tr>\n",
       "      <th>4</th>\n",
       "      <td>0</td>\n",
       "      <td>137</td>\n",
       "      <td>40</td>\n",
       "      <td>35</td>\n",
       "      <td>168</td>\n",
       "      <td>43.1</td>\n",
       "      <td>2.288</td>\n",
       "      <td>33</td>\n",
       "      <td>1</td>\n",
       "    </tr>\n",
       "  </tbody>\n",
       "</table>\n",
       "</div>"
      ],
      "text/plain": [
       "   preg  plas  pres  skin  insu  mass   pedi  age  class\n",
       "0     6   148    72    35     0  33.6  0.627   50      1\n",
       "1     1    85    66    29     0  26.6  0.351   31      0\n",
       "2     8   183    64     0     0  23.3  0.672   32      1\n",
       "3     1    89    66    23    94  28.1  0.167   21      0\n",
       "4     0   137    40    35   168  43.1  2.288   33      1"
      ]
     },
     "execution_count": 11,
     "metadata": {
      "tags": []
     },
     "output_type": "execute_result"
    }
   ],
   "source": [
    "#criando um dicionario de dados para o mapeamento\n",
    "name_to_class = {\n",
    "    'tested_negative': 0,\n",
    "    'tested_positive': 1\n",
    "}\n",
    "\n",
    "#substituindo os valores categóricos pelo mapeamento\n",
    "df['class'] = df['class'].map(name_to_class)\n",
    "\n",
    "#check\n",
    "df.head(5)"
   ]
  },
  {
   "cell_type": "markdown",
   "metadata": {
    "id": "_J94oUYW8N9Q"
   },
   "source": [
    "Uma outra etapa importante do pré-processamento consiste na avaliação de dados faltantes. \n",
    "\n"
   ]
  },
  {
   "cell_type": "code",
   "execution_count": 12,
   "metadata": {
    "colab": {
     "base_uri": "https://localhost:8080/",
     "height": 297
    },
    "id": "fOQWr4kR8N9R",
    "outputId": "b4340fb7-2ea0-4a5a-dc58-7f430186ebe6"
   },
   "outputs": [
    {
     "data": {
      "text/html": [
       "<div>\n",
       "<style scoped>\n",
       "    .dataframe tbody tr th:only-of-type {\n",
       "        vertical-align: middle;\n",
       "    }\n",
       "\n",
       "    .dataframe tbody tr th {\n",
       "        vertical-align: top;\n",
       "    }\n",
       "\n",
       "    .dataframe thead th {\n",
       "        text-align: right;\n",
       "    }\n",
       "</style>\n",
       "<table border=\"1\" class=\"dataframe\">\n",
       "  <thead>\n",
       "    <tr style=\"text-align: right;\">\n",
       "      <th></th>\n",
       "      <th>preg</th>\n",
       "      <th>plas</th>\n",
       "      <th>pres</th>\n",
       "      <th>skin</th>\n",
       "      <th>insu</th>\n",
       "      <th>mass</th>\n",
       "      <th>pedi</th>\n",
       "      <th>age</th>\n",
       "      <th>class</th>\n",
       "    </tr>\n",
       "  </thead>\n",
       "  <tbody>\n",
       "    <tr>\n",
       "      <th>count</th>\n",
       "      <td>768.000000</td>\n",
       "      <td>768.000000</td>\n",
       "      <td>768.000000</td>\n",
       "      <td>768.000000</td>\n",
       "      <td>768.000000</td>\n",
       "      <td>768.000000</td>\n",
       "      <td>768.000000</td>\n",
       "      <td>768.000000</td>\n",
       "      <td>768.000000</td>\n",
       "    </tr>\n",
       "    <tr>\n",
       "      <th>mean</th>\n",
       "      <td>3.845052</td>\n",
       "      <td>120.894531</td>\n",
       "      <td>69.105469</td>\n",
       "      <td>20.536458</td>\n",
       "      <td>79.799479</td>\n",
       "      <td>31.992578</td>\n",
       "      <td>0.471876</td>\n",
       "      <td>33.240885</td>\n",
       "      <td>0.348958</td>\n",
       "    </tr>\n",
       "    <tr>\n",
       "      <th>std</th>\n",
       "      <td>3.369578</td>\n",
       "      <td>31.972618</td>\n",
       "      <td>19.355807</td>\n",
       "      <td>15.952218</td>\n",
       "      <td>115.244002</td>\n",
       "      <td>7.884160</td>\n",
       "      <td>0.331329</td>\n",
       "      <td>11.760232</td>\n",
       "      <td>0.476951</td>\n",
       "    </tr>\n",
       "    <tr>\n",
       "      <th>min</th>\n",
       "      <td>0.000000</td>\n",
       "      <td>0.000000</td>\n",
       "      <td>0.000000</td>\n",
       "      <td>0.000000</td>\n",
       "      <td>0.000000</td>\n",
       "      <td>0.000000</td>\n",
       "      <td>0.078000</td>\n",
       "      <td>21.000000</td>\n",
       "      <td>0.000000</td>\n",
       "    </tr>\n",
       "    <tr>\n",
       "      <th>25%</th>\n",
       "      <td>1.000000</td>\n",
       "      <td>99.000000</td>\n",
       "      <td>62.000000</td>\n",
       "      <td>0.000000</td>\n",
       "      <td>0.000000</td>\n",
       "      <td>27.300000</td>\n",
       "      <td>0.243750</td>\n",
       "      <td>24.000000</td>\n",
       "      <td>0.000000</td>\n",
       "    </tr>\n",
       "    <tr>\n",
       "      <th>50%</th>\n",
       "      <td>3.000000</td>\n",
       "      <td>117.000000</td>\n",
       "      <td>72.000000</td>\n",
       "      <td>23.000000</td>\n",
       "      <td>30.500000</td>\n",
       "      <td>32.000000</td>\n",
       "      <td>0.372500</td>\n",
       "      <td>29.000000</td>\n",
       "      <td>0.000000</td>\n",
       "    </tr>\n",
       "    <tr>\n",
       "      <th>75%</th>\n",
       "      <td>6.000000</td>\n",
       "      <td>140.250000</td>\n",
       "      <td>80.000000</td>\n",
       "      <td>32.000000</td>\n",
       "      <td>127.250000</td>\n",
       "      <td>36.600000</td>\n",
       "      <td>0.626250</td>\n",
       "      <td>41.000000</td>\n",
       "      <td>1.000000</td>\n",
       "    </tr>\n",
       "    <tr>\n",
       "      <th>max</th>\n",
       "      <td>17.000000</td>\n",
       "      <td>199.000000</td>\n",
       "      <td>122.000000</td>\n",
       "      <td>99.000000</td>\n",
       "      <td>846.000000</td>\n",
       "      <td>67.100000</td>\n",
       "      <td>2.420000</td>\n",
       "      <td>81.000000</td>\n",
       "      <td>1.000000</td>\n",
       "    </tr>\n",
       "  </tbody>\n",
       "</table>\n",
       "</div>"
      ],
      "text/plain": [
       "             preg        plas        pres  ...        pedi         age       class\n",
       "count  768.000000  768.000000  768.000000  ...  768.000000  768.000000  768.000000\n",
       "mean     3.845052  120.894531   69.105469  ...    0.471876   33.240885    0.348958\n",
       "std      3.369578   31.972618   19.355807  ...    0.331329   11.760232    0.476951\n",
       "min      0.000000    0.000000    0.000000  ...    0.078000   21.000000    0.000000\n",
       "25%      1.000000   99.000000   62.000000  ...    0.243750   24.000000    0.000000\n",
       "50%      3.000000  117.000000   72.000000  ...    0.372500   29.000000    0.000000\n",
       "75%      6.000000  140.250000   80.000000  ...    0.626250   41.000000    1.000000\n",
       "max     17.000000  199.000000  122.000000  ...    2.420000   81.000000    1.000000\n",
       "\n",
       "[8 rows x 9 columns]"
      ]
     },
     "execution_count": 12,
     "metadata": {
      "tags": []
     },
     "output_type": "execute_result"
    }
   ],
   "source": [
    "# Analisando o resumo da base\n",
    "df.describe()"
   ]
  },
  {
   "cell_type": "code",
   "execution_count": 14,
   "metadata": {
    "colab": {
     "base_uri": "https://localhost:8080/"
    },
    "id": "3TW324Kdnj4c",
    "outputId": "8d0864fd-f8d0-4c28-f47f-51858f22b575"
   },
   "outputs": [
    {
     "name": "stdout",
     "output_type": "stream",
     "text": [
      "<class 'pandas.core.frame.DataFrame'>\n",
      "RangeIndex: 768 entries, 0 to 767\n",
      "Data columns (total 9 columns):\n",
      " #   Column  Non-Null Count  Dtype  \n",
      "---  ------  --------------  -----  \n",
      " 0   preg    768 non-null    int64  \n",
      " 1   plas    768 non-null    int64  \n",
      " 2   pres    768 non-null    int64  \n",
      " 3   skin    768 non-null    int64  \n",
      " 4   insu    768 non-null    int64  \n",
      " 5   mass    768 non-null    float64\n",
      " 6   pedi    768 non-null    float64\n",
      " 7   age     768 non-null    int64  \n",
      " 8   class   768 non-null    int64  \n",
      "dtypes: float64(2), int64(7)\n",
      "memory usage: 54.1 KB\n"
     ]
    }
   ],
   "source": [
    "df.info() #################  eduardo"
   ]
  },
  {
   "cell_type": "markdown",
   "metadata": {
    "id": "-mH3u8WT8N9f"
   },
   "source": [
    "Os modelos implementados no sklearn recebem como entrada para a modelagam um ou mais arrays. Dessa forma, precisamos modificar o df original para que seja possível a modelagem correta. \n",
    "\n",
    "Para isso, vamos separar o label das amotras, armazenar o nome das featues já que os arrays não fazem isso e depois retirar a coluna de labels do df original. Em seguida, vamos converter o df para array usando o numpy!"
   ]
  },
  {
   "cell_type": "code",
   "execution_count": 15,
   "metadata": {
    "id": "WZ3jLCuEOfbJ"
   },
   "outputs": [],
   "source": [
    "# armazenando os labels em um array\n",
    "labels = np.array(df['class'])\n",
    "\n",
    "# data = np.array(df.drop('class'), axis=1)   #### maneira mais elegante de criar o array data\n",
    "\n",
    "# salvando a ordem das features\n",
    "feature_list = list(df.columns)"
   ]
  },
  {
   "cell_type": "code",
   "execution_count": 16,
   "metadata": {
    "colab": {
     "base_uri": "https://localhost:8080/"
    },
    "id": "Q5wIxGj68N9g",
    "outputId": "f2023848-e6ff-4ed9-d000-33a1b6d96c72"
   },
   "outputs": [
    {
     "data": {
      "text/plain": [
       "Index(['preg', 'plas', 'pres', 'skin', 'insu', 'mass', 'pedi', 'age'], dtype='object')"
      ]
     },
     "execution_count": 16,
     "metadata": {
      "tags": []
     },
     "output_type": "execute_result"
    }
   ],
   "source": [
    "# removendo a coluna de labels do df original\n",
    "df = df.drop('class', axis = 1)\n",
    "\n",
    "# check\n",
    "df.columns"
   ]
  },
  {
   "cell_type": "code",
   "execution_count": 17,
   "metadata": {
    "id": "H24By9Vf8N9k"
   },
   "outputs": [],
   "source": [
    "# convertendo df para array\n",
    "data = np.array(df)"
   ]
  },
  {
   "cell_type": "code",
   "execution_count": 18,
   "metadata": {
    "colab": {
     "base_uri": "https://localhost:8080/"
    },
    "id": "U78YR21tqb9U",
    "outputId": "7f674f72-12ae-429c-9067-c48e68064c98"
   },
   "outputs": [
    {
     "data": {
      "text/plain": [
       "{'class'}"
      ]
     },
     "execution_count": 18,
     "metadata": {
      "tags": []
     },
     "output_type": "execute_result"
    }
   ],
   "source": [
    "set(feature_list) - set(df.columns)  #### verificando a diferença entre os \"conjuntos\"... "
   ]
  },
  {
   "cell_type": "markdown",
   "metadata": {
    "id": "WY6_Mcme8N9o"
   },
   "source": [
    "Agora estamos quase prontos para a modelagem em si!"
   ]
  },
  {
   "cell_type": "markdown",
   "metadata": {
    "id": "H6NV8W5TEoK-"
   },
   "source": [
    "Vamos usar a função <a href = http://scikit-learn.org/stable/modules/generated/sklearn.model_selection.train_test_split.html> train_test_split </a> e olhar para para algumas combinações de parâmetros dos modelos que selecionamos. "
   ]
  },
  {
   "cell_type": "code",
   "execution_count": 19,
   "metadata": {
    "id": "Ews_1IMu8N9p"
   },
   "outputs": [],
   "source": [
    "# importar train_test_split do scikitlearn \n",
    "from sklearn.model_selection import train_test_split\n",
    "\n",
    "# aplicando a funcao train_test_split para separar os conjuntos de treino e \n",
    "# teste segundo uma porcentagem de separação definida. \n",
    "train_data, test_data, train_labels, test_labels = train_test_split(data, labels, test_size = 0.25, random_state = 42)"
   ]
  },
  {
   "cell_type": "markdown",
   "metadata": {
    "id": "aJXB1tN4ZSOI"
   },
   "source": [
    "# Support Vector Machine SVM"
   ]
  },
  {
   "cell_type": "markdown",
   "metadata": {
    "id": "mjfmk5HkZgjj"
   },
   "source": [
    "Vamos dar uma olhada agora no comportamento do SVM"
   ]
  },
  {
   "cell_type": "code",
   "execution_count": 20,
   "metadata": {
    "id": "DrVJVyyyHkpu"
   },
   "outputs": [],
   "source": [
    "#importar o modelo SVM\n",
    "from sklearn.svm import SVC"
   ]
  },
  {
   "cell_type": "code",
   "execution_count": 22,
   "metadata": {
    "colab": {
     "base_uri": "https://localhost:8080/",
     "height": 359
    },
    "id": "vE-1qSaUZsA9",
    "outputId": "d28f9ef5-5ccd-4e6e-a8b4-8846a93b2106"
   },
   "outputs": [
    {
     "data": {
      "text/html": [
       "<div>\n",
       "<style scoped>\n",
       "    .dataframe tbody tr th:only-of-type {\n",
       "        vertical-align: middle;\n",
       "    }\n",
       "\n",
       "    .dataframe tbody tr th {\n",
       "        vertical-align: top;\n",
       "    }\n",
       "\n",
       "    .dataframe thead th {\n",
       "        text-align: right;\n",
       "    }\n",
       "</style>\n",
       "<table border=\"1\" class=\"dataframe\">\n",
       "  <thead>\n",
       "    <tr style=\"text-align: right;\">\n",
       "      <th></th>\n",
       "      <th>Real</th>\n",
       "      <th>Previsto</th>\n",
       "    </tr>\n",
       "  </thead>\n",
       "  <tbody>\n",
       "    <tr>\n",
       "      <th>0</th>\n",
       "      <td>0</td>\n",
       "      <td>0</td>\n",
       "    </tr>\n",
       "    <tr>\n",
       "      <th>1</th>\n",
       "      <td>0</td>\n",
       "      <td>0</td>\n",
       "    </tr>\n",
       "    <tr>\n",
       "      <th>2</th>\n",
       "      <td>0</td>\n",
       "      <td>0</td>\n",
       "    </tr>\n",
       "    <tr>\n",
       "      <th>3</th>\n",
       "      <td>0</td>\n",
       "      <td>0</td>\n",
       "    </tr>\n",
       "    <tr>\n",
       "      <th>4</th>\n",
       "      <td>0</td>\n",
       "      <td>0</td>\n",
       "    </tr>\n",
       "    <tr>\n",
       "      <th>5</th>\n",
       "      <td>0</td>\n",
       "      <td>0</td>\n",
       "    </tr>\n",
       "    <tr>\n",
       "      <th>6</th>\n",
       "      <td>0</td>\n",
       "      <td>0</td>\n",
       "    </tr>\n",
       "    <tr>\n",
       "      <th>7</th>\n",
       "      <td>0</td>\n",
       "      <td>0</td>\n",
       "    </tr>\n",
       "    <tr>\n",
       "      <th>8</th>\n",
       "      <td>0</td>\n",
       "      <td>1</td>\n",
       "    </tr>\n",
       "    <tr>\n",
       "      <th>9</th>\n",
       "      <td>0</td>\n",
       "      <td>1</td>\n",
       "    </tr>\n",
       "  </tbody>\n",
       "</table>\n",
       "</div>"
      ],
      "text/plain": [
       "   Real  Previsto\n",
       "0     0         0\n",
       "1     0         0\n",
       "2     0         0\n",
       "3     0         0\n",
       "4     0         0\n",
       "5     0         0\n",
       "6     0         0\n",
       "7     0         0\n",
       "8     0         1\n",
       "9     0         1"
      ]
     },
     "execution_count": 22,
     "metadata": {
      "tags": []
     },
     "output_type": "execute_result"
    }
   ],
   "source": [
    "# treinando o SVM com kernel RBF\n",
    "classifier1 = SVC(kernel='rbf').fit(train_data,train_labels)\n",
    "\n",
    "# aplicando o modelo treinado \n",
    "predictions1_labels = classifier1.predict(test_data)\n",
    "\n",
    "# Exibindo dataframe com valores 10 reais e suas respectivas previsões\n",
    "p = pd.DataFrame({'Real': test_labels, 'Previsto': predictions1_labels})  \n",
    "p.head(10)"
   ]
  },
  {
   "cell_type": "code",
   "execution_count": 23,
   "metadata": {
    "colab": {
     "base_uri": "https://localhost:8080/"
    },
    "id": "sAkezhEKZrwC",
    "outputId": "aaff0ac0-ca0e-4b96-bd06-fe3cf3e1e4c9"
   },
   "outputs": [
    {
     "name": "stdout",
     "output_type": "stream",
     "text": [
      "Matriz de Confusão\n",
      " [[106  17]\n",
      " [ 35  34]]\n",
      "\n",
      "Acurácia\n",
      " 0.7291666666666666\n",
      "\n",
      "F1\n",
      " 0.5666666666666667\n",
      "\n",
      "AUCROC\n",
      " 0.6772711205372923\n"
     ]
    }
   ],
   "source": [
    "#avaliando o modelo \n",
    "from sklearn import metrics\n",
    " \n",
    "print('Matriz de Confusão\\n', metrics.confusion_matrix(test_labels, predictions1_labels)) \n",
    "print('\\nAcurácia\\n', metrics.accuracy_score(test_labels, predictions1_labels)) \n",
    "print('\\nF1\\n', metrics.f1_score(test_labels, predictions1_labels)) \n",
    "print('\\nAUCROC\\n', metrics.roc_auc_score(test_labels, predictions1_labels))"
   ]
  },
  {
   "cell_type": "markdown",
   "metadata": {
    "id": "tWz5vVEkiQr2"
   },
   "source": [
    "Vamos tentar melhorar o SVM? \n",
    "\n",
    "Vamos trocar o kernel gaussiano pelo sigmoidal"
   ]
  },
  {
   "cell_type": "code",
   "execution_count": 26,
   "metadata": {
    "id": "IFGJLVR0iPtf"
   },
   "outputs": [],
   "source": [
    "# treinando o SVM com kernel sigmoidal\n",
    "classifier2 = SVC(kernel='sigmoid').fit(train_data,train_labels)\n",
    "\n",
    "# aplicando o modelo treinado \n",
    "predictions2_labels = classifier2.predict(test_data)\n",
    "\n",
    "# Exibindo dataframe com valores 10 reais e suas respectivas previsões\n",
    "#p = pd.DataFrame({'Real': test_labels, 'Previsto': predictions2_labels})  \n",
    "#p.head(10)"
   ]
  },
  {
   "cell_type": "code",
   "execution_count": 27,
   "metadata": {
    "colab": {
     "base_uri": "https://localhost:8080/"
    },
    "id": "KztC8v1gK3bw",
    "outputId": "e2aa3196-f3ed-4435-b47b-3a29939fde6a"
   },
   "outputs": [
    {
     "name": "stdout",
     "output_type": "stream",
     "text": [
      "Matriz de Confusão\n",
      " [[94 29]\n",
      " [57 12]]\n",
      "\n",
      "Acurácia\n",
      " 0.5520833333333334\n",
      "\n",
      "F1\n",
      " 0.21818181818181817\n",
      "\n",
      "AUCROC\n",
      " 0.46907034287734173\n"
     ]
    }
   ],
   "source": [
    "#avaliando o modelo \n",
    "from sklearn import metrics\n",
    " \n",
    "print('Matriz de Confusão\\n', metrics.confusion_matrix(test_labels, predictions2_labels)) \n",
    "print('\\nAcurácia\\n', metrics.accuracy_score(test_labels, predictions2_labels)) \n",
    "print('\\nF1\\n', metrics.f1_score(test_labels, predictions2_labels)) \n",
    "print('\\nAUCROC\\n', metrics.roc_auc_score(test_labels, predictions2_labels))"
   ]
  },
  {
   "cell_type": "markdown",
   "metadata": {
    "id": "Tq5tDt1ELoLd"
   },
   "source": [
    "Vamos tentar outra opção!\n"
   ]
  },
  {
   "cell_type": "code",
   "execution_count": 28,
   "metadata": {
    "id": "0suFkLRwLp0U"
   },
   "outputs": [],
   "source": [
    "# treinando o SVM com kernel rbf, com largura da gaussiana alterada\n",
    "classifier3 = SVC(kernel='rbf', gamma = 'auto').fit(train_data,train_labels)\n",
    "\n",
    "# aplicando o modelo treinado \n",
    "predictions3_labels = classifier3.predict(test_data)\n",
    "\n",
    "# Exibindo dataframe com valores 10 reais e suas respectivas previsões\n",
    "#p = pd.DataFrame({'Real': test_labels, 'Previsto': predictions3_labels})  \n",
    "#p.head(10)"
   ]
  },
  {
   "cell_type": "code",
   "execution_count": 29,
   "metadata": {
    "colab": {
     "base_uri": "https://localhost:8080/"
    },
    "id": "k17XbSuZMB5Y",
    "outputId": "6681c462-087b-42d6-97db-85c3e55c561a"
   },
   "outputs": [
    {
     "name": "stdout",
     "output_type": "stream",
     "text": [
      "Matriz de Confusão\n",
      " [[123   0]\n",
      " [ 69   0]]\n",
      "\n",
      "Acurácia\n",
      " 0.640625\n",
      "\n",
      "F1\n",
      " 0.0\n",
      "\n",
      "AUCROC\n",
      " 0.5\n"
     ]
    }
   ],
   "source": [
    "#avaliando o modelo \n",
    "from sklearn import metrics\n",
    " \n",
    "print('Matriz de Confusão\\n', metrics.confusion_matrix(test_labels, predictions3_labels)) \n",
    "print('\\nAcurácia\\n', metrics.accuracy_score(test_labels, predictions3_labels)) \n",
    "print('\\nF1\\n', metrics.f1_score(test_labels, predictions3_labels)) \n",
    "print('\\nAUCROC\\n', metrics.roc_auc_score(test_labels, predictions3_labels))"
   ]
  },
  {
   "cell_type": "markdown",
   "metadata": {
    "id": "-BBq6LoyMohI"
   },
   "source": [
    "Ultimo teste!"
   ]
  },
  {
   "cell_type": "code",
   "execution_count": 31,
   "metadata": {
    "id": "gowGff9xMnSq"
   },
   "outputs": [],
   "source": [
    "# treinando o SVM com kernel rbf, com largura da gaussiana alterada\n",
    "classifier4 = SVC(C = 0.1, kernel='rbf', gamma = 0.0001).fit(train_data,train_labels)\n",
    "\n",
    "# aplicando o modelo treinado \n",
    "predictions4_labels = classifier4.predict(test_data)\n",
    "\n",
    "# Exibindo dataframe com valores 10 reais e suas respectivas previsões\n",
    "#p = pd.DataFrame({'Real': test_labels, 'Previsto': predictions4_labels})  \n",
    "#p.head(10)"
   ]
  },
  {
   "cell_type": "code",
   "execution_count": 32,
   "metadata": {
    "colab": {
     "base_uri": "https://localhost:8080/"
    },
    "id": "ve_S6vEqMn-H",
    "outputId": "0394efe5-36c5-402c-d85a-d1663607fc43"
   },
   "outputs": [
    {
     "name": "stdout",
     "output_type": "stream",
     "text": [
      "Matriz de Confusão\n",
      " [[112  11]\n",
      " [ 43  26]]\n",
      "\n",
      "Acurácia\n",
      " 0.71875\n",
      "\n",
      "F1\n",
      " 0.49056603773584906\n",
      "\n",
      "AUCROC\n",
      " 0.6436903499469776\n"
     ]
    }
   ],
   "source": [
    "#avaliando o modelo \n",
    "from sklearn import metrics\n",
    " \n",
    "print('Matriz de Confusão\\n', metrics.confusion_matrix(test_labels, predictions4_labels)) \n",
    "print('\\nAcurácia\\n', metrics.accuracy_score(test_labels, predictions4_labels)) \n",
    "print('\\nF1\\n', metrics.f1_score(test_labels, predictions4_labels)) \n",
    "print('\\nAUCROC\\n', metrics.roc_auc_score(test_labels, predictions4_labels))"
   ]
  },
  {
   "cell_type": "markdown",
   "metadata": {
    "id": "MglFMlLLbggA"
   },
   "source": [
    "# Random Forest Classifiers\n"
   ]
  },
  {
   "cell_type": "markdown",
   "metadata": {
    "id": "0qjPEqNfbmtk"
   },
   "source": [
    "Vamos agora modelar o nosso problema utilizando o Random Forest Classifier e testar algumas combinações de hiperparâmetros!"
   ]
  },
  {
   "cell_type": "code",
   "execution_count": 33,
   "metadata": {
    "id": "7LrKgJhb8N-K"
   },
   "outputs": [],
   "source": [
    "# importar o modelo Random Forest Regressor\n",
    "from sklearn.ensemble import RandomForestClassifier\n",
    "\n",
    "# treinando o modelo \n",
    "classifier5 = RandomForestClassifier(n_estimators= 10, random_state=42).fit(train_data, train_labels);\n",
    "\n",
    "# aplicando o modelo treinado para a previsão do resultado do teste\n",
    "predictions5_labels = classifier5.predict(test_data)\n",
    "\n",
    "# Exibindo dataframe com valores 10 reais e suas respectivas previsões\n",
    "#p = pd.DataFrame({'Real': test_labels, 'Previsto': predictions5_labels})  \n",
    "#p.head(10)"
   ]
  },
  {
   "cell_type": "code",
   "execution_count": 34,
   "metadata": {
    "colab": {
     "base_uri": "https://localhost:8080/"
    },
    "id": "j3XYU8C_clmb",
    "outputId": "5ca2beb3-44c1-4265-d48c-b167a262be86"
   },
   "outputs": [
    {
     "name": "stdout",
     "output_type": "stream",
     "text": [
      "Matriz de Confusão\n",
      " [[97 26]\n",
      " [24 45]]\n",
      "\n",
      "Acurácia\n",
      " 0.7395833333333334\n",
      "\n",
      "F1\n",
      " 0.6428571428571428\n",
      "\n",
      "AUCROC\n",
      " 0.72039589961117\n"
     ]
    }
   ],
   "source": [
    "#avaliando o modelo\n",
    "print('Matriz de Confusão\\n', metrics.confusion_matrix(test_labels, predictions5_labels)) \n",
    "print('\\nAcurácia\\n', metrics.accuracy_score(test_labels, predictions5_labels)) \n",
    "print('\\nF1\\n', metrics.f1_score(test_labels, predictions5_labels)) \n",
    "print('\\nAUCROC\\n', metrics.roc_auc_score(test_labels, predictions5_labels))"
   ]
  },
  {
   "cell_type": "markdown",
   "metadata": {
    "id": "Ekq770pckaJp"
   },
   "source": [
    "Eita...\n",
    "\n",
    "Será que o nosso resultado pode ser melhor?\n",
    "\n",
    "Vamos trocar random_state e dar uma olhada em como a característica aleatoria do RF influencia no resultado.\n"
   ]
  },
  {
   "cell_type": "code",
   "execution_count": 35,
   "metadata": {
    "id": "MPTJfZhWO5y_"
   },
   "outputs": [],
   "source": [
    "# treinando o modelo  ################## trocou somente o random_state, para mostrar que é diferente\n",
    "\n",
    "classifier6 = RandomForestClassifier(n_estimators= 10, random_state = 124).fit(train_data, train_labels);\n",
    "\n",
    "# aplicando o modelo treinado para a previsão do resultado do teste\n",
    "predictions6_labels = classifier6.predict(test_data)\n",
    "\n",
    "# Exibindo dataframe com valores 10 reais e suas respectivas previsões\n",
    "#p = pd.DataFrame({'Real': test_labels, 'Previsto': predictions5_labels})  \n",
    "#p.head(10)"
   ]
  },
  {
   "cell_type": "code",
   "execution_count": 37,
   "metadata": {
    "colab": {
     "base_uri": "https://localhost:8080/"
    },
    "id": "YbXqAfkQO6ey",
    "outputId": "89d4b30c-5131-4b7f-c131-8cc164693caf"
   },
   "outputs": [
    {
     "name": "stdout",
     "output_type": "stream",
     "text": [
      "Matriz de Confusão\n",
      " [[100  23]\n",
      " [ 24  45]]\n",
      "\n",
      "Acurácia\n",
      " 0.7552083333333334\n",
      "\n",
      "F1\n",
      " 0.656934306569343\n",
      "\n",
      "AUCROC\n",
      " 0.7325910215623894\n"
     ]
    }
   ],
   "source": [
    "#avaliando o modelo  \n",
    "print('Matriz de Confusão\\n', metrics.confusion_matrix(test_labels, predictions6_labels)) \n",
    "print('\\nAcurácia\\n', metrics.accuracy_score(test_labels, predictions6_labels)) \n",
    "print('\\nF1\\n', metrics.f1_score(test_labels, predictions6_labels)) \n",
    "print('\\nAUCROC\\n', metrics.roc_auc_score(test_labels, predictions6_labels))"
   ]
  },
  {
   "cell_type": "markdown",
   "metadata": {
    "id": "WGQzaFCDPsJj"
   },
   "source": [
    "Vamos tentar aumentar o número de estimadores"
   ]
  },
  {
   "cell_type": "code",
   "execution_count": 38,
   "metadata": {
    "id": "lNDOisoRO6HA"
   },
   "outputs": [],
   "source": [
    "# treinando o modelo \n",
    "classifier7 = RandomForestClassifier(n_estimators= 100, random_state = 42).fit(train_data, train_labels);\n",
    "\n",
    "# aplicando o modelo treinado para a previsão do resultado do teste\n",
    "predictions7_labels = classifier7.predict(test_data)\n",
    "\n",
    "# Exibindo dataframe com valores 10 reais e suas respectivas previsões\n",
    "#p = pd.DataFrame({'Real': test_labels, 'Previsto': predictions5_labels})  \n",
    "#p.head(10)"
   ]
  },
  {
   "cell_type": "code",
   "execution_count": 39,
   "metadata": {
    "colab": {
     "base_uri": "https://localhost:8080/"
    },
    "id": "zFjK6sqUPz7_",
    "outputId": "4bb9a446-d62f-4d8b-f827-78e706d76e9d"
   },
   "outputs": [
    {
     "name": "stdout",
     "output_type": "stream",
     "text": [
      "Matriz de Confusão\n",
      " [[96 27]\n",
      " [24 45]]\n",
      "\n",
      "Acurácia\n",
      " 0.734375\n",
      "\n",
      "F1\n",
      " 0.6382978723404256\n",
      "\n",
      "AUCROC\n",
      " 0.7163308589607635\n"
     ]
    }
   ],
   "source": [
    "#avaliando o modelo\n",
    "print('Matriz de Confusão\\n', metrics.confusion_matrix(test_labels, predictions7_labels)) \n",
    "print('\\nAcurácia\\n', metrics.accuracy_score(test_labels, predictions7_labels)) \n",
    "print('\\nF1\\n', metrics.f1_score(test_labels, predictions7_labels)) \n",
    "print('\\nAUCROC\\n', metrics.roc_auc_score(test_labels, predictions7_labels))"
   ]
  },
  {
   "cell_type": "code",
   "execution_count": 40,
   "metadata": {
    "id": "u-t3S6vnQ0Y5"
   },
   "outputs": [],
   "source": [
    "# importar o modelo Random Forest Regressor\n",
    "from sklearn.ensemble import RandomForestClassifier\n",
    "\n",
    "# treinando o modelo \n",
    "classifier8 = RandomForestClassifier(n_estimators= 100, bootstrap = False, random_state = 42).fit(train_data, train_labels);\n",
    "\n",
    "# aplicando o modelo treinado para a previsão do resultado do teste\n",
    "predictions8_labels = classifier8.predict(test_data)\n",
    "\n",
    "# Exibindo dataframe com valores 10 reais e suas respectivas previsões\n",
    "#p = pd.DataFrame({'Real': test_labels, 'Previsto': predictions8_labels})  \n",
    "#p.head(10)"
   ]
  },
  {
   "cell_type": "code",
   "execution_count": 42,
   "metadata": {
    "colab": {
     "base_uri": "https://localhost:8080/"
    },
    "id": "_XCr38HTQ0Lk",
    "outputId": "cd0a42d1-78d9-48ff-a928-527a23e275a7"
   },
   "outputs": [
    {
     "name": "stdout",
     "output_type": "stream",
     "text": [
      "Matriz de Confusão\n",
      " [[93 30]\n",
      " [24 45]]\n",
      "\n",
      "Acurácia\n",
      " 0.71875\n",
      "\n",
      "F1\n",
      " 0.6250000000000001\n",
      "\n",
      "AUCROC\n",
      " 0.704135737009544\n"
     ]
    }
   ],
   "source": [
    "#avaliando o modelo\n",
    "print('Matriz de Confusão\\n', metrics.confusion_matrix(test_labels, predictions8_labels)) \n",
    "print('\\nAcurácia\\n', metrics.accuracy_score(test_labels, predictions8_labels)) \n",
    "print('\\nF1\\n', metrics.f1_score(test_labels, predictions8_labels)) \n",
    "print('\\nAUCROC\\n', metrics.roc_auc_score(test_labels, predictions8_labels))"
   ]
  },
  {
   "cell_type": "markdown",
   "metadata": {
    "id": "nMa0OirHRQEP"
   },
   "source": [
    "#### Qual seria o custo, isto é, qual o tempo que nós perdiaríamos ao ter que calibrar manualmente, de forma aleatória ou sistemática, todos os modelos que criamos? "
   ]
  },
  {
   "cell_type": "markdown",
   "metadata": {
    "id": "BgGaKiriRsAp"
   },
   "source": [
    "Só não!"
   ]
  },
  {
   "cell_type": "markdown",
   "metadata": {
    "id": "W9S7bf6lVX7P"
   },
   "source": [
    "Vamos dar uma olhada em como funciona o Random Search e o Grid Search aplicados? SIIIIIIIIIIIM\n",
    "\n",
    "Vamos aproveitar para usar a validação cruzada estratificada!"
   ]
  },
  {
   "cell_type": "markdown",
   "metadata": {
    "id": "LZUeHPfmWYQZ"
   },
   "source": [
    "O sklearn tem funções de Grid Search e Random Search implementadas que já fazem o processo de validação cruzada do modelo. \n",
    "Mais informações sobre esses métodos podem ser encontradas nos links abaixo!\n",
    "\n",
    "*   <a href = https://scikit-learn.org/stable/modules/generated/sklearn.model_selection.GridSearchCV.html#sklearn.model_selection.GridSearchCV> Grid Search CV </a>\n",
    "*   <a href = https://scikit-learn.org/stable/modules/generated/sklearn.model_selection.RandomizedSearchCV.html#sklearn.model_selection.RandomizedSearchCV> Random Search CV</a>\n",
    "\n",
    "Vamos testa-las?"
   ]
  },
  {
   "cell_type": "markdown",
   "metadata": {
    "id": "2WkgpCp6tUxb"
   },
   "source": [
    "## Grid Search"
   ]
  },
  {
   "cell_type": "markdown",
   "metadata": {
    "id": "nPf2ao0znG0m"
   },
   "source": [
    "\n",
    "\n",
    "**Vamos testar o Grid Search com kfold estratificado e o SVM**"
   ]
  },
  {
   "cell_type": "code",
   "execution_count": 43,
   "metadata": {
    "id": "Qjo7iOM4RuRR"
   },
   "outputs": [],
   "source": [
    "from sklearn.model_selection import StratifiedKFold\n",
    "from sklearn.model_selection import GridSearchCV\n",
    "from sklearn.metrics import f1_score, make_scorer"
   ]
  },
  {
   "cell_type": "code",
   "execution_count": 45,
   "metadata": {
    "colab": {
     "base_uri": "https://localhost:8080/"
    },
    "id": "rPq4NQAYR3d5",
    "outputId": "57a7b6a3-941e-49a1-92eb-9d2ace5b552b"
   },
   "outputs": [
    {
     "data": {
      "text/plain": [
       "GridSearchCV(cv=StratifiedKFold(n_splits=10, random_state=None, shuffle=False),\n",
       "             error_score=nan,\n",
       "             estimator=SVC(C=1.0, break_ties=False, cache_size=200,\n",
       "                           class_weight=None, coef0=0.0,\n",
       "                           decision_function_shape='ovr', degree=3,\n",
       "                           gamma='scale', kernel='rbf', max_iter=-1,\n",
       "                           probability=False, random_state=None, shrinking=True,\n",
       "                           tol=0.001, verbose=False),\n",
       "             iid='deprecated', n_jobs=None,\n",
       "             param_grid={'C': [0.01, 1, 10], 'kernel': ('sigmoid', 'rbf')},\n",
       "             pre_dispatch='2*n_jobs', refit=True, return_train_score=False,\n",
       "             scoring=make_scorer(f1_score), verbose=0)"
      ]
     },
     "execution_count": 45,
     "metadata": {
      "tags": []
     },
     "output_type": "execute_result"
    }
   ],
   "source": [
    "#definindo hiperparâmetros\n",
    "hiperparam = {'kernel':('sigmoid', 'rbf'), 'C':[0.01, 1, 10]}\n",
    "\n",
    "#definindo o tipo de validacao cruzada e o numero de folds\n",
    "cv_strat = StratifiedKFold(n_splits = 10)\n",
    "\n",
    "#instânciando meu classificador\n",
    "classifier = SVC()\n",
    "\n",
    "#definindo a estrategia de score a partir da metrica f1\n",
    "f1 = make_scorer(f1_score)\n",
    "\n",
    "#instanciando e modelando o grid search com os hiperparametros e a validação definidas.\n",
    "grid_cv = GridSearchCV(classifier, hiperparam, cv = cv_strat, scoring = f1)\n",
    "grid_cv.fit(data, labels)"
   ]
  },
  {
   "cell_type": "code",
   "execution_count": 46,
   "metadata": {
    "colab": {
     "base_uri": "https://localhost:8080/"
    },
    "id": "vTuYEghvn4RZ",
    "outputId": "8d6b203b-5354-41fa-b0cb-9a2dadf4c21a"
   },
   "outputs": [
    {
     "name": "stdout",
     "output_type": "stream",
     "text": [
      "Resumo de todos os resultados encontrados:\n",
      "\n",
      " {'mean_fit_time': array([0.02103987, 0.0157876 , 0.02044122, 0.01405098, 0.01761308,\n",
      "       0.01579454]), 'std_fit_time': array([0.00182346, 0.0008284 , 0.0015876 , 0.00036169, 0.00074521,\n",
      "       0.00072837]), 'mean_score_time': array([0.00306342, 0.00240004, 0.00327942, 0.00218942, 0.00270782,\n",
      "       0.0022887 ]), 'std_score_time': array([1.37004803e-04, 7.02650942e-05, 5.87114225e-04, 9.08834893e-05,\n",
      "       1.37225963e-04, 2.91458541e-04]), 'param_C': masked_array(data=[0.01, 0.01, 1, 1, 10, 10],\n",
      "             mask=[False, False, False, False, False, False],\n",
      "       fill_value='?',\n",
      "            dtype=object), 'param_kernel': masked_array(data=['sigmoid', 'rbf', 'sigmoid', 'rbf', 'sigmoid', 'rbf'],\n",
      "             mask=[False, False, False, False, False, False],\n",
      "       fill_value='?',\n",
      "            dtype=object), 'params': [{'C': 0.01, 'kernel': 'sigmoid'}, {'C': 0.01, 'kernel': 'rbf'}, {'C': 1, 'kernel': 'sigmoid'}, {'C': 1, 'kernel': 'rbf'}, {'C': 10, 'kernel': 'sigmoid'}, {'C': 10, 'kernel': 'rbf'}], 'split0_test_score': array([0.        , 0.        , 0.1       , 0.56521739, 0.17777778,\n",
      "       0.58823529]), 'split1_test_score': array([0.        , 0.        , 0.17777778, 0.47368421, 0.32142857,\n",
      "       0.60465116]), 'split2_test_score': array([0.        , 0.        , 0.13333333, 0.58333333, 0.11320755,\n",
      "       0.57142857]), 'split3_test_score': array([0.        , 0.        , 0.18181818, 0.54166667, 0.28070175,\n",
      "       0.58823529]), 'split4_test_score': array([0.        , 0.        , 0.11111111, 0.43243243, 0.16949153,\n",
      "       0.47368421]), 'split5_test_score': array([0.        , 0.        , 0.04444444, 0.65116279, 0.11111111,\n",
      "       0.68085106]), 'split6_test_score': array([0.        , 0.        , 0.2173913 , 0.57777778, 0.32142857,\n",
      "       0.66666667]), 'split7_test_score': array([0.        , 0.        , 0.08695652, 0.68085106, 0.0754717 ,\n",
      "       0.68085106]), 'split8_test_score': array([0.        , 0.        , 0.13636364, 0.59090909, 0.25454545,\n",
      "       0.56521739]), 'split9_test_score': array([0.        , 0.        , 0.05882353, 0.61904762, 0.18181818,\n",
      "       0.66666667]), 'mean_test_score': array([0.        , 0.        , 0.12480198, 0.57160824, 0.20069822,\n",
      "       0.60864874]), 'std_test_score': array([0.        , 0.        , 0.05280328, 0.07138476, 0.08465786,\n",
      "       0.06284501]), 'rank_test_score': array([5, 5, 4, 2, 3, 1], dtype=int32)}\n"
     ]
    }
   ],
   "source": [
    "#vamos olhar para todos os resultados encontrados!\n",
    "print('Resumo de todos os resultados encontrados:\\n\\n', grid_cv.cv_results_)\n"
   ]
  },
  {
   "cell_type": "code",
   "execution_count": 47,
   "metadata": {
    "colab": {
     "base_uri": "https://localhost:8080/"
    },
    "id": "kcNqg-P8VTRm",
    "outputId": "3b4f0641-19ef-4afd-825b-14c27399846f"
   },
   "outputs": [
    {
     "name": "stdout",
     "output_type": "stream",
     "text": [
      "Melhor resultado f1: 0.6086487385278134\n",
      "\n",
      "\n",
      "Melhor configuração de hiperparâmetros: {'C': 10, 'kernel': 'rbf'}\n",
      "\n",
      "\n",
      "Configurações de todos os hiperparâmetros do melhor estimado encontrado pelo GridSearch: \n",
      " SVC(C=10, break_ties=False, cache_size=200, class_weight=None, coef0=0.0,\n",
      "    decision_function_shape='ovr', degree=3, gamma='scale', kernel='rbf',\n",
      "    max_iter=-1, probability=False, random_state=None, shrinking=True,\n",
      "    tol=0.001, verbose=False)\n"
     ]
    }
   ],
   "source": [
    "#vamos olhar para os melhores resultados encontrados pelo Grid Search\n",
    "print('Melhor resultado f1:', grid_cv.best_score_)\n",
    "print('\\n\\nMelhor configuração de hiperparâmetros:', grid_cv.best_params_)\n",
    "\n",
    "print( '\\n\\nConfigurações de todos os hiperparâmetros do melhor estimado encontrado pelo GridSearch: \\n', grid_cv.best_estimator_)"
   ]
  },
  {
   "cell_type": "markdown",
   "metadata": {
    "id": "sKPHz1P2oIGi"
   },
   "source": [
    "**Vamos agora repetir o processo para o Random Forest**\n"
   ]
  },
  {
   "cell_type": "code",
   "execution_count": 48,
   "metadata": {
    "colab": {
     "base_uri": "https://localhost:8080/"
    },
    "id": "iY7-CyXAnDqZ",
    "outputId": "54d191e6-2001-4f84-cf31-03ce06d8bc1c"
   },
   "outputs": [
    {
     "data": {
      "text/plain": [
       "GridSearchCV(cv=StratifiedKFold(n_splits=10, random_state=None, shuffle=False),\n",
       "             error_score=nan,\n",
       "             estimator=RandomForestClassifier(bootstrap=True, ccp_alpha=0.0,\n",
       "                                              class_weight=None,\n",
       "                                              criterion='gini', max_depth=None,\n",
       "                                              max_features='auto',\n",
       "                                              max_leaf_nodes=None,\n",
       "                                              max_samples=None,\n",
       "                                              min_impurity_decrease=0.0,\n",
       "                                              min_impurity_split=None,\n",
       "                                              min_samples_leaf=1,\n",
       "                                              min_samples_split=2,\n",
       "                                              min_weight_fraction_leaf=0.0,\n",
       "                                              n_estimators=100, n_jobs=None,\n",
       "                                              oob_score=False,\n",
       "                                              random_state=None, verbose=0,\n",
       "                                              warm_start=False),\n",
       "             iid='deprecated', n_jobs=None,\n",
       "             param_grid={'bootstrap': (True, False),\n",
       "                         'n_estimators': [10, 100, 1000]},\n",
       "             pre_dispatch='2*n_jobs', refit=True, return_train_score=False,\n",
       "             scoring=make_scorer(f1_score), verbose=0)"
      ]
     },
     "execution_count": 48,
     "metadata": {
      "tags": []
     },
     "output_type": "execute_result"
    }
   ],
   "source": [
    "#definindo hiperparâmetros\n",
    "#hiperparam1 = {'n_estimators':[10, 100, 1000]}\n",
    "hiperparam1 = {'n_estimators':[10, 100, 1000], 'bootstrap': (True, False)}\n",
    "#hiperparam1 = {'n_estimators':[10, 100, 1000], 'bootstrap': (True, False), 'criterion': ('gini', 'entropy')}\n",
    "\n",
    "#instânciando meu classificador\n",
    "classifier1 = RandomForestClassifier()\n",
    "\n",
    "#instanciando e modelando o grid search com os hiperparametros e a validação definidas.\n",
    "grid_cv1 = GridSearchCV(classifier1, hiperparam1, cv = cv_strat, scoring = f1)\n",
    "grid_cv1.fit(data, labels)"
   ]
  },
  {
   "cell_type": "code",
   "execution_count": 49,
   "metadata": {
    "colab": {
     "base_uri": "https://localhost:8080/"
    },
    "id": "rC4zChqenEs_",
    "outputId": "3be94668-161c-4b65-885a-b9de83a040b8"
   },
   "outputs": [
    {
     "name": "stdout",
     "output_type": "stream",
     "text": [
      "Resumo de todos os resultados encontrados:\n",
      "\n",
      " {'mean_fit_time': array([0.02010889, 0.28177102, 2.05144868, 0.01939807, 0.18082061,\n",
      "       1.81365607]), 'std_fit_time': array([0.00310582, 0.00832128, 0.43309138, 0.00106914, 0.00259734,\n",
      "       0.01802703]), 'mean_score_time': array([0.00220714, 0.01389036, 0.09950626, 0.00237498, 0.00965118,\n",
      "       0.0883755 ]), 'std_score_time': array([0.00026491, 0.0005911 , 0.02620154, 0.00040668, 0.00035594,\n",
      "       0.016277  ]), 'param_bootstrap': masked_array(data=[True, True, True, False, False, False],\n",
      "             mask=[False, False, False, False, False, False],\n",
      "       fill_value='?',\n",
      "            dtype=object), 'param_n_estimators': masked_array(data=[10, 100, 1000, 10, 100, 1000],\n",
      "             mask=[False, False, False, False, False, False],\n",
      "       fill_value='?',\n",
      "            dtype=object), 'params': [{'bootstrap': True, 'n_estimators': 10}, {'bootstrap': True, 'n_estimators': 100}, {'bootstrap': True, 'n_estimators': 1000}, {'bootstrap': False, 'n_estimators': 10}, {'bootstrap': False, 'n_estimators': 100}, {'bootstrap': False, 'n_estimators': 1000}], 'split0_test_score': array([0.58181818, 0.58181818, 0.64285714, 0.50980392, 0.57142857,\n",
      "       0.63157895]), 'split1_test_score': array([0.55813953, 0.65217391, 0.63829787, 0.625     , 0.64      ,\n",
      "       0.65306122]), 'split2_test_score': array([0.58823529, 0.62745098, 0.6122449 , 0.6122449 , 0.62962963,\n",
      "       0.57692308]), 'split3_test_score': array([0.60714286, 0.53846154, 0.54545455, 0.50980392, 0.51851852,\n",
      "       0.54545455]), 'split4_test_score': array([0.41025641, 0.47619048, 0.52380952, 0.47619048, 0.57777778,\n",
      "       0.48780488]), 'split5_test_score': array([0.68085106, 0.66666667, 0.74509804, 0.65306122, 0.69230769,\n",
      "       0.69230769]), 'split6_test_score': array([0.60465116, 0.70833333, 0.70833333, 0.68085106, 0.71111111,\n",
      "       0.68085106]), 'split7_test_score': array([0.68      , 0.74509804, 0.76      , 0.66666667, 0.78431373,\n",
      "       0.76      ]), 'split8_test_score': array([0.42857143, 0.53333333, 0.53333333, 0.5       , 0.53061224,\n",
      "       0.52173913]), 'split9_test_score': array([0.62222222, 0.72340426, 0.73469388, 0.625     , 0.69387755,\n",
      "       0.75      ]), 'mean_test_score': array([0.57618882, 0.62529307, 0.64441226, 0.58586222, 0.63495768,\n",
      "       0.62997206]), 'std_test_score': array([0.08685927, 0.08569229, 0.08572371, 0.07402531, 0.08165323,\n",
      "       0.08955855]), 'rank_test_score': array([6, 4, 1, 5, 2, 3], dtype=int32)}\n"
     ]
    }
   ],
   "source": [
    "#vamos olhar para todos os resultados encontrados!\n",
    "print('Resumo de todos os resultados encontrados:\\n\\n', grid_cv1.cv_results_)\n"
   ]
  },
  {
   "cell_type": "code",
   "execution_count": 52,
   "metadata": {
    "colab": {
     "base_uri": "https://localhost:8080/"
    },
    "id": "Y-WBpC1anEEG",
    "outputId": "d88f714e-c8ae-4695-9957-20799c27bd0d"
   },
   "outputs": [
    {
     "name": "stdout",
     "output_type": "stream",
     "text": [
      "CPU times: user 4 µs, sys: 0 ns, total: 4 µs\n",
      "Wall time: 6.91 µs\n",
      "\n",
      "Melhor resultado f1: 0.6444122565854195\n",
      "\n",
      "\n",
      "Melhor configuração de hiperparâmetros: {'bootstrap': True, 'n_estimators': 1000}\n",
      "\n",
      "\n",
      "Configurações de todos os hiperparâmetros do melhor estimado encontrado pelo GridSearch: \n",
      " RandomForestClassifier(bootstrap=True, ccp_alpha=0.0, class_weight=None,\n",
      "                       criterion='gini', max_depth=None, max_features='auto',\n",
      "                       max_leaf_nodes=None, max_samples=None,\n",
      "                       min_impurity_decrease=0.0, min_impurity_split=None,\n",
      "                       min_samples_leaf=1, min_samples_split=2,\n",
      "                       min_weight_fraction_leaf=0.0, n_estimators=1000,\n",
      "                       n_jobs=None, oob_score=False, random_state=None,\n",
      "                       verbose=0, warm_start=False)\n"
     ]
    }
   ],
   "source": [
    "%time  ##### eduardo\n",
    "#vamos olhar para os melhores resultados encontrados pelo Grid Search\n",
    "print('\\nMelhor resultado f1:', grid_cv1.best_score_)\n",
    "print('\\n\\nMelhor configuração de hiperparâmetros:', grid_cv1.best_params_)\n",
    "print( '\\n\\nConfigurações de todos os hiperparâmetros do melhor estimado encontrado pelo GridSearch: \\n', grid_cv1.best_estimator_)"
   ]
  },
  {
   "cell_type": "markdown",
   "metadata": {
    "id": "YVMIv32NtbXZ"
   },
   "source": [
    "## Random Search"
   ]
  },
  {
   "cell_type": "code",
   "execution_count": 54,
   "metadata": {
    "id": "U2n-atBAVTub"
   },
   "outputs": [],
   "source": [
    "from sklearn.model_selection import RandomizedSearchCV\n",
    "from scipy.stats import uniform ################################## para distribuição uniforme\n"
   ]
  },
  {
   "cell_type": "code",
   "execution_count": 55,
   "metadata": {
    "colab": {
     "base_uri": "https://localhost:8080/"
    },
    "id": "wC4RaD7gVUTb",
    "outputId": "aae00f74-7bd0-4065-8bd0-7d5ce72fb9c3"
   },
   "outputs": [
    {
     "data": {
      "text/plain": [
       "RandomizedSearchCV(cv=StratifiedKFold(n_splits=10, random_state=None, shuffle=False),\n",
       "                   error_score=nan,\n",
       "                   estimator=SVC(C=1.0, break_ties=False, cache_size=200,\n",
       "                                 class_weight=None, coef0=0.0,\n",
       "                                 decision_function_shape='ovr', degree=3,\n",
       "                                 gamma='scale', kernel='rbf', max_iter=-1,\n",
       "                                 probability=False, random_state=None,\n",
       "                                 shrinking=True, tol=0.001, verbose=False),\n",
       "                   iid='deprecated', n_iter=10, n_jobs=None,\n",
       "                   param_distributions={'C': <scipy.stats._distn_infrastructure.rv_frozen object at 0x7f8d9f686588>,\n",
       "                                        'kernel': ['sigmoid', 'rbf']},\n",
       "                   pre_dispatch='2*n_jobs', random_state=42, refit=True,\n",
       "                   return_train_score=False, scoring=make_scorer(f1_score),\n",
       "                   verbose=0)"
      ]
     },
     "execution_count": 55,
     "metadata": {
      "tags": []
     },
     "output_type": "execute_result"
    }
   ],
   "source": [
    "#definindo o tipo de validacao cruzada e o numero de folds\n",
    "cv_strat = StratifiedKFold(n_splits = 10)\n",
    "\n",
    "#definindo a estrategia de score a partir da metrica f1\n",
    "f1 = make_scorer(f1_score)\n",
    "\n",
    "#definindo hiperparâmetros\n",
    "distributions = dict(kernel = ['sigmoid', 'rbf'], \n",
    "                     C = uniform(loc=0, scale=10))  #####intervalo conínuo de zero a dez\n",
    "\n",
    "#instânciando meu classificador\n",
    "classifier = SVC()\n",
    "\n",
    "#instanciando e modelando o grid search com os hiperparametros e a validação definidas.\n",
    "random_cv = RandomizedSearchCV(classifier, distributions, cv = cv_strat, scoring = f1, random_state = 42, n_iter = 10)  ### nro de iterações\n",
    "random_cv.fit(data, labels)"
   ]
  },
  {
   "cell_type": "code",
   "execution_count": 56,
   "metadata": {
    "colab": {
     "base_uri": "https://localhost:8080/"
    },
    "id": "HgRLiFq5VUCP",
    "outputId": "78159ef1-485b-4732-9238-e177f8a9dde3"
   },
   "outputs": [
    {
     "name": "stdout",
     "output_type": "stream",
     "text": [
      "Resumo de todos os resultados encontrados:\n",
      "\n",
      " {'mean_fit_time': array([0.01824765, 0.0135335 , 0.01727521, 0.01858144, 0.01452243,\n",
      "       0.0137574 , 0.01455152, 0.01385236, 0.01459699, 0.01510668]), 'std_fit_time': array([0.0015171 , 0.00021569, 0.0002272 , 0.0022733 , 0.00117714,\n",
      "       0.00034779, 0.00023584, 0.00013811, 0.00033109, 0.00025499]), 'mean_score_time': array([0.0028321 , 0.00208652, 0.00263224, 0.00300961, 0.00224402,\n",
      "       0.00210006, 0.00204482, 0.00215063, 0.00203605, 0.00230842]), 'std_score_time': array([1.69590909e-04, 4.83618733e-05, 2.47198104e-05, 6.03530474e-04,\n",
      "       2.63673475e-04, 6.74047779e-05, 2.55297653e-05, 2.90027553e-05,\n",
      "       4.00466287e-05, 2.81937001e-05]), 'param_C': masked_array(data=[3.745401188473625, 1.834347898661638,\n",
      "                   5.986584841970366, 4.458327528535912,\n",
      "                   0.5808361216819946, 3.337086111390218,\n",
      "                   7.080725777960454, 0.5641157902710026,\n",
      "                   8.324426408004218, 0.007787658410143283],\n",
      "             mask=[False, False, False, False, False, False, False, False,\n",
      "                   False, False],\n",
      "       fill_value='?',\n",
      "            dtype=object), 'param_kernel': masked_array(data=['sigmoid', 'rbf', 'sigmoid', 'sigmoid', 'rbf', 'rbf',\n",
      "                   'rbf', 'rbf', 'rbf', 'rbf'],\n",
      "             mask=[False, False, False, False, False, False, False, False,\n",
      "                   False, False],\n",
      "       fill_value='?',\n",
      "            dtype=object), 'params': [{'C': 3.745401188473625, 'kernel': 'sigmoid'}, {'C': 1.834347898661638, 'kernel': 'rbf'}, {'C': 5.986584841970366, 'kernel': 'sigmoid'}, {'C': 4.458327528535912, 'kernel': 'sigmoid'}, {'C': 0.5808361216819946, 'kernel': 'rbf'}, {'C': 3.337086111390218, 'kernel': 'rbf'}, {'C': 7.080725777960454, 'kernel': 'rbf'}, {'C': 0.5641157902710026, 'kernel': 'rbf'}, {'C': 8.324426408004218, 'kernel': 'rbf'}, {'C': 0.007787658410143283, 'kernel': 'rbf'}], 'split0_test_score': array([0.13636364, 0.59574468, 0.17777778, 0.17777778, 0.59090909,\n",
      "       0.56      , 0.58823529, 0.60465116, 0.58823529, 0.        ]), 'split1_test_score': array([0.26415094, 0.51282051, 0.29090909, 0.26415094, 0.42105263,\n",
      "       0.55      , 0.57142857, 0.42105263, 0.60465116, 0.        ]), 'split2_test_score': array([0.11538462, 0.58333333, 0.11320755, 0.11538462, 0.54166667,\n",
      "       0.59574468, 0.57142857, 0.54166667, 0.57142857, 0.        ]), 'split3_test_score': array([0.28571429, 0.58823529, 0.28571429, 0.28571429, 0.47826087,\n",
      "       0.6       , 0.58823529, 0.47826087, 0.58823529, 0.        ]), 'split4_test_score': array([0.14035088, 0.43243243, 0.16949153, 0.13793103, 0.46153846,\n",
      "       0.43243243, 0.47368421, 0.46153846, 0.47368421, 0.        ]), 'split5_test_score': array([0.11764706, 0.72340426, 0.11320755, 0.11764706, 0.65116279,\n",
      "       0.72340426, 0.70833333, 0.65116279, 0.70833333, 0.        ]), 'split6_test_score': array([0.32142857, 0.63829787, 0.32142857, 0.32142857, 0.60869565,\n",
      "       0.63829787, 0.63829787, 0.60869565, 0.63829787, 0.        ]), 'split7_test_score': array([0.08      , 0.68085106, 0.07692308, 0.07692308, 0.62222222,\n",
      "       0.68085106, 0.68085106, 0.62222222, 0.68085106, 0.        ]), 'split8_test_score': array([0.19607843, 0.59090909, 0.25925926, 0.25925926, 0.59090909,\n",
      "       0.57777778, 0.57777778, 0.59090909, 0.54545455, 0.        ]), 'split9_test_score': array([0.18181818, 0.63636364, 0.18181818, 0.18181818, 0.61904762,\n",
      "       0.63636364, 0.66666667, 0.61904762, 0.66666667, 0.        ]), 'mean_test_score': array([0.18389366, 0.59823922, 0.19897369, 0.19380348, 0.55854651,\n",
      "       0.59948717, 0.60649387, 0.55992072, 0.6065838 , 0.        ]), 'std_test_score': array([0.0774005 , 0.0779228 , 0.08113346, 0.07943647, 0.07479853,\n",
      "       0.07565893, 0.06490104, 0.07550339, 0.06617883, 0.        ]), 'rank_test_score': array([ 9,  4,  7,  8,  6,  3,  2,  5,  1, 10], dtype=int32)}\n"
     ]
    }
   ],
   "source": [
    "#vamos olhar para todos os resultados encontrados!\n",
    "print('Resumo de todos os resultados encontrados:\\n\\n', random_cv.cv_results_)"
   ]
  },
  {
   "cell_type": "code",
   "execution_count": 58,
   "metadata": {
    "colab": {
     "base_uri": "https://localhost:8080/"
    },
    "id": "Vvq83iuPVTil",
    "outputId": "d4d2d00f-9132-4a08-a0ba-6e1baffd1036"
   },
   "outputs": [
    {
     "name": "stdout",
     "output_type": "stream",
     "text": [
      "Melhor resultado f1: 0.6065838014605637\n",
      "\n",
      "\n",
      "Melhor configuração de hiperparâmetros: {'C': 8.324426408004218, 'kernel': 'rbf'}\n",
      "\n",
      "\n",
      "Configurações de todos os hiperparâmetros do melhor estimado encontrado pelo GridSearch: \n",
      " SVC(C=8.324426408004218, break_ties=False, cache_size=200, class_weight=None,\n",
      "    coef0=0.0, decision_function_shape='ovr', degree=3, gamma='scale',\n",
      "    kernel='rbf', max_iter=-1, probability=False, random_state=None,\n",
      "    shrinking=True, tol=0.001, verbose=False)\n"
     ]
    }
   ],
   "source": [
    "#vamos olhar para os melhores resultados encontrados pelo Grid Search\n",
    "print('Melhor resultado f1:', random_cv.best_score_)\n",
    "print('\\n\\nMelhor configuração de hiperparâmetros:', random_cv.best_params_)\n",
    "print( '\\n\\nConfigurações de todos os hiperparâmetros do melhor estimado encontrado pelo GridSearch: \\n', random_cv.best_estimator_)"
   ]
  },
  {
   "cell_type": "markdown",
   "metadata": {
    "id": "4lfIZeeOtO4m"
   },
   "source": [
    "Vamos testar agora o mesmo processo para o RF"
   ]
  },
  {
   "cell_type": "code",
   "execution_count": 61,
   "metadata": {
    "id": "3PSNjbi72daK"
   },
   "outputs": [],
   "source": [
    "from scipy.stats import randint"
   ]
  },
  {
   "cell_type": "code",
   "execution_count": 62,
   "metadata": {
    "colab": {
     "base_uri": "https://localhost:8080/"
    },
    "id": "xOWsq5JxtNZp",
    "outputId": "6c7923ae-980f-4d46-b195-9f12e82f3e04"
   },
   "outputs": [
    {
     "name": "stdout",
     "output_type": "stream",
     "text": [
      "CPU times: user 4 µs, sys: 0 ns, total: 4 µs\n",
      "Wall time: 7.39 µs\n"
     ]
    },
    {
     "data": {
      "text/plain": [
       "RandomizedSearchCV(cv=StratifiedKFold(n_splits=10, random_state=None, shuffle=False),\n",
       "                   error_score=nan,\n",
       "                   estimator=RandomForestClassifier(bootstrap=True,\n",
       "                                                    ccp_alpha=0.0,\n",
       "                                                    class_weight=None,\n",
       "                                                    criterion='gini',\n",
       "                                                    max_depth=None,\n",
       "                                                    max_features='auto',\n",
       "                                                    max_leaf_nodes=None,\n",
       "                                                    max_samples=None,\n",
       "                                                    min_impurity_decrease=0.0,\n",
       "                                                    min_impurity_split=None,\n",
       "                                                    min_samples_leaf=1,\n",
       "                                                    min_samples_s...\n",
       "                                                    random_state=42, verbose=0,\n",
       "                                                    warm_start=False),\n",
       "                   iid='deprecated', n_iter=10, n_jobs=None,\n",
       "                   param_distributions={'bootstrap': [True, False],\n",
       "                                        'criterion': ['gini', 'entropy'],\n",
       "                                        'n_estimators': <scipy.stats._distn_infrastructure.rv_frozen object at 0x7f8d95a84668>},\n",
       "                   pre_dispatch='2*n_jobs', random_state=42, refit=True,\n",
       "                   return_train_score=False, scoring=make_scorer(f1_score),\n",
       "                   verbose=0)"
      ]
     },
     "execution_count": 62,
     "metadata": {
      "tags": []
     },
     "output_type": "execute_result"
    }
   ],
   "source": [
    "%time\n",
    "#definindo o tipo de validacao cruzada e o numero de folds\n",
    "cv_strat = StratifiedKFold(n_splits = 10)\n",
    "\n",
    "#definindo a estrategia de score a partir da metrica f1\n",
    "f1 = make_scorer(f1_score)\n",
    "\n",
    "#definindo hiperparâmetros\n",
    "distributions1 = dict(n_estimators = randint(10, 100),\n",
    "                      bootstrap = [True, False],\n",
    "                      criterion = ['gini', 'entropy'])\n",
    "\n",
    "#instânciando meu classificador\n",
    "classifier1 = RandomForestClassifier(random_state = 42)\n",
    "\n",
    "#instanciando e modelando o grid search com os hiperparametros e a validação definidas.\n",
    "random_cv1 = RandomizedSearchCV(classifier1, distributions1, cv = cv_strat, scoring = f1, random_state = 42, n_iter = 10)\n",
    "random_cv1.fit(data, labels)"
   ]
  },
  {
   "cell_type": "code",
   "execution_count": 63,
   "metadata": {
    "colab": {
     "base_uri": "https://localhost:8080/"
    },
    "id": "XesO-gRitOHo",
    "outputId": "4297cd6c-8b8d-4fbf-bbcd-b6a4686d91d2"
   },
   "outputs": [
    {
     "name": "stdout",
     "output_type": "stream",
     "text": [
      "Resumo de todos os resultados encontrados:\n",
      "\n",
      " {'mean_fit_time': array([0.05658958, 0.15902846, 0.17953095, 0.15864775, 0.06245916,\n",
      "       0.13940833, 0.09631615, 0.1778564 , 0.07681668, 0.07743008]), 'std_fit_time': array([0.00370772, 0.0041862 , 0.02648024, 0.00467729, 0.00163934,\n",
      "       0.0044873 , 0.00223586, 0.00384915, 0.00182791, 0.00231582]), 'mean_score_time': array([0.0033226 , 0.00697589, 0.00875349, 0.00808926, 0.00428486,\n",
      "       0.00679512, 0.00458465, 0.0075105 , 0.004795  , 0.00397034]), 'std_score_time': array([1.62452898e-04, 1.64007827e-04, 3.56785399e-04, 9.21143255e-05,\n",
      "       3.06792225e-04, 1.35107824e-03, 7.06172488e-05, 3.23188235e-04,\n",
      "       1.13865681e-04, 1.27725477e-04]), 'param_bootstrap': masked_array(data=[True, True, True, True, False, True, False, False,\n",
      "                   False, False],\n",
      "             mask=[False, False, False, False, False, False, False, False,\n",
      "                   False, False],\n",
      "       fill_value='?',\n",
      "            dtype=object), 'param_criterion': masked_array(data=['entropy', 'entropy', 'gini', 'gini', 'gini',\n",
      "                   'entropy', 'entropy', 'entropy', 'gini', 'entropy'],\n",
      "             mask=[False, False, False, False, False, False, False, False,\n",
      "                   False, False],\n",
      "       fill_value='?',\n",
      "            dtype=object), 'param_n_estimators': masked_array(data=[24, 70, 92, 84, 33, 62, 39, 73, 42, 31],\n",
      "             mask=[False, False, False, False, False, False, False, False,\n",
      "                   False, False],\n",
      "       fill_value='?',\n",
      "            dtype=object), 'params': [{'bootstrap': True, 'criterion': 'entropy', 'n_estimators': 24}, {'bootstrap': True, 'criterion': 'entropy', 'n_estimators': 70}, {'bootstrap': True, 'criterion': 'gini', 'n_estimators': 92}, {'bootstrap': True, 'criterion': 'gini', 'n_estimators': 84}, {'bootstrap': False, 'criterion': 'gini', 'n_estimators': 33}, {'bootstrap': True, 'criterion': 'entropy', 'n_estimators': 62}, {'bootstrap': False, 'criterion': 'entropy', 'n_estimators': 39}, {'bootstrap': False, 'criterion': 'entropy', 'n_estimators': 73}, {'bootstrap': False, 'criterion': 'gini', 'n_estimators': 42}, {'bootstrap': False, 'criterion': 'entropy', 'n_estimators': 31}], 'split0_test_score': array([0.61818182, 0.58181818, 0.57142857, 0.57142857, 0.61016949,\n",
      "       0.59259259, 0.5862069 , 0.57142857, 0.62068966, 0.59649123]), 'split1_test_score': array([0.63636364, 0.62222222, 0.68181818, 0.66666667, 0.65306122,\n",
      "       0.63829787, 0.69387755, 0.68      , 0.625     , 0.72340426]), 'split2_test_score': array([0.62962963, 0.64      , 0.58823529, 0.58823529, 0.65454545,\n",
      "       0.66666667, 0.5862069 , 0.58181818, 0.60377358, 0.62068966]), 'split3_test_score': array([0.56603774, 0.53571429, 0.53571429, 0.54545455, 0.49056604,\n",
      "       0.54545455, 0.53571429, 0.56603774, 0.50909091, 0.52631579]), 'split4_test_score': array([0.47619048, 0.52380952, 0.52380952, 0.51162791, 0.63636364,\n",
      "       0.52380952, 0.42857143, 0.52380952, 0.61904762, 0.42857143]), 'split5_test_score': array([0.5       , 0.66666667, 0.74509804, 0.76      , 0.66666667,\n",
      "       0.66666667, 0.70833333, 0.69387755, 0.68      , 0.72      ]), 'split6_test_score': array([0.625     , 0.65306122, 0.65217391, 0.65217391, 0.70833333,\n",
      "       0.625     , 0.72340426, 0.65217391, 0.70833333, 0.72340426]), 'split7_test_score': array([0.76923077, 0.76      , 0.76      , 0.76      , 0.74509804,\n",
      "       0.76      , 0.76      , 0.74509804, 0.79166667, 0.76      ]), 'split8_test_score': array([0.58333333, 0.55319149, 0.52173913, 0.52173913, 0.52      ,\n",
      "       0.55319149, 0.43478261, 0.45833333, 0.56      , 0.43478261]), 'split9_test_score': array([0.625     , 0.66666667, 0.68      , 0.68      , 0.61904762,\n",
      "       0.625     , 0.68085106, 0.68085106, 0.61904762, 0.65217391]), 'mean_test_score': array([0.60289674, 0.62031503, 0.62600169, 0.6257326 , 0.63038515,\n",
      "       0.61966794, 0.61379483, 0.61534279, 0.63366494, 0.61858331]), 'std_test_score': array([0.0768739 , 0.06908724, 0.08527956, 0.08718327, 0.07345506,\n",
      "       0.06660589, 0.11278711, 0.08446668, 0.07429423, 0.11501314]), 'rank_test_score': array([10,  5,  3,  4,  2,  6,  9,  8,  1,  7], dtype=int32)}\n"
     ]
    }
   ],
   "source": [
    "#vamos olhar para todos os resultados encontrados!\n",
    "print('Resumo de todos os resultados encontrados:\\n\\n', random_cv1.cv_results_)"
   ]
  },
  {
   "cell_type": "code",
   "execution_count": 64,
   "metadata": {
    "colab": {
     "base_uri": "https://localhost:8080/"
    },
    "id": "yMSdPhahtN6c",
    "outputId": "012abc21-77a2-4d8d-c0c4-032d4a1cadac"
   },
   "outputs": [
    {
     "name": "stdout",
     "output_type": "stream",
     "text": [
      "Melhor resultado f1: 0.6336649387264222\n",
      "\n",
      "\n",
      "Melhor configuração de hiperparâmetros: {'bootstrap': False, 'criterion': 'gini', 'n_estimators': 42}\n",
      "\n",
      "\n",
      "Configurações de todos os hiperparâmetros do melhor estimado encontrado pelo GridSearch: \n",
      " RandomForestClassifier(bootstrap=False, ccp_alpha=0.0, class_weight=None,\n",
      "                       criterion='gini', max_depth=None, max_features='auto',\n",
      "                       max_leaf_nodes=None, max_samples=None,\n",
      "                       min_impurity_decrease=0.0, min_impurity_split=None,\n",
      "                       min_samples_leaf=1, min_samples_split=2,\n",
      "                       min_weight_fraction_leaf=0.0, n_estimators=42,\n",
      "                       n_jobs=None, oob_score=False, random_state=42, verbose=0,\n",
      "                       warm_start=False)\n"
     ]
    }
   ],
   "source": [
    "#vamos olhar para os melhores resultados encontrados pelo Grid Search\n",
    "print('Melhor resultado f1:', random_cv1.best_score_)\n",
    "print('\\n\\nMelhor configuração de hiperparâmetros:', random_cv1.best_params_)\n",
    "print( '\\n\\nConfigurações de todos os hiperparâmetros do melhor estimado encontrado pelo GridSearch: \\n', random_cv1.best_estimator_)"
   ]
  },
  {
   "cell_type": "markdown",
   "metadata": {
    "id": "Sflk-zE29Vwf"
   },
   "source": [
    "O Processo de parametrização de um modelo nem sempre é simples. \n",
    "\n",
    "Existem alguns métodos que podem nos ajudar a suavizar o custo da otimização.\n",
    "\n",
    "Entretanto, é preciso saber quais os hiperperâmetros mais interessantes para calibrar e qual a faixa de valores que faz mais sentido. \n",
    "\n",
    "Nesse hands-on falamos de Grid e Random Search. A escolha do método fica por sua conta. \n",
    "É preciso pensar com cuidado e avaliar as soluções encontradas pelos métodos. "
   ]
  },
  {
   "cell_type": "markdown",
   "metadata": {
    "id": "9Yvn2Ui9fDyK"
   },
   "source": []
  }
 ],
 "metadata": {
  "colab": {
   "collapsed_sections": [],
   "name": "IGTI_PROF_Hands_on_Sintonia_Hiperparametros.ipynb",
   "provenance": []
  },
  "kernelspec": {
   "display_name": "Python 3",
   "language": "python",
   "name": "python3"
  },
  "language_info": {
   "codemirror_mode": {
    "name": "ipython",
    "version": 3
   },
   "file_extension": ".py",
   "mimetype": "text/x-python",
   "name": "python",
   "nbconvert_exporter": "python",
   "pygments_lexer": "ipython3",
   "version": "3.8.5"
  }
 },
 "nbformat": 4,
 "nbformat_minor": 4
}
