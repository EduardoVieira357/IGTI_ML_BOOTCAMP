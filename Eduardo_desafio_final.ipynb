{
  "nbformat": 4,
  "nbformat_minor": 0,
  "metadata": {
    "colab": {
      "name": "desafio_final.ipynb",
      "provenance": [],
      "collapsed_sections": []
    },
    "kernelspec": {
      "display_name": "Python 3",
      "name": "python3"
    }
  },
  "cells": [
    {
      "cell_type": "markdown",
      "metadata": {
        "id": "HKyyNqSU5LBa"
      },
      "source": [
        "# Desafio Final"
      ]
    },
    {
      "cell_type": "markdown",
      "metadata": {
        "id": "sDjq6U3C5O6o"
      },
      "source": [
        "## Atividades (Enunciado)"
      ]
    },
    {
      "cell_type": "markdown",
      "metadata": {
        "id": "AAeA-J0v5Ujy"
      },
      "source": [
        "### 1. Acessar o link abaixo e realizar o download do arquivo “cars.csv”.\n",
        "\n",
        "Fonte: https://drive.google.com/drive/folders/1nb7AcncQvt-OmGiTIe7TepBaaZn30ZXN?usp=sharing"
      ]
    },
    {
      "cell_type": "code",
      "metadata": {
        "id": "kJEdr53Z2Omn",
        "outputId": "20cb32c9-c696-4258-b658-e57a3d954364",
        "colab": {
          "resources": {
            "http://localhost:8080/nbextensions/google.colab/files.js": {
              "data": "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",
              "ok": true,
              "headers": [
                [
                  "content-type",
                  "application/javascript"
                ]
              ],
              "status": 200,
              "status_text": ""
            }
          },
          "base_uri": "https://localhost:8080/",
          "height": 72
        }
      },
      "source": [
        "from google.colab import files\n",
        "uploaded = files.upload()"
      ],
      "execution_count": null,
      "outputs": [
        {
          "output_type": "display_data",
          "data": {
            "text/html": [
              "\n",
              "     <input type=\"file\" id=\"files-b406388c-26b4-463b-a011-012d8f68e4e9\" name=\"files[]\" multiple disabled\n",
              "        style=\"border:none\" />\n",
              "     <output id=\"result-b406388c-26b4-463b-a011-012d8f68e4e9\">\n",
              "      Upload widget is only available when the cell has been executed in the\n",
              "      current browser session. Please rerun this cell to enable.\n",
              "      </output>\n",
              "      <script src=\"/nbextensions/google.colab/files.js\"></script> "
            ],
            "text/plain": [
              "<IPython.core.display.HTML object>"
            ]
          },
          "metadata": {
            "tags": []
          }
        },
        {
          "output_type": "stream",
          "text": [
            "Saving cars.csv to cars.csv\n"
          ],
          "name": "stdout"
        }
      ]
    },
    {
      "cell_type": "code",
      "metadata": {
        "id": "4VyisaFb2x2n"
      },
      "source": [
        "import numpy as np\n",
        "import pandas as pd\n",
        "import matplotlib.pyplot as plt\n",
        "import seaborn as sns"
      ],
      "execution_count": null,
      "outputs": []
    },
    {
      "cell_type": "code",
      "metadata": {
        "id": "0zzGfDA-4IBJ",
        "outputId": "65861f40-28af-4bac-fb91-d793333f1783",
        "colab": {
          "base_uri": "https://localhost:8080/",
          "height": 204
        }
      },
      "source": [
        "df_carros = pd.read_csv('cars.csv')\n",
        "df_carros.head()"
      ],
      "execution_count": null,
      "outputs": [
        {
          "output_type": "execute_result",
          "data": {
            "text/html": [
              "<div>\n",
              "<style scoped>\n",
              "    .dataframe tbody tr th:only-of-type {\n",
              "        vertical-align: middle;\n",
              "    }\n",
              "\n",
              "    .dataframe tbody tr th {\n",
              "        vertical-align: top;\n",
              "    }\n",
              "\n",
              "    .dataframe thead th {\n",
              "        text-align: right;\n",
              "    }\n",
              "</style>\n",
              "<table border=\"1\" class=\"dataframe\">\n",
              "  <thead>\n",
              "    <tr style=\"text-align: right;\">\n",
              "      <th></th>\n",
              "      <th>mpg</th>\n",
              "      <th>cylinders</th>\n",
              "      <th>cubicinches</th>\n",
              "      <th>hp</th>\n",
              "      <th>weightlbs</th>\n",
              "      <th>time-to-60</th>\n",
              "      <th>year</th>\n",
              "      <th>brand</th>\n",
              "    </tr>\n",
              "  </thead>\n",
              "  <tbody>\n",
              "    <tr>\n",
              "      <th>0</th>\n",
              "      <td>14.0</td>\n",
              "      <td>8</td>\n",
              "      <td>350</td>\n",
              "      <td>165</td>\n",
              "      <td>4209</td>\n",
              "      <td>12</td>\n",
              "      <td>1972</td>\n",
              "      <td>US.</td>\n",
              "    </tr>\n",
              "    <tr>\n",
              "      <th>1</th>\n",
              "      <td>31.9</td>\n",
              "      <td>4</td>\n",
              "      <td>89</td>\n",
              "      <td>71</td>\n",
              "      <td>1925</td>\n",
              "      <td>14</td>\n",
              "      <td>1980</td>\n",
              "      <td>Europe.</td>\n",
              "    </tr>\n",
              "    <tr>\n",
              "      <th>2</th>\n",
              "      <td>17.0</td>\n",
              "      <td>8</td>\n",
              "      <td>302</td>\n",
              "      <td>140</td>\n",
              "      <td>3449</td>\n",
              "      <td>11</td>\n",
              "      <td>1971</td>\n",
              "      <td>US.</td>\n",
              "    </tr>\n",
              "    <tr>\n",
              "      <th>3</th>\n",
              "      <td>15.0</td>\n",
              "      <td>8</td>\n",
              "      <td>400</td>\n",
              "      <td>150</td>\n",
              "      <td>3761</td>\n",
              "      <td>10</td>\n",
              "      <td>1971</td>\n",
              "      <td>US.</td>\n",
              "    </tr>\n",
              "    <tr>\n",
              "      <th>4</th>\n",
              "      <td>30.5</td>\n",
              "      <td>4</td>\n",
              "      <td>98</td>\n",
              "      <td>63</td>\n",
              "      <td>2051</td>\n",
              "      <td>17</td>\n",
              "      <td>1978</td>\n",
              "      <td>US.</td>\n",
              "    </tr>\n",
              "  </tbody>\n",
              "</table>\n",
              "</div>"
            ],
            "text/plain": [
              "    mpg  cylinders cubicinches   hp weightlbs  time-to-60  year     brand\n",
              "0  14.0          8         350  165      4209          12  1972       US.\n",
              "1  31.9          4          89   71      1925          14  1980   Europe.\n",
              "2  17.0          8         302  140      3449          11  1971       US.\n",
              "3  15.0          8         400  150      3761          10  1971       US.\n",
              "4  30.5          4          98   63      2051          17  1978       US."
            ]
          },
          "metadata": {
            "tags": []
          },
          "execution_count": 3
        }
      ]
    },
    {
      "cell_type": "markdown",
      "metadata": {
        "id": "anntS0L_5mwR"
      },
      "source": [
        "### 3. Para as questões que envolvem a construção de modelos supervisionados, você deve utilizar o dataset original para definir a eficiência dos veículos. Além disso, deve utilizar as variáveis ['cylinders' ,'cubicinches' ,'hp' ,'weightlbs' ,'time-to-60'] como entrada. A saída deve ser a classificação de eficiência do veículo."
      ]
    },
    {
      "cell_type": "code",
      "metadata": {
        "id": "mCLGE_nG4N7e"
      },
      "source": [
        "entradas_arvore = np.array(df_carros[['cylinders' ,'cubicinches' ,'hp' ,'weightlbs' ,'time-to-60']])\n",
        "saidas_arvore = np.array(df_carros['mpg'])"
      ],
      "execution_count": null,
      "outputs": []
    },
    {
      "cell_type": "code",
      "metadata": {
        "id": "u6tLwPrAMCVC",
        "outputId": "5b1f799f-46a5-496f-e192-afcc87b698cf",
        "colab": {
          "base_uri": "https://localhost:8080/"
        }
      },
      "source": [
        "entradas_arvore"
      ],
      "execution_count": null,
      "outputs": [
        {
          "output_type": "execute_result",
          "data": {
            "text/plain": [
              "array([[8, '350', 165, '4209', 12],\n",
              "       [4, '89', 71, '1925', 14],\n",
              "       [8, '302', 140, '3449', 11],\n",
              "       ...,\n",
              "       [6, '232', 112, '2835', 15],\n",
              "       [6, '232', 100, '3288', 16],\n",
              "       [6, '250', 105, '3353', 15]], dtype=object)"
            ]
          },
          "metadata": {
            "tags": []
          },
          "execution_count": 5
        }
      ]
    },
    {
      "cell_type": "code",
      "metadata": {
        "id": "rS4-kFmYMFfl",
        "outputId": "64c4e054-4712-418f-97a6-10eb258c0861",
        "colab": {
          "base_uri": "https://localhost:8080/"
        }
      },
      "source": [
        "saidas_arvore"
      ],
      "execution_count": null,
      "outputs": [
        {
          "output_type": "execute_result",
          "data": {
            "text/plain": [
              "array([14. , 31.9, 17. , 15. , 30.5, 23. , 13. , 14. , 25.4, 37.7, 34. ,\n",
              "       34.3, 16. , 11. , 19.1, 16.9, 31.8, 16. , 24. , 24. , 37.2, 21.5,\n",
              "       24. , 15.5, 38.1, 33. , 31. , 14. , 18. , 29.9, 27. , 16. , 23. ,\n",
              "       21. , 30. , 22.4, 26. , 21.5, 16.5, 20.2, 16. , 14. , 18.5, 17.5,\n",
              "       14. , 31.6, 13. , 22. , 29. , 20.2, 13. , 27.2, 14. , 24. , 16.5,\n",
              "       16. , 19. , 33.5, 29. , 13. , 18. , 22. , 32.7, 46.6, 14. , 18.5,\n",
              "       26. , 32. , 29.5, 17.5, 20. , 27. , 28. , 24. , 29. , 38. , 22.5,\n",
              "       21.1, 26. , 32.4, 15.5, 12. , 19.2, 23. , 25. , 35. , 18. , 17.6,\n",
              "       28. , 31. , 34.1, 27.2, 13. , 17. , 26. , 17. , 12. , 18. , 18.2,\n",
              "       16. , 11. , 12. , 25. , 34.2, 32.2, 26.6, 43.4, 30. , 25. , 18. ,\n",
              "       20. , 18. , 16. , 33. , 37.3, 18. , 24.5, 21. , 34.4, 15. , 27. ,\n",
              "       26. , 16. , 23.2, 27. , 26.5, 13. , 30.9, 20. , 36.1, 26. , 28. ,\n",
              "       12. , 17. , 15. , 16. , 26. , 13. , 22. , 21. , 26.8, 29. , 32. ,\n",
              "       35.1, 19.2, 23. , 20.6, 27. , 15. , 18.1, 31.3, 27.5, 14. , 15. ,\n",
              "       28. , 19. , 18. , 29.5, 19. , 16.2, 24.3, 17.5, 18. , 23. , 23. ,\n",
              "       19.9, 16. , 26. , 20. , 38. , 32.4, 20.3, 29. , 31. , 21. , 26. ,\n",
              "       14. , 14. , 20.2, 31.5, 19.8, 33.8, 17.5, 18. , 34. , 20.8, 18. ,\n",
              "       13. , 14. , 13. , 25.8, 28.4, 13. , 15. , 14. , 41.5, 27.2, 43.1,\n",
              "       29. , 33.5, 26. , 23. , 23.9, 19. , 21. , 15. , 40.8, 18. , 13. ,\n",
              "       25.4, 22. , 17.7, 39.1, 30. , 22. , 32.9, 37. , 14.5, 28.8, 15. ,\n",
              "       17.5, 21.6, 14. , 16.5, 14. , 32. , 10. , 31. , 21. , 27. , 15. ,\n",
              "       28. , 23. , 16. , 20. , 44. , 14. , 20.2, 39. , 23. , 13. , 18. ,\n",
              "       16. , 25. , 14. , 15. , 19.4, 44.3, 28. , 29. , 32.1, 24. , 36.4,\n",
              "       13. , 23.5, 24. , 17. , 36.1, 22. , 18. , 22. ])"
            ]
          },
          "metadata": {
            "tags": []
          },
          "execution_count": 6
        }
      ]
    },
    {
      "cell_type": "markdown",
      "metadata": {
        "id": "N3EWDary5gf9"
      },
      "source": [
        "### 2. Para a implementação dos algoritmos, utilizear as definições abaixo:"
      ]
    },
    {
      "cell_type": "code",
      "metadata": {
        "id": "ltMNwiUd4vSn"
      },
      "source": [
        "from sklearn.preprocessing import StandardScaler\n",
        "from sklearn.decomposition import PCA\n",
        "from sklearn.cluster import KMeans\n",
        "from sklearn.model_selection import train_test_split\n",
        "from sklearn.tree import DecisionTreeClassifier\n",
        "from sklearn.linear_model import LogisticRegression"
      ],
      "execution_count": null,
      "outputs": []
    },
    {
      "cell_type": "code",
      "metadata": {
        "id": "2hKD-oJQ2qsK"
      },
      "source": [
        "normaliza = StandardScaler() #objeto para a normalização\n",
        "pca = PCA(n_components=7)\n",
        "kmeans = KMeans(n_clusters=3, random_state=42)\n",
        "train_test_split(entradas_arvore, saidas_arvore, test_size=0.30, random_state=42)\n",
        "arvore = DecisionTreeClassifier(random_state=42)\n",
        "regressao_logistica = LogisticRegression(random_state=42)"
      ],
      "execution_count": null,
      "outputs": []
    },
    {
      "cell_type": "markdown",
      "metadata": {
        "id": "xtf7gssj56ot"
      },
      "source": [
        "## Pergunta 1\n",
        "\n",
        "Após a utilização da biblioteca pandas para a leitura dos dados sobre os valores lidos, é CORRETO afirmar que:\n",
        "\n",
        "R: Não foram encontrados valores nulos após a leitura dos dados."
      ]
    },
    {
      "cell_type": "code",
      "metadata": {
        "id": "svJoGP2I36sy",
        "outputId": "951334e0-95d0-4266-d9ed-d3962c5ff2f3",
        "colab": {
          "base_uri": "https://localhost:8080/"
        }
      },
      "source": [
        "df_carros.isna().sum()"
      ],
      "execution_count": null,
      "outputs": [
        {
          "output_type": "execute_result",
          "data": {
            "text/plain": [
              "mpg            0\n",
              "cylinders      0\n",
              "cubicinches    0\n",
              "hp             0\n",
              "weightlbs      0\n",
              "time-to-60     0\n",
              "year           0\n",
              "brand          0\n",
              "dtype: int64"
            ]
          },
          "metadata": {
            "tags": []
          },
          "execution_count": 9
        }
      ]
    },
    {
      "cell_type": "markdown",
      "metadata": {
        "id": "lkj100zL6Ww8"
      },
      "source": [
        "## Pergunta 2\n",
        "\n",
        "Realize a transformação das colunas “cubicinches” e “weightlbs” do tipo “string” para o tipo numérico utilizando o pd.to_numeric(), utilizando o parâmetro  errors='coerce'. Após essa transformação, é CORRETO afirmar:\n",
        "\n",
        "R: Essa transformação adiciona valores nulos ao nosso dataset."
      ]
    },
    {
      "cell_type": "code",
      "metadata": {
        "id": "qx1yIBED6EVZ"
      },
      "source": [
        "df_convertido = df_carros.copy()"
      ],
      "execution_count": null,
      "outputs": []
    },
    {
      "cell_type": "code",
      "metadata": {
        "id": "1d9lWIru6gMU"
      },
      "source": [
        "df_convertido['cubicinches'] = pd.to_numeric(df_carros['cubicinches'], errors='coerce')\n",
        "df_convertido['weightlbs'] = pd.to_numeric(df_carros['weightlbs'], errors='coerce')"
      ],
      "execution_count": null,
      "outputs": []
    },
    {
      "cell_type": "code",
      "metadata": {
        "id": "reciwlxi64V6",
        "outputId": "79ad92ad-568b-4874-a833-c9c164c45f24",
        "colab": {
          "base_uri": "https://localhost:8080/"
        }
      },
      "source": [
        "df_convertido.isna().sum()"
      ],
      "execution_count": null,
      "outputs": [
        {
          "output_type": "execute_result",
          "data": {
            "text/plain": [
              "mpg            0\n",
              "cylinders      0\n",
              "cubicinches    2\n",
              "hp             0\n",
              "weightlbs      3\n",
              "time-to-60     0\n",
              "year           0\n",
              "brand          0\n",
              "dtype: int64"
            ]
          },
          "metadata": {
            "tags": []
          },
          "execution_count": 12
        }
      ]
    },
    {
      "cell_type": "markdown",
      "metadata": {
        "id": "R5sBt94H7IUK"
      },
      "source": [
        "## Pergunta 3\n",
        "\n",
        "Indique quais eram os índices dos valores presentes no dataset que “forçaram” o pandas a compreender a variável “cubicinches” como string."
      ]
    },
    {
      "cell_type": "code",
      "metadata": {
        "id": "fWvh9srg65SN",
        "outputId": "8c4d865e-4cb5-4ae6-801d-30910d592b9a",
        "colab": {
          "base_uri": "https://localhost:8080/"
        }
      },
      "source": [
        "df_convertido[df_convertido['cubicinches'].isna()].index"
      ],
      "execution_count": null,
      "outputs": [
        {
          "output_type": "execute_result",
          "data": {
            "text/plain": [
              "Int64Index([40, 180], dtype='int64')"
            ]
          },
          "metadata": {
            "tags": []
          },
          "execution_count": 13
        }
      ]
    },
    {
      "cell_type": "markdown",
      "metadata": {
        "id": "wjAyMetG75ox"
      },
      "source": [
        "## Pergunta 4\n",
        "\n",
        "Após a transformação das variáveis “string” para os valores numéricos, quantos valores nulos (células no dataframe) passaram a existir no dataset?"
      ]
    },
    {
      "cell_type": "code",
      "metadata": {
        "id": "LwJFt5PF7ZDk",
        "outputId": "c47c8a9f-7ae6-4624-fc04-5da501dec896",
        "colab": {
          "base_uri": "https://localhost:8080/"
        }
      },
      "source": [
        "df_convertido.isna().sum().sum()"
      ],
      "execution_count": null,
      "outputs": [
        {
          "output_type": "execute_result",
          "data": {
            "text/plain": [
              "5"
            ]
          },
          "metadata": {
            "tags": []
          },
          "execution_count": 14
        }
      ]
    },
    {
      "cell_type": "markdown",
      "metadata": {
        "id": "UsCfZ6Kh8ENS"
      },
      "source": [
        "## Pergunta 5\n",
        "\n",
        "Substitua os valores nulos introduzidos no dataset, após a transformação, pelo valor médio das colunas. Qual é o novo valor médio da coluna “weightlbs”?"
      ]
    },
    {
      "cell_type": "code",
      "metadata": {
        "id": "ZVL6j7E68CPD"
      },
      "source": [
        "df_preenchido = df_convertido.fillna(df_convertido.mean())"
      ],
      "execution_count": null,
      "outputs": []
    },
    {
      "cell_type": "code",
      "metadata": {
        "id": "iwL2870g8xx0",
        "outputId": "d47930c0-9762-440a-9b6e-a4b46386d1d9",
        "colab": {
          "base_uri": "https://localhost:8080/"
        }
      },
      "source": [
        "df_preenchido.isna().sum()"
      ],
      "execution_count": null,
      "outputs": [
        {
          "output_type": "execute_result",
          "data": {
            "text/plain": [
              "mpg            0\n",
              "cylinders      0\n",
              "cubicinches    0\n",
              "hp             0\n",
              "weightlbs      0\n",
              "time-to-60     0\n",
              "year           0\n",
              "brand          0\n",
              "dtype: int64"
            ]
          },
          "metadata": {
            "tags": []
          },
          "execution_count": 16
        }
      ]
    },
    {
      "cell_type": "code",
      "metadata": {
        "id": "y-99PU5I9Mb5",
        "outputId": "3faa76f0-1528-4222-8737-7a31dbabcadb",
        "colab": {
          "base_uri": "https://localhost:8080/"
        }
      },
      "source": [
        "df_preenchido['weightlbs'].mean()"
      ],
      "execution_count": null,
      "outputs": [
        {
          "output_type": "execute_result",
          "data": {
            "text/plain": [
              "3009.8333333333335"
            ]
          },
          "metadata": {
            "tags": []
          },
          "execution_count": 17
        }
      ]
    },
    {
      "cell_type": "markdown",
      "metadata": {
        "id": "HbF5itvc9aYV"
      },
      "source": [
        "## Pergunta 6\n",
        "\n",
        "Após substituir os valores nulos pela média das colunas, selecione as colunas ['mpg', 'cylinders', 'cubicinches', 'hp', 'weightlbs', 'time-to-60', 'year']. Qual é o valor da mediana para a característica 'mpg'?"
      ]
    },
    {
      "cell_type": "code",
      "metadata": {
        "id": "R1EjZA7_9VJ7",
        "outputId": "92b62062-5287-44de-b84d-2f2ac17fd9dd",
        "colab": {
          "base_uri": "https://localhost:8080/"
        }
      },
      "source": [
        "df_colunas_numericas = df_preenchido[['mpg', 'cylinders', 'cubicinches', 'hp', 'weightlbs', 'time-to-60', 'year']]\n",
        "\n",
        "df_colunas_numericas['mpg'].median()"
      ],
      "execution_count": null,
      "outputs": [
        {
          "output_type": "execute_result",
          "data": {
            "text/plain": [
              "22.0"
            ]
          },
          "metadata": {
            "tags": []
          },
          "execution_count": 18
        }
      ]
    },
    {
      "cell_type": "markdown",
      "metadata": {
        "id": "JfiEjNuV9s-8"
      },
      "source": [
        "## Pergunta 7\n",
        "\n",
        "Qual é a afirmação CORRETA sobre o valor de 14,00 para a variável “time-to-60”?\n",
        "\n",
        "R: 75% dos dados são maiores que o valor de 14,00."
      ]
    },
    {
      "cell_type": "code",
      "metadata": {
        "id": "qoAH6MBp9q1u",
        "outputId": "f45b5979-80d9-4474-b25d-71cf5940dd9a",
        "colab": {
          "base_uri": "https://localhost:8080/"
        }
      },
      "source": [
        "df_colunas_numericas['time-to-60'].quantile([.25, .5, .75])"
      ],
      "execution_count": null,
      "outputs": [
        {
          "output_type": "execute_result",
          "data": {
            "text/plain": [
              "0.25    14.0\n",
              "0.50    16.0\n",
              "0.75    17.0\n",
              "Name: time-to-60, dtype: float64"
            ]
          },
          "metadata": {
            "tags": []
          },
          "execution_count": 19
        }
      ]
    },
    {
      "cell_type": "markdown",
      "metadata": {
        "id": "BEArfxY2-c8W"
      },
      "source": [
        "## Pergunta 8\n",
        "\n",
        "Sobre o coeficiente de correlação de Pearson entre as variáveis “cylinders” e “mpg”, é correto afirmar, EXCETO:\n",
        "\n",
        "R: Mesmo não sendo igual a 1, é possível dizer que à medida em que a variável “cylinders” aumenta, a variável “mpg” também aumenta na mesma direção."
      ]
    },
    {
      "cell_type": "code",
      "metadata": {
        "id": "RJ7jVrx2DaPM"
      },
      "source": [
        "cylinders = df_colunas_numericas['cylinders']\n",
        "mpg = df_colunas_numericas['mpg']"
      ],
      "execution_count": null,
      "outputs": []
    },
    {
      "cell_type": "code",
      "metadata": {
        "id": "_QBy2SrL90UQ",
        "outputId": "81968839-a6ba-4801-915d-d6c57c59c0f9",
        "colab": {
          "base_uri": "https://localhost:8080/"
        }
      },
      "source": [
        "corr_cylinders_mpg = np.corrcoef(cylinders, mpg)[0, 1]\n",
        "corr_cylinders_mpg"
      ],
      "execution_count": null,
      "outputs": [
        {
          "output_type": "execute_result",
          "data": {
            "text/plain": [
              "-0.7767098829879999"
            ]
          },
          "metadata": {
            "tags": []
          },
          "execution_count": 21
        }
      ]
    },
    {
      "cell_type": "code",
      "metadata": {
        "id": "DY40B325-mkt",
        "outputId": "2943f464-caba-412d-f5e0-81a098228fc0",
        "colab": {
          "base_uri": "https://localhost:8080/"
        }
      },
      "source": [
        "r2_cylinders_mpg = corr_cylinders_mpg**2\n",
        "r2_cylinders_mpg"
      ],
      "execution_count": null,
      "outputs": [
        {
          "output_type": "execute_result",
          "data": {
            "text/plain": [
              "0.6032782423312325"
            ]
          },
          "metadata": {
            "tags": []
          },
          "execution_count": 22
        }
      ]
    },
    {
      "cell_type": "markdown",
      "metadata": {
        "id": "wz35AGykD5pJ"
      },
      "source": [
        "## Pergunta 9\n",
        "\n",
        "Sobre o boxplot da variável “hp”, é correto afirmar, EXCETO:\n",
        "\n",
        "R: Existe uma maior dispersão no segundo quartil quando comparamos\n",
        "com o terceiro. (gabarito do desafio)\n",
        "\n",
        "R: Cada um dos quartis possui a mesma quantidade de valores para a\n",
        "variável “hp”. (na minha opinião, também está correta!)"
      ]
    },
    {
      "cell_type": "code",
      "metadata": {
        "id": "e3vvpSVJ_ruZ",
        "outputId": "15887bf4-ab4d-4015-caf6-b8670d6688a6",
        "colab": {
          "base_uri": "https://localhost:8080/",
          "height": 282
        }
      },
      "source": [
        "df_colunas_numericas[['hp']].boxplot()"
      ],
      "execution_count": null,
      "outputs": [
        {
          "output_type": "execute_result",
          "data": {
            "text/plain": [
              "<matplotlib.axes._subplots.AxesSubplot at 0x7ff3fff9bdd8>"
            ]
          },
          "metadata": {
            "tags": []
          },
          "execution_count": 23
        },
        {
          "output_type": "display_data",
          "data": {
            "image/png": "[encoded data removed]",
            "text/plain": [
              "<Figure size 432x288 with 1 Axes>"
            ]
          },
          "metadata": {
            "tags": [],
            "needs_background": "light"
          }
        }
      ]
    },
    {
      "cell_type": "code",
      "metadata": {
        "id": "jTVlMx4LE1GZ",
        "outputId": "752735c1-bef4-4c2e-e026-a037e96ea040",
        "colab": {
          "base_uri": "https://localhost:8080/"
        }
      },
      "source": [
        "df_colunas_numericas['hp'].quantile([.25, .5, .75]) "
      ],
      "execution_count": null,
      "outputs": [
        {
          "output_type": "execute_result",
          "data": {
            "text/plain": [
              "0.25     75.0\n",
              "0.50     95.0\n",
              "0.75    138.0\n",
              "Name: hp, dtype: float64"
            ]
          },
          "metadata": {
            "tags": []
          },
          "execution_count": 24
        }
      ]
    },
    {
      "cell_type": "code",
      "metadata": {
        "id": "JJSn1uLUpN_D",
        "outputId": "1d26115f-c349-46c4-edcb-1a812df4c0d1",
        "colab": {
          "base_uri": "https://localhost:8080/",
          "height": 204
        }
      },
      "source": [
        "df_colunas_numericas['quantiles'] = pd.qcut(df_colunas_numericas['hp'], 4, labels=False)\n",
        "\n",
        "df_colunas_numericas.head()"
      ],
      "execution_count": null,
      "outputs": [
        {
          "output_type": "execute_result",
          "data": {
            "text/html": [
              "<div>\n",
              "<style scoped>\n",
              "    .dataframe tbody tr th:only-of-type {\n",
              "        vertical-align: middle;\n",
              "    }\n",
              "\n",
              "    .dataframe tbody tr th {\n",
              "        vertical-align: top;\n",
              "    }\n",
              "\n",
              "    .dataframe thead th {\n",
              "        text-align: right;\n",
              "    }\n",
              "</style>\n",
              "<table border=\"1\" class=\"dataframe\">\n",
              "  <thead>\n",
              "    <tr style=\"text-align: right;\">\n",
              "      <th></th>\n",
              "      <th>mpg</th>\n",
              "      <th>cylinders</th>\n",
              "      <th>cubicinches</th>\n",
              "      <th>hp</th>\n",
              "      <th>weightlbs</th>\n",
              "      <th>time-to-60</th>\n",
              "      <th>year</th>\n",
              "      <th>quantiles</th>\n",
              "    </tr>\n",
              "  </thead>\n",
              "  <tbody>\n",
              "    <tr>\n",
              "      <th>0</th>\n",
              "      <td>14.0</td>\n",
              "      <td>8</td>\n",
              "      <td>350.0</td>\n",
              "      <td>165</td>\n",
              "      <td>4209.0</td>\n",
              "      <td>12</td>\n",
              "      <td>1972</td>\n",
              "      <td>3</td>\n",
              "    </tr>\n",
              "    <tr>\n",
              "      <th>1</th>\n",
              "      <td>31.9</td>\n",
              "      <td>4</td>\n",
              "      <td>89.0</td>\n",
              "      <td>71</td>\n",
              "      <td>1925.0</td>\n",
              "      <td>14</td>\n",
              "      <td>1980</td>\n",
              "      <td>0</td>\n",
              "    </tr>\n",
              "    <tr>\n",
              "      <th>2</th>\n",
              "      <td>17.0</td>\n",
              "      <td>8</td>\n",
              "      <td>302.0</td>\n",
              "      <td>140</td>\n",
              "      <td>3449.0</td>\n",
              "      <td>11</td>\n",
              "      <td>1971</td>\n",
              "      <td>3</td>\n",
              "    </tr>\n",
              "    <tr>\n",
              "      <th>3</th>\n",
              "      <td>15.0</td>\n",
              "      <td>8</td>\n",
              "      <td>400.0</td>\n",
              "      <td>150</td>\n",
              "      <td>3761.0</td>\n",
              "      <td>10</td>\n",
              "      <td>1971</td>\n",
              "      <td>3</td>\n",
              "    </tr>\n",
              "    <tr>\n",
              "      <th>4</th>\n",
              "      <td>30.5</td>\n",
              "      <td>4</td>\n",
              "      <td>98.0</td>\n",
              "      <td>63</td>\n",
              "      <td>2051.0</td>\n",
              "      <td>17</td>\n",
              "      <td>1978</td>\n",
              "      <td>0</td>\n",
              "    </tr>\n",
              "  </tbody>\n",
              "</table>\n",
              "</div>"
            ],
            "text/plain": [
              "    mpg  cylinders  cubicinches   hp  weightlbs  time-to-60  year  quantiles\n",
              "0  14.0          8        350.0  165     4209.0          12  1972          3\n",
              "1  31.9          4         89.0   71     1925.0          14  1980          0\n",
              "2  17.0          8        302.0  140     3449.0          11  1971          3\n",
              "3  15.0          8        400.0  150     3761.0          10  1971          3\n",
              "4  30.5          4         98.0   63     2051.0          17  1978          0"
            ]
          },
          "metadata": {
            "tags": []
          },
          "execution_count": 25
        }
      ]
    },
    {
      "cell_type": "code",
      "metadata": {
        "id": "afprCorotTZO",
        "outputId": "d8e5e7bc-dcb1-44db-fbc6-557c477ce9eb",
        "colab": {
          "base_uri": "https://localhost:8080/"
        }
      },
      "source": [
        "quantidades_quartis = df_colunas_numericas['quantiles'].value_counts().sort_index()\n",
        "quantidades_quartis"
      ],
      "execution_count": null,
      "outputs": [
        {
          "output_type": "execute_result",
          "data": {
            "text/plain": [
              "0    66\n",
              "1    71\n",
              "2    59\n",
              "3    65\n",
              "Name: quantiles, dtype: int64"
            ]
          },
          "metadata": {
            "tags": []
          },
          "execution_count": 26
        }
      ]
    },
    {
      "cell_type": "markdown",
      "metadata": {
        "id": "Plum4-6uG6aC"
      },
      "source": [
        "## Pergunta 10\n",
        "\n",
        "Após normalizado, utilizando a função StandardScaler(), qual é o maior valor para a variável “hp”?\n",
        "\n",
        "R: Existe uma maior dispersão no segundo quartil quando comparamos com o terceiro."
      ]
    },
    {
      "cell_type": "code",
      "metadata": {
        "id": "y4BVWZRYKOm-"
      },
      "source": [
        "df_normalizar = df_colunas_numericas.copy()"
      ],
      "execution_count": null,
      "outputs": []
    },
    {
      "cell_type": "code",
      "metadata": {
        "id": "UM91uaKaJ6ee"
      },
      "source": [
        "df_normalizar.drop('quantiles', axis=1, inplace=True)"
      ],
      "execution_count": null,
      "outputs": []
    },
    {
      "cell_type": "code",
      "metadata": {
        "id": "DS33T8VoGUoD"
      },
      "source": [
        "scaler = normaliza.fit(df_normalizar.values)"
      ],
      "execution_count": null,
      "outputs": []
    },
    {
      "cell_type": "code",
      "metadata": {
        "id": "pwCRaermHQjC"
      },
      "source": [
        "df_normalizado = scaler.transform(df_normalizar.values)"
      ],
      "execution_count": null,
      "outputs": []
    },
    {
      "cell_type": "code",
      "metadata": {
        "id": "Z7-EbuoSKmDm"
      },
      "source": [
        "df_normalizado = pd.DataFrame(df_normalizado, columns=df_normalizar.columns)"
      ],
      "execution_count": null,
      "outputs": []
    },
    {
      "cell_type": "code",
      "metadata": {
        "id": "_ECYUOaSwnLT",
        "outputId": "e17a3f9e-d9ab-426f-fd62-7742ddfb4764",
        "colab": {
          "base_uri": "https://localhost:8080/"
        }
      },
      "source": [
        "df_normalizado['hp'].max()"
      ],
      "execution_count": null,
      "outputs": [
        {
          "output_type": "execute_result",
          "data": {
            "text/plain": [
              "3.05870398977614"
            ]
          },
          "metadata": {
            "tags": []
          },
          "execution_count": 32
        }
      ]
    },
    {
      "cell_type": "markdown",
      "metadata": {
        "id": "LeuU2KsxIX-d"
      },
      "source": [
        "## Pergunta 11\n",
        "\n",
        "Aplicando o PCA, conforme a definição acima, qual é o valor da variância explicada pela primeira componente principal?"
      ]
    },
    {
      "cell_type": "code",
      "metadata": {
        "id": "NklqKGtfIIYH"
      },
      "source": [
        "principalComponents = pca.fit_transform(df_normalizado)"
      ],
      "execution_count": null,
      "outputs": []
    },
    {
      "cell_type": "code",
      "metadata": {
        "id": "S_memWFyLLRF",
        "outputId": "00de74cb-a792-4541-c58f-21a052edfbfc",
        "colab": {
          "base_uri": "https://localhost:8080/"
        }
      },
      "source": [
        "pca.explained_variance_ratio_[0]"
      ],
      "execution_count": null,
      "outputs": [
        {
          "output_type": "execute_result",
          "data": {
            "text/plain": [
              "0.7237134885896341"
            ]
          },
          "metadata": {
            "tags": []
          },
          "execution_count": 34
        }
      ]
    },
    {
      "cell_type": "markdown",
      "metadata": {
        "id": "lqaaPffzLd0U"
      },
      "source": [
        "## Pergunta 12\n",
        "\n",
        "Utilize os três primeiros componentes principais para construir o K-means com um número de 3 clusters. Sobre os clusters, é INCORRETO afirmar que:\n",
        "\n",
        "R: Todos os clusters possuem a mesma quantidade de elementos."
      ]
    },
    {
      "cell_type": "code",
      "metadata": {
        "id": "5wZapASoQUjk",
        "outputId": "fc5c51d4-9bce-474d-95b6-a76acb2987ce",
        "colab": {
          "base_uri": "https://localhost:8080/",
          "height": 204
        }
      },
      "source": [
        "df_principalComponents = pd.DataFrame(principalComponents)\n",
        "df_principalComponents.head()"
      ],
      "execution_count": null,
      "outputs": [
        {
          "output_type": "execute_result",
          "data": {
            "text/html": [
              "<div>\n",
              "<style scoped>\n",
              "    .dataframe tbody tr th:only-of-type {\n",
              "        vertical-align: middle;\n",
              "    }\n",
              "\n",
              "    .dataframe tbody tr th {\n",
              "        vertical-align: top;\n",
              "    }\n",
              "\n",
              "    .dataframe thead th {\n",
              "        text-align: right;\n",
              "    }\n",
              "</style>\n",
              "<table border=\"1\" class=\"dataframe\">\n",
              "  <thead>\n",
              "    <tr style=\"text-align: right;\">\n",
              "      <th></th>\n",
              "      <th>0</th>\n",
              "      <th>1</th>\n",
              "      <th>2</th>\n",
              "      <th>3</th>\n",
              "      <th>4</th>\n",
              "      <th>5</th>\n",
              "      <th>6</th>\n",
              "    </tr>\n",
              "  </thead>\n",
              "  <tbody>\n",
              "    <tr>\n",
              "      <th>0</th>\n",
              "      <td>3.485219</td>\n",
              "      <td>0.526326</td>\n",
              "      <td>-0.139738</td>\n",
              "      <td>0.258792</td>\n",
              "      <td>0.086902</td>\n",
              "      <td>-0.179206</td>\n",
              "      <td>0.079078</td>\n",
              "    </tr>\n",
              "    <tr>\n",
              "      <th>1</th>\n",
              "      <td>-2.176912</td>\n",
              "      <td>-0.285424</td>\n",
              "      <td>-1.304613</td>\n",
              "      <td>-0.100465</td>\n",
              "      <td>-0.289698</td>\n",
              "      <td>-0.041147</td>\n",
              "      <td>-0.013127</td>\n",
              "    </tr>\n",
              "    <tr>\n",
              "      <th>2</th>\n",
              "      <td>2.684973</td>\n",
              "      <td>1.046946</td>\n",
              "      <td>-0.732156</td>\n",
              "      <td>0.498227</td>\n",
              "      <td>-0.535168</td>\n",
              "      <td>-0.075745</td>\n",
              "      <td>0.159956</td>\n",
              "    </tr>\n",
              "    <tr>\n",
              "      <th>3</th>\n",
              "      <td>3.534648</td>\n",
              "      <td>0.847619</td>\n",
              "      <td>-0.801334</td>\n",
              "      <td>0.506630</td>\n",
              "      <td>-0.435696</td>\n",
              "      <td>-0.144237</td>\n",
              "      <td>-0.483162</td>\n",
              "    </tr>\n",
              "    <tr>\n",
              "      <th>4</th>\n",
              "      <td>-2.299222</td>\n",
              "      <td>0.194808</td>\n",
              "      <td>-0.221704</td>\n",
              "      <td>0.079650</td>\n",
              "      <td>-0.175655</td>\n",
              "      <td>0.015566</td>\n",
              "      <td>-0.069958</td>\n",
              "    </tr>\n",
              "  </tbody>\n",
              "</table>\n",
              "</div>"
            ],
            "text/plain": [
              "          0         1         2         3         4         5         6\n",
              "0  3.485219  0.526326 -0.139738  0.258792  0.086902 -0.179206  0.079078\n",
              "1 -2.176912 -0.285424 -1.304613 -0.100465 -0.289698 -0.041147 -0.013127\n",
              "2  2.684973  1.046946 -0.732156  0.498227 -0.535168 -0.075745  0.159956\n",
              "3  3.534648  0.847619 -0.801334  0.506630 -0.435696 -0.144237 -0.483162\n",
              "4 -2.299222  0.194808 -0.221704  0.079650 -0.175655  0.015566 -0.069958"
            ]
          },
          "metadata": {
            "tags": []
          },
          "execution_count": 35
        }
      ]
    },
    {
      "cell_type": "code",
      "metadata": {
        "id": "__fg6DFBUOdn"
      },
      "source": [
        "df_principalComponents_3colunas = df_principalComponents.iloc[:,:3]\n",
        "df_principalComponents_3colunas.columns = ['componente1', 'componente2', 'componente3']"
      ],
      "execution_count": null,
      "outputs": []
    },
    {
      "cell_type": "code",
      "metadata": {
        "id": "zpacYkY4LOha",
        "outputId": "7d321d34-9e36-4a56-b887-a8eeb9168fe5",
        "colab": {
          "base_uri": "https://localhost:8080/"
        }
      },
      "source": [
        "kmeans.fit(df_principalComponents_3colunas)"
      ],
      "execution_count": null,
      "outputs": [
        {
          "output_type": "execute_result",
          "data": {
            "text/plain": [
              "KMeans(algorithm='auto', copy_x=True, init='k-means++', max_iter=300,\n",
              "       n_clusters=3, n_init=10, n_jobs=None, precompute_distances='auto',\n",
              "       random_state=42, tol=0.0001, verbose=0)"
            ]
          },
          "metadata": {
            "tags": []
          },
          "execution_count": 37
        }
      ]
    },
    {
      "cell_type": "code",
      "metadata": {
        "id": "vpILiU53T_Ok",
        "outputId": "d6be969b-c7b0-4efd-e4ba-5f565771db35",
        "colab": {
          "base_uri": "https://localhost:8080/"
        }
      },
      "source": [
        "df_principalComponents_3colunas['cluster'] = kmeans.labels_"
      ],
      "execution_count": null,
      "outputs": [
        {
          "output_type": "stream",
          "text": [
            "/usr/local/lib/python3.6/dist-packages/ipykernel_launcher.py:1: SettingWithCopyWarning: \n",
            "A value is trying to be set on a copy of a slice from a DataFrame.\n",
            "Try using .loc[row_indexer,col_indexer] = value instead\n",
            "\n",
            "See the caveats in the documentation: https://pandas.pydata.org/pandas-docs/stable/user_guide/indexing.html#returning-a-view-versus-a-copy\n",
            "  \"\"\"Entry point for launching an IPython kernel.\n"
          ],
          "name": "stderr"
        }
      ]
    },
    {
      "cell_type": "code",
      "metadata": {
        "id": "oiEyJx7axZo5",
        "outputId": "7d544bc9-6de2-40b2-8f78-a7c8b12c8602",
        "colab": {
          "base_uri": "https://localhost:8080/"
        }
      },
      "source": [
        "df_principalComponents_3colunas['cluster'].value_counts().sort_index()"
      ],
      "execution_count": null,
      "outputs": [
        {
          "output_type": "execute_result",
          "data": {
            "text/plain": [
              "0     77\n",
              "1     75\n",
              "2    109\n",
              "Name: cluster, dtype: int64"
            ]
          },
          "metadata": {
            "tags": []
          },
          "execution_count": 39
        }
      ]
    },
    {
      "cell_type": "code",
      "metadata": {
        "id": "Au4W74zGSNQ9",
        "outputId": "ea7c222e-d841-46d4-d041-a1f4e6beb3ab",
        "colab": {
          "base_uri": "https://localhost:8080/",
          "height": 319
        }
      },
      "source": [
        "from mpl_toolkits.mplot3d.axes3d import Axes3D\n",
        "\n",
        "x = df_principalComponents_3colunas['componente1']\n",
        "y = df_principalComponents_3colunas['componente2']\n",
        "z = df_principalComponents_3colunas['componente3']\n",
        "cluster = df_principalComponents_3colunas['cluster']\n",
        "\n",
        "fig = plt.figure()\n",
        "ax = Axes3D(fig)\n",
        "ax.scatter(x, y, z, c=cluster)\n",
        "plt.show()"
      ],
      "execution_count": null,
      "outputs": [
        {
          "output_type": "display_data",
          "data": {
            "image/png": "[encoded data removed]",
            "text/plain": [
              "<Figure size 432x288 with 1 Axes>"
            ]
          },
          "metadata": {
            "tags": [],
            "needs_background": "light"
          }
        }
      ]
    },
    {
      "cell_type": "markdown",
      "metadata": {
        "id": "lSMcXTeZVD9t"
      },
      "source": [
        "## Pergunta 13\n",
        "\n",
        "Após todo o processamento realizado nos itens anteriores, crie uma coluna que contenha a variável de eficiência do veículo. Veículos que percorrem mais de 25 milhas com um galão (“mpg”>25) devem ser considerados eficientes. Utilize as colunas ['cylinders'    ,'cubicinches' ,'hp' ,'weightlbs','time-to-60'] como entradas e como saída a coluna de eficiência criada.\n",
        "\n",
        "Utilizando a árvore de decisão como mostrado, qual é a acurácia do modelo?"
      ]
    },
    {
      "cell_type": "code",
      "metadata": {
        "id": "9AzDVxr0yCC3",
        "outputId": "7a251f27-8d3d-4913-849d-b58370ec204b",
        "colab": {
          "base_uri": "https://localhost:8080/",
          "height": 204
        }
      },
      "source": [
        "df_normalizado.head()"
      ],
      "execution_count": null,
      "outputs": [
        {
          "output_type": "execute_result",
          "data": {
            "text/html": [
              "<div>\n",
              "<style scoped>\n",
              "    .dataframe tbody tr th:only-of-type {\n",
              "        vertical-align: middle;\n",
              "    }\n",
              "\n",
              "    .dataframe tbody tr th {\n",
              "        vertical-align: top;\n",
              "    }\n",
              "\n",
              "    .dataframe thead th {\n",
              "        text-align: right;\n",
              "    }\n",
              "</style>\n",
              "<table border=\"1\" class=\"dataframe\">\n",
              "  <thead>\n",
              "    <tr style=\"text-align: right;\">\n",
              "      <th></th>\n",
              "      <th>mpg</th>\n",
              "      <th>cylinders</th>\n",
              "      <th>cubicinches</th>\n",
              "      <th>hp</th>\n",
              "      <th>weightlbs</th>\n",
              "      <th>time-to-60</th>\n",
              "      <th>year</th>\n",
              "    </tr>\n",
              "  </thead>\n",
              "  <tbody>\n",
              "    <tr>\n",
              "      <th>0</th>\n",
              "      <td>-1.171127</td>\n",
              "      <td>1.393053</td>\n",
              "      <td>1.372393</td>\n",
              "      <td>1.450681</td>\n",
              "      <td>1.414997</td>\n",
              "      <td>-1.221287</td>\n",
              "      <td>-1.327539</td>\n",
              "    </tr>\n",
              "    <tr>\n",
              "      <th>1</th>\n",
              "      <td>1.121226</td>\n",
              "      <td>-0.919105</td>\n",
              "      <td>-1.030290</td>\n",
              "      <td>-0.874768</td>\n",
              "      <td>-1.280086</td>\n",
              "      <td>-0.532829</td>\n",
              "      <td>0.875880</td>\n",
              "    </tr>\n",
              "    <tr>\n",
              "      <th>2</th>\n",
              "      <td>-0.786934</td>\n",
              "      <td>1.393053</td>\n",
              "      <td>0.930520</td>\n",
              "      <td>0.832210</td>\n",
              "      <td>0.518209</td>\n",
              "      <td>-1.565516</td>\n",
              "      <td>-1.602966</td>\n",
              "    </tr>\n",
              "    <tr>\n",
              "      <th>3</th>\n",
              "      <td>-1.043063</td>\n",
              "      <td>1.393053</td>\n",
              "      <td>1.832677</td>\n",
              "      <td>1.079598</td>\n",
              "      <td>0.886364</td>\n",
              "      <td>-1.909745</td>\n",
              "      <td>-1.602966</td>\n",
              "    </tr>\n",
              "    <tr>\n",
              "      <th>4</th>\n",
              "      <td>0.941936</td>\n",
              "      <td>-0.919105</td>\n",
              "      <td>-0.947439</td>\n",
              "      <td>-1.072679</td>\n",
              "      <td>-1.131408</td>\n",
              "      <td>0.499857</td>\n",
              "      <td>0.325025</td>\n",
              "    </tr>\n",
              "  </tbody>\n",
              "</table>\n",
              "</div>"
            ],
            "text/plain": [
              "        mpg  cylinders  cubicinches        hp  weightlbs  time-to-60      year\n",
              "0 -1.171127   1.393053     1.372393  1.450681   1.414997   -1.221287 -1.327539\n",
              "1  1.121226  -0.919105    -1.030290 -0.874768  -1.280086   -0.532829  0.875880\n",
              "2 -0.786934   1.393053     0.930520  0.832210   0.518209   -1.565516 -1.602966\n",
              "3 -1.043063   1.393053     1.832677  1.079598   0.886364   -1.909745 -1.602966\n",
              "4  0.941936  -0.919105    -0.947439 -1.072679  -1.131408    0.499857  0.325025"
            ]
          },
          "metadata": {
            "tags": []
          },
          "execution_count": 41
        }
      ]
    },
    {
      "cell_type": "code",
      "metadata": {
        "id": "V1PlUm2pTXaR"
      },
      "source": [
        "entradas_arvore = np.array(df_preenchido[['cylinders' ,'cubicinches' ,'hp' ,'weightlbs' ,'time-to-60']])\n",
        "saidas_arvore = np.array(df_preenchido['mpg'] > 25).astype(int)"
      ],
      "execution_count": null,
      "outputs": []
    },
    {
      "cell_type": "code",
      "metadata": {
        "id": "3mI_GGFQyl4O",
        "outputId": "ab106b2a-6340-4b49-809d-2379ef7502d6",
        "colab": {
          "base_uri": "https://localhost:8080/"
        }
      },
      "source": [
        "entradas_arvore"
      ],
      "execution_count": null,
      "outputs": [
        {
          "output_type": "execute_result",
          "data": {
            "text/plain": [
              "array([[8.000e+00, 3.500e+02, 1.650e+02, 4.209e+03, 1.200e+01],\n",
              "       [4.000e+00, 8.900e+01, 7.100e+01, 1.925e+03, 1.400e+01],\n",
              "       [8.000e+00, 3.020e+02, 1.400e+02, 3.449e+03, 1.100e+01],\n",
              "       ...,\n",
              "       [6.000e+00, 2.320e+02, 1.120e+02, 2.835e+03, 1.500e+01],\n",
              "       [6.000e+00, 2.320e+02, 1.000e+02, 3.288e+03, 1.600e+01],\n",
              "       [6.000e+00, 2.500e+02, 1.050e+02, 3.353e+03, 1.500e+01]])"
            ]
          },
          "metadata": {
            "tags": []
          },
          "execution_count": 43
        }
      ]
    },
    {
      "cell_type": "code",
      "metadata": {
        "id": "hejRRdVeyn4y",
        "outputId": "d1ccc4fe-9478-402e-ec5f-3cf0902e8b5c",
        "colab": {
          "base_uri": "https://localhost:8080/"
        }
      },
      "source": [
        "saidas_arvore"
      ],
      "execution_count": null,
      "outputs": [
        {
          "output_type": "execute_result",
          "data": {
            "text/plain": [
              "array([0, 1, 0, 0, 1, 0, 0, 0, 1, 1, 1, 1, 0, 0, 0, 0, 1, 0, 0, 0, 1, 0,\n",
              "       0, 0, 1, 1, 1, 0, 0, 1, 1, 0, 0, 0, 1, 0, 1, 0, 0, 0, 0, 0, 0, 0,\n",
              "       0, 1, 0, 0, 1, 0, 0, 1, 0, 0, 0, 0, 0, 1, 1, 0, 0, 0, 1, 1, 0, 0,\n",
              "       1, 1, 1, 0, 0, 1, 1, 0, 1, 1, 0, 0, 1, 1, 0, 0, 0, 0, 0, 1, 0, 0,\n",
              "       1, 1, 1, 1, 0, 0, 1, 0, 0, 0, 0, 0, 0, 0, 0, 1, 1, 1, 1, 1, 0, 0,\n",
              "       0, 0, 0, 1, 1, 0, 0, 0, 1, 0, 1, 1, 0, 0, 1, 1, 0, 1, 0, 1, 1, 1,\n",
              "       0, 0, 0, 0, 1, 0, 0, 0, 1, 1, 1, 1, 0, 0, 0, 1, 0, 0, 1, 1, 0, 0,\n",
              "       1, 0, 0, 1, 0, 0, 0, 0, 0, 0, 0, 0, 0, 1, 0, 1, 1, 0, 1, 1, 0, 1,\n",
              "       0, 0, 0, 1, 0, 1, 0, 0, 1, 0, 0, 0, 0, 0, 1, 1, 0, 0, 0, 1, 1, 1,\n",
              "       1, 1, 1, 0, 0, 0, 0, 0, 1, 0, 0, 1, 0, 0, 1, 1, 0, 1, 1, 0, 1, 0,\n",
              "       0, 0, 0, 0, 0, 1, 0, 1, 0, 1, 0, 1, 0, 0, 0, 1, 0, 0, 1, 0, 0, 0,\n",
              "       0, 0, 0, 0, 0, 1, 1, 1, 1, 0, 1, 0, 0, 0, 0, 1, 0, 0, 0])"
            ]
          },
          "metadata": {
            "tags": []
          },
          "execution_count": 44
        }
      ]
    },
    {
      "cell_type": "code",
      "metadata": {
        "id": "O98NM53xV0iH"
      },
      "source": [
        "X_train, X_test, y_train, y_test = train_test_split(entradas_arvore, saidas_arvore, test_size=0.30, random_state=42)"
      ],
      "execution_count": null,
      "outputs": []
    },
    {
      "cell_type": "code",
      "metadata": {
        "id": "dbRQc495WraK"
      },
      "source": [
        "arvore.fit(X_train, y_train)\n",
        "y_arvore_pred = arvore.predict(X_test)"
      ],
      "execution_count": null,
      "outputs": []
    },
    {
      "cell_type": "code",
      "metadata": {
        "id": "GM-KgPZnW981",
        "outputId": "2e25ac09-6611-45b0-98d3-549874944754",
        "colab": {
          "base_uri": "https://localhost:8080/"
        }
      },
      "source": [
        "from sklearn.metrics import accuracy_score\n",
        "acuracia_arvore = accuracy_score(y_test, y_arvore_pred)\n",
        "acuracia_arvore"
      ],
      "execution_count": null,
      "outputs": [
        {
          "output_type": "execute_result",
          "data": {
            "text/plain": [
              "0.8734177215189873"
            ]
          },
          "metadata": {
            "tags": []
          },
          "execution_count": 47
        }
      ]
    },
    {
      "cell_type": "markdown",
      "metadata": {
        "id": "7ggnrtqIz4bt"
      },
      "source": [
        "## Pergunta 14\n",
        "\n",
        "Sobre a matriz de confusão obtida após a aplicação da árvore de decisão, como mostrado anteriormente, é INCORRETO afirmar:\n",
        "\n",
        "R: Existem duas vezes mais veículos considerados não eficientes que instâncias de veículos eficientes."
      ]
    },
    {
      "cell_type": "code",
      "metadata": {
        "id": "vHuJuPIo1Ea9",
        "outputId": "a9b4252c-9777-41fd-9df1-ce3f19a46616",
        "colab": {
          "base_uri": "https://localhost:8080/"
        }
      },
      "source": [
        "real = pd.Series(y_test).value_counts().sort_index()\n",
        "real"
      ],
      "execution_count": null,
      "outputs": [
        {
          "output_type": "execute_result",
          "data": {
            "text/plain": [
              "0    41\n",
              "1    38\n",
              "dtype: int64"
            ]
          },
          "metadata": {
            "tags": []
          },
          "execution_count": 48
        }
      ]
    },
    {
      "cell_type": "code",
      "metadata": {
        "id": "jWr-t4fP1OWR",
        "outputId": "61a6b3b8-2db0-4711-c246-32f2b2eaafb1",
        "colab": {
          "base_uri": "https://localhost:8080/"
        }
      },
      "source": [
        "previsto = pd.Series(y_arvore_pred).value_counts().sort_index()\n",
        "previsto"
      ],
      "execution_count": null,
      "outputs": [
        {
          "output_type": "execute_result",
          "data": {
            "text/plain": [
              "0    35\n",
              "1    44\n",
              "dtype: int64"
            ]
          },
          "metadata": {
            "tags": []
          },
          "execution_count": 49
        }
      ]
    },
    {
      "cell_type": "code",
      "metadata": {
        "id": "WRGXxYsuzX5T"
      },
      "source": [
        "from sklearn.metrics import confusion_matrix"
      ],
      "execution_count": null,
      "outputs": []
    },
    {
      "cell_type": "code",
      "metadata": {
        "id": "C3GijUBd0C-R",
        "outputId": "a2382f7e-fd16-4e3b-aff9-2c007c315446",
        "colab": {
          "base_uri": "https://localhost:8080/"
        }
      },
      "source": [
        "confusion_matrix(y_test, y_arvore_pred)"
      ],
      "execution_count": null,
      "outputs": [
        {
          "output_type": "execute_result",
          "data": {
            "text/plain": [
              "array([[33,  8],\n",
              "       [ 2, 36]])"
            ]
          },
          "metadata": {
            "tags": []
          },
          "execution_count": 51
        }
      ]
    },
    {
      "cell_type": "code",
      "metadata": {
        "id": "Z_N78tkv0HNQ",
        "outputId": "7cd25bba-f34b-4656-87e6-1aeaf802ad21",
        "colab": {
          "base_uri": "https://localhost:8080/"
        }
      },
      "source": [
        "previsto[0] > (real[1] * 2)"
      ],
      "execution_count": null,
      "outputs": [
        {
          "output_type": "execute_result",
          "data": {
            "text/plain": [
              "False"
            ]
          },
          "metadata": {
            "tags": []
          },
          "execution_count": 52
        }
      ]
    },
    {
      "cell_type": "markdown",
      "metadata": {
        "id": "I6gqbyfx9j3A"
      },
      "source": [
        "## Pergunta 15\n",
        "\n",
        "Utilizando a mesma divisão de dados entre treinamento e teste empregada para a análise anterior, aplique o modelo de regressão logística como mostrado na descrição do trabalho.\n",
        "\n",
        "Comparando os resultados obtidos com o modelo de árvore de decisão, é INCORRETO afirmar que:\n",
        "\n",
        "R: A regressão logística não deveria ser aplicada ao problema, pois ela trabalha apenas com dados categóricos."
      ]
    },
    {
      "cell_type": "code",
      "metadata": {
        "id": "X5J8uxYM9ho4",
        "outputId": "bc034176-b1b5-4b39-a99e-081faaa55a45",
        "colab": {
          "base_uri": "https://localhost:8080/"
        }
      },
      "source": [
        "regressao_logistica.fit(X_train, y_train)\n",
        "y_rl_pred = regressao_logistica.predict(X_test)"
      ],
      "execution_count": null,
      "outputs": [
        {
          "output_type": "stream",
          "text": [
            "/usr/local/lib/python3.6/dist-packages/sklearn/linear_model/_logistic.py:940: ConvergenceWarning: lbfgs failed to converge (status=1):\n",
            "STOP: TOTAL NO. of ITERATIONS REACHED LIMIT.\n",
            "\n",
            "Increase the number of iterations (max_iter) or scale the data as shown in:\n",
            "    https://scikit-learn.org/stable/modules/preprocessing.html\n",
            "Please also refer to the documentation for alternative solver options:\n",
            "    https://scikit-learn.org/stable/modules/linear_model.html#logistic-regression\n",
            "  extra_warning_msg=_LOGISTIC_SOLVER_CONVERGENCE_MSG)\n"
          ],
          "name": "stderr"
        }
      ]
    },
    {
      "cell_type": "code",
      "metadata": {
        "id": "-AJS2auk-Bbo",
        "outputId": "a1b4a4ca-0b33-4c91-c1c2-d845abc279fa",
        "colab": {
          "base_uri": "https://localhost:8080/"
        }
      },
      "source": [
        "acuracia_rl = accuracy_score(y_test, y_rl_pred)\n",
        "acuracia_rl"
      ],
      "execution_count": null,
      "outputs": [
        {
          "output_type": "execute_result",
          "data": {
            "text/plain": [
              "0.8607594936708861"
            ]
          },
          "metadata": {
            "tags": []
          },
          "execution_count": 54
        }
      ]
    },
    {
      "cell_type": "code",
      "metadata": {
        "id": "BqbhV9ck-HPz",
        "outputId": "d12f8648-ab12-4a1f-992f-079e3b98be8b",
        "colab": {
          "base_uri": "https://localhost:8080/"
        }
      },
      "source": [
        "(acuracia_arvore, acuracia_rl)"
      ],
      "execution_count": null,
      "outputs": [
        {
          "output_type": "execute_result",
          "data": {
            "text/plain": [
              "(0.8734177215189873, 0.8607594936708861)"
            ]
          },
          "metadata": {
            "tags": []
          },
          "execution_count": 55
        }
      ]
    },
    {
      "cell_type": "code",
      "metadata": {
        "id": "u-6WS1T_-nUh"
      },
      "source": [
        "from sklearn.linear_model import LogisticRegression\n",
        "from sklearn.tree import DecisionTreeRegressor"
      ],
      "execution_count": null,
      "outputs": []
    }
  ]
}