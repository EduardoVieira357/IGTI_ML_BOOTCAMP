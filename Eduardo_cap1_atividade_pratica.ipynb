{
 "cells": [
  {
   "cell_type": "code",
   "execution_count": null,
   "metadata": {
    "id": "_gV4dzpUEpw7"
   },
   "outputs": [],
   "source": [
    "import pandas as pd\n",
    "import numpy as np\n",
    "import matplotlib.pyplot as plt\n",
    "from scipy import stats"
   ]
  },
  {
   "cell_type": "code",
   "execution_count": null,
   "metadata": {
    "id": "PzlXA89JFTDP"
   },
   "outputs": [],
   "source": [
    "# Base de dados sem anomalia\n",
    "xi = [3246, 3476, 3724, 3773, 3837, 3968, 4198, 4048, 4170, 4226, 4788, 4009, 3568, 4357]"
   ]
  },
  {
   "cell_type": "code",
   "execution_count": null,
   "metadata": {
    "id": "lpTsHN1yFXuT"
   },
   "outputs": [],
   "source": [
    "# Base de dados com anomalia\n",
    "xy = [6799, 3476, 3724, 3773, 3837, 3968, 4198, 4048, 4170, 4226, 4788, 4009, 3568, 4357]"
   ]
  },
  {
   "cell_type": "code",
   "execution_count": null,
   "metadata": {
    "id": "xE-rJcVPFfPj"
   },
   "outputs": [],
   "source": [
    "def print_full(x):\n",
    "    pd.set_option('display.max_rows', len(x))\n",
    "    pd.set_option('display.max_columns', len(x))\n",
    "    print(x)\n",
    "    pd.reset_option('display.max_rows')\n",
    "    pd.reset_option('display.max_columns')"
   ]
  },
  {
   "cell_type": "code",
   "execution_count": null,
   "metadata": {
    "id": "4Ssnx-UaGiOe"
   },
   "outputs": [],
   "source": [
    "# Média\n",
    "xi_mean = np.mean(xi)\n",
    "xy_mean = np.mean(xy)"
   ]
  },
  {
   "cell_type": "code",
   "execution_count": null,
   "metadata": {
    "id": "VoYsMyaLGsaD"
   },
   "outputs": [],
   "source": [
    "# Mediana\n",
    "xi_median = np.median(xi)\n",
    "xy_median = np.median(xy)"
   ]
  },
  {
   "cell_type": "code",
   "execution_count": null,
   "metadata": {
    "id": "TXoKCB7jG2kY"
   },
   "outputs": [],
   "source": [
    "# Moda\n",
    "xi_mode = stats.mode(xi)\n",
    "xy_mode = stats.mode(xy)"
   ]
  },
  {
   "cell_type": "code",
   "execution_count": null,
   "metadata": {
    "colab": {
     "base_uri": "https://localhost:8080/"
    },
    "id": "WOpS6m_jHAS2",
    "outputId": "d3162c9f-5024-4018-afad-09d7e1b0bece"
   },
   "outputs": [
    {
     "name": "stdout",
     "output_type": "stream",
     "text": [
      "Minha lista sem anomalias:  [3246, 3476, 3724, 3773, 3837, 3968, 4198, 4048, 4170, 4226, 4788, 4009, 3568, 4357]\n",
      "A média da minha lista é:  3956.285714285714\n",
      "A mediana da minha lista é:  3988.5\n",
      "A moda da minha lista é:  ModeResult(mode=array([3246]), count=array([1]))\n"
     ]
    }
   ],
   "source": [
    "# Resultados da lista sem anomalias\n",
    "print(\"Minha lista sem anomalias: \", xi)\n",
    "print(\"A média da minha lista é: \", xi_mean)\n",
    "print(\"A mediana da minha lista é: \", xi_median)\n",
    "print(\"A moda da minha lista é: \", xi_mode)"
   ]
  },
  {
   "cell_type": "code",
   "execution_count": null,
   "metadata": {
    "colab": {
     "base_uri": "https://localhost:8080/"
    },
    "id": "cnRanQC0HcqL",
    "outputId": "298587f5-b729-403c-ec65-978fb70eded5"
   },
   "outputs": [
    {
     "name": "stdout",
     "output_type": "stream",
     "text": [
      "Minha lista com anomalias:  [6799, 3476, 3724, 3773, 3837, 3968, 4198, 4048, 4170, 4226, 4788, 4009, 3568, 4357]\n",
      "A média da minha lista é:  4210.071428571428\n",
      "A mediana da minha lista é:  4028.5\n",
      "A moda da minha lista é:  ModeResult(mode=array([3476]), count=array([1]))\n"
     ]
    }
   ],
   "source": [
    "# Resultados da lista com anomalias\n",
    "print(\"Minha lista com anomalias: \", xy)\n",
    "print(\"A média da minha lista é: \", xy_mean)\n",
    "print(\"A mediana da minha lista é: \", xy_median)\n",
    "print(\"A moda da minha lista é: \", xy_mode)"
   ]
  },
  {
   "cell_type": "code",
   "execution_count": null,
   "metadata": {
    "id": "WBPcwlSZHmq3"
   },
   "outputs": [],
   "source": [
    "# Desvio Padrão\n",
    "xi_std = np.std(xi)\n",
    "xy_std = np.std(xy)"
   ]
  },
  {
   "cell_type": "code",
   "execution_count": null,
   "metadata": {
    "id": "G7KoB4VZHx5h"
   },
   "outputs": [],
   "source": [
    "# Z-score\n",
    "z_score_i = (xi - xi_mean) / xi_std\n",
    "z_score_y = (xy - xy_mean) / xy_std"
   ]
  },
  {
   "cell_type": "code",
   "execution_count": null,
   "metadata": {
    "colab": {
     "base_uri": "https://localhost:8080/"
    },
    "id": "mlnPzX4lH-eu",
    "outputId": "7ad3ce0b-5c80-4324-b363-487da45520c0"
   },
   "outputs": [
    {
     "name": "stdout",
     "output_type": "stream",
     "text": [
      "    Base (sem anomalias)  Z-score (sem anomalias)  Base (com anomalias)  \\\n",
      "0                   3246                -1.866121                  6799   \n",
      "1                   3476                -1.261846                  3476   \n",
      "2                   3724                -0.610280                  3724   \n",
      "3                   3773                -0.481543                  3773   \n",
      "4                   3837                -0.313397                  3837   \n",
      "5                   3968                 0.030777                  3968   \n",
      "6                   4198                 0.635051                  4198   \n",
      "7                   4048                 0.240959                  4048   \n",
      "8                   4170                 0.561488                  4170   \n",
      "9                   4226                 0.708615                  4226   \n",
      "10                  4788                 2.185148                  4788   \n",
      "11                  4009                 0.138495                  4009   \n",
      "12                  3568                -1.020136                  3568   \n",
      "13                  4357                 1.052789                  4357   \n",
      "\n",
      "    Z-score (com anomalias)  \n",
      "0                  3.283588  \n",
      "1                 -0.931037  \n",
      "2                 -0.616494  \n",
      "3                 -0.554346  \n",
      "4                 -0.473174  \n",
      "5                 -0.307024  \n",
      "6                 -0.015310  \n",
      "7                 -0.205558  \n",
      "8                 -0.050823  \n",
      "9                  0.020203  \n",
      "10                 0.732998  \n",
      "11                -0.255023  \n",
      "12                -0.814352  \n",
      "13                 0.186352  \n"
     ]
    }
   ],
   "source": [
    "# Apresentando as listas e os valores de z-score\n",
    "df = pd.DataFrame({'Base (sem anomalias)': xi, 'Z-score (sem anomalias)': z_score_i, 'Base (com anomalias)': xy, 'Z-score (com anomalias)': z_score_y})\n",
    "df.round(2)\n",
    "# cols = ['Base (sem anomalias)', 'Z-score (sem anomalias)', 'Base (com anomalias)', 'Z-score (com anomalias)']\n",
    "# df = df[cols]\n",
    "print_full(df)"
   ]
  },
  {
   "cell_type": "code",
   "execution_count": null,
   "metadata": {
    "colab": {
     "base_uri": "https://localhost:8080/",
     "height": 295
    },
    "id": "y2bAa1HoIr1D",
    "outputId": "6025afa2-b3eb-4d2a-d0cf-0b605110d662"
   },
   "outputs": [
    {
     "data": {
      "image/png": "[encoded data removed]",
      "text/plain": [
       "<Figure size 432x288 with 1 Axes>"
      ]
     },
     "metadata": {
      "needs_background": "light",
      "tags": []
     },
     "output_type": "display_data"
    }
   ],
   "source": [
    "# Plot da distribuição normal de xi\n",
    "stats.probplot(xi, dist='norm', plot=plt)\n",
    "plt.show()"
   ]
  },
  {
   "cell_type": "code",
   "execution_count": null,
   "metadata": {
    "colab": {
     "base_uri": "https://localhost:8080/",
     "height": 295
    },
    "id": "uhCe4iWIJIyq",
    "outputId": "8b5d0587-3167-4f16-c6ef-8ba459d6c27c"
   },
   "outputs": [
    {
     "data": {
      "image/png": "[encoded data removed]",
      "text/plain": [
       "<Figure size 432x288 with 1 Axes>"
      ]
     },
     "metadata": {
      "needs_background": "light",
      "tags": []
     },
     "output_type": "display_data"
    }
   ],
   "source": [
    "# Plot da distribuição normal de xy\n",
    "stats.probplot(xy, dist='norm', plot=plt)\n",
    "plt.show()"
   ]
  },
  {
   "cell_type": "code",
   "execution_count": null,
   "metadata": {
    "colab": {
     "base_uri": "https://localhost:8080/",
     "height": 513
    },
    "id": "vk8NdVIkJMaE",
    "outputId": "f59bfd4d-452b-41b5-95d1-f3a4b0a73c2d"
   },
   "outputs": [
    {
     "data": {
      "image/png": "[encoded data removed]",
      "text/plain": [
       "<Figure size 432x288 with 1 Axes>"
      ]
     },
     "metadata": {
      "needs_background": "light",
      "tags": []
     },
     "output_type": "display_data"
    },
    {
     "data": {
      "image/png": "[encoded data removed]",
      "text/plain": [
       "<Figure size 432x288 with 1 Axes>"
      ]
     },
     "metadata": {
      "needs_background": "light",
      "tags": []
     },
     "output_type": "display_data"
    }
   ],
   "source": [
    "# Boxplot de xi\n",
    "fig_xi = plt.figure(1, figsize=(6, 4))\n",
    "axi = fig_xi.add_subplot(111)\n",
    "bp_xi = axi.boxplot(xi)\n",
    "\n",
    "# Boxplot de xy\n",
    "fig_xy = plt.figure(2, figsize=(6, 4))\n",
    "axy = fig_xy.add_subplot(111)\n",
    "bp_xy = axy.boxplot(xy)"
   ]
  }
 ],
 "metadata": {
  "colab": {
   "collapsed_sections": [],
   "name": "cap1_atividade_pratica.ipynb",
   "provenance": []
  },
  "kernelspec": {
   "display_name": "Python 3",
   "language": "python",
   "name": "python3"
  },
  "language_info": {
   "codemirror_mode": {
    "name": "ipython",
    "version": 3
   },
   "file_extension": ".py",
   "mimetype": "text/x-python",
   "name": "python",
   "nbconvert_exporter": "python",
   "pygments_lexer": "ipython3",
   "version": "3.8.5"
  }
 },
 "nbformat": 4,
 "nbformat_minor": 4
}
