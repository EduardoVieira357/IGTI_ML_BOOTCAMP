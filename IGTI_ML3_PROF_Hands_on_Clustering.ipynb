{
  "nbformat": 4,
  "nbformat_minor": 0,
  "metadata": {
    "kernelspec": {
      "display_name": "Python 3",
      "language": "python",
      "name": "python3"
    },
    "language_info": {
      "codemirror_mode": {
        "name": "ipython",
        "version": 3
      },
      "file_extension": ".py",
      "mimetype": "text/x-python",
      "name": "python",
      "nbconvert_exporter": "python",
      "pygments_lexer": "ipython3",
      "version": "3.6.4"
    },
    "colab": {
      "name": "IGTI_ML_PROF_Hands_on_Clustering.ipynb",
      "provenance": [],
      "collapsed_sections": []
    }
  },
  "cells": [
    {
      "cell_type": "markdown",
      "metadata": {
        "id": "wIl-k3lr8Qiv"
      },
      "source": [
        "# **Hands-on Clsutering**\n",
        "\n",
        "---\n",
        "\n",
        "Clustering com sklearn "
      ]
    },
    {
      "cell_type": "markdown",
      "metadata": {
        "id": "SN6weYKF8N8v"
      },
      "source": [
        "Vamos começar a analisar algoritmos de clusterização de acordo com as métricas vistas nas aula anteriores. \n",
        "\n",
        "Para isso, usaremos 2 algoritmos de clustering diferentes. Todas as implementações são provenivientes do sklearn. São eles: \n",
        "\n",
        "\n",
        "*   <a href = https://scikit-learn.org/stable/modules/clustering.html#k-means> K-means </a>\n",
        "*   <a href = https://scikit-learn.org/stable/modules/generated/sklearn.cluster.AffinityPropagation.html#sklearn.cluster.AffinityPropagation> Affinity Propagation </a>\n",
        "\n",
        "Esses métodos são amplamente utilizados no dia-a-dia quando se trata de uma tarefa de clusterização. Mais informações sobre esses modelos podem ser encontradas nos links para a documentação do sklearn. \n",
        "\n",
        "\n",
        "Vamos utilizar a base de dados **cms.csv** </a> que pode ser encontrada no OpenML em: https://www.openml.org/d/23. Essa base descreve o problema de predizer o método contracepitivo escolhido por um conjunto específico de mulheres do 1987 National Indonesia Contraceptive Prevalence Survey. Essa base de dados é tradicionalmente aplicada a problemas de classificação. \n",
        "\n",
        "Aqui, como estamos tratando de um problema de aprendizado não supervisionado, especificamente com a tarefa de clustering, vamos omitir as informações de labels e usa-las posteriormente para critérios avaliativos. \n"
      ]
    },
    {
      "cell_type": "markdown",
      "metadata": {
        "id": "_5wwHwTQ8N8v"
      },
      "source": [
        "### *Importando* bibliotecas\n"
      ]
    },
    {
      "cell_type": "code",
      "metadata": {
        "id": "i_5G2bRaHU8i"
      },
      "source": [
        "import pandas as pd #biblioteca para manipulação de dados\n",
        "import numpy as np #biblioteca para utilizacao de vetores e matrizes\n",
        "import matplotlib.pyplot as plt #bibloteca para plotar graficos"
      ],
      "execution_count": 1,
      "outputs": []
    },
    {
      "cell_type": "code",
      "metadata": {
        "id": "ufc7rjN0Hbb7",
        "outputId": "1df5ec44-7871-4cfe-b9dc-f01c642f74c7",
        "colab": {
          "base_uri": "https://localhost:8080/",
          "height": 34
        }
      },
      "source": [
        "#liberando acesso do colab aos arquivos no drive\n",
        "#from google.colab import drive\n",
        "#drive.mount('/content/gdrive')"
      ],
      "execution_count": null,
      "outputs": [
        {
          "output_type": "stream",
          "text": [
            "Mounted at /content/gdrive\n"
          ],
          "name": "stdout"
        }
      ]
    },
    {
      "cell_type": "code",
      "metadata": {
        "id": "Vnn1Z4-YN05o",
        "outputId": "bbd3fba3-d25b-4f1c-bc64-5e5415c77dae",
        "colab": {
          "base_uri": "https://localhost:8080/",
          "height": 34
        }
      },
      "source": [
        "#### EDUARDO ACESSANDO O DRIVE (content/drive/My Drive/DADOS/)\n",
        "from google.colab import drive\n",
        "drive.mount('/content/drive')"
      ],
      "execution_count": 3,
      "outputs": [
        {
          "output_type": "stream",
          "text": [
            "Mounted at /content/drive\n"
          ],
          "name": "stdout"
        }
      ]
    },
    {
      "cell_type": "markdown",
      "metadata": {
        "id": "L9aBPfZwHjwK"
      },
      "source": [
        "### Carregamento dos dados"
      ]
    },
    {
      "cell_type": "code",
      "metadata": {
        "id": "FTLPdcSaHsIo"
      },
      "source": [
        "#lendo o csv que contem a base de dados e armazanando em um df\n",
        "df = pd.read_csv('/content/drive/My Drive/DADOS/cmc.csv')"
      ],
      "execution_count": 27,
      "outputs": []
    },
    {
      "cell_type": "code",
      "metadata": {
        "id": "Yw9wSFNd8N8w",
        "outputId": "d8eeee49-af71-42d1-a48b-4884c823a169",
        "colab": {
          "base_uri": "https://localhost:8080/",
          "height": 241
        }
      },
      "source": [
        "#imprimindo as 5 primeiras linhas do df para confirmação\n",
        "df.head(5)"
      ],
      "execution_count": 5,
      "outputs": [
        {
          "output_type": "execute_result",
          "data": {
            "text/html": [
              "<div>\n",
              "<style scoped>\n",
              "    .dataframe tbody tr th:only-of-type {\n",
              "        vertical-align: middle;\n",
              "    }\n",
              "\n",
              "    .dataframe tbody tr th {\n",
              "        vertical-align: top;\n",
              "    }\n",
              "\n",
              "    .dataframe thead th {\n",
              "        text-align: right;\n",
              "    }\n",
              "</style>\n",
              "<table border=\"1\" class=\"dataframe\">\n",
              "  <thead>\n",
              "    <tr style=\"text-align: right;\">\n",
              "      <th></th>\n",
              "      <th>Wifes_age</th>\n",
              "      <th>Wifes_education</th>\n",
              "      <th>Husbands_education</th>\n",
              "      <th>Number_of_children_ever_born</th>\n",
              "      <th>Wifes_religion</th>\n",
              "      <th>Wifes_now_working%3F</th>\n",
              "      <th>Husbands_occupation</th>\n",
              "      <th>Standard-of-living_index</th>\n",
              "      <th>Media_exposure</th>\n",
              "      <th>Contraceptive_method_used</th>\n",
              "    </tr>\n",
              "  </thead>\n",
              "  <tbody>\n",
              "    <tr>\n",
              "      <th>0</th>\n",
              "      <td>24</td>\n",
              "      <td>2</td>\n",
              "      <td>3</td>\n",
              "      <td>3</td>\n",
              "      <td>1</td>\n",
              "      <td>1</td>\n",
              "      <td>2</td>\n",
              "      <td>3</td>\n",
              "      <td>0</td>\n",
              "      <td>1</td>\n",
              "    </tr>\n",
              "    <tr>\n",
              "      <th>1</th>\n",
              "      <td>45</td>\n",
              "      <td>1</td>\n",
              "      <td>3</td>\n",
              "      <td>10</td>\n",
              "      <td>1</td>\n",
              "      <td>1</td>\n",
              "      <td>3</td>\n",
              "      <td>4</td>\n",
              "      <td>0</td>\n",
              "      <td>1</td>\n",
              "    </tr>\n",
              "    <tr>\n",
              "      <th>2</th>\n",
              "      <td>43</td>\n",
              "      <td>2</td>\n",
              "      <td>3</td>\n",
              "      <td>7</td>\n",
              "      <td>1</td>\n",
              "      <td>1</td>\n",
              "      <td>3</td>\n",
              "      <td>4</td>\n",
              "      <td>0</td>\n",
              "      <td>1</td>\n",
              "    </tr>\n",
              "    <tr>\n",
              "      <th>3</th>\n",
              "      <td>42</td>\n",
              "      <td>3</td>\n",
              "      <td>2</td>\n",
              "      <td>9</td>\n",
              "      <td>1</td>\n",
              "      <td>1</td>\n",
              "      <td>3</td>\n",
              "      <td>3</td>\n",
              "      <td>0</td>\n",
              "      <td>1</td>\n",
              "    </tr>\n",
              "    <tr>\n",
              "      <th>4</th>\n",
              "      <td>36</td>\n",
              "      <td>3</td>\n",
              "      <td>3</td>\n",
              "      <td>8</td>\n",
              "      <td>1</td>\n",
              "      <td>1</td>\n",
              "      <td>3</td>\n",
              "      <td>2</td>\n",
              "      <td>0</td>\n",
              "      <td>1</td>\n",
              "    </tr>\n",
              "  </tbody>\n",
              "</table>\n",
              "</div>"
            ],
            "text/plain": [
              "   Wifes_age  Wifes_education  ...  Media_exposure  Contraceptive_method_used\n",
              "0         24                2  ...               0                          1\n",
              "1         45                1  ...               0                          1\n",
              "2         43                2  ...               0                          1\n",
              "3         42                3  ...               0                          1\n",
              "4         36                3  ...               0                          1\n",
              "\n",
              "[5 rows x 10 columns]"
            ]
          },
          "metadata": {
            "tags": []
          },
          "execution_count": 5
        }
      ]
    },
    {
      "cell_type": "markdown",
      "metadata": {
        "id": "cFaZnXnAIonA"
      },
      "source": [
        "\n",
        "\n",
        "*   Wifes_age: numerical \n",
        "*   Wifes_education: categorical 1=low, 2, 3, 4=high\n",
        "*   Husbands_education: categorical 1=low, 2, 3, 4=high\n",
        "*   Number_of_children_ever_born: numerical\n",
        "*   Wifes_religion: binary 0=Non-Islam, 1=Islam\n",
        "*   Wifes_now_working: binary 0=Yes, 1=No\n",
        "*   Husbands_occupation: categorical 1, 2, 3, 4\n",
        "*   Standard-of-living_index: categorical 1=low, 2, 3, 4=high\n",
        "*   Media_exposure: binary 0=Good, 1=Not good\n",
        "*   Contraceptive_method_used: (class attribute) 1=No-use 2=Long-term 3=Short-term"
      ]
    },
    {
      "cell_type": "code",
      "metadata": {
        "id": "d_lxVAD-8N86",
        "outputId": "1ee32446-1f65-4908-b153-1612ef56c864",
        "colab": {
          "base_uri": "https://localhost:8080/",
          "height": 34
        }
      },
      "source": [
        "# Verificando o numero de amostras (linhas) e features (colunas) do dataset. \n",
        "print('Amostras e Features:', df.shape)"
      ],
      "execution_count": 28,
      "outputs": [
        {
          "output_type": "stream",
          "text": [
            "Amostras e Features: (1473, 10)\n"
          ],
          "name": "stdout"
        }
      ]
    },
    {
      "cell_type": "code",
      "metadata": {
        "id": "MILEATwd8N9A",
        "outputId": "3916cc50-225d-42c1-9f1c-0b5059c839eb",
        "colab": {
          "base_uri": "https://localhost:8080/",
          "height": 119
        }
      },
      "source": [
        "# Verificando quais são os tipos das features\n",
        "df.columns"
      ],
      "execution_count": 7,
      "outputs": [
        {
          "output_type": "execute_result",
          "data": {
            "text/plain": [
              "Index(['Wifes_age', 'Wifes_education', 'Husbands_education',\n",
              "       'Number_of_children_ever_born', 'Wifes_religion',\n",
              "       'Wifes_now_working%3F', 'Husbands_occupation',\n",
              "       'Standard-of-living_index', 'Media_exposure',\n",
              "       'Contraceptive_method_used'],\n",
              "      dtype='object')"
            ]
          },
          "metadata": {
            "tags": []
          },
          "execution_count": 7
        }
      ]
    },
    {
      "cell_type": "markdown",
      "metadata": {
        "id": "b2aq9YGyJ_YN"
      },
      "source": [
        "### Pré processamento"
      ]
    },
    {
      "cell_type": "markdown",
      "metadata": {
        "id": "beycpCLSpx1C"
      },
      "source": [
        "Vamos fazer um mapeamento das classes originais para 0, 1 e 2. "
      ]
    },
    {
      "cell_type": "code",
      "metadata": {
        "id": "iLnPxu8ySUvp",
        "outputId": "5352fae2-a3f3-4cf7-fbd9-91593c6672a0",
        "colab": {
          "base_uri": "https://localhost:8080/",
          "height": 34
        }
      },
      "source": [
        "df['Contraceptive_method_used'].unique()  ### 3 classes, 1,2,3... a PROF quer que sejam 0,1,2..."
      ],
      "execution_count": 29,
      "outputs": [
        {
          "output_type": "execute_result",
          "data": {
            "text/plain": [
              "array([1, 2, 3])"
            ]
          },
          "metadata": {
            "tags": []
          },
          "execution_count": 29
        }
      ]
    },
    {
      "cell_type": "code",
      "metadata": {
        "id": "oFQE8EaQqDxB",
        "outputId": "33ef1697-6f62-4e0e-c630-fcde61318245",
        "colab": {
          "base_uri": "https://localhost:8080/",
          "height": 241
        }
      },
      "source": [
        "#criando um dicionario de dados para o mapeamento  ### NO C++ e outros os indices começão com 1,2,3... passar para 0,1,2...\n",
        "name_to_class = {\n",
        "    1: 0,\n",
        "    2: 1,\n",
        "    3: 2\n",
        "\n",
        "}\n",
        "\n",
        "#substituindo os valores categóricos pelo mapeamento\n",
        "df['Contraceptive_method_used'] = df['Contraceptive_method_used'].map(name_to_class)\n",
        "\n",
        "#check\n",
        "df.head(5)"
      ],
      "execution_count": 30,
      "outputs": [
        {
          "output_type": "execute_result",
          "data": {
            "text/html": [
              "<div>\n",
              "<style scoped>\n",
              "    .dataframe tbody tr th:only-of-type {\n",
              "        vertical-align: middle;\n",
              "    }\n",
              "\n",
              "    .dataframe tbody tr th {\n",
              "        vertical-align: top;\n",
              "    }\n",
              "\n",
              "    .dataframe thead th {\n",
              "        text-align: right;\n",
              "    }\n",
              "</style>\n",
              "<table border=\"1\" class=\"dataframe\">\n",
              "  <thead>\n",
              "    <tr style=\"text-align: right;\">\n",
              "      <th></th>\n",
              "      <th>Wifes_age</th>\n",
              "      <th>Wifes_education</th>\n",
              "      <th>Husbands_education</th>\n",
              "      <th>Number_of_children_ever_born</th>\n",
              "      <th>Wifes_religion</th>\n",
              "      <th>Wifes_now_working%3F</th>\n",
              "      <th>Husbands_occupation</th>\n",
              "      <th>Standard-of-living_index</th>\n",
              "      <th>Media_exposure</th>\n",
              "      <th>Contraceptive_method_used</th>\n",
              "    </tr>\n",
              "  </thead>\n",
              "  <tbody>\n",
              "    <tr>\n",
              "      <th>0</th>\n",
              "      <td>24</td>\n",
              "      <td>2</td>\n",
              "      <td>3</td>\n",
              "      <td>3</td>\n",
              "      <td>1</td>\n",
              "      <td>1</td>\n",
              "      <td>2</td>\n",
              "      <td>3</td>\n",
              "      <td>0</td>\n",
              "      <td>0</td>\n",
              "    </tr>\n",
              "    <tr>\n",
              "      <th>1</th>\n",
              "      <td>45</td>\n",
              "      <td>1</td>\n",
              "      <td>3</td>\n",
              "      <td>10</td>\n",
              "      <td>1</td>\n",
              "      <td>1</td>\n",
              "      <td>3</td>\n",
              "      <td>4</td>\n",
              "      <td>0</td>\n",
              "      <td>0</td>\n",
              "    </tr>\n",
              "    <tr>\n",
              "      <th>2</th>\n",
              "      <td>43</td>\n",
              "      <td>2</td>\n",
              "      <td>3</td>\n",
              "      <td>7</td>\n",
              "      <td>1</td>\n",
              "      <td>1</td>\n",
              "      <td>3</td>\n",
              "      <td>4</td>\n",
              "      <td>0</td>\n",
              "      <td>0</td>\n",
              "    </tr>\n",
              "    <tr>\n",
              "      <th>3</th>\n",
              "      <td>42</td>\n",
              "      <td>3</td>\n",
              "      <td>2</td>\n",
              "      <td>9</td>\n",
              "      <td>1</td>\n",
              "      <td>1</td>\n",
              "      <td>3</td>\n",
              "      <td>3</td>\n",
              "      <td>0</td>\n",
              "      <td>0</td>\n",
              "    </tr>\n",
              "    <tr>\n",
              "      <th>4</th>\n",
              "      <td>36</td>\n",
              "      <td>3</td>\n",
              "      <td>3</td>\n",
              "      <td>8</td>\n",
              "      <td>1</td>\n",
              "      <td>1</td>\n",
              "      <td>3</td>\n",
              "      <td>2</td>\n",
              "      <td>0</td>\n",
              "      <td>0</td>\n",
              "    </tr>\n",
              "  </tbody>\n",
              "</table>\n",
              "</div>"
            ],
            "text/plain": [
              "   Wifes_age  Wifes_education  ...  Media_exposure  Contraceptive_method_used\n",
              "0         24                2  ...               0                          0\n",
              "1         45                1  ...               0                          0\n",
              "2         43                2  ...               0                          0\n",
              "3         42                3  ...               0                          0\n",
              "4         36                3  ...               0                          0\n",
              "\n",
              "[5 rows x 10 columns]"
            ]
          },
          "metadata": {
            "tags": []
          },
          "execution_count": 30
        }
      ]
    },
    {
      "cell_type": "markdown",
      "metadata": {
        "id": "WD1KwfP08N9E"
      },
      "source": [
        "Vamos usar o processo que se chama binarização, ou ainda One-Hot Encoding.\n",
        "\n",
        "O pandas possui a função <a href = https://pandas.pydata.org/pandas-docs/stable/generated/pandas.get_dummies.html > get_dummies()</a> que faz essa transformação diretamente. \n",
        "\n",
        "Vamos aplicar essa função as colunas categóricas da base de dados. \n"
      ]
    },
    {
      "cell_type": "code",
      "metadata": {
        "id": "0RafPx8BS4Ai",
        "outputId": "65e6cfd8-9e2e-4e8f-f012-2e5a82c333f5",
        "colab": {
          "base_uri": "https://localhost:8080/",
          "height": 306
        }
      },
      "source": [
        "df.info()  #### fiz essa célula para saber se há alguma coluna categórica... não há TIPO categórico... mas sabemos que há categorias "
      ],
      "execution_count": 31,
      "outputs": [
        {
          "output_type": "stream",
          "text": [
            "<class 'pandas.core.frame.DataFrame'>\n",
            "RangeIndex: 1473 entries, 0 to 1472\n",
            "Data columns (total 10 columns):\n",
            " #   Column                        Non-Null Count  Dtype\n",
            "---  ------                        --------------  -----\n",
            " 0   Wifes_age                     1473 non-null   int64\n",
            " 1   Wifes_education               1473 non-null   int64\n",
            " 2   Husbands_education            1473 non-null   int64\n",
            " 3   Number_of_children_ever_born  1473 non-null   int64\n",
            " 4   Wifes_religion                1473 non-null   int64\n",
            " 5   Wifes_now_working%3F          1473 non-null   int64\n",
            " 6   Husbands_occupation           1473 non-null   int64\n",
            " 7   Standard-of-living_index      1473 non-null   int64\n",
            " 8   Media_exposure                1473 non-null   int64\n",
            " 9   Contraceptive_method_used     1473 non-null   int64\n",
            "dtypes: int64(10)\n",
            "memory usage: 115.2 KB\n"
          ],
          "name": "stdout"
        }
      ]
    },
    {
      "cell_type": "code",
      "metadata": {
        "id": "tukgbkbsTRLN",
        "outputId": "c4656b2f-9eba-4337-b669-8df458de188f",
        "colab": {
          "base_uri": "https://localhost:8080/",
          "height": 306
        }
      },
      "source": [
        "### EDUARDO testando dummies - 1o vou copiar o dataframe para df_edu\n",
        "df_edu =df.copy()\n",
        "df_edu.info()"
      ],
      "execution_count": 32,
      "outputs": [
        {
          "output_type": "stream",
          "text": [
            "<class 'pandas.core.frame.DataFrame'>\n",
            "RangeIndex: 1473 entries, 0 to 1472\n",
            "Data columns (total 10 columns):\n",
            " #   Column                        Non-Null Count  Dtype\n",
            "---  ------                        --------------  -----\n",
            " 0   Wifes_age                     1473 non-null   int64\n",
            " 1   Wifes_education               1473 non-null   int64\n",
            " 2   Husbands_education            1473 non-null   int64\n",
            " 3   Number_of_children_ever_born  1473 non-null   int64\n",
            " 4   Wifes_religion                1473 non-null   int64\n",
            " 5   Wifes_now_working%3F          1473 non-null   int64\n",
            " 6   Husbands_occupation           1473 non-null   int64\n",
            " 7   Standard-of-living_index      1473 non-null   int64\n",
            " 8   Media_exposure                1473 non-null   int64\n",
            " 9   Contraceptive_method_used     1473 non-null   int64\n",
            "dtypes: int64(10)\n",
            "memory usage: 115.2 KB\n"
          ],
          "name": "stdout"
        }
      ]
    },
    {
      "cell_type": "code",
      "metadata": {
        "id": "pq59nGP4VJ95",
        "outputId": "4c74edd9-18b0-4d0e-c17e-e76d6e3fccda",
        "colab": {
          "base_uri": "https://localhost:8080/",
          "height": 241
        }
      },
      "source": [
        "### EDUARDO - 2o vou colocar algumas features como categorical\n",
        "df_edu['Wifes_education'] = df_edu['Wifes_education'].astype('category')\n",
        "df_edu['Husbands_education'] = df_edu['Husbands_education'].astype('str')\n",
        "df_edu2 = pd.get_dummies(df_edu)\n",
        "df_edu2.head()"
      ],
      "execution_count": 33,
      "outputs": [
        {
          "output_type": "execute_result",
          "data": {
            "text/html": [
              "<div>\n",
              "<style scoped>\n",
              "    .dataframe tbody tr th:only-of-type {\n",
              "        vertical-align: middle;\n",
              "    }\n",
              "\n",
              "    .dataframe tbody tr th {\n",
              "        vertical-align: top;\n",
              "    }\n",
              "\n",
              "    .dataframe thead th {\n",
              "        text-align: right;\n",
              "    }\n",
              "</style>\n",
              "<table border=\"1\" class=\"dataframe\">\n",
              "  <thead>\n",
              "    <tr style=\"text-align: right;\">\n",
              "      <th></th>\n",
              "      <th>Wifes_age</th>\n",
              "      <th>Number_of_children_ever_born</th>\n",
              "      <th>Wifes_religion</th>\n",
              "      <th>Wifes_now_working%3F</th>\n",
              "      <th>Husbands_occupation</th>\n",
              "      <th>Standard-of-living_index</th>\n",
              "      <th>Media_exposure</th>\n",
              "      <th>Contraceptive_method_used</th>\n",
              "      <th>Wifes_education_1</th>\n",
              "      <th>Wifes_education_2</th>\n",
              "      <th>Wifes_education_3</th>\n",
              "      <th>Wifes_education_4</th>\n",
              "      <th>Husbands_education_1</th>\n",
              "      <th>Husbands_education_2</th>\n",
              "      <th>Husbands_education_3</th>\n",
              "      <th>Husbands_education_4</th>\n",
              "    </tr>\n",
              "  </thead>\n",
              "  <tbody>\n",
              "    <tr>\n",
              "      <th>0</th>\n",
              "      <td>24</td>\n",
              "      <td>3</td>\n",
              "      <td>1</td>\n",
              "      <td>1</td>\n",
              "      <td>2</td>\n",
              "      <td>3</td>\n",
              "      <td>0</td>\n",
              "      <td>0</td>\n",
              "      <td>0</td>\n",
              "      <td>1</td>\n",
              "      <td>0</td>\n",
              "      <td>0</td>\n",
              "      <td>0</td>\n",
              "      <td>0</td>\n",
              "      <td>1</td>\n",
              "      <td>0</td>\n",
              "    </tr>\n",
              "    <tr>\n",
              "      <th>1</th>\n",
              "      <td>45</td>\n",
              "      <td>10</td>\n",
              "      <td>1</td>\n",
              "      <td>1</td>\n",
              "      <td>3</td>\n",
              "      <td>4</td>\n",
              "      <td>0</td>\n",
              "      <td>0</td>\n",
              "      <td>1</td>\n",
              "      <td>0</td>\n",
              "      <td>0</td>\n",
              "      <td>0</td>\n",
              "      <td>0</td>\n",
              "      <td>0</td>\n",
              "      <td>1</td>\n",
              "      <td>0</td>\n",
              "    </tr>\n",
              "    <tr>\n",
              "      <th>2</th>\n",
              "      <td>43</td>\n",
              "      <td>7</td>\n",
              "      <td>1</td>\n",
              "      <td>1</td>\n",
              "      <td>3</td>\n",
              "      <td>4</td>\n",
              "      <td>0</td>\n",
              "      <td>0</td>\n",
              "      <td>0</td>\n",
              "      <td>1</td>\n",
              "      <td>0</td>\n",
              "      <td>0</td>\n",
              "      <td>0</td>\n",
              "      <td>0</td>\n",
              "      <td>1</td>\n",
              "      <td>0</td>\n",
              "    </tr>\n",
              "    <tr>\n",
              "      <th>3</th>\n",
              "      <td>42</td>\n",
              "      <td>9</td>\n",
              "      <td>1</td>\n",
              "      <td>1</td>\n",
              "      <td>3</td>\n",
              "      <td>3</td>\n",
              "      <td>0</td>\n",
              "      <td>0</td>\n",
              "      <td>0</td>\n",
              "      <td>0</td>\n",
              "      <td>1</td>\n",
              "      <td>0</td>\n",
              "      <td>0</td>\n",
              "      <td>1</td>\n",
              "      <td>0</td>\n",
              "      <td>0</td>\n",
              "    </tr>\n",
              "    <tr>\n",
              "      <th>4</th>\n",
              "      <td>36</td>\n",
              "      <td>8</td>\n",
              "      <td>1</td>\n",
              "      <td>1</td>\n",
              "      <td>3</td>\n",
              "      <td>2</td>\n",
              "      <td>0</td>\n",
              "      <td>0</td>\n",
              "      <td>0</td>\n",
              "      <td>0</td>\n",
              "      <td>1</td>\n",
              "      <td>0</td>\n",
              "      <td>0</td>\n",
              "      <td>0</td>\n",
              "      <td>1</td>\n",
              "      <td>0</td>\n",
              "    </tr>\n",
              "  </tbody>\n",
              "</table>\n",
              "</div>"
            ],
            "text/plain": [
              "   Wifes_age  ...  Husbands_education_4\n",
              "0         24  ...                     0\n",
              "1         45  ...                     0\n",
              "2         43  ...                     0\n",
              "3         42  ...                     0\n",
              "4         36  ...                     0\n",
              "\n",
              "[5 rows x 16 columns]"
            ]
          },
          "metadata": {
            "tags": []
          },
          "execution_count": 33
        }
      ]
    },
    {
      "cell_type": "code",
      "metadata": {
        "id": "J7ZC99wEWsU7"
      },
      "source": [
        ""
      ],
      "execution_count": null,
      "outputs": []
    },
    {
      "cell_type": "markdown",
      "metadata": {
        "id": "Ct5MMbh9Wt0r"
      },
      "source": [
        "# Importante: o get_dummies(df) só funciona se as features estiverem como string ou como category... fiz o teste conforme vc pode ver acima.\n",
        "\n",
        "# Veja que a Professora fez o get_dummies(df, collumns...) pois as colunas do df original são todas int64, logo ela tem que informar quais são as features com classes... muito interessante!\n",
        "\n",
        "# Pesquisei na internet e o sklearn não aceita o category do pandas pois isso é uma implementação nova. No futuro, quem sabe?"
      ]
    },
    {
      "cell_type": "code",
      "metadata": {
        "id": "-_XDPWalqlsL",
        "outputId": "615ffc41-98ed-47c1-f1b4-b47ebe0852a2",
        "colab": {
          "base_uri": "https://localhost:8080/",
          "height": 241
        }
      },
      "source": [
        "# binarizando a features \n",
        "#df2 = pd.get_dummies(df) ##### o que eu testei a professora explicou... ela é sensacional!\n",
        "df1 = pd.get_dummies(df, columns = ['Wifes_education', 'Husbands_education',\n",
        "       'Wifes_religion', 'Wifes_now_working%3F', 'Husbands_occupation',\n",
        "       'Standard-of-living_index', 'Media_exposure'] )\n",
        "\n",
        "# visualizando o resultado\n",
        "df1.head(5)\n",
        "#df2.head(5)"
      ],
      "execution_count": 34,
      "outputs": [
        {
          "output_type": "execute_result",
          "data": {
            "text/html": [
              "<div>\n",
              "<style scoped>\n",
              "    .dataframe tbody tr th:only-of-type {\n",
              "        vertical-align: middle;\n",
              "    }\n",
              "\n",
              "    .dataframe tbody tr th {\n",
              "        vertical-align: top;\n",
              "    }\n",
              "\n",
              "    .dataframe thead th {\n",
              "        text-align: right;\n",
              "    }\n",
              "</style>\n",
              "<table border=\"1\" class=\"dataframe\">\n",
              "  <thead>\n",
              "    <tr style=\"text-align: right;\">\n",
              "      <th></th>\n",
              "      <th>Wifes_age</th>\n",
              "      <th>Number_of_children_ever_born</th>\n",
              "      <th>Contraceptive_method_used</th>\n",
              "      <th>Wifes_education_1</th>\n",
              "      <th>Wifes_education_2</th>\n",
              "      <th>Wifes_education_3</th>\n",
              "      <th>Wifes_education_4</th>\n",
              "      <th>Husbands_education_1</th>\n",
              "      <th>Husbands_education_2</th>\n",
              "      <th>Husbands_education_3</th>\n",
              "      <th>Husbands_education_4</th>\n",
              "      <th>Wifes_religion_0</th>\n",
              "      <th>Wifes_religion_1</th>\n",
              "      <th>Wifes_now_working%3F_0</th>\n",
              "      <th>Wifes_now_working%3F_1</th>\n",
              "      <th>Husbands_occupation_1</th>\n",
              "      <th>Husbands_occupation_2</th>\n",
              "      <th>Husbands_occupation_3</th>\n",
              "      <th>Husbands_occupation_4</th>\n",
              "      <th>Standard-of-living_index_1</th>\n",
              "      <th>Standard-of-living_index_2</th>\n",
              "      <th>Standard-of-living_index_3</th>\n",
              "      <th>Standard-of-living_index_4</th>\n",
              "      <th>Media_exposure_0</th>\n",
              "      <th>Media_exposure_1</th>\n",
              "    </tr>\n",
              "  </thead>\n",
              "  <tbody>\n",
              "    <tr>\n",
              "      <th>0</th>\n",
              "      <td>24</td>\n",
              "      <td>3</td>\n",
              "      <td>0</td>\n",
              "      <td>0</td>\n",
              "      <td>1</td>\n",
              "      <td>0</td>\n",
              "      <td>0</td>\n",
              "      <td>0</td>\n",
              "      <td>0</td>\n",
              "      <td>1</td>\n",
              "      <td>0</td>\n",
              "      <td>0</td>\n",
              "      <td>1</td>\n",
              "      <td>0</td>\n",
              "      <td>1</td>\n",
              "      <td>0</td>\n",
              "      <td>1</td>\n",
              "      <td>0</td>\n",
              "      <td>0</td>\n",
              "      <td>0</td>\n",
              "      <td>0</td>\n",
              "      <td>1</td>\n",
              "      <td>0</td>\n",
              "      <td>1</td>\n",
              "      <td>0</td>\n",
              "    </tr>\n",
              "    <tr>\n",
              "      <th>1</th>\n",
              "      <td>45</td>\n",
              "      <td>10</td>\n",
              "      <td>0</td>\n",
              "      <td>1</td>\n",
              "      <td>0</td>\n",
              "      <td>0</td>\n",
              "      <td>0</td>\n",
              "      <td>0</td>\n",
              "      <td>0</td>\n",
              "      <td>1</td>\n",
              "      <td>0</td>\n",
              "      <td>0</td>\n",
              "      <td>1</td>\n",
              "      <td>0</td>\n",
              "      <td>1</td>\n",
              "      <td>0</td>\n",
              "      <td>0</td>\n",
              "      <td>1</td>\n",
              "      <td>0</td>\n",
              "      <td>0</td>\n",
              "      <td>0</td>\n",
              "      <td>0</td>\n",
              "      <td>1</td>\n",
              "      <td>1</td>\n",
              "      <td>0</td>\n",
              "    </tr>\n",
              "    <tr>\n",
              "      <th>2</th>\n",
              "      <td>43</td>\n",
              "      <td>7</td>\n",
              "      <td>0</td>\n",
              "      <td>0</td>\n",
              "      <td>1</td>\n",
              "      <td>0</td>\n",
              "      <td>0</td>\n",
              "      <td>0</td>\n",
              "      <td>0</td>\n",
              "      <td>1</td>\n",
              "      <td>0</td>\n",
              "      <td>0</td>\n",
              "      <td>1</td>\n",
              "      <td>0</td>\n",
              "      <td>1</td>\n",
              "      <td>0</td>\n",
              "      <td>0</td>\n",
              "      <td>1</td>\n",
              "      <td>0</td>\n",
              "      <td>0</td>\n",
              "      <td>0</td>\n",
              "      <td>0</td>\n",
              "      <td>1</td>\n",
              "      <td>1</td>\n",
              "      <td>0</td>\n",
              "    </tr>\n",
              "    <tr>\n",
              "      <th>3</th>\n",
              "      <td>42</td>\n",
              "      <td>9</td>\n",
              "      <td>0</td>\n",
              "      <td>0</td>\n",
              "      <td>0</td>\n",
              "      <td>1</td>\n",
              "      <td>0</td>\n",
              "      <td>0</td>\n",
              "      <td>1</td>\n",
              "      <td>0</td>\n",
              "      <td>0</td>\n",
              "      <td>0</td>\n",
              "      <td>1</td>\n",
              "      <td>0</td>\n",
              "      <td>1</td>\n",
              "      <td>0</td>\n",
              "      <td>0</td>\n",
              "      <td>1</td>\n",
              "      <td>0</td>\n",
              "      <td>0</td>\n",
              "      <td>0</td>\n",
              "      <td>1</td>\n",
              "      <td>0</td>\n",
              "      <td>1</td>\n",
              "      <td>0</td>\n",
              "    </tr>\n",
              "    <tr>\n",
              "      <th>4</th>\n",
              "      <td>36</td>\n",
              "      <td>8</td>\n",
              "      <td>0</td>\n",
              "      <td>0</td>\n",
              "      <td>0</td>\n",
              "      <td>1</td>\n",
              "      <td>0</td>\n",
              "      <td>0</td>\n",
              "      <td>0</td>\n",
              "      <td>1</td>\n",
              "      <td>0</td>\n",
              "      <td>0</td>\n",
              "      <td>1</td>\n",
              "      <td>0</td>\n",
              "      <td>1</td>\n",
              "      <td>0</td>\n",
              "      <td>0</td>\n",
              "      <td>1</td>\n",
              "      <td>0</td>\n",
              "      <td>0</td>\n",
              "      <td>1</td>\n",
              "      <td>0</td>\n",
              "      <td>0</td>\n",
              "      <td>1</td>\n",
              "      <td>0</td>\n",
              "    </tr>\n",
              "  </tbody>\n",
              "</table>\n",
              "</div>"
            ],
            "text/plain": [
              "   Wifes_age  Number_of_children_ever_born  ...  Media_exposure_0  Media_exposure_1\n",
              "0         24                             3  ...                 1                 0\n",
              "1         45                            10  ...                 1                 0\n",
              "2         43                             7  ...                 1                 0\n",
              "3         42                             9  ...                 1                 0\n",
              "4         36                             8  ...                 1                 0\n",
              "\n",
              "[5 rows x 25 columns]"
            ]
          },
          "metadata": {
            "tags": []
          },
          "execution_count": 34
        }
      ]
    },
    {
      "cell_type": "markdown",
      "metadata": {
        "id": "_J94oUYW8N9Q"
      },
      "source": [
        "Uma outra etapa importante do pré-processamento consiste na avaliação de dados faltantes. \n",
        "\n",
        "Vamos fazer isso para o df original e o df1 apos a binarização\n"
      ]
    },
    {
      "cell_type": "code",
      "metadata": {
        "id": "WneybfXAY_7V"
      },
      "source": [
        "##################################  parou aqui!"
      ],
      "execution_count": null,
      "outputs": []
    },
    {
      "cell_type": "code",
      "metadata": {
        "id": "N67-INUPur14",
        "outputId": "dc1896ab-68c7-40de-edb8-e00283953805",
        "colab": {
          "base_uri": "https://localhost:8080/",
          "height": 334
        }
      },
      "source": [
        "# Analisando o resumo da base\n",
        "df.describe()"
      ],
      "execution_count": 35,
      "outputs": [
        {
          "output_type": "execute_result",
          "data": {
            "text/html": [
              "<div>\n",
              "<style scoped>\n",
              "    .dataframe tbody tr th:only-of-type {\n",
              "        vertical-align: middle;\n",
              "    }\n",
              "\n",
              "    .dataframe tbody tr th {\n",
              "        vertical-align: top;\n",
              "    }\n",
              "\n",
              "    .dataframe thead th {\n",
              "        text-align: right;\n",
              "    }\n",
              "</style>\n",
              "<table border=\"1\" class=\"dataframe\">\n",
              "  <thead>\n",
              "    <tr style=\"text-align: right;\">\n",
              "      <th></th>\n",
              "      <th>Wifes_age</th>\n",
              "      <th>Wifes_education</th>\n",
              "      <th>Husbands_education</th>\n",
              "      <th>Number_of_children_ever_born</th>\n",
              "      <th>Wifes_religion</th>\n",
              "      <th>Wifes_now_working%3F</th>\n",
              "      <th>Husbands_occupation</th>\n",
              "      <th>Standard-of-living_index</th>\n",
              "      <th>Media_exposure</th>\n",
              "      <th>Contraceptive_method_used</th>\n",
              "    </tr>\n",
              "  </thead>\n",
              "  <tbody>\n",
              "    <tr>\n",
              "      <th>count</th>\n",
              "      <td>1473.000000</td>\n",
              "      <td>1473.000000</td>\n",
              "      <td>1473.000000</td>\n",
              "      <td>1473.000000</td>\n",
              "      <td>1473.000000</td>\n",
              "      <td>1473.000000</td>\n",
              "      <td>1473.000000</td>\n",
              "      <td>1473.000000</td>\n",
              "      <td>1473.000000</td>\n",
              "      <td>1473.000000</td>\n",
              "    </tr>\n",
              "    <tr>\n",
              "      <th>mean</th>\n",
              "      <td>32.538357</td>\n",
              "      <td>2.958588</td>\n",
              "      <td>3.429735</td>\n",
              "      <td>3.261371</td>\n",
              "      <td>0.850645</td>\n",
              "      <td>0.749491</td>\n",
              "      <td>2.137814</td>\n",
              "      <td>3.133741</td>\n",
              "      <td>0.073999</td>\n",
              "      <td>0.919891</td>\n",
              "    </tr>\n",
              "    <tr>\n",
              "      <th>std</th>\n",
              "      <td>8.227245</td>\n",
              "      <td>1.014994</td>\n",
              "      <td>0.816349</td>\n",
              "      <td>2.358549</td>\n",
              "      <td>0.356559</td>\n",
              "      <td>0.433453</td>\n",
              "      <td>0.864857</td>\n",
              "      <td>0.976161</td>\n",
              "      <td>0.261858</td>\n",
              "      <td>0.876376</td>\n",
              "    </tr>\n",
              "    <tr>\n",
              "      <th>min</th>\n",
              "      <td>16.000000</td>\n",
              "      <td>1.000000</td>\n",
              "      <td>1.000000</td>\n",
              "      <td>0.000000</td>\n",
              "      <td>0.000000</td>\n",
              "      <td>0.000000</td>\n",
              "      <td>1.000000</td>\n",
              "      <td>1.000000</td>\n",
              "      <td>0.000000</td>\n",
              "      <td>0.000000</td>\n",
              "    </tr>\n",
              "    <tr>\n",
              "      <th>25%</th>\n",
              "      <td>26.000000</td>\n",
              "      <td>2.000000</td>\n",
              "      <td>3.000000</td>\n",
              "      <td>1.000000</td>\n",
              "      <td>1.000000</td>\n",
              "      <td>0.000000</td>\n",
              "      <td>1.000000</td>\n",
              "      <td>3.000000</td>\n",
              "      <td>0.000000</td>\n",
              "      <td>0.000000</td>\n",
              "    </tr>\n",
              "    <tr>\n",
              "      <th>50%</th>\n",
              "      <td>32.000000</td>\n",
              "      <td>3.000000</td>\n",
              "      <td>4.000000</td>\n",
              "      <td>3.000000</td>\n",
              "      <td>1.000000</td>\n",
              "      <td>1.000000</td>\n",
              "      <td>2.000000</td>\n",
              "      <td>3.000000</td>\n",
              "      <td>0.000000</td>\n",
              "      <td>1.000000</td>\n",
              "    </tr>\n",
              "    <tr>\n",
              "      <th>75%</th>\n",
              "      <td>39.000000</td>\n",
              "      <td>4.000000</td>\n",
              "      <td>4.000000</td>\n",
              "      <td>4.000000</td>\n",
              "      <td>1.000000</td>\n",
              "      <td>1.000000</td>\n",
              "      <td>3.000000</td>\n",
              "      <td>4.000000</td>\n",
              "      <td>0.000000</td>\n",
              "      <td>2.000000</td>\n",
              "    </tr>\n",
              "    <tr>\n",
              "      <th>max</th>\n",
              "      <td>49.000000</td>\n",
              "      <td>4.000000</td>\n",
              "      <td>4.000000</td>\n",
              "      <td>16.000000</td>\n",
              "      <td>1.000000</td>\n",
              "      <td>1.000000</td>\n",
              "      <td>4.000000</td>\n",
              "      <td>4.000000</td>\n",
              "      <td>1.000000</td>\n",
              "      <td>2.000000</td>\n",
              "    </tr>\n",
              "  </tbody>\n",
              "</table>\n",
              "</div>"
            ],
            "text/plain": [
              "         Wifes_age  Wifes_education  ...  Media_exposure  Contraceptive_method_used\n",
              "count  1473.000000      1473.000000  ...     1473.000000                1473.000000\n",
              "mean     32.538357         2.958588  ...        0.073999                   0.919891\n",
              "std       8.227245         1.014994  ...        0.261858                   0.876376\n",
              "min      16.000000         1.000000  ...        0.000000                   0.000000\n",
              "25%      26.000000         2.000000  ...        0.000000                   0.000000\n",
              "50%      32.000000         3.000000  ...        0.000000                   1.000000\n",
              "75%      39.000000         4.000000  ...        0.000000                   2.000000\n",
              "max      49.000000         4.000000  ...        1.000000                   2.000000\n",
              "\n",
              "[8 rows x 10 columns]"
            ]
          },
          "metadata": {
            "tags": []
          },
          "execution_count": 35
        }
      ]
    },
    {
      "cell_type": "code",
      "metadata": {
        "id": "fOQWr4kR8N9R",
        "outputId": "1e3cb000-3c99-4f4a-c3c9-fdbe3f72824c",
        "colab": {
          "base_uri": "https://localhost:8080/",
          "height": 334
        }
      },
      "source": [
        "# Analisando o resumo da base df1\n",
        "df1.describe()"
      ],
      "execution_count": 36,
      "outputs": [
        {
          "output_type": "execute_result",
          "data": {
            "text/html": [
              "<div>\n",
              "<style scoped>\n",
              "    .dataframe tbody tr th:only-of-type {\n",
              "        vertical-align: middle;\n",
              "    }\n",
              "\n",
              "    .dataframe tbody tr th {\n",
              "        vertical-align: top;\n",
              "    }\n",
              "\n",
              "    .dataframe thead th {\n",
              "        text-align: right;\n",
              "    }\n",
              "</style>\n",
              "<table border=\"1\" class=\"dataframe\">\n",
              "  <thead>\n",
              "    <tr style=\"text-align: right;\">\n",
              "      <th></th>\n",
              "      <th>Wifes_age</th>\n",
              "      <th>Number_of_children_ever_born</th>\n",
              "      <th>Contraceptive_method_used</th>\n",
              "      <th>Wifes_education_1</th>\n",
              "      <th>Wifes_education_2</th>\n",
              "      <th>Wifes_education_3</th>\n",
              "      <th>Wifes_education_4</th>\n",
              "      <th>Husbands_education_1</th>\n",
              "      <th>Husbands_education_2</th>\n",
              "      <th>Husbands_education_3</th>\n",
              "      <th>Husbands_education_4</th>\n",
              "      <th>Wifes_religion_0</th>\n",
              "      <th>Wifes_religion_1</th>\n",
              "      <th>Wifes_now_working%3F_0</th>\n",
              "      <th>Wifes_now_working%3F_1</th>\n",
              "      <th>Husbands_occupation_1</th>\n",
              "      <th>Husbands_occupation_2</th>\n",
              "      <th>Husbands_occupation_3</th>\n",
              "      <th>Husbands_occupation_4</th>\n",
              "      <th>Standard-of-living_index_1</th>\n",
              "      <th>Standard-of-living_index_2</th>\n",
              "      <th>Standard-of-living_index_3</th>\n",
              "      <th>Standard-of-living_index_4</th>\n",
              "      <th>Media_exposure_0</th>\n",
              "      <th>Media_exposure_1</th>\n",
              "    </tr>\n",
              "  </thead>\n",
              "  <tbody>\n",
              "    <tr>\n",
              "      <th>count</th>\n",
              "      <td>1473.000000</td>\n",
              "      <td>1473.000000</td>\n",
              "      <td>1473.000000</td>\n",
              "      <td>1473.000000</td>\n",
              "      <td>1473.000000</td>\n",
              "      <td>1473.000000</td>\n",
              "      <td>1473.000000</td>\n",
              "      <td>1473.000000</td>\n",
              "      <td>1473.000000</td>\n",
              "      <td>1473.000000</td>\n",
              "      <td>1473.000000</td>\n",
              "      <td>1473.000000</td>\n",
              "      <td>1473.000000</td>\n",
              "      <td>1473.000000</td>\n",
              "      <td>1473.000000</td>\n",
              "      <td>1473.000000</td>\n",
              "      <td>1473.000000</td>\n",
              "      <td>1473.000000</td>\n",
              "      <td>1473.000000</td>\n",
              "      <td>1473.000000</td>\n",
              "      <td>1473.000000</td>\n",
              "      <td>1473.000000</td>\n",
              "      <td>1473.000000</td>\n",
              "      <td>1473.000000</td>\n",
              "      <td>1473.000000</td>\n",
              "    </tr>\n",
              "    <tr>\n",
              "      <th>mean</th>\n",
              "      <td>32.538357</td>\n",
              "      <td>3.261371</td>\n",
              "      <td>0.919891</td>\n",
              "      <td>0.103191</td>\n",
              "      <td>0.226748</td>\n",
              "      <td>0.278344</td>\n",
              "      <td>0.391718</td>\n",
              "      <td>0.029871</td>\n",
              "      <td>0.120842</td>\n",
              "      <td>0.238968</td>\n",
              "      <td>0.610319</td>\n",
              "      <td>0.149355</td>\n",
              "      <td>0.850645</td>\n",
              "      <td>0.250509</td>\n",
              "      <td>0.749491</td>\n",
              "      <td>0.295995</td>\n",
              "      <td>0.288527</td>\n",
              "      <td>0.397149</td>\n",
              "      <td>0.018330</td>\n",
              "      <td>0.087576</td>\n",
              "      <td>0.155465</td>\n",
              "      <td>0.292600</td>\n",
              "      <td>0.464358</td>\n",
              "      <td>0.926001</td>\n",
              "      <td>0.073999</td>\n",
              "    </tr>\n",
              "    <tr>\n",
              "      <th>std</th>\n",
              "      <td>8.227245</td>\n",
              "      <td>2.358549</td>\n",
              "      <td>0.876376</td>\n",
              "      <td>0.304311</td>\n",
              "      <td>0.418871</td>\n",
              "      <td>0.448336</td>\n",
              "      <td>0.488300</td>\n",
              "      <td>0.170289</td>\n",
              "      <td>0.326054</td>\n",
              "      <td>0.426598</td>\n",
              "      <td>0.487843</td>\n",
              "      <td>0.356559</td>\n",
              "      <td>0.356559</td>\n",
              "      <td>0.433453</td>\n",
              "      <td>0.433453</td>\n",
              "      <td>0.456644</td>\n",
              "      <td>0.453231</td>\n",
              "      <td>0.489473</td>\n",
              "      <td>0.134187</td>\n",
              "      <td>0.282774</td>\n",
              "      <td>0.362470</td>\n",
              "      <td>0.455111</td>\n",
              "      <td>0.498897</td>\n",
              "      <td>0.261858</td>\n",
              "      <td>0.261858</td>\n",
              "    </tr>\n",
              "    <tr>\n",
              "      <th>min</th>\n",
              "      <td>16.000000</td>\n",
              "      <td>0.000000</td>\n",
              "      <td>0.000000</td>\n",
              "      <td>0.000000</td>\n",
              "      <td>0.000000</td>\n",
              "      <td>0.000000</td>\n",
              "      <td>0.000000</td>\n",
              "      <td>0.000000</td>\n",
              "      <td>0.000000</td>\n",
              "      <td>0.000000</td>\n",
              "      <td>0.000000</td>\n",
              "      <td>0.000000</td>\n",
              "      <td>0.000000</td>\n",
              "      <td>0.000000</td>\n",
              "      <td>0.000000</td>\n",
              "      <td>0.000000</td>\n",
              "      <td>0.000000</td>\n",
              "      <td>0.000000</td>\n",
              "      <td>0.000000</td>\n",
              "      <td>0.000000</td>\n",
              "      <td>0.000000</td>\n",
              "      <td>0.000000</td>\n",
              "      <td>0.000000</td>\n",
              "      <td>0.000000</td>\n",
              "      <td>0.000000</td>\n",
              "    </tr>\n",
              "    <tr>\n",
              "      <th>25%</th>\n",
              "      <td>26.000000</td>\n",
              "      <td>1.000000</td>\n",
              "      <td>0.000000</td>\n",
              "      <td>0.000000</td>\n",
              "      <td>0.000000</td>\n",
              "      <td>0.000000</td>\n",
              "      <td>0.000000</td>\n",
              "      <td>0.000000</td>\n",
              "      <td>0.000000</td>\n",
              "      <td>0.000000</td>\n",
              "      <td>0.000000</td>\n",
              "      <td>0.000000</td>\n",
              "      <td>1.000000</td>\n",
              "      <td>0.000000</td>\n",
              "      <td>0.000000</td>\n",
              "      <td>0.000000</td>\n",
              "      <td>0.000000</td>\n",
              "      <td>0.000000</td>\n",
              "      <td>0.000000</td>\n",
              "      <td>0.000000</td>\n",
              "      <td>0.000000</td>\n",
              "      <td>0.000000</td>\n",
              "      <td>0.000000</td>\n",
              "      <td>1.000000</td>\n",
              "      <td>0.000000</td>\n",
              "    </tr>\n",
              "    <tr>\n",
              "      <th>50%</th>\n",
              "      <td>32.000000</td>\n",
              "      <td>3.000000</td>\n",
              "      <td>1.000000</td>\n",
              "      <td>0.000000</td>\n",
              "      <td>0.000000</td>\n",
              "      <td>0.000000</td>\n",
              "      <td>0.000000</td>\n",
              "      <td>0.000000</td>\n",
              "      <td>0.000000</td>\n",
              "      <td>0.000000</td>\n",
              "      <td>1.000000</td>\n",
              "      <td>0.000000</td>\n",
              "      <td>1.000000</td>\n",
              "      <td>0.000000</td>\n",
              "      <td>1.000000</td>\n",
              "      <td>0.000000</td>\n",
              "      <td>0.000000</td>\n",
              "      <td>0.000000</td>\n",
              "      <td>0.000000</td>\n",
              "      <td>0.000000</td>\n",
              "      <td>0.000000</td>\n",
              "      <td>0.000000</td>\n",
              "      <td>0.000000</td>\n",
              "      <td>1.000000</td>\n",
              "      <td>0.000000</td>\n",
              "    </tr>\n",
              "    <tr>\n",
              "      <th>75%</th>\n",
              "      <td>39.000000</td>\n",
              "      <td>4.000000</td>\n",
              "      <td>2.000000</td>\n",
              "      <td>0.000000</td>\n",
              "      <td>0.000000</td>\n",
              "      <td>1.000000</td>\n",
              "      <td>1.000000</td>\n",
              "      <td>0.000000</td>\n",
              "      <td>0.000000</td>\n",
              "      <td>0.000000</td>\n",
              "      <td>1.000000</td>\n",
              "      <td>0.000000</td>\n",
              "      <td>1.000000</td>\n",
              "      <td>1.000000</td>\n",
              "      <td>1.000000</td>\n",
              "      <td>1.000000</td>\n",
              "      <td>1.000000</td>\n",
              "      <td>1.000000</td>\n",
              "      <td>0.000000</td>\n",
              "      <td>0.000000</td>\n",
              "      <td>0.000000</td>\n",
              "      <td>1.000000</td>\n",
              "      <td>1.000000</td>\n",
              "      <td>1.000000</td>\n",
              "      <td>0.000000</td>\n",
              "    </tr>\n",
              "    <tr>\n",
              "      <th>max</th>\n",
              "      <td>49.000000</td>\n",
              "      <td>16.000000</td>\n",
              "      <td>2.000000</td>\n",
              "      <td>1.000000</td>\n",
              "      <td>1.000000</td>\n",
              "      <td>1.000000</td>\n",
              "      <td>1.000000</td>\n",
              "      <td>1.000000</td>\n",
              "      <td>1.000000</td>\n",
              "      <td>1.000000</td>\n",
              "      <td>1.000000</td>\n",
              "      <td>1.000000</td>\n",
              "      <td>1.000000</td>\n",
              "      <td>1.000000</td>\n",
              "      <td>1.000000</td>\n",
              "      <td>1.000000</td>\n",
              "      <td>1.000000</td>\n",
              "      <td>1.000000</td>\n",
              "      <td>1.000000</td>\n",
              "      <td>1.000000</td>\n",
              "      <td>1.000000</td>\n",
              "      <td>1.000000</td>\n",
              "      <td>1.000000</td>\n",
              "      <td>1.000000</td>\n",
              "      <td>1.000000</td>\n",
              "    </tr>\n",
              "  </tbody>\n",
              "</table>\n",
              "</div>"
            ],
            "text/plain": [
              "         Wifes_age  ...  Media_exposure_1\n",
              "count  1473.000000  ...       1473.000000\n",
              "mean     32.538357  ...          0.073999\n",
              "std       8.227245  ...          0.261858\n",
              "min      16.000000  ...          0.000000\n",
              "25%      26.000000  ...          0.000000\n",
              "50%      32.000000  ...          0.000000\n",
              "75%      39.000000  ...          0.000000\n",
              "max      49.000000  ...          1.000000\n",
              "\n",
              "[8 rows x 25 columns]"
            ]
          },
          "metadata": {
            "tags": []
          },
          "execution_count": 36
        }
      ]
    },
    {
      "cell_type": "markdown",
      "metadata": {
        "id": "-mH3u8WT8N9f"
      },
      "source": [
        "Os modelos implementados no sklearn recebem como entrada para a modelagam um ou mais arrays. Dessa forma, precisamos modificar o df original para que seja possível a modelagem correta. \n",
        "\n",
        "Para isso, vamos separar o label das amotras, armazenar o nome das featues já que os arrays não fazem isso e depois retirar a coluna de labels do df original. Em seguida, vamos converter o df para array usando o numpy!\n",
        "\n",
        "Novamente, vamos fazer isso para os dois dfs criados!"
      ]
    },
    {
      "cell_type": "code",
      "metadata": {
        "id": "WZ3jLCuEOfbJ",
        "outputId": "0e3fda63-cbf6-4bca-910b-7d556824bd38",
        "colab": {
          "base_uri": "https://localhost:8080/",
          "height": 187
        }
      },
      "source": [
        "# armazenando os labels em um array\n",
        "labels = np.array(df['Contraceptive_method_used'])\n",
        "\n",
        "# salvando a ordem das features\n",
        "feature_list = list(df.columns)\n",
        "feature_list"
      ],
      "execution_count": 37,
      "outputs": [
        {
          "output_type": "execute_result",
          "data": {
            "text/plain": [
              "['Wifes_age',\n",
              " 'Wifes_education',\n",
              " 'Husbands_education',\n",
              " 'Number_of_children_ever_born',\n",
              " 'Wifes_religion',\n",
              " 'Wifes_now_working%3F',\n",
              " 'Husbands_occupation',\n",
              " 'Standard-of-living_index',\n",
              " 'Media_exposure',\n",
              " 'Contraceptive_method_used']"
            ]
          },
          "metadata": {
            "tags": []
          },
          "execution_count": 37
        }
      ]
    },
    {
      "cell_type": "code",
      "metadata": {
        "id": "Q5wIxGj68N9g",
        "outputId": "f93d90c3-5030-4ab2-afcf-f50fb181cdc6",
        "colab": {
          "base_uri": "https://localhost:8080/",
          "height": 102
        }
      },
      "source": [
        "# removendo a coluna de labels do df original\n",
        "df = df.drop('Contraceptive_method_used', axis = 1)\n",
        "\n",
        "# check\n",
        "df.columns"
      ],
      "execution_count": 38,
      "outputs": [
        {
          "output_type": "execute_result",
          "data": {
            "text/plain": [
              "Index(['Wifes_age', 'Wifes_education', 'Husbands_education',\n",
              "       'Number_of_children_ever_born', 'Wifes_religion',\n",
              "       'Wifes_now_working%3F', 'Husbands_occupation',\n",
              "       'Standard-of-living_index', 'Media_exposure'],\n",
              "      dtype='object')"
            ]
          },
          "metadata": {
            "tags": []
          },
          "execution_count": 38
        }
      ]
    },
    {
      "cell_type": "code",
      "metadata": {
        "id": "H24By9Vf8N9k"
      },
      "source": [
        "# convertendo df para array\n",
        "data = np.array(df)"
      ],
      "execution_count": 39,
      "outputs": []
    },
    {
      "cell_type": "code",
      "metadata": {
        "id": "D4BqTPgfvJWa",
        "outputId": "b4d015db-9465-4abd-f6e9-a7ff8d998c01",
        "colab": {
          "base_uri": "https://localhost:8080/",
          "height": 204
        }
      },
      "source": [
        "#repetindo o processo para o df1\n",
        "labels1 = np.array(df1['Contraceptive_method_used'])\n",
        "feature_list1 = list(df1.columns)\n",
        "\n",
        "df1 = df1.drop('Contraceptive_method_used', axis = 1)\n",
        "df1.columns"
      ],
      "execution_count": 40,
      "outputs": [
        {
          "output_type": "execute_result",
          "data": {
            "text/plain": [
              "Index(['Wifes_age', 'Number_of_children_ever_born', 'Wifes_education_1',\n",
              "       'Wifes_education_2', 'Wifes_education_3', 'Wifes_education_4',\n",
              "       'Husbands_education_1', 'Husbands_education_2', 'Husbands_education_3',\n",
              "       'Husbands_education_4', 'Wifes_religion_0', 'Wifes_religion_1',\n",
              "       'Wifes_now_working%3F_0', 'Wifes_now_working%3F_1',\n",
              "       'Husbands_occupation_1', 'Husbands_occupation_2',\n",
              "       'Husbands_occupation_3', 'Husbands_occupation_4',\n",
              "       'Standard-of-living_index_1', 'Standard-of-living_index_2',\n",
              "       'Standard-of-living_index_3', 'Standard-of-living_index_4',\n",
              "       'Media_exposure_0', 'Media_exposure_1'],\n",
              "      dtype='object')"
            ]
          },
          "metadata": {
            "tags": []
          },
          "execution_count": 40
        }
      ]
    },
    {
      "cell_type": "code",
      "metadata": {
        "id": "_5CWEL_uvWZV"
      },
      "source": [
        "data1 = np.array(df1)"
      ],
      "execution_count": 42,
      "outputs": []
    },
    {
      "cell_type": "markdown",
      "metadata": {
        "id": "WY6_Mcme8N9o"
      },
      "source": [
        "Agora estamos quase prontos para a modelagem em si!\n",
        "\n",
        "Precisamos apenas separar uma parte dos nossos dados para que seja possível avaliar os modelos que vamos treinar. O sklearn tem uma função para isso: <a href = http://scikit-learn.org/stable/modules/generated/sklearn.model_selection.train_test_split.html> train_test_split<a>."
      ]
    },
    {
      "cell_type": "code",
      "metadata": {
        "id": "Ews_1IMu8N9p"
      },
      "source": [
        "# importar train_test_split do scikitlearn \n",
        "from sklearn.model_selection import train_test_split\n",
        "\n",
        "# aplicando a funcao train_test_split para separar os conjuntos de treino e \n",
        "# teste segundo uma porcentagem de separação definida. \n",
        "train_data, test_data, train_labels, test_labels = train_test_split(data, labels, test_size = 0.25, random_state = 42)\n",
        "\n",
        "#repetindo o processo para o data1\n",
        "train_data1, test_data1, train_labels1, test_labels1 = train_test_split(data1, labels1, test_size = 0.25, random_state = 42)\n",
        "\n"
      ],
      "execution_count": 43,
      "outputs": []
    },
    {
      "cell_type": "markdown",
      "metadata": {
        "id": "FYsqiOG18N9v"
      },
      "source": [
        "### Baseline: Comparando com um modelo aleatorio!"
      ]
    },
    {
      "cell_type": "markdown",
      "metadata": {
        "id": "JpkQtbyW8N9w"
      },
      "source": [
        "Como falamos durante as aulas teóricas, podemos criar uma base de comparação para os modelos que queremos avaliar. \n",
        "\n",
        "No caso da classificação, o baseline pode ser construído a partir de um modelo aleatório. Nesse caso, são atribuídos 0s e 1s de forma aleatória para todas as amostras de teste. Podemos pensar que o modelo baseline é apenas um chute aleatório sobre o resultado do teste positivo ou negativo. "
      ]
    },
    {
      "cell_type": "code",
      "metadata": {
        "id": "orOp85nl5QDw",
        "outputId": "cf737f11-7c7c-49f6-e416-385a9ae7da9d",
        "colab": {
          "base_uri": "https://localhost:8080/",
          "height": 187
        }
      },
      "source": [
        "# criando baseline\n",
        "np.random.seed(42)  #### equivalente ao random_state=42\n",
        "baseline_preds = np.random.choice([0,1,2], size = len(test_labels))\n",
        "\n",
        "\n",
        "print(baseline_preds)"
      ],
      "execution_count": 57,
      "outputs": [
        {
          "output_type": "stream",
          "text": [
            "[2 0 2 2 0 0 2 1 2 2 2 2 0 2 1 0 1 1 1 1 0 0 1 1 0 0 0 2 2 2 1 2 1 1 2 1 2\n",
            " 2 0 2 0 2 2 0 0 2 1 0 1 1 1 0 1 0 1 2 2 0 2 2 1 0 1 1 1 1 1 1 1 0 2 1 1 1\n",
            " 1 1 1 2 2 1 2 0 1 0 0 1 2 0 1 0 0 0 0 2 0 0 0 2 0 0 2 2 2 0 2 2 0 2 0 1 2\n",
            " 1 0 2 0 1 0 2 2 1 0 2 1 2 2 0 2 0 2 1 2 0 0 1 2 2 1 2 2 0 2 2 1 1 0 2 2 2\n",
            " 0 0 1 0 2 2 0 2 2 0 0 2 2 2 1 1 1 0 1 0 0 1 1 1 2 1 2 0 2 1 0 0 0 2 1 0 0\n",
            " 0 2 2 1 2 0 1 0 0 2 1 2 2 1 0 0 1 0 1 1 2 1 2 0 0 0 0 2 0 1 1 1 2 0 0 0 2\n",
            " 1 1 0 1 1 2 2 2 2 0 2 1 0 1 1 1 2 2 0 0 2 1 0 2 2 2 1 2 2 2 2 0 0 2 1 0 2\n",
            " 0 0 1 2 2 1 1 2 2 1 0 0 1 0 1 0 0 2 2 0 0 2 2 2 1 0 2 0 1 1 2 1 0 2 0 0 1\n",
            " 1 1 1 1 2 0 0 0 0 1 0 2 2 0 0 2 2 1 2 1 1 1 1 1 0 2 1 2 2 1 0 1 0 2 0 0 0\n",
            " 2 2 0 0 1 0 1 0 1 2 0 0 0 0 1 0 2 2 0 2 0 0 2 0 2 1 0 1 2 1 1 2 1 1 2 1]\n"
          ],
          "name": "stdout"
        }
      ]
    },
    {
      "cell_type": "markdown",
      "metadata": {
        "id": "WeZ5topCSLxn"
      },
      "source": [
        "O sklearn tem várias métricas implementadas! :D\n",
        "\n",
        "Vamos testar essas metricas? "
      ]
    },
    {
      "cell_type": "code",
      "metadata": {
        "id": "6Aobv8rd8N9x",
        "outputId": "4d9a9c55-43d3-4b14-8aab-87139425baeb",
        "colab": {
          "base_uri": "https://localhost:8080/",
          "height": 238
        }
      },
      "source": [
        "# importar biblioteca para calculo de métricas  #### avaliar o baseline\n",
        "from sklearn import metrics  \n",
        "from sklearn.metrics import cluster\n",
        "\n",
        "# Avaliando o baseline!\n",
        "# essas medidas são calculadas a partir da comparação com o valor real do nosso conjunto de teste\n",
        "print('Coeficiente de Silhueta\\n', metrics.silhouette_score(test_data, baseline_preds)) ### não supervisionado.... ponto de vista\n",
        "print('\\nDavies-Bouldin Score\\n', metrics.davies_bouldin_score(test_data, baseline_preds)) \n",
        "\n",
        "### repare que o não supervisionado, você passa o test_data e o baseline_preds... você não passa o test_labs, que é o resultado\n",
        "### logo, se vc não passa o resultado, é NÃO SUPERVISIONADO do ponto de vista\n",
        "\n",
        "### já abaixo é normal... labels x baseline\n",
        "print('\\nMatriz de Contingência\\n', metrics.cluster.contingency_matrix(test_labels, baseline_preds)) ### supervisionado... ponto de vista\n",
        "print('\\nMutual information\\n', metrics.mutual_info_score(test_labels, baseline_preds)) "
      ],
      "execution_count": 59,
      "outputs": [
        {
          "output_type": "stream",
          "text": [
            "Coeficiente de Silhueta\n",
            " -0.037261886912811716\n",
            "\n",
            "Davies-Bouldin Score\n",
            " 11.92031337234829\n",
            "\n",
            "Matriz de Contingência\n",
            " [[54 55 50]\n",
            " [32 22 33]\n",
            " [40 38 45]]\n",
            "\n",
            "Mutual information\n",
            " 0.003742637626469314\n"
          ],
          "name": "stdout"
        }
      ]
    },
    {
      "cell_type": "markdown",
      "metadata": {
        "id": "1NH3QMlf8N91"
      },
      "source": [
        "Agora que avaliamos nosso baseline e identificamos o erro desse modelo, podemos criar outros modelos de clusterização e comparar os resultados encontrados!\n",
        "\n",
        "Dica: Se não conseguirmos um erro menor do que o baseline, talvez precisemos repensar nossa abordagem."
      ]
    },
    {
      "cell_type": "markdown",
      "metadata": {
        "id": "p_6LHRU0WoaJ"
      },
      "source": [
        "# K-means"
      ]
    },
    {
      "cell_type": "markdown",
      "metadata": {
        "id": "uem0TvVMWw-X"
      },
      "source": [
        "Vamos aplicar o primeiro modelo de clusterização: o kmeans!"
      ]
    },
    {
      "cell_type": "code",
      "metadata": {
        "id": "ECIYz7rg8N92"
      },
      "source": [
        "# importar o modelo de KMeans  #### ELA COLOCA 3 CLUSTER POIS É A QUANTIDADE DE CLASSE POIS NÓS SABEMOS!\n",
        "from sklearn.cluster import KMeans\n",
        "\n",
        "clustering = KMeans(n_clusters = 3, random_state = 42)\n",
        " \n",
        "# treinando o modelo no conjunto de dados de treino\n",
        "clustering.fit(train_data);"
      ],
      "execution_count": 79,
      "outputs": []
    },
    {
      "cell_type": "code",
      "metadata": {
        "id": "hr9yLk8DE9lc",
        "outputId": "efcbfa1c-bc23-48d3-abee-badc2856a71a",
        "colab": {
          "base_uri": "https://localhost:8080/",
          "height": 376
        }
      },
      "source": [
        "#### EDUARDO - METODO ELBOW PARA ACHAR A QUANTIDADE DE CLUSTER IDEAL - VEJA QUE PELO GRAFICO É 3, A PONTA DO COTOVELO\n",
        "\n",
        "Sum_of_squared_distances = []\n",
        "K = range(1,10)\n",
        "for k in K:\n",
        "    km = KMeans(n_clusters=k)\n",
        "    km = km.fit(train_data)\n",
        "    Sum_of_squared_distances.append(km.inertia_)\n",
        "    #print(km.inertia_)\n",
        "\n",
        "plt.plot(K, Sum_of_squared_distances, 'ro-')\n",
        "plt.xlabel('K - Número de clusters')\n",
        "plt.ylabel('Sum_of_squared_distances')\n",
        "plt.title('Elbow Method For Optimal k')\n",
        "plt.show()"
      ],
      "execution_count": 82,
      "outputs": [
        {
          "output_type": "display_data",
          "data": {
            "image/png": "[encoded data removed]",
            "text/plain": [
              "<Figure size 576x396 with 1 Axes>"
            ]
          },
          "metadata": {
            "tags": []
          }
        }
      ]
    },
    {
      "cell_type": "code",
      "metadata": {
        "id": "E-2XWEDe8N98",
        "outputId": "3ce6b532-05b3-4974-cba5-5a0e9e4474e5",
        "colab": {
          "base_uri": "https://localhost:8080/",
          "height": 359
        }
      },
      "source": [
        "# aplicando o modelo treinado para a previsão da temperatura \n",
        "#em todo o conjunto de teste\n",
        "predictions1_labels = clustering.predict(test_data)\n",
        "\n",
        "# Exibindo dataframe com valores 10 reais e suas respectivas previsões\n",
        "p = pd.DataFrame({'Real': test_labels, 'Previsto': predictions1_labels})  \n",
        "p.head(10)"
      ],
      "execution_count": 83,
      "outputs": [
        {
          "output_type": "execute_result",
          "data": {
            "text/html": [
              "<div>\n",
              "<style scoped>\n",
              "    .dataframe tbody tr th:only-of-type {\n",
              "        vertical-align: middle;\n",
              "    }\n",
              "\n",
              "    .dataframe tbody tr th {\n",
              "        vertical-align: top;\n",
              "    }\n",
              "\n",
              "    .dataframe thead th {\n",
              "        text-align: right;\n",
              "    }\n",
              "</style>\n",
              "<table border=\"1\" class=\"dataframe\">\n",
              "  <thead>\n",
              "    <tr style=\"text-align: right;\">\n",
              "      <th></th>\n",
              "      <th>Real</th>\n",
              "      <th>Previsto</th>\n",
              "    </tr>\n",
              "  </thead>\n",
              "  <tbody>\n",
              "    <tr>\n",
              "      <th>0</th>\n",
              "      <td>2</td>\n",
              "      <td>1</td>\n",
              "    </tr>\n",
              "    <tr>\n",
              "      <th>1</th>\n",
              "      <td>0</td>\n",
              "      <td>0</td>\n",
              "    </tr>\n",
              "    <tr>\n",
              "      <th>2</th>\n",
              "      <td>1</td>\n",
              "      <td>1</td>\n",
              "    </tr>\n",
              "    <tr>\n",
              "      <th>3</th>\n",
              "      <td>0</td>\n",
              "      <td>0</td>\n",
              "    </tr>\n",
              "    <tr>\n",
              "      <th>4</th>\n",
              "      <td>0</td>\n",
              "      <td>1</td>\n",
              "    </tr>\n",
              "    <tr>\n",
              "      <th>5</th>\n",
              "      <td>1</td>\n",
              "      <td>1</td>\n",
              "    </tr>\n",
              "    <tr>\n",
              "      <th>6</th>\n",
              "      <td>1</td>\n",
              "      <td>1</td>\n",
              "    </tr>\n",
              "    <tr>\n",
              "      <th>7</th>\n",
              "      <td>0</td>\n",
              "      <td>1</td>\n",
              "    </tr>\n",
              "    <tr>\n",
              "      <th>8</th>\n",
              "      <td>0</td>\n",
              "      <td>0</td>\n",
              "    </tr>\n",
              "    <tr>\n",
              "      <th>9</th>\n",
              "      <td>0</td>\n",
              "      <td>1</td>\n",
              "    </tr>\n",
              "  </tbody>\n",
              "</table>\n",
              "</div>"
            ],
            "text/plain": [
              "   Real  Previsto\n",
              "0     2         1\n",
              "1     0         0\n",
              "2     1         1\n",
              "3     0         0\n",
              "4     0         1\n",
              "5     1         1\n",
              "6     1         1\n",
              "7     0         1\n",
              "8     0         0\n",
              "9     0         1"
            ]
          },
          "metadata": {
            "tags": []
          },
          "execution_count": 83
        }
      ]
    },
    {
      "cell_type": "markdown",
      "metadata": {
        "id": "M_rj1T77X6Fy"
      },
      "source": [
        "Agora que criamos o modelo do kmeans e aplicamos o modelo criado ao conjunto de teste, podemos então avaliar o modelo gerado. "
      ]
    },
    {
      "cell_type": "code",
      "metadata": {
        "id": "UavyKXJ88N-A",
        "outputId": "be9ba877-77a0-4d80-8c34-4a110bb0ffda",
        "colab": {
          "base_uri": "https://localhost:8080/",
          "height": 238
        }
      },
      "source": [
        "#avaliando o modelo\n",
        "\n",
        "print('Coeficiente de Silhueta\\n', metrics.silhouette_score(test_data, predictions1_labels)) ### NÃO SUPERVISIONADO... test_data\n",
        "print('\\nDavies-Bouldin Score\\n', metrics.davies_bouldin_score(test_data, predictions1_labels)) \n",
        "\n",
        "print('\\nMatriz de Contingência\\n', metrics.cluster.contingency_matrix(test_labels, predictions1_labels)) ### SUPERVISIONADO... test_labels\n",
        "print('\\nMutual information\\n', metrics.mutual_info_score(test_labels, predictions1_labels)) \n",
        "\n",
        "### o SILHUETA MELHOROU CONSIDERAVELMENTE, O DAVIES DESPENCOU QUE É MUITO BOM\n",
        "### A MATRIX CONTINUA ESTRANHA, VEJA A ULTIMA LINHA... 9 DE ACERTO APENAS E O MUTUAL MELHOROU MAIS AINDA ESTÁ BEM PEQUENO\n",
        "### MAS COMPARANDO TUDO COM O BASELINE, MELHOROU MUITO\n",
        "\n",
        "### LEMBRANDO QUE ISSO TUDO FOI FEITO COM O DF... SEM BINARIZAÇÃO, DUMMIES E ETC... PURINHO, COMO VEIO AO MUNDO"
      ],
      "execution_count": 85,
      "outputs": [
        {
          "output_type": "stream",
          "text": [
            "Coeficiente de Silhueta\n",
            " 0.44398567322815014\n",
            "\n",
            "Davies-Bouldin Score\n",
            " 0.7497426781124604\n",
            "\n",
            "Matriz de Contingência\n",
            " [[52 67 40]\n",
            " [41 28 18]\n",
            " [49 65  9]]\n",
            "\n",
            "Mutual information\n",
            " 0.030770654164656755\n"
          ],
          "name": "stdout"
        }
      ]
    },
    {
      "cell_type": "markdown",
      "metadata": {
        "id": "3VjOlNu60Mxw"
      },
      "source": [
        "Vamos agora testar o comportamento do Kmeans com o df1"
      ]
    },
    {
      "cell_type": "code",
      "metadata": {
        "id": "FYX5M0RfKXai",
        "outputId": "a1bec104-543c-45a7-fa7c-34bb9ad89331",
        "colab": {
          "base_uri": "https://localhost:8080/",
          "height": 376
        }
      },
      "source": [
        "#### EDUARDO - METODO ELBOW PARA ACHAR A QUANTIDADE DE CLUSTER IDEAL - VEJA QUE PELO GRAFICO É 3, A PONTA DO COTOVELO\n",
        "\n",
        "Sum_of_squared_distances = []\n",
        "K = range(1,10)\n",
        "for k in K:\n",
        "    km = KMeans(n_clusters=k)\n",
        "    km = km.fit(train_data1)  ###############################  TRAIN_DATA1\n",
        "    Sum_of_squared_distances.append(km.inertia_)\n",
        "    #print(km.inertia_)\n",
        "\n",
        "plt.plot(K, Sum_of_squared_distances, 'ro-')\n",
        "plt.xlabel('K - Número de clusters')\n",
        "plt.ylabel('Sum_of_squared_distances')\n",
        "plt.title('Elbow Method For Optimal k')\n",
        "plt.show()"
      ],
      "execution_count": 86,
      "outputs": [
        {
          "output_type": "display_data",
          "data": {
            "image/png": "[encoded data removed]",
            "text/plain": [
              "<Figure size 576x396 with 1 Axes>"
            ]
          },
          "metadata": {
            "tags": []
          }
        }
      ]
    },
    {
      "cell_type": "code",
      "metadata": {
        "id": "seUabPKm0MiS",
        "outputId": "f45df77d-e373-472f-c9e1-33968afe7a0e",
        "colab": {
          "base_uri": "https://localhost:8080/",
          "height": 359
        }
      },
      "source": [
        "#definindo hiperparametros\n",
        "clustering1 = KMeans(n_clusters = 3, random_state = 42)\n",
        " \n",
        "# treinando o modelo no conjunto de dados de treino\n",
        "clustering1.fit(train_data1);\n",
        "\n",
        "#clustering1 = KMeans(n_clusters = 3, random_state = 42).fit(train_data1)  ###### ALTERNATIVA... MESMA COISA\n",
        "\n",
        "# aplicando o modelo treinado para a previsão da temperatura \n",
        "#em todo o conjunto de teste\n",
        "predictions11_labels = clustering1.predict(test_data1)\n",
        "\n",
        "\n",
        "# Exibindo dataframe com valores 10 reais e suas respectivas previsões\n",
        "p = pd.DataFrame({'Real': test_labels1, 'Previsto': predictions11_labels})  \n",
        "p.head(10)"
      ],
      "execution_count": 89,
      "outputs": [
        {
          "output_type": "execute_result",
          "data": {
            "text/html": [
              "<div>\n",
              "<style scoped>\n",
              "    .dataframe tbody tr th:only-of-type {\n",
              "        vertical-align: middle;\n",
              "    }\n",
              "\n",
              "    .dataframe tbody tr th {\n",
              "        vertical-align: top;\n",
              "    }\n",
              "\n",
              "    .dataframe thead th {\n",
              "        text-align: right;\n",
              "    }\n",
              "</style>\n",
              "<table border=\"1\" class=\"dataframe\">\n",
              "  <thead>\n",
              "    <tr style=\"text-align: right;\">\n",
              "      <th></th>\n",
              "      <th>Real</th>\n",
              "      <th>Previsto</th>\n",
              "    </tr>\n",
              "  </thead>\n",
              "  <tbody>\n",
              "    <tr>\n",
              "      <th>0</th>\n",
              "      <td>2</td>\n",
              "      <td>0</td>\n",
              "    </tr>\n",
              "    <tr>\n",
              "      <th>1</th>\n",
              "      <td>0</td>\n",
              "      <td>2</td>\n",
              "    </tr>\n",
              "    <tr>\n",
              "      <th>2</th>\n",
              "      <td>1</td>\n",
              "      <td>0</td>\n",
              "    </tr>\n",
              "    <tr>\n",
              "      <th>3</th>\n",
              "      <td>0</td>\n",
              "      <td>2</td>\n",
              "    </tr>\n",
              "    <tr>\n",
              "      <th>4</th>\n",
              "      <td>0</td>\n",
              "      <td>0</td>\n",
              "    </tr>\n",
              "    <tr>\n",
              "      <th>5</th>\n",
              "      <td>1</td>\n",
              "      <td>0</td>\n",
              "    </tr>\n",
              "    <tr>\n",
              "      <th>6</th>\n",
              "      <td>1</td>\n",
              "      <td>0</td>\n",
              "    </tr>\n",
              "    <tr>\n",
              "      <th>7</th>\n",
              "      <td>0</td>\n",
              "      <td>0</td>\n",
              "    </tr>\n",
              "    <tr>\n",
              "      <th>8</th>\n",
              "      <td>0</td>\n",
              "      <td>2</td>\n",
              "    </tr>\n",
              "    <tr>\n",
              "      <th>9</th>\n",
              "      <td>0</td>\n",
              "      <td>0</td>\n",
              "    </tr>\n",
              "  </tbody>\n",
              "</table>\n",
              "</div>"
            ],
            "text/plain": [
              "   Real  Previsto\n",
              "0     2         0\n",
              "1     0         2\n",
              "2     1         0\n",
              "3     0         2\n",
              "4     0         0\n",
              "5     1         0\n",
              "6     1         0\n",
              "7     0         0\n",
              "8     0         2\n",
              "9     0         0"
            ]
          },
          "metadata": {
            "tags": []
          },
          "execution_count": 89
        }
      ]
    },
    {
      "cell_type": "code",
      "metadata": {
        "id": "w9sHiApl0rWx",
        "outputId": "04947c94-23b0-40d5-865a-cdb03447033e",
        "colab": {
          "base_uri": "https://localhost:8080/",
          "height": 238
        }
      },
      "source": [
        "# Avaliando o modelo com o df1\n",
        "print('Coeficiente de Silhueta\\n', metrics.silhouette_score(test_data1, predictions11_labels)) \n",
        "print('\\nDavies-Bouldin Score\\n', metrics.davies_bouldin_score(test_data1, predictions11_labels)) \n",
        "\n",
        "print('\\nMatriz de Contingência\\n', metrics.cluster.contingency_matrix(test_labels1, predictions11_labels)) \n",
        "print('\\nMutual information\\n', metrics.mutual_info_score(test_labels1, predictions11_labels)) \n"
      ],
      "execution_count": 90,
      "outputs": [
        {
          "output_type": "stream",
          "text": [
            "Coeficiente de Silhueta\n",
            " 0.4464717655880375\n",
            "\n",
            "Davies-Bouldin Score\n",
            " 0.742946874787857\n",
            "\n",
            "Matriz de Contingência\n",
            " [[67 40 52]\n",
            " [28 18 41]\n",
            " [65  9 49]]\n",
            "\n",
            "Mutual information\n",
            " 0.030770654164656755\n"
          ],
          "name": "stdout"
        }
      ]
    },
    {
      "cell_type": "markdown",
      "metadata": {
        "id": "7A0leRBV8N-E"
      },
      "source": [
        "O resultado do Kmeans qnd comparado ao baseline aprensenta diferenças significativas. \n",
        "\n",
        "Vamos dar uma olhada em um outro algoritmo de clusterização!"
      ]
    },
    {
      "cell_type": "markdown",
      "metadata": {
        "id": "aJXB1tN4ZSOI"
      },
      "source": [
        "# Affinity Propagation"
      ]
    },
    {
      "cell_type": "markdown",
      "metadata": {
        "id": "mjfmk5HkZgjj"
      },
      "source": [
        "Vamos dar uma olhada agora no comportamento do AffinityPropagation"
      ]
    },
    {
      "cell_type": "code",
      "metadata": {
        "id": "vE-1qSaUZsA9",
        "outputId": "71c24bf5-cbd1-44d1-c479-19630e78781b",
        "colab": {
          "base_uri": "https://localhost:8080/",
          "height": 51
        }
      },
      "source": [
        "#importar o modelo ###### O AFFINITY OLHA A AFINIDADE.... O KMEANS OLHA A SIMILARIDADE\n",
        "\n",
        "from sklearn.cluster import AffinityPropagation\n",
        "\n",
        "#instanciacao \n",
        "clustering = AffinityPropagation()\n",
        "\n",
        "# treinando \n",
        "clustering.fit(train_data)\n"
      ],
      "execution_count": 98,
      "outputs": [
        {
          "output_type": "execute_result",
          "data": {
            "text/plain": [
              "AffinityPropagation(affinity='euclidean', convergence_iter=15, copy=True,\n",
              "                    damping=0.5, max_iter=200, preference=None, verbose=False)"
            ]
          },
          "metadata": {
            "tags": []
          },
          "execution_count": 98
        }
      ]
    },
    {
      "cell_type": "code",
      "metadata": {
        "id": "sEqrz0n9Zr5K",
        "outputId": "719e522e-975b-4b1d-f504-6569e9e06cc7",
        "colab": {
          "base_uri": "https://localhost:8080/",
          "height": 359
        }
      },
      "source": [
        "# aplicando o modelo treinado para a previsão \n",
        "predictions2_labels = clustering.predict(test_data)\n",
        "\n",
        "# Exibindo dataframe com valores 10 reais e suas respectivas previsões\n",
        "p = pd.DataFrame({'Real': test_labels, 'Previsto': predictions2_labels})  \n",
        "p.head(10)"
      ],
      "execution_count": 99,
      "outputs": [
        {
          "output_type": "execute_result",
          "data": {
            "text/html": [
              "<div>\n",
              "<style scoped>\n",
              "    .dataframe tbody tr th:only-of-type {\n",
              "        vertical-align: middle;\n",
              "    }\n",
              "\n",
              "    .dataframe tbody tr th {\n",
              "        vertical-align: top;\n",
              "    }\n",
              "\n",
              "    .dataframe thead th {\n",
              "        text-align: right;\n",
              "    }\n",
              "</style>\n",
              "<table border=\"1\" class=\"dataframe\">\n",
              "  <thead>\n",
              "    <tr style=\"text-align: right;\">\n",
              "      <th></th>\n",
              "      <th>Real</th>\n",
              "      <th>Previsto</th>\n",
              "    </tr>\n",
              "  </thead>\n",
              "  <tbody>\n",
              "    <tr>\n",
              "      <th>0</th>\n",
              "      <td>2</td>\n",
              "      <td>10</td>\n",
              "    </tr>\n",
              "    <tr>\n",
              "      <th>1</th>\n",
              "      <td>0</td>\n",
              "      <td>18</td>\n",
              "    </tr>\n",
              "    <tr>\n",
              "      <th>2</th>\n",
              "      <td>1</td>\n",
              "      <td>3</td>\n",
              "    </tr>\n",
              "    <tr>\n",
              "      <th>3</th>\n",
              "      <td>0</td>\n",
              "      <td>10</td>\n",
              "    </tr>\n",
              "    <tr>\n",
              "      <th>4</th>\n",
              "      <td>0</td>\n",
              "      <td>26</td>\n",
              "    </tr>\n",
              "    <tr>\n",
              "      <th>5</th>\n",
              "      <td>1</td>\n",
              "      <td>3</td>\n",
              "    </tr>\n",
              "    <tr>\n",
              "      <th>6</th>\n",
              "      <td>1</td>\n",
              "      <td>3</td>\n",
              "    </tr>\n",
              "    <tr>\n",
              "      <th>7</th>\n",
              "      <td>0</td>\n",
              "      <td>16</td>\n",
              "    </tr>\n",
              "    <tr>\n",
              "      <th>8</th>\n",
              "      <td>0</td>\n",
              "      <td>24</td>\n",
              "    </tr>\n",
              "    <tr>\n",
              "      <th>9</th>\n",
              "      <td>0</td>\n",
              "      <td>3</td>\n",
              "    </tr>\n",
              "  </tbody>\n",
              "</table>\n",
              "</div>"
            ],
            "text/plain": [
              "   Real  Previsto\n",
              "0     2        10\n",
              "1     0        18\n",
              "2     1         3\n",
              "3     0        10\n",
              "4     0        26\n",
              "5     1         3\n",
              "6     1         3\n",
              "7     0        16\n",
              "8     0        24\n",
              "9     0         3"
            ]
          },
          "metadata": {
            "tags": []
          },
          "execution_count": 99
        }
      ]
    },
    {
      "cell_type": "code",
      "metadata": {
        "id": "sAkezhEKZrwC",
        "outputId": "054738e3-cecf-4f08-88e3-6a6d2246b80a",
        "colab": {
          "base_uri": "https://localhost:8080/",
          "height": 289
        }
      },
      "source": [
        "#avaliando o modelo \n",
        "print('Coeficiente de Silhueta\\n', metrics.silhouette_score(test_data, predictions2_labels)) ### não supervisionado\n",
        "print('\\nDavies-Bouldin Score\\n', metrics.davies_bouldin_score(test_data, predictions2_labels)) \n",
        "\n",
        "print('\\nMatriz de Contingência\\n', metrics.cluster.contingency_matrix(test_labels, predictions2_labels)) ### supervisionado\n",
        "print('\\nMutual informtion\\n', metrics.mutual_info_score(test_labels, predictions2_labels)) \n",
        "\n",
        "\n",
        "##### MEDIDAS SUPERVISIONADAS NÃO SÃO ADEQUADAS PARA AVALIAR O INFFINITY PROPAGATION POIS A GENTE NÃO CONSEGUE FIXAR O NRO DE CLUSTERS"
      ],
      "execution_count": 93,
      "outputs": [
        {
          "output_type": "stream",
          "text": [
            "Coeficiente de Silhueta\n",
            " 0.12826562350527615\n",
            "\n",
            "Davies-Bouldin Score\n",
            " 1.4118372108257398\n",
            "\n",
            "Matriz de Contingência\n",
            " [[ 2  9  2 10  5  5  3  2  3  8  4  7  4 10  5  5 18  1  5  0  2  1 20  5\n",
            "   6  3  4  6  4]\n",
            " [ 2  3  5 10  4  0  1  2  0  5  1  1  0  5  0  6  3  2  3  5  0  6  6  6\n",
            "   2  1  0  2  6]\n",
            " [ 3  1 16 10  2  0  0  0  0 10  9  0  2  2  3  1  7  0  7  6  0  2  4  6\n",
            "  11  0 10  0 11]]\n",
            "\n",
            "Mutual informtion\n",
            " 0.21377471672715767\n"
          ],
          "name": "stdout"
        }
      ]
    },
    {
      "cell_type": "markdown",
      "metadata": {
        "id": "QXzmUpah6Tnt"
      },
      "source": [
        "Vamos agora dar um olhada no comportamento do AffinityPropagation para o df1"
      ]
    },
    {
      "cell_type": "code",
      "metadata": {
        "id": "RoOYOQeE6S_e",
        "outputId": "d38f5eb1-c165-4de4-ab73-abbeaaf06e97",
        "colab": {
          "base_uri": "https://localhost:8080/",
          "height": 359
        }
      },
      "source": [
        "# treinando o modelo no conjunto de dados de treino ####### BINARIZADO, DUMMIENIZADO....RSRSR\n",
        "clustering1 = AffinityPropagation().fit(train_data1)\n",
        "# aplicando o modelo treinado para a previsão da temperatura \n",
        "#em todo o conjunto de teste\n",
        "predictions21_labels = clustering1.predict(test_data1)\n",
        "\n",
        "\n",
        "# Exibindo dataframe com valores 10 reais e suas respectivas previsões\n",
        "p = pd.DataFrame({'Real': test_labels1, 'Previsto': predictions21_labels})  \n",
        "p.head(10)"
      ],
      "execution_count": 100,
      "outputs": [
        {
          "output_type": "execute_result",
          "data": {
            "text/html": [
              "<div>\n",
              "<style scoped>\n",
              "    .dataframe tbody tr th:only-of-type {\n",
              "        vertical-align: middle;\n",
              "    }\n",
              "\n",
              "    .dataframe tbody tr th {\n",
              "        vertical-align: top;\n",
              "    }\n",
              "\n",
              "    .dataframe thead th {\n",
              "        text-align: right;\n",
              "    }\n",
              "</style>\n",
              "<table border=\"1\" class=\"dataframe\">\n",
              "  <thead>\n",
              "    <tr style=\"text-align: right;\">\n",
              "      <th></th>\n",
              "      <th>Real</th>\n",
              "      <th>Previsto</th>\n",
              "    </tr>\n",
              "  </thead>\n",
              "  <tbody>\n",
              "    <tr>\n",
              "      <th>0</th>\n",
              "      <td>2</td>\n",
              "      <td>28</td>\n",
              "    </tr>\n",
              "    <tr>\n",
              "      <th>1</th>\n",
              "      <td>0</td>\n",
              "      <td>22</td>\n",
              "    </tr>\n",
              "    <tr>\n",
              "      <th>2</th>\n",
              "      <td>1</td>\n",
              "      <td>25</td>\n",
              "    </tr>\n",
              "    <tr>\n",
              "      <th>3</th>\n",
              "      <td>0</td>\n",
              "      <td>2</td>\n",
              "    </tr>\n",
              "    <tr>\n",
              "      <th>4</th>\n",
              "      <td>0</td>\n",
              "      <td>21</td>\n",
              "    </tr>\n",
              "    <tr>\n",
              "      <th>5</th>\n",
              "      <td>1</td>\n",
              "      <td>7</td>\n",
              "    </tr>\n",
              "    <tr>\n",
              "      <th>6</th>\n",
              "      <td>1</td>\n",
              "      <td>25</td>\n",
              "    </tr>\n",
              "    <tr>\n",
              "      <th>7</th>\n",
              "      <td>0</td>\n",
              "      <td>6</td>\n",
              "    </tr>\n",
              "    <tr>\n",
              "      <th>8</th>\n",
              "      <td>0</td>\n",
              "      <td>11</td>\n",
              "    </tr>\n",
              "    <tr>\n",
              "      <th>9</th>\n",
              "      <td>0</td>\n",
              "      <td>7</td>\n",
              "    </tr>\n",
              "  </tbody>\n",
              "</table>\n",
              "</div>"
            ],
            "text/plain": [
              "   Real  Previsto\n",
              "0     2        28\n",
              "1     0        22\n",
              "2     1        25\n",
              "3     0         2\n",
              "4     0        21\n",
              "5     1         7\n",
              "6     1        25\n",
              "7     0         6\n",
              "8     0        11\n",
              "9     0         7"
            ]
          },
          "metadata": {
            "tags": []
          },
          "execution_count": 100
        }
      ]
    },
    {
      "cell_type": "code",
      "metadata": {
        "id": "IAPrilJp6mpq",
        "outputId": "ffafdb2f-8cef-4cce-950f-ea23ddd4bdbc",
        "colab": {
          "base_uri": "https://localhost:8080/",
          "height": 289
        }
      },
      "source": [
        "#avaliando o modelo para o df1\n",
        "print('Coeficiente de Silhueta\\n', metrics.silhouette_score(test_data, predictions21_labels)) ### não supervisionado\n",
        "print('\\nDavies-Bouldin Score\\n', metrics.davies_bouldin_score(test_data, predictions21_labels)) \n",
        "\n",
        "\n",
        "print('\\nMatriz de Contingência\\n', metrics.cluster.contingency_matrix(test_labels, predictions21_labels)) ### supervisionado\n",
        "print('\\nMutual informtion\\n', metrics.mutual_info_score(test_labels, predictions21_labels)) \n",
        "\n",
        "\n",
        "### tivemos uma piora com a BINARIZAÇÃO, DUMMIERIZAÇÃO.....rsrsr"
      ],
      "execution_count": 103,
      "outputs": [
        {
          "output_type": "stream",
          "text": [
            "Coeficiente de Silhueta\n",
            " 0.1052024314178308\n",
            "\n",
            "Davies-Bouldin Score\n",
            " 1.6920982902650616\n",
            "\n",
            "Matriz de Contingência\n",
            " [[ 5  3  9  7  5  4  5 10  0 12  1  1  2  7  4  1  3  8  3  2  9 11  4  4\n",
            "   7 12  4 13  3]\n",
            " [ 2  9  3  2  4  4  0  9  2  8  0  2  4  3  0  2  0  3  2  0  5  0  2 11\n",
            "   0  5  0  5  0]\n",
            " [ 2  4 12 13  1  8  3  7  3 10  0  5  6  1  2  0  1  3  1  0  5  9  7  4\n",
            "   0  7  0  0  9]]\n",
            "\n",
            "Mutual informtion\n",
            " 0.1830622794957576\n"
          ],
          "name": "stdout"
        }
      ]
    },
    {
      "cell_type": "markdown",
      "metadata": {
        "id": "9Yvn2Ui9fDyK"
      },
      "source": [
        "# Na próxima aula vamos começar a falar sobre técnicas de validação de modelos!\n",
        "\n",
        "#Até lá!"
      ]
    }
  ]
}