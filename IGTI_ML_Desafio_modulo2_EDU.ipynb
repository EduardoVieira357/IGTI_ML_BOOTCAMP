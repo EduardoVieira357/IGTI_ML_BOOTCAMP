{
 "cells": [
  {
   "cell_type": "markdown",
   "metadata": {
    "id": "uHHaEH6CCIJN"
   },
   "source": [
    "# Desafio - Módulo 2"
   ]
  },
  {
   "cell_type": "markdown",
   "metadata": {
    "id": "54O-hkFdCRYJ"
   },
   "source": [
    "## Atividades (Enunciado)\n",
    "\n",
    "Os alunos deverão desempenhar as seguintes atividades:]\n",
    "\n",
    "### 1. Acessar o ambiente Google Colaboratory (recomendado) ou qualquer ambiente  de desenvolvimento em Python.\n"
   ]
  },
  {
   "cell_type": "code",
   "execution_count": 1,
   "metadata": {
    "id": "Azw6aSkb1JS-"
   },
   "outputs": [],
   "source": [
    "import numpy as np\n",
    "import pandas as pd\n",
    "import matplotlib.pyplot as plt\n",
    "import seaborn as sns"
   ]
  },
  {
   "cell_type": "markdown",
   "metadata": {
    "id": "Po83Y5WCCz3p"
   },
   "source": [
    "### 2. Carregar o dataset https://pycourse.s3.amazonaws.com/banknote_authentication.txt para análise utilizando o pandas. Exemplo:"
   ]
  },
  {
   "cell_type": "code",
   "execution_count": 2,
   "metadata": {
    "id": "2hCFGgKb2ImO"
   },
   "outputs": [],
   "source": [
    "df = pd.read_csv('https://pycourse.s3.amazonaws.com/banknote_authentication.txt', header=None, names=['variance', 'skewness', 'curtosis', 'entropy', 'class'])"
   ]
  },
  {
   "cell_type": "code",
   "execution_count": 3,
   "metadata": {
    "colab": {
     "base_uri": "https://localhost:8080/",
     "height": 204
    },
    "id": "w7Uehtqe2bRd",
    "outputId": "c84bfa77-0edc-4fc4-9512-faf8fd2f1df6"
   },
   "outputs": [
    {
     "data": {
      "text/html": [
       "<div>\n",
       "<style scoped>\n",
       "    .dataframe tbody tr th:only-of-type {\n",
       "        vertical-align: middle;\n",
       "    }\n",
       "\n",
       "    .dataframe tbody tr th {\n",
       "        vertical-align: top;\n",
       "    }\n",
       "\n",
       "    .dataframe thead th {\n",
       "        text-align: right;\n",
       "    }\n",
       "</style>\n",
       "<table border=\"1\" class=\"dataframe\">\n",
       "  <thead>\n",
       "    <tr style=\"text-align: right;\">\n",
       "      <th></th>\n",
       "      <th>variance</th>\n",
       "      <th>skewness</th>\n",
       "      <th>curtosis</th>\n",
       "      <th>entropy</th>\n",
       "      <th>class</th>\n",
       "    </tr>\n",
       "  </thead>\n",
       "  <tbody>\n",
       "    <tr>\n",
       "      <th>0</th>\n",
       "      <td>3.62160</td>\n",
       "      <td>8.6661</td>\n",
       "      <td>-2.8073</td>\n",
       "      <td>-0.44699</td>\n",
       "      <td>0</td>\n",
       "    </tr>\n",
       "    <tr>\n",
       "      <th>1</th>\n",
       "      <td>4.54590</td>\n",
       "      <td>8.1674</td>\n",
       "      <td>-2.4586</td>\n",
       "      <td>-1.46210</td>\n",
       "      <td>0</td>\n",
       "    </tr>\n",
       "    <tr>\n",
       "      <th>2</th>\n",
       "      <td>3.86600</td>\n",
       "      <td>-2.6383</td>\n",
       "      <td>1.9242</td>\n",
       "      <td>0.10645</td>\n",
       "      <td>0</td>\n",
       "    </tr>\n",
       "    <tr>\n",
       "      <th>3</th>\n",
       "      <td>3.45660</td>\n",
       "      <td>9.5228</td>\n",
       "      <td>-4.0112</td>\n",
       "      <td>-3.59440</td>\n",
       "      <td>0</td>\n",
       "    </tr>\n",
       "    <tr>\n",
       "      <th>4</th>\n",
       "      <td>0.32924</td>\n",
       "      <td>-4.4552</td>\n",
       "      <td>4.5718</td>\n",
       "      <td>-0.98880</td>\n",
       "      <td>0</td>\n",
       "    </tr>\n",
       "  </tbody>\n",
       "</table>\n",
       "</div>"
      ],
      "text/plain": [
       "   variance  skewness  curtosis  entropy  class\n",
       "0   3.62160    8.6661   -2.8073 -0.44699      0\n",
       "1   4.54590    8.1674   -2.4586 -1.46210      0\n",
       "2   3.86600   -2.6383    1.9242  0.10645      0\n",
       "3   3.45660    9.5228   -4.0112 -3.59440      0\n",
       "4   0.32924   -4.4552    4.5718 -0.98880      0"
      ]
     },
     "execution_count": 3,
     "metadata": {
      "tags": []
     },
     "output_type": "execute_result"
    }
   ],
   "source": [
    "# Amostra do dataframe\n",
    "df.head()"
   ]
  },
  {
   "cell_type": "code",
   "execution_count": 5,
   "metadata": {
    "colab": {
     "base_uri": "https://localhost:8080/",
     "height": 34
    },
    "id": "J7_1TtWvHQb8",
    "outputId": "5d3d47f7-ed57-4e69-8595-958dd3be9c3d"
   },
   "outputs": [
    {
     "data": {
      "text/plain": [
       "(1372, 5)"
      ]
     },
     "execution_count": 5,
     "metadata": {
      "tags": []
     },
     "output_type": "execute_result"
    }
   ],
   "source": [
    "# Dimensões (linhas x colunas) do dataframe\n",
    "df.shape"
   ]
  },
  {
   "cell_type": "code",
   "execution_count": 6,
   "metadata": {
    "colab": {
     "base_uri": "https://localhost:8080/",
     "height": 221
    },
    "id": "j3nxSMvWEkfh",
    "outputId": "888003b8-c913-45af-ad89-3f05c931def6"
   },
   "outputs": [
    {
     "name": "stdout",
     "output_type": "stream",
     "text": [
      "<class 'pandas.core.frame.DataFrame'>\n",
      "RangeIndex: 1372 entries, 0 to 1371\n",
      "Data columns (total 5 columns):\n",
      " #   Column    Non-Null Count  Dtype  \n",
      "---  ------    --------------  -----  \n",
      " 0   variance  1372 non-null   float64\n",
      " 1   skewness  1372 non-null   float64\n",
      " 2   curtosis  1372 non-null   float64\n",
      " 3   entropy   1372 non-null   float64\n",
      " 4   class     1372 non-null   int64  \n",
      "dtypes: float64(4), int64(1)\n",
      "memory usage: 53.7 KB\n"
     ]
    }
   ],
   "source": [
    "# Informações das variáveis do dataframe (nomes, quantidades não nulas, tipos inferidos)\n",
    "df.info()"
   ]
  },
  {
   "cell_type": "code",
   "execution_count": 7,
   "metadata": {
    "colab": {
     "base_uri": "https://localhost:8080/",
     "height": 297
    },
    "id": "NJbJf_Np5tnb",
    "outputId": "a5184731-bc47-47f7-f573-0e8b92402985"
   },
   "outputs": [
    {
     "data": {
      "text/html": [
       "<div>\n",
       "<style scoped>\n",
       "    .dataframe tbody tr th:only-of-type {\n",
       "        vertical-align: middle;\n",
       "    }\n",
       "\n",
       "    .dataframe tbody tr th {\n",
       "        vertical-align: top;\n",
       "    }\n",
       "\n",
       "    .dataframe thead th {\n",
       "        text-align: right;\n",
       "    }\n",
       "</style>\n",
       "<table border=\"1\" class=\"dataframe\">\n",
       "  <thead>\n",
       "    <tr style=\"text-align: right;\">\n",
       "      <th></th>\n",
       "      <th>variance</th>\n",
       "      <th>skewness</th>\n",
       "      <th>curtosis</th>\n",
       "      <th>entropy</th>\n",
       "      <th>class</th>\n",
       "    </tr>\n",
       "  </thead>\n",
       "  <tbody>\n",
       "    <tr>\n",
       "      <th>count</th>\n",
       "      <td>1372.000000</td>\n",
       "      <td>1372.000000</td>\n",
       "      <td>1372.000000</td>\n",
       "      <td>1372.000000</td>\n",
       "      <td>1372.000000</td>\n",
       "    </tr>\n",
       "    <tr>\n",
       "      <th>mean</th>\n",
       "      <td>0.433735</td>\n",
       "      <td>1.922353</td>\n",
       "      <td>1.397627</td>\n",
       "      <td>-1.191657</td>\n",
       "      <td>0.444606</td>\n",
       "    </tr>\n",
       "    <tr>\n",
       "      <th>std</th>\n",
       "      <td>2.842763</td>\n",
       "      <td>5.869047</td>\n",
       "      <td>4.310030</td>\n",
       "      <td>2.101013</td>\n",
       "      <td>0.497103</td>\n",
       "    </tr>\n",
       "    <tr>\n",
       "      <th>min</th>\n",
       "      <td>-7.042100</td>\n",
       "      <td>-13.773100</td>\n",
       "      <td>-5.286100</td>\n",
       "      <td>-8.548200</td>\n",
       "      <td>0.000000</td>\n",
       "    </tr>\n",
       "    <tr>\n",
       "      <th>25%</th>\n",
       "      <td>-1.773000</td>\n",
       "      <td>-1.708200</td>\n",
       "      <td>-1.574975</td>\n",
       "      <td>-2.413450</td>\n",
       "      <td>0.000000</td>\n",
       "    </tr>\n",
       "    <tr>\n",
       "      <th>50%</th>\n",
       "      <td>0.496180</td>\n",
       "      <td>2.319650</td>\n",
       "      <td>0.616630</td>\n",
       "      <td>-0.586650</td>\n",
       "      <td>0.000000</td>\n",
       "    </tr>\n",
       "    <tr>\n",
       "      <th>75%</th>\n",
       "      <td>2.821475</td>\n",
       "      <td>6.814625</td>\n",
       "      <td>3.179250</td>\n",
       "      <td>0.394810</td>\n",
       "      <td>1.000000</td>\n",
       "    </tr>\n",
       "    <tr>\n",
       "      <th>max</th>\n",
       "      <td>6.824800</td>\n",
       "      <td>12.951600</td>\n",
       "      <td>17.927400</td>\n",
       "      <td>2.449500</td>\n",
       "      <td>1.000000</td>\n",
       "    </tr>\n",
       "  </tbody>\n",
       "</table>\n",
       "</div>"
      ],
      "text/plain": [
       "          variance     skewness     curtosis      entropy        class\n",
       "count  1372.000000  1372.000000  1372.000000  1372.000000  1372.000000\n",
       "mean      0.433735     1.922353     1.397627    -1.191657     0.444606\n",
       "std       2.842763     5.869047     4.310030     2.101013     0.497103\n",
       "min      -7.042100   -13.773100    -5.286100    -8.548200     0.000000\n",
       "25%      -1.773000    -1.708200    -1.574975    -2.413450     0.000000\n",
       "50%       0.496180     2.319650     0.616630    -0.586650     0.000000\n",
       "75%       2.821475     6.814625     3.179250     0.394810     1.000000\n",
       "max       6.824800    12.951600    17.927400     2.449500     1.000000"
      ]
     },
     "execution_count": 7,
     "metadata": {
      "tags": []
     },
     "output_type": "execute_result"
    }
   ],
   "source": [
    "# Estatísticas básicas das variáveis numéricas do dataframe\n",
    "df.describe()"
   ]
  },
  {
   "cell_type": "markdown",
   "metadata": {
    "id": "h3XBXFEzDPbQ"
   },
   "source": [
    "### 4. Utilize a variável “class” como saída e as demais como entrada dos modelos."
   ]
  },
  {
   "cell_type": "code",
   "execution_count": 9,
   "metadata": {
    "id": "5YQLPUdE2tWH"
   },
   "outputs": [],
   "source": [
    "X = df.iloc[:, :-1].values\n",
    "y = df.iloc[:, 4].values"
   ]
  },
  {
   "cell_type": "markdown",
   "metadata": {
    "id": "fKPCmqX3C9Ug"
   },
   "source": [
    "### 3. Divida o dataset utilizando a função train_test_split, conforme:\n",
    "\n",
    "a. Conjunto de treino (70%);\n",
    "\n",
    "b. Conjunto de teste (30%);\n",
    "\n",
    "c. random_state=1."
   ]
  },
  {
   "cell_type": "code",
   "execution_count": 10,
   "metadata": {
    "id": "Uyae5xqy2cMw"
   },
   "outputs": [],
   "source": [
    "from sklearn.model_selection import train_test_split\n",
    "X_train, X_test, y_train, y_test = train_test_split(X, y, test_size=0.3, random_state=1)"
   ]
  },
  {
   "cell_type": "markdown",
   "metadata": {
    "id": "mBQAUTOoDLBy"
   },
   "source": [
    "### 5. Para implementação dos algoritmos, utilize as seguintes definições (do sklearn):"
   ]
  },
  {
   "cell_type": "markdown",
   "metadata": {
    "id": "4RDozODdDhbb"
   },
   "source": [
    "a. Algoritmo KNN:"
   ]
  },
  {
   "cell_type": "code",
   "execution_count": 11,
   "metadata": {
    "id": "mOmILL2Z4V7l"
   },
   "outputs": [],
   "source": [
    "from sklearn.neighbors import KNeighborsClassifier\n",
    "clf_KNN = KNeighborsClassifier(n_neighbors=5)"
   ]
  },
  {
   "cell_type": "markdown",
   "metadata": {
    "id": "aVxarJKUDlj4"
   },
   "source": [
    "b. Algoritmo Árvore de Decisão (Decision Tree):"
   ]
  },
  {
   "cell_type": "code",
   "execution_count": 12,
   "metadata": {
    "id": "cxYAL4k34h_Q"
   },
   "outputs": [],
   "source": [
    "from sklearn.tree import DecisionTreeClassifier\n",
    "clf_arvore = DecisionTreeClassifier(random_state=1)"
   ]
  },
  {
   "cell_type": "markdown",
   "metadata": {
    "id": "UKli1qKPDpA6"
   },
   "source": [
    "c. Algoritmo Floresta Aleatória (Random Forest):"
   ]
  },
  {
   "cell_type": "code",
   "execution_count": 14,
   "metadata": {
    "id": "IhdZejLH4pwO"
   },
   "outputs": [],
   "source": [
    "from sklearn.ensemble import RandomForestClassifier\n",
    "clf_floresta = RandomForestClassifier(max_depth=8, random_state=1)"
   ]
  },
  {
   "cell_type": "markdown",
   "metadata": {
    "id": "CrSrgOlDDrcn"
   },
   "source": [
    "d. Algoritmo SVM:"
   ]
  },
  {
   "cell_type": "code",
   "execution_count": 15,
   "metadata": {
    "id": "YlcyDTEx4xIu"
   },
   "outputs": [],
   "source": [
    "from sklearn.svm import SVC\n",
    "clf_svm = SVC(gamma='auto', kernel='rbf', random_state=1)"
   ]
  },
  {
   "cell_type": "markdown",
   "metadata": {
    "id": "SOHiox2XEHP2"
   },
   "source": [
    "e. Algoritmo Rede MLP:"
   ]
  },
  {
   "cell_type": "code",
   "execution_count": 16,
   "metadata": {
    "id": "rD7zRhwQ49dV"
   },
   "outputs": [],
   "source": [
    "from sklearn.neural_network import MLPClassifier\n",
    "clf_mlp = MLPClassifier(hidden_layer_sizes=(2,), solver='lbfgs', random_state=1)"
   ]
  },
  {
   "cell_type": "markdown",
   "metadata": {
    "id": "smSKbkT3EKwa"
   },
   "source": [
    "## Pergunta 1\n",
    "\n",
    "Qual o tamanho desse dataset (número de linhas, número de colunas)?"
   ]
  },
  {
   "cell_type": "code",
   "execution_count": 17,
   "metadata": {
    "colab": {
     "base_uri": "https://localhost:8080/",
     "height": 34
    },
    "id": "R6qCVfho5MXj",
    "outputId": "6d858066-0478-4e23-8317-f80f0ae236a4"
   },
   "outputs": [
    {
     "data": {
      "text/plain": [
       "(1372, 5)"
      ]
     },
     "execution_count": 17,
     "metadata": {
      "tags": []
     },
     "output_type": "execute_result"
    }
   ],
   "source": [
    "df.shape"
   ]
  },
  {
   "cell_type": "markdown",
   "metadata": {
    "id": "bTPjdnseEVfF"
   },
   "source": [
    "## Pergunta 2\n",
    "\n",
    "Qual variável possui o maior range (diferença entre valor máximo e mínimo)?"
   ]
  },
  {
   "cell_type": "code",
   "execution_count": 62,
   "metadata": {
    "colab": {
     "base_uri": "https://localhost:8080/",
     "height": 119
    },
    "id": "rZoC_g7m5ZxE",
    "outputId": "4a276e3d-f600-42d6-86af-b91153919a27"
   },
   "outputs": [
    {
     "data": {
      "text/plain": [
       "skewness    26.7247\n",
       "curtosis    23.2135\n",
       "variance    13.8669\n",
       "entropy     10.9977\n",
       "class        1.0000\n",
       "dtype: float64"
      ]
     },
     "execution_count": 62,
     "metadata": {
      "tags": []
     },
     "output_type": "execute_result"
    }
   ],
   "source": [
    "ranges = df.max() - df.min()\n",
    "ranges.sort_values(ascending=False).head(1) #### nelson mostrando apenas a primeira linha\n",
    "ranges.sort_values(ascending=False)  ### eu mostrando todos os valores para conferir"
   ]
  },
  {
   "cell_type": "markdown",
   "metadata": {
    "id": "mBwOrf2uEuN7"
   },
   "source": [
    "## Pergunta 3\n",
    "\n",
    "Qual a média da coluna skewness?"
   ]
  },
  {
   "cell_type": "code",
   "execution_count": 21,
   "metadata": {
    "colab": {
     "base_uri": "https://localhost:8080/",
     "height": 34
    },
    "id": "ry4ahztm5q1O",
    "outputId": "f9301e67-31af-430e-93de-5de538071295"
   },
   "outputs": [
    {
     "data": {
      "text/plain": [
       "1.9223531206393603"
      ]
     },
     "execution_count": 21,
     "metadata": {
      "tags": []
     },
     "output_type": "execute_result"
    }
   ],
   "source": [
    "df['skewness'].mean()"
   ]
  },
  {
   "cell_type": "markdown",
   "metadata": {
    "id": "icoF7K13EzHh"
   },
   "source": [
    "## Pergunta 4\n",
    "\n",
    "Qual a média da coluna entropy?"
   ]
  },
  {
   "cell_type": "code",
   "execution_count": 22,
   "metadata": {
    "colab": {
     "base_uri": "https://localhost:8080/",
     "height": 34
    },
    "id": "L9KQ6GbV6muz",
    "outputId": "8d8f282a-1e67-484c-c17b-d9a4a2e945a1"
   },
   "outputs": [
    {
     "data": {
      "text/plain": [
       "-1.191656520043731"
      ]
     },
     "execution_count": 22,
     "metadata": {
      "tags": []
     },
     "output_type": "execute_result"
    }
   ],
   "source": [
    "df['entropy'].mean()"
   ]
  },
  {
   "cell_type": "markdown",
   "metadata": {
    "id": "Srt_lwrlE2f6"
   },
   "source": [
    "## Pergunta 5\n",
    "\n",
    "Qual a mediana da coluna variance?"
   ]
  },
  {
   "cell_type": "code",
   "execution_count": 24,
   "metadata": {
    "colab": {
     "base_uri": "https://localhost:8080/",
     "height": 34
    },
    "id": "wfacqjjh6sj9",
    "outputId": "1d43a1a6-8108-43e8-871c-fc607238b0a4"
   },
   "outputs": [
    {
     "data": {
      "text/plain": [
       "0.49618"
      ]
     },
     "execution_count": 24,
     "metadata": {
      "tags": []
     },
     "output_type": "execute_result"
    }
   ],
   "source": [
    "df['variance'].median()"
   ]
  },
  {
   "cell_type": "markdown",
   "metadata": {
    "id": "llB0-vWVE6nx"
   },
   "source": [
    "## Pergunta 6\n",
    "\n",
    "Qual a desvio padrão da coluna curtosis?"
   ]
  },
  {
   "cell_type": "code",
   "execution_count": 25,
   "metadata": {
    "colab": {
     "base_uri": "https://localhost:8080/",
     "height": 34
    },
    "id": "wpeP-xLZ6znV",
    "outputId": "9425eb34-5c00-4729-b59d-5a95161bc98d"
   },
   "outputs": [
    {
     "data": {
      "text/plain": [
       "4.310030090106595"
      ]
     },
     "execution_count": 25,
     "metadata": {
      "tags": []
     },
     "output_type": "execute_result"
    }
   ],
   "source": [
    "df['curtosis'].std()"
   ]
  },
  {
   "cell_type": "markdown",
   "metadata": {
    "id": "Tq2T8a7XE-GB"
   },
   "source": [
    "## Pergunta 7\n",
    "\n",
    "Qual a porcentagem de exemplos do dataset que são cédulas falsas (class=1)?"
   ]
  },
  {
   "cell_type": "code",
   "execution_count": 26,
   "metadata": {
    "colab": {
     "base_uri": "https://localhost:8080/",
     "height": 34
    },
    "id": "fN0I4QNg65w8",
    "outputId": "203eee8b-2a72-47ab-e469-457a7464d8da"
   },
   "outputs": [
    {
     "data": {
      "text/plain": [
       "44.460641399416915"
      ]
     },
     "execution_count": 26,
     "metadata": {
      "tags": []
     },
     "output_type": "execute_result"
    }
   ],
   "source": [
    "quantidade_falsas = (df['class'] == 1).sum()\n",
    "quantidade_total = df.shape[0]\n",
    "\n",
    "quantidade_falsas / quantidade_total * 100"
   ]
  },
  {
   "cell_type": "markdown",
   "metadata": {
    "id": "NtgUkXATFDNS"
   },
   "source": [
    "## Pergunta 8\n",
    "\n",
    "Qual o valor da correlação de Pearson entre as variáveis skewness e curtosis?"
   ]
  },
  {
   "cell_type": "code",
   "execution_count": 29,
   "metadata": {
    "colab": {
     "base_uri": "https://localhost:8080/",
     "height": 111
    },
    "id": "psWWkmOx7HlQ",
    "outputId": "8a353702-07cb-470a-8c81-7c3beebbb3d1"
   },
   "outputs": [
    {
     "data": {
      "text/html": [
       "<div>\n",
       "<style scoped>\n",
       "    .dataframe tbody tr th:only-of-type {\n",
       "        vertical-align: middle;\n",
       "    }\n",
       "\n",
       "    .dataframe tbody tr th {\n",
       "        vertical-align: top;\n",
       "    }\n",
       "\n",
       "    .dataframe thead th {\n",
       "        text-align: right;\n",
       "    }\n",
       "</style>\n",
       "<table border=\"1\" class=\"dataframe\">\n",
       "  <thead>\n",
       "    <tr style=\"text-align: right;\">\n",
       "      <th></th>\n",
       "      <th>skewness</th>\n",
       "      <th>curtosis</th>\n",
       "    </tr>\n",
       "  </thead>\n",
       "  <tbody>\n",
       "    <tr>\n",
       "      <th>skewness</th>\n",
       "      <td>1.000000</td>\n",
       "      <td>-0.786895</td>\n",
       "    </tr>\n",
       "    <tr>\n",
       "      <th>curtosis</th>\n",
       "      <td>-0.786895</td>\n",
       "      <td>1.000000</td>\n",
       "    </tr>\n",
       "  </tbody>\n",
       "</table>\n",
       "</div>"
      ],
      "text/plain": [
       "          skewness  curtosis\n",
       "skewness  1.000000 -0.786895\n",
       "curtosis -0.786895  1.000000"
      ]
     },
     "execution_count": 29,
     "metadata": {
      "tags": []
     },
     "output_type": "execute_result"
    }
   ],
   "source": [
    "### df[['skewness', 'curtosis']].corr().iloc[0,1]  ### nelson mostrando o segundo valor da primeira linha\n",
    "df[['skewness', 'curtosis']].corr()  ################### edu"
   ]
  },
  {
   "cell_type": "markdown",
   "metadata": {
    "id": "JjkXS3wuFnu3"
   },
   "source": [
    "## Pergunta 9\n",
    "\n",
    "Qual a acurácia do KNN no conjunto de teste?"
   ]
  },
  {
   "cell_type": "code",
   "execution_count": 30,
   "metadata": {
    "id": "xjgrd9LU72-Y"
   },
   "outputs": [],
   "source": [
    "clf_KNN.fit(X_train, y_train)\n",
    "y_pred_KNN = clf_KNN.predict(X_test)"
   ]
  },
  {
   "cell_type": "code",
   "execution_count": 31,
   "metadata": {
    "colab": {
     "base_uri": "https://localhost:8080/",
     "height": 34
    },
    "id": "FbTodoJX8Uhp",
    "outputId": "31dfb8b3-f2aa-4a93-c0d2-562f3e8a91aa"
   },
   "outputs": [
    {
     "data": {
      "text/plain": [
       "0.9975728155339806"
      ]
     },
     "execution_count": 31,
     "metadata": {
      "tags": []
     },
     "output_type": "execute_result"
    }
   ],
   "source": [
    "from sklearn.metrics import accuracy_score\n",
    "accuracy_score(y_test, y_pred_KNN)"
   ]
  },
  {
   "cell_type": "markdown",
   "metadata": {
    "id": "l6SGmHkBFsJU"
   },
   "source": [
    "## Pergunta 10\n",
    "\n",
    "Qual a acurácia da Árvore de Decisão no conjunto de teste?"
   ]
  },
  {
   "cell_type": "code",
   "execution_count": 32,
   "metadata": {
    "id": "BymHsgA382N4"
   },
   "outputs": [],
   "source": [
    "clf_arvore.fit(X_train, y_train)\n",
    "y_pred_arvore = clf_arvore.predict(X_test)"
   ]
  },
  {
   "cell_type": "code",
   "execution_count": 33,
   "metadata": {
    "colab": {
     "base_uri": "https://localhost:8080/",
     "height": 34
    },
    "id": "zOxfczhL9ODn",
    "outputId": "3d9dc24b-300b-4cfd-c955-fd105b474c67"
   },
   "outputs": [
    {
     "data": {
      "text/plain": [
       "0.9878640776699029"
      ]
     },
     "execution_count": 33,
     "metadata": {
      "tags": []
     },
     "output_type": "execute_result"
    }
   ],
   "source": [
    "from sklearn.metrics import accuracy_score\n",
    "accuracy_score(y_test, y_pred_arvore)"
   ]
  },
  {
   "cell_type": "markdown",
   "metadata": {
    "id": "W7tviFAPFvOs"
   },
   "source": [
    "## Pergunta 11\n",
    "\n",
    "Qual a acurácia do Random Forest no conjunto de teste?"
   ]
  },
  {
   "cell_type": "code",
   "execution_count": 37,
   "metadata": {
    "id": "liDDBbba9VYX"
   },
   "outputs": [],
   "source": [
    "clf_floresta.fit(X_train, y_train)\n",
    "y_pred_floresta = clf_floresta.predict(X_test)"
   ]
  },
  {
   "cell_type": "code",
   "execution_count": 36,
   "metadata": {
    "colab": {
     "base_uri": "https://localhost:8080/",
     "height": 34
    },
    "id": "yZ9RzGrL9pZd",
    "outputId": "0e2c204c-aeeb-47ad-b0c5-e24ba3bd36d2"
   },
   "outputs": [
    {
     "data": {
      "text/plain": [
       "0.9951456310679612"
      ]
     },
     "execution_count": 36,
     "metadata": {
      "tags": []
     },
     "output_type": "execute_result"
    }
   ],
   "source": [
    "from sklearn.metrics import accuracy_score\n",
    "accuracy_score(y_test, y_pred_floresta)"
   ]
  },
  {
   "cell_type": "markdown",
   "metadata": {
    "id": "qeALgi4wFy6B"
   },
   "source": [
    "## Pergunta 12\n",
    "\n",
    "Analisando o valor da importância relativa das features do Random Forest (atributo feature_importances_), qual feature melhor contribuiu para a predição de class?"
   ]
  },
  {
   "cell_type": "code",
   "execution_count": 41,
   "metadata": {
    "colab": {
     "base_uri": "https://localhost:8080/",
     "height": 154
    },
    "id": "nhexYeo39sFO",
    "outputId": "4cb91f5b-9465-4100-862e-30349fc7178d"
   },
   "outputs": [
    {
     "name": "stdout",
     "output_type": "stream",
     "text": [
      "0\n",
      "   variance  skewness  curtosis  entropy  class\n",
      "0   3.62160    8.6661   -2.8073 -0.44699      0\n",
      "1   4.54590    8.1674   -2.4586 -1.46210      0\n",
      "2   3.86600   -2.6383    1.9242  0.10645      0\n",
      "3   3.45660    9.5228   -4.0112 -3.59440      0\n",
      "4   0.32924   -4.4552    4.5718 -0.98880      0\n"
     ]
    },
    {
     "data": {
      "application/vnd.google.colaboratory.intrinsic+json": {
       "type": "string"
      },
      "text/plain": [
       "'variance'"
      ]
     },
     "execution_count": 41,
     "metadata": {
      "tags": []
     },
     "output_type": "execute_result"
    }
   ],
   "source": [
    "index_max = clf_floresta.feature_importances_.argmax()  #### indica o indice da coluna com maior importancia\n",
    "print(index_max)  ### imprime o indice\n",
    "print(df.head()) ### imprime o dataset para eu ver qual coluna é\n",
    "df.columns[index_max] #### imprime a coluna, com base no indice"
   ]
  },
  {
   "cell_type": "markdown",
   "metadata": {
    "id": "-F1o-IsoF_Kn"
   },
   "source": [
    "## Pergunta 13\n",
    "\n",
    "Qual o valor da importância relativa da feature skewness?"
   ]
  },
  {
   "cell_type": "code",
   "execution_count": 57,
   "metadata": {
    "colab": {
     "base_uri": "https://localhost:8080/",
     "height": 187
    },
    "id": "9wuf-Con9yuS",
    "outputId": "b4b7b5ef-fd6b-43cf-d48f-48b04b8e54bb"
   },
   "outputs": [
    {
     "name": "stdout",
     "output_type": "stream",
     "text": [
      "O índice da coluna skewness  é:  1 \n",
      "\n",
      "   variance  skewness  curtosis  entropy  class\n",
      "0   3.62160    8.6661   -2.8073 -0.44699      0\n",
      "1   4.54590    8.1674   -2.4586 -1.46210      0\n",
      "2   3.86600   -2.6383    1.9242  0.10645      0\n",
      "3   3.45660    9.5228   -4.0112 -3.59440      0\n",
      "4   0.32924   -4.4552    4.5718 -0.98880      0 \n",
      "\n"
     ]
    },
    {
     "data": {
      "text/plain": [
       "0.24058588894949182"
      ]
     },
     "execution_count": 57,
     "metadata": {
      "tags": []
     },
     "output_type": "execute_result"
    }
   ],
   "source": [
    "index_skewness = (df.columns == 'skewness').argmax() ### jeito do Nelson obter o indice da coluna com base no nome\n",
    "index_skewness = df.columns.get_loc('skewness') #### meu jeito de obter o índice com base no nome\n",
    "nome_skewness =  df.columns[index_skewness]   ##### obtendo o nome com base no indice\n",
    "print('O índice da coluna', nome_skewness, ' é: ', index_skewness,'\\n')  ### imprimindo buito\n",
    "print(df.head(),'\\n')\n",
    "clf_floresta.feature_importances_[index_skewness]"
   ]
  },
  {
   "cell_type": "markdown",
   "metadata": {
    "id": "lBEdViQpGM2W"
   },
   "source": [
    "## Pergunta 14\n",
    "\n",
    "Qual a acurácia do SVM no conjunto de teste?"
   ]
  },
  {
   "cell_type": "code",
   "execution_count": 58,
   "metadata": {
    "id": "h09fJCFk-aby"
   },
   "outputs": [],
   "source": [
    "clf_svm.fit(X_train, y_train)\n",
    "y_pred_svm = clf_svm.predict(X_test)"
   ]
  },
  {
   "cell_type": "code",
   "execution_count": 59,
   "metadata": {
    "colab": {
     "base_uri": "https://localhost:8080/",
     "height": 34
    },
    "id": "L3emNveL_p9v",
    "outputId": "248fa1b4-73a5-4c90-ad07-8fcad0dd73da"
   },
   "outputs": [
    {
     "data": {
      "text/plain": [
       "1.0"
      ]
     },
     "execution_count": 59,
     "metadata": {
      "tags": []
     },
     "output_type": "execute_result"
    }
   ],
   "source": [
    "from sklearn.metrics import accuracy_score\n",
    "accuracy_score(y_test, y_pred_svm)"
   ]
  },
  {
   "cell_type": "markdown",
   "metadata": {
    "id": "vsjUcqYDGQcz"
   },
   "source": [
    "## Pergunta 15\n",
    "\n",
    "Qual a acurácia da rede MLP no conjunto de teste?"
   ]
  },
  {
   "cell_type": "code",
   "execution_count": 60,
   "metadata": {
    "id": "zyY30OY7AS6I"
   },
   "outputs": [],
   "source": [
    "clf_mlp.fit(X_train, y_train)\n",
    "y_pred_mlp = clf_mlp.predict(X_test)"
   ]
  },
  {
   "cell_type": "code",
   "execution_count": 61,
   "metadata": {
    "colab": {
     "base_uri": "https://localhost:8080/",
     "height": 34
    },
    "id": "-eSmyjBUAdyx",
    "outputId": "722e0e32-130a-4794-ed79-cdd58912c66d"
   },
   "outputs": [
    {
     "data": {
      "text/plain": [
       "1.0"
      ]
     },
     "execution_count": 61,
     "metadata": {
      "tags": []
     },
     "output_type": "execute_result"
    }
   ],
   "source": [
    "from sklearn.metrics import accuracy_score\n",
    "accuracy_score(y_test, y_pred_mlp)"
   ]
  }
 ],
 "metadata": {
  "colab": {
   "collapsed_sections": [],
   "name": "IGTI_ML_Desafio_modulo2_EDU.ipynb",
   "provenance": []
  },
  "kernelspec": {
   "display_name": "Python 3",
   "language": "python",
   "name": "python3"
  },
  "language_info": {
   "codemirror_mode": {
    "name": "ipython",
    "version": 3
   },
   "file_extension": ".py",
   "mimetype": "text/x-python",
   "name": "python",
   "nbconvert_exporter": "python",
   "pygments_lexer": "ipython3",
   "version": "3.8.5"
  }
 },
 "nbformat": 4,
 "nbformat_minor": 4
}
