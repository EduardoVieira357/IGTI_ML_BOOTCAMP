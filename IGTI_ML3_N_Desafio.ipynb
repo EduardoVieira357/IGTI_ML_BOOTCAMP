{
  "nbformat": 4,
  "nbformat_minor": 0,
  "metadata": {
    "colab": {
      "name": "Desafio Mod_3.ipynb",
      "provenance": []
    },
    "kernelspec": {
      "name": "python3",
      "display_name": "Python 3"
    }
  },
  "cells": [
    {
      "cell_type": "markdown",
      "metadata": {
        "id": "4otTvUj5CI4d"
      },
      "source": [
        "# Desafio 3\n",
        "## Enunciado\n",
        "1. Baixar o arquivo com os dados no link https://www.openml.org/d/1480. O\n",
        "formato do arquivo deve ser CSV.\n",
        "2. Obter informações relativas a número de features e amostras.\n",
        "3. Verificar a necessidade de tratamento de dados categóricos e valores faltantes.\n",
        "4. Modelar o SVC e o Random Forest Classifier, com Random Search para sintonia de hiperparâmetros e validação cruzada estratificada, usando as\n",
        "parametrizações abaixo\n",
        "5. Parametrização SVC:\n",
        "* a. Bibliotecas para importação:  \n",
        "    i. from sklearn.ensemble import RandomForestClassifier  \n",
        "    ii. from sklearn.svm import SVC  \n",
        "    iii. from sklearn.model_selection import StratifiedKFold  \n",
        "    iv. from sklearn.model_selection import RandomizedSearchCV  \n",
        "    v. from scipy.stats import uniform  \n",
        "    vi. from scipy.stats import randint  \n",
        "    vii. from sklearn.metrics import f1_score, make_scorer\n",
        "* b. Kfold estratificado com 10 conjuntos.\n",
        "* c. Métrica de avaliação f1:  \n",
        "    i. f1 = make_scorer(f1_score)\n",
        "* d. Parâmetro de kernel:  \n",
        "    i. Sigmoidal e RBF.  \n",
        "* e. Parâmetro de regularização C:  \n",
        "    i. Distribuição uniforme variando entre 1 e 10\n",
        "* f. Random_state = 42.\n",
        "* g. Número de iterações = 5.\n",
        "6. Avaliar o resultado da modelagem usando as métricas:\n",
        "* a. best_score_\n",
        "* b. best_params_\n",
        "* c. best_estimator_\n",
        "7. Repetir o processo usando o Random Forest:\n",
        "* a. Faça a instanciação do Random Forest fixando o random_state = 42:  \n",
        "    i. RandomForestClassifier(random_state = 42)\n",
        "* b. Kfold estratificado com 10 conjuntos.\n",
        "* c. Métrica de avaliação f1:  \n",
        "    i. f1 = make_scorer(f1_score)\n",
        "* d. Parâmetro do número de árvores:  \n",
        "    i. Distribuição aleatória inteira de valores entre 100 e 200.\n",
        "* e. Parâmetro Bootstrap:  \n",
        "    i. Verdadeiro e Falso.\n",
        "* f. Parâmetro Criterion:  \n",
        "    i. Gini e Entropy.\n",
        "* g. Random_state = 42.\n",
        "* h. Número de iterações = 5.\n",
        "8. Avaliar o resultado da modelagem usando as métricas:\n",
        "* a. best_score_\n",
        "* b. best_params_\n",
        "* c. best_estimator_"
      ]
    },
    {
      "cell_type": "markdown",
      "metadata": {
        "id": "2MTMjbESCNVB"
      },
      "source": [
        "**Dataset**: Indian Liver Patient Dataset  \n",
        "**Source**: [OpenML](https://www.openml.org/d/1480)\n",
        "\n",
        "## Configurações iniciais:\n"
      ]
    },
    {
      "cell_type": "code",
      "metadata": {
        "id": "GS0Gh1J6CXuE",
        "outputId": "2fa0abc2-fa44-49b8-bac1-b66ee5760221",
        "colab": {
          "base_uri": "https://localhost:8080/",
          "height": 221
        }
      },
      "source": [
        "import pandas as pd\n",
        "import numpy as np\n",
        "\n",
        "patients = pd.read_csv('https://raw.githubusercontent.com/victoraccete/ML-bootcamp/master/Mod_3/datasets/patient.csv')\n",
        "print(patients.columns) \n",
        "patients.head()"
      ],
      "execution_count": null,
      "outputs": [
        {
          "output_type": "stream",
          "text": [
            "Index(['V1', 'V2', 'V3', 'V4', 'V5', 'V6', 'V7', 'V8', 'V9', 'V10', 'Class'], dtype='object')\n"
          ],
          "name": "stdout"
        },
        {
          "output_type": "execute_result",
          "data": {
            "text/html": [
              "<div>\n",
              "<style scoped>\n",
              "    .dataframe tbody tr th:only-of-type {\n",
              "        vertical-align: middle;\n",
              "    }\n",
              "\n",
              "    .dataframe tbody tr th {\n",
              "        vertical-align: top;\n",
              "    }\n",
              "\n",
              "    .dataframe thead th {\n",
              "        text-align: right;\n",
              "    }\n",
              "</style>\n",
              "<table border=\"1\" class=\"dataframe\">\n",
              "  <thead>\n",
              "    <tr style=\"text-align: right;\">\n",
              "      <th></th>\n",
              "      <th>V1</th>\n",
              "      <th>V2</th>\n",
              "      <th>V3</th>\n",
              "      <th>V4</th>\n",
              "      <th>V5</th>\n",
              "      <th>V6</th>\n",
              "      <th>V7</th>\n",
              "      <th>V8</th>\n",
              "      <th>V9</th>\n",
              "      <th>V10</th>\n",
              "      <th>Class</th>\n",
              "    </tr>\n",
              "  </thead>\n",
              "  <tbody>\n",
              "    <tr>\n",
              "      <th>0</th>\n",
              "      <td>65</td>\n",
              "      <td>Female</td>\n",
              "      <td>0.7</td>\n",
              "      <td>0.1</td>\n",
              "      <td>187</td>\n",
              "      <td>16</td>\n",
              "      <td>18</td>\n",
              "      <td>6.8</td>\n",
              "      <td>3.3</td>\n",
              "      <td>0.90</td>\n",
              "      <td>1</td>\n",
              "    </tr>\n",
              "    <tr>\n",
              "      <th>1</th>\n",
              "      <td>62</td>\n",
              "      <td>Male</td>\n",
              "      <td>10.9</td>\n",
              "      <td>5.5</td>\n",
              "      <td>699</td>\n",
              "      <td>64</td>\n",
              "      <td>100</td>\n",
              "      <td>7.5</td>\n",
              "      <td>3.2</td>\n",
              "      <td>0.74</td>\n",
              "      <td>1</td>\n",
              "    </tr>\n",
              "    <tr>\n",
              "      <th>2</th>\n",
              "      <td>62</td>\n",
              "      <td>Male</td>\n",
              "      <td>7.3</td>\n",
              "      <td>4.1</td>\n",
              "      <td>490</td>\n",
              "      <td>60</td>\n",
              "      <td>68</td>\n",
              "      <td>7.0</td>\n",
              "      <td>3.3</td>\n",
              "      <td>0.89</td>\n",
              "      <td>1</td>\n",
              "    </tr>\n",
              "    <tr>\n",
              "      <th>3</th>\n",
              "      <td>58</td>\n",
              "      <td>Male</td>\n",
              "      <td>1.0</td>\n",
              "      <td>0.4</td>\n",
              "      <td>182</td>\n",
              "      <td>14</td>\n",
              "      <td>20</td>\n",
              "      <td>6.8</td>\n",
              "      <td>3.4</td>\n",
              "      <td>1.00</td>\n",
              "      <td>1</td>\n",
              "    </tr>\n",
              "    <tr>\n",
              "      <th>4</th>\n",
              "      <td>72</td>\n",
              "      <td>Male</td>\n",
              "      <td>3.9</td>\n",
              "      <td>2.0</td>\n",
              "      <td>195</td>\n",
              "      <td>27</td>\n",
              "      <td>59</td>\n",
              "      <td>7.3</td>\n",
              "      <td>2.4</td>\n",
              "      <td>0.40</td>\n",
              "      <td>1</td>\n",
              "    </tr>\n",
              "  </tbody>\n",
              "</table>\n",
              "</div>"
            ],
            "text/plain": [
              "   V1      V2    V3   V4   V5  V6   V7   V8   V9   V10  Class\n",
              "0  65  Female   0.7  0.1  187  16   18  6.8  3.3  0.90      1\n",
              "1  62    Male  10.9  5.5  699  64  100  7.5  3.2  0.74      1\n",
              "2  62    Male   7.3  4.1  490  60   68  7.0  3.3  0.89      1\n",
              "3  58    Male   1.0  0.4  182  14   20  6.8  3.4  1.00      1\n",
              "4  72    Male   3.9  2.0  195  27   59  7.3  2.4  0.40      1"
            ]
          },
          "metadata": {
            "tags": []
          },
          "execution_count": 73
        }
      ]
    },
    {
      "cell_type": "markdown",
      "metadata": {
        "id": "KgnBUKG7CEl2"
      },
      "source": [
        "V1. Age of the patient. Any patient whose age exceeded 89 is listed as being of age \"90\".  \n",
        "V2. Gender of the patient  \n",
        "V3. Total Bilirubin  \n",
        "V4. Direct Bilirubin  \n",
        "V5. Alkphos Alkaline Phosphatase  \n",
        "V6. Sgpt Alanine Aminotransferase  \n",
        "V7. Sgot Aspartate Aminotransferase  \n",
        "V8. Total Proteins  \n",
        "V9. Albumin  \n",
        "V10. A/G Ratio Albumin and Globulin Ratio  "
      ]
    },
    {
      "cell_type": "markdown",
      "metadata": {
        "id": "XlL-WCYYGm_z"
      },
      "source": [
        "## Perguntas\n",
        "### Pergunta 1\n",
        "O objetivo dessa base é avaliar se uma pessoa vai ser um paciente hepático ou não. A feature que determina a classe nessa base é a “V7”.\n",
        "\n",
        "---\n",
        "\n",
        "( ) Falso  \n",
        "( ) Verdadeiro"
      ]
    },
    {
      "cell_type": "markdown",
      "metadata": {
        "id": "BqBIjEizRzkJ"
      },
      "source": [
        "**R: Falso, a feature é a coluna 'class'.**"
      ]
    },
    {
      "cell_type": "markdown",
      "metadata": {
        "id": "l1_3l2GRGrkr"
      },
      "source": [
        "### Pergunta 2\n",
        "Sobre as informações de número de features e amostras, marque a alternativa CORRETA.\n",
        "\n",
        "---\n",
        "\n",
        "( ) A base conta com 583 features e 11 amostras excluindo o atributo da classe.  \n",
        "( ) A base conta com 583 amostras e 11 features incluindo o atributo da classe.  \n",
        "( ) A base conta com 583 features e 11 amostras incluindo o atributo da classe.  \n",
        "( ) A base conta com 583 amostras e 11 features excluindo o atributo da classe."
      ]
    },
    {
      "cell_type": "code",
      "metadata": {
        "id": "wTPkADH2HEuq",
        "outputId": "6eebbb41-fd43-4aaf-d425-22fbe29f834b",
        "colab": {
          "base_uri": "https://localhost:8080/",
          "height": 34
        }
      },
      "source": [
        "patients.shape"
      ],
      "execution_count": null,
      "outputs": [
        {
          "output_type": "execute_result",
          "data": {
            "text/plain": [
              "(583, 11)"
            ]
          },
          "metadata": {
            "tags": []
          },
          "execution_count": 74
        }
      ]
    },
    {
      "cell_type": "markdown",
      "metadata": {
        "id": "5H088VgESStj"
      },
      "source": [
        "**R: A base conta com 583 amostras e 11 features incluindo o atributo da classe.**"
      ]
    },
    {
      "cell_type": "markdown",
      "metadata": {
        "id": "qJREdYUAGvg6"
      },
      "source": [
        "### Pergunta 3\n",
        "Essa base conta com 3 atributos categóricos. Precisamos fazer o pré processamento desses atributos para que todos sejam numéricos.\n",
        "\n",
        "---\n",
        "\n",
        "( ) Verdadeiro  \n",
        "( ) Falso"
      ]
    },
    {
      "cell_type": "code",
      "metadata": {
        "id": "NODpbndiGu9r",
        "outputId": "9c9a6009-29df-4331-8feb-36ad9be4ac28",
        "colab": {
          "base_uri": "https://localhost:8080/",
          "height": 221
        }
      },
      "source": [
        "patients.dtypes"
      ],
      "execution_count": null,
      "outputs": [
        {
          "output_type": "execute_result",
          "data": {
            "text/plain": [
              "V1         int64\n",
              "V2        object\n",
              "V3       float64\n",
              "V4       float64\n",
              "V5         int64\n",
              "V6         int64\n",
              "V7         int64\n",
              "V8       float64\n",
              "V9       float64\n",
              "V10      float64\n",
              "Class      int64\n",
              "dtype: object"
            ]
          },
          "metadata": {
            "tags": []
          },
          "execution_count": 75
        }
      ]
    },
    {
      "cell_type": "markdown",
      "metadata": {
        "id": "hmNi1iU0T6ok"
      },
      "source": [
        "**R: Falso. Não há 3 atributos categóricos. Há apenas V2 (sexo) e Class, que apesar de estar categorizado como 0 ou 1, é categórico.**"
      ]
    },
    {
      "cell_type": "markdown",
      "metadata": {
        "id": "p-3qp3riGuKd"
      },
      "source": [
        "### Pergunta 4\n",
        "A base não tem dados faltantes.\n",
        "\n",
        "---\n",
        "\n",
        "( ) Falso  \n",
        "( ) Verdadeiro"
      ]
    },
    {
      "cell_type": "code",
      "metadata": {
        "id": "bN5PbeIgHFPP",
        "outputId": "94021440-9afc-4378-e9c1-9ab25c2284ef",
        "colab": {
          "base_uri": "https://localhost:8080/",
          "height": 323
        }
      },
      "source": [
        "patients.info()"
      ],
      "execution_count": null,
      "outputs": [
        {
          "output_type": "stream",
          "text": [
            "<class 'pandas.core.frame.DataFrame'>\n",
            "RangeIndex: 583 entries, 0 to 582\n",
            "Data columns (total 11 columns):\n",
            " #   Column  Non-Null Count  Dtype  \n",
            "---  ------  --------------  -----  \n",
            " 0   V1      583 non-null    int64  \n",
            " 1   V2      583 non-null    object \n",
            " 2   V3      583 non-null    float64\n",
            " 3   V4      583 non-null    float64\n",
            " 4   V5      583 non-null    int64  \n",
            " 5   V6      583 non-null    int64  \n",
            " 6   V7      583 non-null    int64  \n",
            " 7   V8      583 non-null    float64\n",
            " 8   V9      583 non-null    float64\n",
            " 9   V10     583 non-null    float64\n",
            " 10  Class   583 non-null    int64  \n",
            "dtypes: float64(5), int64(5), object(1)\n",
            "memory usage: 50.2+ KB\n"
          ],
          "name": "stdout"
        }
      ]
    },
    {
      "cell_type": "markdown",
      "metadata": {
        "id": "jUSz1SjBUbJj"
      },
      "source": [
        "**R: Verdadeiro. Podemos ver que temos 583 amostras e em todas as colunas temos 583 valores não-nulos.**"
      ]
    },
    {
      "cell_type": "markdown",
      "metadata": {
        "id": "3GfM5ZIDGwjM"
      },
      "source": [
        "### Pergunta 5\n",
        "Sobre o best_score_ encontrado durante a otimização do SVC, marque a alternativa CORRETA.\n",
        "\n",
        "---\n",
        "\n",
        "( ) O valor da f1 encontrado foi aproximadamente 0.76.  \n",
        "( ) O valor da f1 encontrado foi aproximadamente 0.73.  \n",
        "( ) O valor da f1 encontrado foi aproximadamente 0.93.  \n",
        "( ) O valor da f1 encontrado foi aproximadamente 0.83."
      ]
    },
    {
      "cell_type": "markdown",
      "metadata": {
        "id": "fI8_trEcfgKb"
      },
      "source": [
        "Fazendo o pre-processamento dos dados:"
      ]
    },
    {
      "cell_type": "code",
      "metadata": {
        "id": "ad_ky0guZ5dj",
        "outputId": "13a241d4-5b3c-48e9-cd4e-f88d035f0aa4",
        "colab": {
          "base_uri": "https://localhost:8080/",
          "height": 204
        }
      },
      "source": [
        "patients['V2'] = patients['V2'].map({'Female': 0, 'Male': 1})\n",
        "\n",
        "patients.head()"
      ],
      "execution_count": null,
      "outputs": [
        {
          "output_type": "execute_result",
          "data": {
            "text/html": [
              "<div>\n",
              "<style scoped>\n",
              "    .dataframe tbody tr th:only-of-type {\n",
              "        vertical-align: middle;\n",
              "    }\n",
              "\n",
              "    .dataframe tbody tr th {\n",
              "        vertical-align: top;\n",
              "    }\n",
              "\n",
              "    .dataframe thead th {\n",
              "        text-align: right;\n",
              "    }\n",
              "</style>\n",
              "<table border=\"1\" class=\"dataframe\">\n",
              "  <thead>\n",
              "    <tr style=\"text-align: right;\">\n",
              "      <th></th>\n",
              "      <th>V1</th>\n",
              "      <th>V2</th>\n",
              "      <th>V3</th>\n",
              "      <th>V4</th>\n",
              "      <th>V5</th>\n",
              "      <th>V6</th>\n",
              "      <th>V7</th>\n",
              "      <th>V8</th>\n",
              "      <th>V9</th>\n",
              "      <th>V10</th>\n",
              "      <th>Class</th>\n",
              "    </tr>\n",
              "  </thead>\n",
              "  <tbody>\n",
              "    <tr>\n",
              "      <th>0</th>\n",
              "      <td>65</td>\n",
              "      <td>0</td>\n",
              "      <td>0.7</td>\n",
              "      <td>0.1</td>\n",
              "      <td>187</td>\n",
              "      <td>16</td>\n",
              "      <td>18</td>\n",
              "      <td>6.8</td>\n",
              "      <td>3.3</td>\n",
              "      <td>0.90</td>\n",
              "      <td>1</td>\n",
              "    </tr>\n",
              "    <tr>\n",
              "      <th>1</th>\n",
              "      <td>62</td>\n",
              "      <td>1</td>\n",
              "      <td>10.9</td>\n",
              "      <td>5.5</td>\n",
              "      <td>699</td>\n",
              "      <td>64</td>\n",
              "      <td>100</td>\n",
              "      <td>7.5</td>\n",
              "      <td>3.2</td>\n",
              "      <td>0.74</td>\n",
              "      <td>1</td>\n",
              "    </tr>\n",
              "    <tr>\n",
              "      <th>2</th>\n",
              "      <td>62</td>\n",
              "      <td>1</td>\n",
              "      <td>7.3</td>\n",
              "      <td>4.1</td>\n",
              "      <td>490</td>\n",
              "      <td>60</td>\n",
              "      <td>68</td>\n",
              "      <td>7.0</td>\n",
              "      <td>3.3</td>\n",
              "      <td>0.89</td>\n",
              "      <td>1</td>\n",
              "    </tr>\n",
              "    <tr>\n",
              "      <th>3</th>\n",
              "      <td>58</td>\n",
              "      <td>1</td>\n",
              "      <td>1.0</td>\n",
              "      <td>0.4</td>\n",
              "      <td>182</td>\n",
              "      <td>14</td>\n",
              "      <td>20</td>\n",
              "      <td>6.8</td>\n",
              "      <td>3.4</td>\n",
              "      <td>1.00</td>\n",
              "      <td>1</td>\n",
              "    </tr>\n",
              "    <tr>\n",
              "      <th>4</th>\n",
              "      <td>72</td>\n",
              "      <td>1</td>\n",
              "      <td>3.9</td>\n",
              "      <td>2.0</td>\n",
              "      <td>195</td>\n",
              "      <td>27</td>\n",
              "      <td>59</td>\n",
              "      <td>7.3</td>\n",
              "      <td>2.4</td>\n",
              "      <td>0.40</td>\n",
              "      <td>1</td>\n",
              "    </tr>\n",
              "  </tbody>\n",
              "</table>\n",
              "</div>"
            ],
            "text/plain": [
              "   V1  V2    V3   V4   V5  V6   V7   V8   V9   V10  Class\n",
              "0  65   0   0.7  0.1  187  16   18  6.8  3.3  0.90      1\n",
              "1  62   1  10.9  5.5  699  64  100  7.5  3.2  0.74      1\n",
              "2  62   1   7.3  4.1  490  60   68  7.0  3.3  0.89      1\n",
              "3  58   1   1.0  0.4  182  14   20  6.8  3.4  1.00      1\n",
              "4  72   1   3.9  2.0  195  27   59  7.3  2.4  0.40      1"
            ]
          },
          "metadata": {
            "tags": []
          },
          "execution_count": 77
        }
      ]
    },
    {
      "cell_type": "code",
      "metadata": {
        "id": "THMeDLfif4W-",
        "outputId": "cface57c-b2b9-4465-94c4-eb76e8dbc2a2",
        "colab": {
          "base_uri": "https://localhost:8080/",
          "height": 51
        }
      },
      "source": [
        "# .values returns a numpy array\n",
        "features = patients.drop(labels=['Class'], axis=1).values\n",
        "labels = patients.iloc[:, -1].values\n",
        "print(features.shape)\n",
        "print(labels.shape)"
      ],
      "execution_count": null,
      "outputs": [
        {
          "output_type": "stream",
          "text": [
            "(583, 10)\n",
            "(583,)\n"
          ],
          "name": "stdout"
        }
      ]
    },
    {
      "cell_type": "code",
      "metadata": {
        "id": "-cmRFXgRHFmZ"
      },
      "source": [
        "from sklearn.ensemble import RandomForestClassifier\n",
        "from sklearn.svm import SVC\n",
        "from sklearn.model_selection import StratifiedKFold\n",
        "from sklearn.model_selection import RandomizedSearchCV\n",
        "from scipy.stats import uniform\n",
        "from scipy.stats import randint\n",
        "from sklearn.metrics import f1_score, make_scorer"
      ],
      "execution_count": null,
      "outputs": []
    },
    {
      "cell_type": "markdown",
      "metadata": {
        "id": "2tHO2EXvcIsH"
      },
      "source": [
        "Criando o SVC de acordo com o enunciado:"
      ]
    },
    {
      "cell_type": "code",
      "metadata": {
        "id": "4qdHl_rJcMrQ",
        "outputId": "c7d71a51-d8d3-4f22-ec7c-5e731e141057",
        "colab": {
          "base_uri": "https://localhost:8080/",
          "height": 255
        }
      },
      "source": [
        "stratified_cv = StratifiedKFold(n_splits = 10)\n",
        "f1 = make_scorer(f1_score)\n",
        "\n",
        "distributions = dict(\n",
        "    kernel = ['sigmoid', 'rbf'], \n",
        "    C = uniform(loc=0, scale=10),\n",
        "    )\n",
        "\n",
        "svc_clf = SVC()\n",
        "\n",
        "svc_random_search = RandomizedSearchCV(svc_clf, distributions, cv = stratified_cv, \n",
        "                               scoring = f1, random_state = 42, n_iter = 5)\n",
        "svc_random_search.fit(features, labels)"
      ],
      "execution_count": null,
      "outputs": [
        {
          "output_type": "execute_result",
          "data": {
            "text/plain": [
              "RandomizedSearchCV(cv=StratifiedKFold(n_splits=10, random_state=None, shuffle=False),\n",
              "                   error_score=nan,\n",
              "                   estimator=SVC(C=1.0, break_ties=False, cache_size=200,\n",
              "                                 class_weight=None, coef0=0.0,\n",
              "                                 decision_function_shape='ovr', degree=3,\n",
              "                                 gamma='scale', kernel='rbf', max_iter=-1,\n",
              "                                 probability=False, random_state=None,\n",
              "                                 shrinking=True, tol=0.001, verbose=False),\n",
              "                   iid='deprecated', n_iter=5, n_jobs=None,\n",
              "                   param_distributions={'C': <scipy.stats._distn_infrastructure.rv_frozen object at 0x7fae8c7b4d68>,\n",
              "                                        'kernel': ['sigmoid', 'rbf']},\n",
              "                   pre_dispatch='2*n_jobs', random_state=42, refit=True,\n",
              "                   return_train_score=False, scoring=make_scorer(f1_score),\n",
              "                   verbose=0)"
            ]
          },
          "metadata": {
            "tags": []
          },
          "execution_count": 80
        }
      ]
    },
    {
      "cell_type": "code",
      "metadata": {
        "id": "Q5oRUczuiqLR",
        "outputId": "2c4e5893-d5c0-4be4-d586-b865fb7a62e6",
        "colab": {
          "base_uri": "https://localhost:8080/",
          "height": 34
        }
      },
      "source": [
        "print('R: {0:.2f}'.format(svc_random_search.best_score_))"
      ],
      "execution_count": null,
      "outputs": [
        {
          "output_type": "stream",
          "text": [
            "R: 0.83\n"
          ],
          "name": "stdout"
        }
      ]
    },
    {
      "cell_type": "markdown",
      "metadata": {
        "id": "mLAx5CIjkFL3"
      },
      "source": [
        "**R: 0.83**"
      ]
    },
    {
      "cell_type": "markdown",
      "metadata": {
        "id": "1Lp_zdW-GxiB"
      },
      "source": [
        "### Pergunta 6\n",
        "O best_params_ encontrado durante a otimização do SVC indica que a melhor combinação de parâmetros usa um kernel RBF.  \n",
        "\n",
        "---\n",
        "( ) Falso  \n",
        "( ) Verdadeiro"
      ]
    },
    {
      "cell_type": "code",
      "metadata": {
        "id": "1UEfuDNkHGRj",
        "outputId": "6385f302-9154-4e7b-a887-b2dda4cc7713",
        "colab": {
          "base_uri": "https://localhost:8080/",
          "height": 34
        }
      },
      "source": [
        "svc_random_search.best_params_"
      ],
      "execution_count": null,
      "outputs": [
        {
          "output_type": "execute_result",
          "data": {
            "text/plain": [
              "{'C': 1.834347898661638, 'kernel': 'rbf'}"
            ]
          },
          "metadata": {
            "tags": []
          },
          "execution_count": 82
        }
      ]
    },
    {
      "cell_type": "markdown",
      "metadata": {
        "id": "qlQA1biyjqRA"
      },
      "source": [
        "**R Verdadeiro.**"
      ]
    },
    {
      "cell_type": "markdown",
      "metadata": {
        "id": "TWIA2BP7G1Ns"
      },
      "source": [
        "### Pergunta 7\n",
        "O best_params_ encontrado durante a otimização do SVC indica que C encontrado é aproximadamente 5.\n",
        "\n",
        "---\n",
        "( ) Falso  \n",
        "( ) Verdadeiro"
      ]
    },
    {
      "cell_type": "code",
      "metadata": {
        "id": "5xadvQVWHGrs",
        "outputId": "652ff490-a241-45c7-97b9-4c72314d05fe",
        "colab": {
          "base_uri": "https://localhost:8080/",
          "height": 34
        }
      },
      "source": [
        "svc_random_search.best_params_"
      ],
      "execution_count": null,
      "outputs": [
        {
          "output_type": "execute_result",
          "data": {
            "text/plain": [
              "{'C': 1.834347898661638, 'kernel': 'rbf'}"
            ]
          },
          "metadata": {
            "tags": []
          },
          "execution_count": 83
        }
      ]
    },
    {
      "cell_type": "markdown",
      "metadata": {
        "id": "21hstX8lj9gR"
      },
      "source": [
        "**R: Falso. O C encontrado é de aproximadaemnte 1.834**"
      ]
    },
    {
      "cell_type": "markdown",
      "metadata": {
        "id": "hIYT7UJhG1jl"
      },
      "source": [
        "### Pergunta 8\n",
        "A melhor combinação de best_params_ encontrado durante a otimização do SVC é:\n",
        "\n",
        "--- \n",
        "a) Kernel RBF com C = 4.979.  \n",
        "b) Kernel Sigmoid com C = 1.834.  \n",
        "c) Kernel RBF com C = 1.834.  \n",
        "d) Kernel Sigmoid com C = 4.979."
      ]
    },
    {
      "cell_type": "code",
      "metadata": {
        "id": "be96SiFfkW-_",
        "outputId": "f7e2027d-f800-42cb-802f-e7f5b9f516e3",
        "colab": {
          "base_uri": "https://localhost:8080/",
          "height": 34
        }
      },
      "source": [
        "svc_random_search.best_params_"
      ],
      "execution_count": null,
      "outputs": [
        {
          "output_type": "execute_result",
          "data": {
            "text/plain": [
              "{'C': 1.834347898661638, 'kernel': 'rbf'}"
            ]
          },
          "metadata": {
            "tags": []
          },
          "execution_count": 84
        }
      ]
    },
    {
      "cell_type": "markdown",
      "metadata": {
        "id": "rN3JcKBAkStK"
      },
      "source": [
        "**R: Kernel RBF com C = 1.834**"
      ]
    },
    {
      "cell_type": "markdown",
      "metadata": {
        "id": "qywDADk7G1gw"
      },
      "source": [
        "### Pergunta 9\n",
        "Sobre o best_score_ encontrado durante a otimização do Random Forest, marque a alternativa CORRETA.\n",
        "\n",
        "--- \n",
        "( ) O valor da f1 encontrado foi aproximadamente 0.83.  \n",
        "( ) O valor da f1 encontrado foi aproximadamente 0.80.  \n",
        "( ) O valor da f1 encontrado foi aproximadamente 0.90.  \n",
        "( ) O valor da f1 encontrado foi aproximadamente 0.78."
      ]
    },
    {
      "cell_type": "markdown",
      "metadata": {
        "id": "lmvMtB6Iko6i"
      },
      "source": [
        "Criando o Random Forest Classifier de acordo com as especificações do enunciado:"
      ]
    },
    {
      "cell_type": "code",
      "metadata": {
        "id": "rGY-GxdlHHmB",
        "outputId": "94bdb31f-59ee-4fdd-e909-95f890a2b5e8",
        "colab": {
          "base_uri": "https://localhost:8080/",
          "height": 408
        }
      },
      "source": [
        "stratified_cv = StratifiedKFold(n_splits=10)\n",
        "f1 = make_scorer(f1_score)\n",
        "distributions = dict(n_estimators = randint(100, 200),\n",
        "                      bootstrap = [True, False],\n",
        "                      criterion = ['gini', 'entropy'])\n",
        "\n",
        "rf_clf = RandomForestClassifier(random_state=42)\n",
        "\n",
        "rf_random_search = RandomizedSearchCV(rf_clf, distributions, cv=stratified_cv, \n",
        "                               scoring=f1, random_state=42, n_iter=5)\n",
        "rf_random_search.fit(features, labels)"
      ],
      "execution_count": null,
      "outputs": [
        {
          "output_type": "execute_result",
          "data": {
            "text/plain": [
              "RandomizedSearchCV(cv=StratifiedKFold(n_splits=10, random_state=None, shuffle=False),\n",
              "                   error_score=nan,\n",
              "                   estimator=RandomForestClassifier(bootstrap=True,\n",
              "                                                    ccp_alpha=0.0,\n",
              "                                                    class_weight=None,\n",
              "                                                    criterion='gini',\n",
              "                                                    max_depth=None,\n",
              "                                                    max_features='auto',\n",
              "                                                    max_leaf_nodes=None,\n",
              "                                                    max_samples=None,\n",
              "                                                    min_impurity_decrease=0.0,\n",
              "                                                    min_impurity_split=None,\n",
              "                                                    min_samples_leaf=1,\n",
              "                                                    min_samples_s...\n",
              "                                                    random_state=42, verbose=0,\n",
              "                                                    warm_start=False),\n",
              "                   iid='deprecated', n_iter=5, n_jobs=None,\n",
              "                   param_distributions={'bootstrap': [True, False],\n",
              "                                        'criterion': ['gini', 'entropy'],\n",
              "                                        'n_estimators': <scipy.stats._distn_infrastructure.rv_frozen object at 0x7fae8c78f710>},\n",
              "                   pre_dispatch='2*n_jobs', random_state=42, refit=True,\n",
              "                   return_train_score=False, scoring=make_scorer(f1_score),\n",
              "                   verbose=0)"
            ]
          },
          "metadata": {
            "tags": []
          },
          "execution_count": 85
        }
      ]
    },
    {
      "cell_type": "code",
      "metadata": {
        "id": "zPZsENmdl00T",
        "outputId": "043f7031-d556-4086-ba15-4ee73b4c63da",
        "colab": {
          "base_uri": "https://localhost:8080/",
          "height": 34
        }
      },
      "source": [
        "rf_random_search.best_score_"
      ],
      "execution_count": null,
      "outputs": [
        {
          "output_type": "execute_result",
          "data": {
            "text/plain": [
              "0.8019647527623143"
            ]
          },
          "metadata": {
            "tags": []
          },
          "execution_count": 86
        }
      ]
    },
    {
      "cell_type": "markdown",
      "metadata": {
        "id": "cofT8phEl8G2"
      },
      "source": [
        "**R: 0.80**"
      ]
    },
    {
      "cell_type": "markdown",
      "metadata": {
        "id": "LM5W0kmWG1d6"
      },
      "source": [
        "### Pergunta 10\n",
        "O best_params_ encontrado durante a otimização do Random Forest indica que a melhor combinação de parâmetros usa Boostrap True.\n",
        "\n",
        "---\n",
        "( ) Falso  \n",
        "( ) Verdadeiro"
      ]
    },
    {
      "cell_type": "code",
      "metadata": {
        "id": "weHQ0SWQHIAA",
        "outputId": "7d373b24-0668-4d32-e087-ec739b109f70",
        "colab": {
          "base_uri": "https://localhost:8080/",
          "height": 34
        }
      },
      "source": [
        "rf_random_search.best_params_"
      ],
      "execution_count": null,
      "outputs": [
        {
          "output_type": "execute_result",
          "data": {
            "text/plain": [
              "{'bootstrap': True, 'criterion': 'gini', 'n_estimators': 171}"
            ]
          },
          "metadata": {
            "tags": []
          },
          "execution_count": 87
        }
      ]
    },
    {
      "cell_type": "markdown",
      "metadata": {
        "id": "8dtkPD_vmR3w"
      },
      "source": [
        "**R: Verdadeiro.**"
      ]
    },
    {
      "cell_type": "markdown",
      "metadata": {
        "id": "rHgT9PBlG1bR"
      },
      "source": [
        "### Pergunta 11\n",
        "O best_params_ encontrado durante a otimização do Random Forest indica que a melhor combinação de parâmetros usa Criterion Entropy.\n",
        "\n",
        "---\n",
        "( ) Verdadeiro  \n",
        "( ) Falso"
      ]
    },
    {
      "cell_type": "markdown",
      "metadata": {
        "id": "iwRwptibmW91"
      },
      "source": [
        "**R: Falso. Ele indica que é 'Gini'**"
      ]
    },
    {
      "cell_type": "markdown",
      "metadata": {
        "id": "NIAEfUJSG1YI"
      },
      "source": [
        "### Pergunta 12\n",
        "O best_params_ encontrado durante a otimização do Random Forest indica que a melhor combinação de parâmetros conta com quantos estimadores?\n",
        "\n",
        "---\n",
        "( ) n_estimators: 179  \n",
        "( ) n_estimators: 171  \n",
        "( ) n_estimators: 181  \n",
        "( ) n_estimators: 189"
      ]
    },
    {
      "cell_type": "markdown",
      "metadata": {
        "id": "9d29nTJ-mi0A"
      },
      "source": [
        "**R: 171**"
      ]
    },
    {
      "cell_type": "markdown",
      "metadata": {
        "id": "0zwjv43EG1VA"
      },
      "source": [
        "### Pergunta 13\n",
        "Suponha que nossas duas opções para solução do problema sejam o SVC e o Random Forest que foram modelados anteriormente. Além disso, não é possível rodar o experimento novamente com outros parâmetros. Marque a alternativa que justifica de forma CORRETA a escolha do modelo mais adequado.\n",
        "\n",
        "---\n",
        "**(X) O SVC é o modelo que deveria ser escolhido já que ele apresenta uma f1 maior.**   \n",
        "() O Random Forest é o modelo que deveria ser escolhido já que ele apresenta uma f1 menor.  \n",
        "() O SVC deveria ser escolhido já que ele usa um kernel melhor.  \n",
        "() O Random Forest deveria ser escolhido já que ele conta com um número alto de estimadores."
      ]
    },
    {
      "cell_type": "markdown",
      "metadata": {
        "id": "1pqfW9XDG1SX"
      },
      "source": [
        "### Pergunta 14\n",
        "Como os dois modelos apresentaram resultados semelhantes de f1, e considerando apenas essa métrica, podemos entender que a capacidade de generalização dos modelos deve ser semelhante na prática.\n",
        "\n",
        "---\n",
        "**(X) Verdadeiro**  \n",
        "() Falso"
      ]
    },
    {
      "cell_type": "markdown",
      "metadata": {
        "id": "xt97ip13HByb"
      },
      "source": [
        "### Pergunta 15\n",
        "Os resultados encontrados do random search para o SVC e o Random Forest representam a melhor configuração possível desses modelos para solução do problema proposto.\n",
        "\n",
        "---\n",
        "**(X) Falso**    \n",
        "() Verdadeiro"
      ]
    }
  ]
}