{
  "nbformat": 4,
  "nbformat_minor": 0,
  "metadata": {
    "colab": {
      "name": "IGTI_ML4_PROF_cap2_atividade_pratica.ipynb",
      "provenance": [],
      "collapsed_sections": []
    },
    "kernelspec": {
      "name": "python3",
      "display_name": "Python 3"
    }
  },
  "cells": [
    {
      "cell_type": "markdown",
      "metadata": {
        "id": "qktJuEjkgDY5"
      },
      "source": [
        "### Aplicativo para verificar se o ser vivo é quadrúpede ou bípede.\n",
        "\n",
        "#### a. Respostas Possíveis\n",
        "- Quadrúpede: (1)\n",
        "- Bípede: (-1)\n",
        "\n",
        "\n",
        "#### b. Dados\n",
        "- **Cão**:\n",
        " - Entrada: [-1, 1, 1, 1]\n",
        " - Saída: 1\n",
        "\n",
        "- **Gato**:\n",
        " - Entrada: [1, 1, 1, 1]\n",
        " - Saída: 1\n",
        "\n",
        "- **Cavalo**:\n",
        " - Entrada: [1, 1, -1, 1]\n",
        " - Saída: 1\n",
        "\n",
        "- **Homem**:\n",
        " - Entrada: [-1, -1, -1, 1]\n",
        " - Saída: -1"
      ]
    },
    {
      "cell_type": "code",
      "metadata": {
        "id": "uVKFA5D8b2Ip",
        "outputId": "0b55543f-c92b-45a1-8b19-78dc068cf60a",
        "colab": {
          "base_uri": "https://localhost:8080/"
        }
      },
      "source": [
        "# Dados de Entrada\n",
        "\n",
        "# Entradas\n",
        "x = [[-1, -1, 1, 1],[1, 1, 1, 1],[1, 1, -1, 1],[-1, -1, -1, 1]]  ### listas dentro de uma lista\n",
        "\n",
        "# Saídas ### classificação de cada lista\n",
        "t = [1, 1, 1, -1]\n",
        "\n",
        "# Dicionário de Dados\n",
        "d = {\n",
        "    '-1,-1,1,1': 'Cão',\n",
        "    '1,1,1,1': 'Gato',\n",
        "    '1,1,-1,1': 'Cavalo',\n",
        "    '-1,-1,-1,1': 'Homem'\n",
        "}\n",
        "\n",
        "print('Dados carregados!')"
      ],
      "execution_count": 1,
      "outputs": [
        {
          "output_type": "stream",
          "text": [
            "Dados carregados!\n"
          ],
          "name": "stdout"
        }
      ]
    },
    {
      "cell_type": "code",
      "metadata": {
        "id": "js1Q1MmGVT98",
        "outputId": "8d4de866-2eff-4cd4-d47b-94344aafa2bd",
        "colab": {
          "base_uri": "https://localhost:8080/"
        }
      },
      "source": [
        "def inicializarHiperparametros():\n",
        "    # Pesos (sinapses)\n",
        "    w = [0, 0, 0, 0]   \n",
        "\n",
        "    # Bias ou erro (ajuste fino)\n",
        "    b = 0\n",
        "\n",
        "    # Saída\n",
        "    y = 0\n",
        "\n",
        "    # Número máximo de iterações\n",
        "    max_int = 10\n",
        "\n",
        "    # Taxa de aprendizado\n",
        "    taxa_aprendizado = 1\n",
        "\n",
        "    # Somatório de dados e pesos\n",
        "    soma = 0\n",
        "\n",
        "    # Threshold\n",
        "    threshold = 1\n",
        "\n",
        "    # Nome do animal\n",
        "    animal = \"\"\n",
        "\n",
        "    # Resposta = acerto ou falha\n",
        "    resposta = \"\"\n",
        "\n",
        "    print(\"\\nHiperparâmetros inicializados\")\n",
        "\n",
        "    return (w, b, y, max_int, taxa_aprendizado, soma, threshold, animal, resposta)\n",
        "\n",
        "print('Função carregada!')"
      ],
      "execution_count": 13,
      "outputs": [
        {
          "output_type": "stream",
          "text": [
            "Função carregada!\n"
          ],
          "name": "stdout"
        }
      ]
    },
    {
      "cell_type": "code",
      "metadata": {
        "id": "x0V31cebVew6",
        "outputId": "bc085baf-7492-45b5-8854-084a9e5cf892",
        "colab": {
          "base_uri": "https://localhost:8080/"
        }
      },
      "source": [
        "# Função para converter listas em strings (sem espaços) e sem '[' e ']'\n",
        "def listaParaString(lista):\n",
        "    s = str(lista).strip('[]')\n",
        "    s = s.replace(' ', '')\n",
        "    # print(\"funcao\", s)\n",
        "    return s\n",
        "\n",
        "print('Função carregada!')"
      ],
      "execution_count": 14,
      "outputs": [
        {
          "output_type": "stream",
          "text": [
            "Função carregada!\n"
          ],
          "name": "stdout"
        }
      ]
    },
    {
      "cell_type": "code",
      "metadata": {
        "id": "GIo9COUgW-eG",
        "outputId": "98f78c24-6b9e-4a94-d292-84a21d2a2545",
        "colab": {
          "base_uri": "https://localhost:8080/"
        }
      },
      "source": [
        "#############  Teste do Eduardo para entender a função\n",
        "for i in range(len(x)): \n",
        "  print(listaParaString(x[i]))"
      ],
      "execution_count": 15,
      "outputs": [
        {
          "output_type": "stream",
          "text": [
            "-1,-1,1,1\n",
            "1,1,1,1\n",
            "1,1,-1,1\n",
            "-1,-1,-1,1\n"
          ],
          "name": "stdout"
        }
      ]
    },
    {
      "cell_type": "code",
      "metadata": {
        "id": "G44ABswpXEJr",
        "outputId": "c15fe7f5-13eb-4aae-b858-4c5f5ef3b809",
        "colab": {
          "base_uri": "https://localhost:8080/"
        }
      },
      "source": [
        "# Função para aplicar aprendizado nos dados de entrada\n",
        "def iniciarAprendizado(data, target):\n",
        "    x = data\n",
        "    t = target\n",
        "\n",
        "    # Inicializando hiperparametros\n",
        "    (w, b, y, max_int, taxa_aprendizado, soma, threshold, animal, resposta) = inicializarHiperparametros()\n",
        "\n",
        "    # Iterações da rede neural\n",
        "    for k in range(1, max_int):\n",
        "        acertos = 0\n",
        "        print(\"\\nINTERAÇÃO\", k, \"-----------------------\")\n",
        "\n",
        "        # Iterações nas observações dos dados de entrada\n",
        "        for i in range(0, len(x)):\n",
        "            soma = 0\n",
        "\n",
        "            # Consultando o nome do animal no dicionário\n",
        "            if listaParaString(x[i]) in d:\n",
        "                animal = d[listaParaString(x[i])]\n",
        "            else:\n",
        "                animal = \"\"\n",
        "            \n",
        "            # Iterações nas colunas de cada observação dos dados de entrada\n",
        "            for j in range(0, len(x[i])):\n",
        "                # Acumulando o somatório dos produtos dos valores de entrada com seus respectivos pesos\n",
        "                soma += x[i][j] * w[j]\n",
        "            \n",
        "            # Saída = viés + soma anterior\n",
        "            y_in = b + soma\n",
        "\n",
        "            # Função de saída conforme threshold\n",
        "            if y_in > threshold:\n",
        "                y = 1\n",
        "            elif y_in >= -threshold and y_in <= threshold:\n",
        "                y = 0\n",
        "            else:\n",
        "                y = -1\n",
        "            \n",
        "            # Comparando as saídas com os valores reais\n",
        "            if y == t[i]:\n",
        "                acertos += 1\n",
        "                resposta = \"acerto\"\n",
        "            else:\n",
        "                # Atualizando os pesos em caso de erro\n",
        "                for j in range(0, len(w)):\n",
        "                    # Peso atual = peso anterior + (taxa aprendizado * valor esperado * valor de x no vetor)\n",
        "                    w[j] = w[j] + (taxa_aprendizado * t[i] * x[i][j])\n",
        "                    print(\"Novo peso\", j, \":\", w[j])\n",
        "\n",
        "                # Bias ou erro = classe anterior - classe atual\n",
        "                b = t[i] - y\n",
        "                resposta = \"Falha - Peso atualizado Bias = \" + str(b)\n",
        "            \n",
        "            # Apresentando a resposta\n",
        "            if y == 1:\n",
        "                print(animal, \"= quadrúpede =\", resposta)\n",
        "            elif y == 0:\n",
        "                print(animal, \"= padrão não identificado =\", resposta)\n",
        "            else:\n",
        "                print(animal, \"= bípede =\", resposta)\n",
        "        \n",
        "            print()\n",
        "        # Verificando a quantidade de itações totais para a convergência da rede neural\n",
        "        if acertos == len(x):\n",
        "            print()\n",
        "            print(\"Funcionalidade aprendida com\", k, \"interações\")\n",
        "            break\n",
        "        print()\n",
        "    print(\"Finalizado\")\n",
        "\n",
        "print('Função carregada!')"
      ],
      "execution_count": 16,
      "outputs": [
        {
          "output_type": "stream",
          "text": [
            "Função carregada!\n"
          ],
          "name": "stdout"
        }
      ]
    },
    {
      "cell_type": "code",
      "metadata": {
        "id": "4sCtkKOHbIeK",
        "outputId": "4e4d606b-e8a4-404f-d2d8-f90357614736",
        "colab": {
          "base_uri": "https://localhost:8080/"
        }
      },
      "source": [
        "iniciarAprendizado(x, t)"
      ],
      "execution_count": 17,
      "outputs": [
        {
          "output_type": "stream",
          "text": [
            "\n",
            "Hiperparâmetros inicializados\n",
            "\n",
            "INTERAÇÃO 1 -----------------------\n",
            "Novo peso 0 : -1\n",
            "Novo peso 1 : -1\n",
            "Novo peso 2 : 1\n",
            "Novo peso 3 : 1\n",
            "Cão = padrão não identificado = Falha - Peso atualizado Bias = 1\n",
            "\n",
            "Novo peso 0 : 0\n",
            "Novo peso 1 : 0\n",
            "Novo peso 2 : 2\n",
            "Novo peso 3 : 2\n",
            "Gato = padrão não identificado = Falha - Peso atualizado Bias = 1\n",
            "\n",
            "Novo peso 0 : 1\n",
            "Novo peso 1 : 1\n",
            "Novo peso 2 : 1\n",
            "Novo peso 3 : 3\n",
            "Cavalo = padrão não identificado = Falha - Peso atualizado Bias = 1\n",
            "\n",
            "Novo peso 0 : 2\n",
            "Novo peso 1 : 2\n",
            "Novo peso 2 : 2\n",
            "Novo peso 3 : 2\n",
            "Homem = padrão não identificado = Falha - Peso atualizado Bias = -1\n",
            "\n",
            "\n",
            "\n",
            "INTERAÇÃO 2 -----------------------\n",
            "Novo peso 0 : 1\n",
            "Novo peso 1 : 1\n",
            "Novo peso 2 : 3\n",
            "Novo peso 3 : 3\n",
            "Cão = padrão não identificado = Falha - Peso atualizado Bias = 1\n",
            "\n",
            "Gato = quadrúpede = acerto\n",
            "\n",
            "Cavalo = quadrúpede = acerto\n",
            "\n",
            "Novo peso 0 : 2\n",
            "Novo peso 1 : 2\n",
            "Novo peso 2 : 4\n",
            "Novo peso 3 : 2\n",
            "Homem = padrão não identificado = Falha - Peso atualizado Bias = -1\n",
            "\n",
            "\n",
            "\n",
            "INTERAÇÃO 3 -----------------------\n",
            "Novo peso 0 : 1\n",
            "Novo peso 1 : 1\n",
            "Novo peso 2 : 5\n",
            "Novo peso 3 : 3\n",
            "Cão = padrão não identificado = Falha - Peso atualizado Bias = 1\n",
            "\n",
            "Gato = quadrúpede = acerto\n",
            "\n",
            "Novo peso 0 : 2\n",
            "Novo peso 1 : 2\n",
            "Novo peso 2 : 4\n",
            "Novo peso 3 : 4\n",
            "Cavalo = padrão não identificado = Falha - Peso atualizado Bias = 1\n",
            "\n",
            "Homem = bípede = acerto\n",
            "\n",
            "\n",
            "\n",
            "INTERAÇÃO 4 -----------------------\n",
            "Cão = quadrúpede = acerto\n",
            "\n",
            "Gato = quadrúpede = acerto\n",
            "\n",
            "Cavalo = quadrúpede = acerto\n",
            "\n",
            "Homem = bípede = acerto\n",
            "\n",
            "\n",
            "Funcionalidade aprendida com 4 interações\n",
            "Finalizado\n"
          ],
          "name": "stdout"
        }
      ]
    }
  ]
}