{
 "cells": [
  {
   "cell_type": "markdown",
   "metadata": {
    "id": "FX5GZSfToY_T"
   },
   "source": [
    "# Trabalho Prático - Módulo 4"
   ]
  },
  {
   "cell_type": "markdown",
   "metadata": {
    "id": "wRDAgq-xodVB"
   },
   "source": [
    "## Atividades (Enunciado)"
   ]
  },
  {
   "cell_type": "code",
   "execution_count": null,
   "metadata": {
    "colab": {
     "base_uri": "https://localhost:8080/"
    },
    "id": "s0Y77o0vjGvX",
    "outputId": "c737f445-cbb8-4561-f03a-7d90cfacd9ef"
   },
   "outputs": [
    {
     "name": "stdout",
     "output_type": "stream",
     "text": [
      "2.3.0\n"
     ]
    }
   ],
   "source": [
    "# TensorFlow e tf.keras\n",
    "import tensorflow as tf\n",
    "from tensorflow import keras\n",
    "\n",
    "# Librariesauxiliares\n",
    "import numpy as np\n",
    "import matplotlib.pyplot as plt\n",
    "\n",
    "print(tf.__version__)"
   ]
  },
  {
   "cell_type": "markdown",
   "metadata": {
    "id": "raKDP2LKouSg"
   },
   "source": [
    "### Importar a base de dados Fashion MNIST"
   ]
  },
  {
   "cell_type": "code",
   "execution_count": null,
   "metadata": {
    "id": "XXi4dicjjfTr"
   },
   "outputs": [],
   "source": [
    "fashion_mnist = keras.datasets.fashion_mnist\n",
    "\n",
    "(train_images, train_labels), (test_images, test_labels) = fashion_mnist.load_data()"
   ]
  },
  {
   "cell_type": "markdown",
   "metadata": {
    "id": "gc4WTLNAj_nq"
   },
   "source": [
    "### Descrição dos Rótulos das Imagens do DataSet\n",
    "\n",
    "Label | Classe\n",
    ":--------- | ---------:\n",
    "0 | Camisetas/Top (T-shirt/top)\n",
    "1 | Calça (Trouser)\n",
    "2 | Suéter (Pullover)\n",
    "3 | Vestidos (Dress)\n",
    "4 | Casaco (Coat)\n",
    "5 | Sandálias (Sandal)\n",
    "6 | Camisas (Shirt)\n",
    "7 | Tênis (Sneaker)\n",
    "8 | Bolsa (Bag)\n",
    "9 | Botas (Ankle boot)"
   ]
  },
  {
   "cell_type": "code",
   "execution_count": null,
   "metadata": {
    "id": "Tue862tHjyT0"
   },
   "outputs": [],
   "source": [
    "class_names = ['T-shirt/top', 'Trouser', 'Pullover', 'Dress', 'Coat', 'Sandal', 'Shirt', 'Sneaker', 'Bag', 'Ankle boot'] # nomes dos rótulos em inglês"
   ]
  },
  {
   "cell_type": "code",
   "execution_count": null,
   "metadata": {
    "id": "Aiaoyb01lkl4"
   },
   "outputs": [],
   "source": [
    "# class_names = ['Camiseta/Top', 'Calças', 'Suéter', 'Vestido', 'Casaco', 'Sandália', 'Camisa', 'Tênis', 'Bolsa', 'Bota'] # nomes dos rótulos em português"
   ]
  },
  {
   "cell_type": "markdown",
   "metadata": {
    "id": "FXkCWYJRo0bC"
   },
   "source": [
    "### Explore os dados"
   ]
  },
  {
   "cell_type": "code",
   "execution_count": null,
   "metadata": {
    "colab": {
     "base_uri": "https://localhost:8080/"
    },
    "id": "m6Zp7mNWl-68",
    "outputId": "1c6b6699-90c9-4015-a24a-662db6912964"
   },
   "outputs": [
    {
     "data": {
      "text/plain": [
       "(60000, 28, 28)"
      ]
     },
     "execution_count": 5,
     "metadata": {
      "tags": []
     },
     "output_type": "execute_result"
    }
   ],
   "source": [
    "train_images.shape"
   ]
  },
  {
   "cell_type": "code",
   "execution_count": null,
   "metadata": {
    "colab": {
     "base_uri": "https://localhost:8080/"
    },
    "id": "E8-5C6zPmDgt",
    "outputId": "d18338e3-42b2-439a-e04d-782476444211"
   },
   "outputs": [
    {
     "data": {
      "text/plain": [
       "60000"
      ]
     },
     "execution_count": 6,
     "metadata": {
      "tags": []
     },
     "output_type": "execute_result"
    }
   ],
   "source": [
    "len(train_labels)"
   ]
  },
  {
   "cell_type": "code",
   "execution_count": null,
   "metadata": {
    "colab": {
     "base_uri": "https://localhost:8080/"
    },
    "id": "u4vlAWgMmJXT",
    "outputId": "b318769c-46a6-4c0c-af46-03b4106722a4"
   },
   "outputs": [
    {
     "data": {
      "text/plain": [
       "array([9, 0, 0, ..., 3, 0, 5], dtype=uint8)"
      ]
     },
     "execution_count": 7,
     "metadata": {
      "tags": []
     },
     "output_type": "execute_result"
    }
   ],
   "source": [
    "train_labels"
   ]
  },
  {
   "cell_type": "code",
   "execution_count": null,
   "metadata": {
    "colab": {
     "base_uri": "https://localhost:8080/"
    },
    "id": "5tv-hajxmMCf",
    "outputId": "85381c0e-d792-43b5-acdd-8ae89107f81d"
   },
   "outputs": [
    {
     "data": {
      "text/plain": [
       "(10000, 28, 28)"
      ]
     },
     "execution_count": 8,
     "metadata": {
      "tags": []
     },
     "output_type": "execute_result"
    }
   ],
   "source": [
    "test_images.shape"
   ]
  },
  {
   "cell_type": "code",
   "execution_count": null,
   "metadata": {
    "colab": {
     "base_uri": "https://localhost:8080/"
    },
    "id": "XUHDFhJ4mRfT",
    "outputId": "c5f4dd97-d99b-4480-96b7-964a8ba3cdd7"
   },
   "outputs": [
    {
     "data": {
      "text/plain": [
       "10000"
      ]
     },
     "execution_count": 9,
     "metadata": {
      "tags": []
     },
     "output_type": "execute_result"
    }
   ],
   "source": [
    "len(test_labels)"
   ]
  },
  {
   "cell_type": "markdown",
   "metadata": {
    "id": "4y8YTBlxo5tI"
   },
   "source": [
    "### Pré-processe os dados"
   ]
  },
  {
   "cell_type": "code",
   "execution_count": null,
   "metadata": {
    "colab": {
     "base_uri": "https://localhost:8080/",
     "height": 265
    },
    "id": "fnzxi84DmUrh",
    "outputId": "0b4696f1-80a9-40d8-9527-230f11619062"
   },
   "outputs": [
    {
     "data": {
      "image/png": "[encoded data removed]",
      "text/plain": [
       "<Figure size 432x288 with 2 Axes>"
      ]
     },
     "metadata": {
      "needs_background": "light",
      "tags": []
     },
     "output_type": "display_data"
    }
   ],
   "source": [
    "plt.figure()\n",
    "plt.imshow(train_images[0])\n",
    "plt.colorbar()\n",
    "plt.grid(False)\n",
    "plt.show()"
   ]
  },
  {
   "cell_type": "code",
   "execution_count": null,
   "metadata": {
    "id": "tI3DheXWmee0"
   },
   "outputs": [],
   "source": [
    "train_images = train_images / 255.0\n",
    "test_images = test_images / 255.0"
   ]
  },
  {
   "cell_type": "code",
   "execution_count": null,
   "metadata": {
    "colab": {
     "base_uri": "https://localhost:8080/",
     "height": 589
    },
    "id": "-A2tJL4Bmtg_",
    "outputId": "c8164492-b195-451e-e27a-008444914c2b"
   },
   "outputs": [
    {
     "data": {
      "image/png": "[encoded data removed]",
      "text/plain": [
       "<Figure size 720x720 with 25 Axes>"
      ]
     },
     "metadata": {
      "tags": []
     },
     "output_type": "display_data"
    }
   ],
   "source": [
    "plt.figure(figsize=(10,10))\n",
    "\n",
    "for i in range(25):\n",
    "    plt.subplot(5, 5, i+1)\n",
    "    plt.xticks([])\n",
    "    plt.yticks([])\n",
    "    plt.grid(False)\n",
    "    plt.imshow(train_images[i], cmap=plt.cm.binary) # imagens\n",
    "    plt.xlabel(class_names[train_labels[i]]) # nome do rótulo\n",
    "\n",
    "plt.show()"
   ]
  },
  {
   "cell_type": "markdown",
   "metadata": {
    "id": "SzLnCrTYo-Rq"
   },
   "source": [
    "### Construindo o modelo\n",
    "\n",
    "#### Montar as camadas"
   ]
  },
  {
   "cell_type": "code",
   "execution_count": null,
   "metadata": {
    "id": "e2by31HVm47a"
   },
   "outputs": [],
   "source": [
    "# Construindo a arquitetura e as camadas do modelo\n",
    "model = keras.Sequential([ # camadas sequenciais\n",
    "    keras.layers.Flatten(input_shape=(28, 28)), # camada 1: redimensiona os dados de entrada para uma dimensão de 28x28 = 784 pixels\n",
    "    keras.layers.Dense(128, activation='relu'), # camada 2: completamente conectada de 128 neurônios \n",
    "    keras.layers.Dense(10, activation='softmax') # camada 3: retorna um array com 10 probabilidades, correspondentes às 10 classes existentes, cuja soma resulta em 1\n",
    "])"
   ]
  },
  {
   "cell_type": "markdown",
   "metadata": {
    "id": "hDMLaLtEqU6-"
   },
   "source": [
    "#### Compile o modelo"
   ]
  },
  {
   "cell_type": "code",
   "execution_count": null,
   "metadata": {
    "id": "2veuV-Ipnc_X"
   },
   "outputs": [],
   "source": [
    "# Definindo as configurações do modelo\n",
    "# Função Loss: perda de precisão durante o aprendizado\n",
    "# Optimizer: otimização do modelo, em caso de perda\n",
    "# Métricas: médições a serem avaliadas durante o aprendizado\n",
    "model.compile(optimizer='adam', loss='sparse_categorical_crossentropy', metrics=['accuracy'])"
   ]
  },
  {
   "cell_type": "markdown",
   "metadata": {
    "id": "rCkFvkbiqrhF"
   },
   "source": [
    "### Treine o modelo"
   ]
  },
  {
   "cell_type": "code",
   "execution_count": null,
   "metadata": {
    "colab": {
     "base_uri": "https://localhost:8080/"
    },
    "id": "5s79jXsxqpQk",
    "outputId": "f8da9b83-cd11-4b01-cf11-0efaf073e4c2"
   },
   "outputs": [
    {
     "name": "stdout",
     "output_type": "stream",
     "text": [
      "Epoch 1/10\n",
      "1875/1875 [==============================] - 3s 2ms/step - loss: 0.4935 - accuracy: 0.8269\n",
      "Epoch 2/10\n",
      "1875/1875 [==============================] - 3s 2ms/step - loss: 0.3722 - accuracy: 0.8652\n",
      "Epoch 3/10\n",
      "1875/1875 [==============================] - 3s 2ms/step - loss: 0.3347 - accuracy: 0.8766\n",
      "Epoch 4/10\n",
      "1875/1875 [==============================] - 3s 2ms/step - loss: 0.3117 - accuracy: 0.8862\n",
      "Epoch 5/10\n",
      "1875/1875 [==============================] - 3s 2ms/step - loss: 0.2924 - accuracy: 0.8926\n",
      "Epoch 6/10\n",
      "1875/1875 [==============================] - 3s 2ms/step - loss: 0.2778 - accuracy: 0.8964\n",
      "Epoch 7/10\n",
      "1875/1875 [==============================] - 4s 2ms/step - loss: 0.2663 - accuracy: 0.9005\n",
      "Epoch 8/10\n",
      "1875/1875 [==============================] - 3s 2ms/step - loss: 0.2562 - accuracy: 0.9041\n",
      "Epoch 9/10\n",
      "1875/1875 [==============================] - 3s 2ms/step - loss: 0.2458 - accuracy: 0.9083\n",
      "Epoch 10/10\n",
      "1875/1875 [==============================] - 3s 2ms/step - loss: 0.2372 - accuracy: 0.9119\n"
     ]
    }
   ],
   "source": [
    "# Ajustando o modelo com os dados de entrada\n",
    "history = model.fit(train_images, train_labels, epochs=10)"
   ]
  },
  {
   "cell_type": "markdown",
   "metadata": {
    "id": "Sjh_1fhxsDU4"
   },
   "source": [
    "### Avalie a acurácia"
   ]
  },
  {
   "cell_type": "code",
   "execution_count": null,
   "metadata": {
    "colab": {
     "base_uri": "https://localhost:8080/"
    },
    "id": "QtNKjMm0rrz_",
    "outputId": "c3916193-ba56-43c7-b442-f05f8d218452"
   },
   "outputs": [
    {
     "name": "stdout",
     "output_type": "stream",
     "text": [
      "313/313 - 0s - loss: 0.3251 - accuracy: 0.8841\n",
      "\n",
      "Test accuracy: 0.8841000199317932\n"
     ]
    }
   ],
   "source": [
    "test_loss, test_acc = model.evaluate(test_images, test_labels, verbose=2)\n",
    "\n",
    "print('\\nTest accuracy:', test_acc)"
   ]
  },
  {
   "cell_type": "markdown",
   "metadata": {
    "id": "0jJeTcdxsXGa"
   },
   "source": [
    "### Faça predições"
   ]
  },
  {
   "cell_type": "code",
   "execution_count": null,
   "metadata": {
    "id": "1QkZpYzusNSp"
   },
   "outputs": [],
   "source": [
    "predictions = model.predict(test_images)"
   ]
  },
  {
   "cell_type": "code",
   "execution_count": null,
   "metadata": {
    "colab": {
     "base_uri": "https://localhost:8080/"
    },
    "id": "5FW7c8ObsszI",
    "outputId": "1dfffaad-65c1-44d7-b1f7-2531466744e4"
   },
   "outputs": [
    {
     "data": {
      "text/plain": [
       "array([1.0869607e-09, 1.7740230e-07, 1.5778157e-09, 8.4248400e-11,\n",
       "       4.7008814e-10, 7.0214985e-05, 9.4607607e-08, 1.1456587e-02,\n",
       "       2.8994259e-08, 9.8847288e-01], dtype=float32)"
      ]
     },
     "execution_count": 18,
     "metadata": {
      "tags": []
     },
     "output_type": "execute_result"
    }
   ],
   "source": [
    "predictions[0]"
   ]
  },
  {
   "cell_type": "code",
   "execution_count": null,
   "metadata": {
    "colab": {
     "base_uri": "https://localhost:8080/"
    },
    "id": "6FakPdTVsvLd",
    "outputId": "a0698cf9-4141-4fe9-d402-12f34e793b86"
   },
   "outputs": [
    {
     "data": {
      "text/plain": [
       "9"
      ]
     },
     "execution_count": 19,
     "metadata": {
      "tags": []
     },
     "output_type": "execute_result"
    }
   ],
   "source": [
    "np.argmax(predictions[0])"
   ]
  },
  {
   "cell_type": "code",
   "execution_count": null,
   "metadata": {
    "colab": {
     "base_uri": "https://localhost:8080/"
    },
    "id": "ttRDeQ9UsygM",
    "outputId": "99a93bf7-aa5b-4c21-d6fd-20250c2befb6"
   },
   "outputs": [
    {
     "data": {
      "text/plain": [
       "9"
      ]
     },
     "execution_count": 20,
     "metadata": {
      "tags": []
     },
     "output_type": "execute_result"
    }
   ],
   "source": [
    "test_labels[0]"
   ]
  },
  {
   "cell_type": "code",
   "execution_count": null,
   "metadata": {
    "id": "p9-tvOcxtAH_"
   },
   "outputs": [],
   "source": [
    "def plot_image(i, predictions_array, true_label, img):\n",
    "  predictions_array, true_label, img = predictions_array[i], true_label[i], img[i]\n",
    "  plt.grid(False)\n",
    "  plt.xticks([])\n",
    "  plt.yticks([])\n",
    "\n",
    "  plt.imshow(img, cmap=plt.cm.binary)\n",
    "\n",
    "  predicted_label = np.argmax(predictions_array)\n",
    "  if predicted_label == true_label:\n",
    "    color = 'blue'\n",
    "  else:\n",
    "    color = 'red'\n",
    "\n",
    "  plt.xlabel(\"{} {:2.0f}% ({})\".format(class_names[predicted_label],\n",
    "                                100*np.max(predictions_array),\n",
    "                                class_names[true_label]),\n",
    "                                color=color)\n",
    "\n",
    "def plot_value_array(i, predictions_array, true_label):\n",
    "  predictions_array, true_label = predictions_array[i], true_label[i]\n",
    "  plt.grid(False)\n",
    "  plt.xticks([])\n",
    "  plt.yticks([])\n",
    "  thisplot = plt.bar(range(10), predictions_array, color=\"#777777\")\n",
    "  plt.ylim([0, 1])\n",
    "  predicted_label = np.argmax(predictions_array)\n",
    "\n",
    "  thisplot[predicted_label].set_color('red')\n",
    "  thisplot[true_label].set_color('blue')"
   ]
  },
  {
   "cell_type": "code",
   "execution_count": null,
   "metadata": {
    "colab": {
     "base_uri": "https://localhost:8080/",
     "height": 203
    },
    "id": "UY1TxbnktHcf",
    "outputId": "1398bafb-f799-4bf2-b9fb-21eb6d1d9e4b"
   },
   "outputs": [
    {
     "data": {
      "image/png": "[encoded data removed]",
      "text/plain": [
       "<Figure size 432x216 with 2 Axes>"
      ]
     },
     "metadata": {
      "tags": []
     },
     "output_type": "display_data"
    }
   ],
   "source": [
    "i = 0\n",
    "plt.figure(figsize=(6,3))\n",
    "plt.subplot(1,2,1)\n",
    "plot_image(i, predictions, test_labels, test_images)\n",
    "plt.subplot(1,2,2)\n",
    "plot_value_array(i, predictions,  test_labels)\n",
    "plt.show()"
   ]
  },
  {
   "cell_type": "code",
   "execution_count": null,
   "metadata": {
    "colab": {
     "base_uri": "https://localhost:8080/",
     "height": 203
    },
    "id": "41P_uUQktLe-",
    "outputId": "d28ce22f-b7cf-4fc2-9e09-1043dfb42f0c"
   },
   "outputs": [
    {
     "data": {
      "image/png": "[encoded data removed]",
      "text/plain": [
       "<Figure size 432x216 with 2 Axes>"
      ]
     },
     "metadata": {
      "tags": []
     },
     "output_type": "display_data"
    }
   ],
   "source": [
    "i = 12\n",
    "plt.figure(figsize=(6,3))\n",
    "plt.subplot(1,2,1)\n",
    "plot_image(i, predictions, test_labels, test_images)\n",
    "plt.subplot(1,2,2)\n",
    "plot_value_array(i, predictions,  test_labels)\n",
    "plt.show()"
   ]
  },
  {
   "cell_type": "code",
   "execution_count": null,
   "metadata": {
    "colab": {
     "base_uri": "https://localhost:8080/",
     "height": 589
    },
    "id": "sgrr21C1tP23",
    "outputId": "c3748a66-8119-462a-b03a-203cf91f8582"
   },
   "outputs": [
    {
     "data": {
      "image/png": "[encoded data removed]",
      "text/plain": [
       "<Figure size 864x720 with 30 Axes>"
      ]
     },
     "metadata": {
      "tags": []
     },
     "output_type": "display_data"
    }
   ],
   "source": [
    "# Plota os primeiros X imagens de teste, os rótulos preditos e os rótulos verdadeiros.\n",
    "# Colore as predições corretas de azul e as incorretas de vermelho.\n",
    "num_rows = 5\n",
    "num_cols = 3\n",
    "num_images = num_rows*num_cols\n",
    "plt.figure(figsize=(2*2*num_cols, 2*num_rows))\n",
    "\n",
    "for i in range(num_images):\n",
    "  plt.subplot(num_rows, 2*num_cols, 2*i+1)\n",
    "  plot_image(i, predictions, test_labels, test_images)\n",
    "  plt.subplot(num_rows, 2*num_cols, 2*i+2)\n",
    "  plot_value_array(i, predictions, test_labels)\n",
    "\n",
    "plt.show()"
   ]
  },
  {
   "cell_type": "code",
   "execution_count": null,
   "metadata": {
    "colab": {
     "base_uri": "https://localhost:8080/"
    },
    "id": "d_zHDJVitSwO",
    "outputId": "beed5e1a-bb89-4b21-86b5-b71e40b7e4f5"
   },
   "outputs": [
    {
     "data": {
      "text/plain": [
       "(28, 28)"
      ]
     },
     "execution_count": 25,
     "metadata": {
      "tags": []
     },
     "output_type": "execute_result"
    }
   ],
   "source": [
    "# Grab an image from the test dataset.\n",
    "img = test_images[0]\n",
    "\n",
    "img.shape"
   ]
  },
  {
   "cell_type": "code",
   "execution_count": null,
   "metadata": {
    "colab": {
     "base_uri": "https://localhost:8080/"
    },
    "id": "74NEe2mjuByf",
    "outputId": "b14acffc-042d-42f7-e9d1-3bb00f020e0e"
   },
   "outputs": [
    {
     "data": {
      "text/plain": [
       "(1, 28, 28)"
      ]
     },
     "execution_count": 26,
     "metadata": {
      "tags": []
     },
     "output_type": "execute_result"
    }
   ],
   "source": [
    "# Adiciona a imagem em um batch que possui um só membro.\n",
    "img = (np.expand_dims(img, 0))\n",
    "\n",
    "img.shape"
   ]
  },
  {
   "cell_type": "code",
   "execution_count": null,
   "metadata": {
    "colab": {
     "base_uri": "https://localhost:8080/"
    },
    "id": "5gNn3J2euSdr",
    "outputId": "dab56595-e80c-4421-95ab-00a918e1354d"
   },
   "outputs": [
    {
     "data": {
      "text/plain": [
       "array([[1.0869565e-09, 1.7740213e-07, 1.5778094e-09, 8.4248081e-11,\n",
       "        4.7008630e-10, 7.0214781e-05, 9.4607252e-08, 1.1456566e-02,\n",
       "        2.8994258e-08, 9.8847288e-01]], dtype=float32)"
      ]
     },
     "execution_count": 27,
     "metadata": {
      "tags": []
     },
     "output_type": "execute_result"
    }
   ],
   "source": [
    "predictions_single = model.predict(img)\n",
    "predictions_single"
   ]
  },
  {
   "cell_type": "code",
   "execution_count": null,
   "metadata": {
    "colab": {
     "base_uri": "https://localhost:8080/",
     "height": 300
    },
    "id": "wRhaWtVMuef7",
    "outputId": "186ef7e4-5a83-4603-b1a4-f06ee4a4c093"
   },
   "outputs": [
    {
     "data": {
      "image/png": "[encoded data removed]",
      "text/plain": [
       "<Figure size 432x288 with 1 Axes>"
      ]
     },
     "metadata": {
      "needs_background": "light",
      "tags": []
     },
     "output_type": "display_data"
    }
   ],
   "source": [
    "plot_value_array(0, predictions_single, test_labels)\n",
    "_ = plt.xticks(range(10), class_names, rotation=45)"
   ]
  },
  {
   "cell_type": "code",
   "execution_count": null,
   "metadata": {
    "colab": {
     "base_uri": "https://localhost:8080/"
    },
    "id": "kl3kODx4uld1",
    "outputId": "9f9e7074-daa0-4175-a8c7-33631da48135"
   },
   "outputs": [
    {
     "data": {
      "text/plain": [
       "9"
      ]
     },
     "execution_count": 29,
     "metadata": {
      "tags": []
     },
     "output_type": "execute_result"
    }
   ],
   "source": [
    "np.argmax(predictions_single[0])"
   ]
  },
  {
   "cell_type": "markdown",
   "metadata": {
    "id": "c3TWb1C4XGrR"
   },
   "source": [
    "## Pergunta 1\n",
    "\n",
    "Que tipo de Aprendizado foi utilizado no nosso problema?\n",
    "\n",
    "R: Supervisionado."
   ]
  },
  {
   "cell_type": "code",
   "execution_count": null,
   "metadata": {
    "colab": {
     "base_uri": "https://localhost:8080/"
    },
    "id": "OXsCdArQuuej",
    "outputId": "acd6ea3e-6d29-4aad-e3c3-da8ab0e0a7f1"
   },
   "outputs": [
    {
     "name": "stdout",
     "output_type": "stream",
     "text": [
      "Variáveis (preditoras): [[[0. 0. 0. ... 0. 0. 0.]\n",
      "  [0. 0. 0. ... 0. 0. 0.]\n",
      "  [0. 0. 0. ... 0. 0. 0.]\n",
      "  ...\n",
      "  [0. 0. 0. ... 0. 0. 0.]\n",
      "  [0. 0. 0. ... 0. 0. 0.]\n",
      "  [0. 0. 0. ... 0. 0. 0.]]\n",
      "\n",
      " [[0. 0. 0. ... 0. 0. 0.]\n",
      "  [0. 0. 0. ... 0. 0. 0.]\n",
      "  [0. 0. 0. ... 0. 0. 0.]\n",
      "  ...\n",
      "  [0. 0. 0. ... 0. 0. 0.]\n",
      "  [0. 0. 0. ... 0. 0. 0.]\n",
      "  [0. 0. 0. ... 0. 0. 0.]]\n",
      "\n",
      " [[0. 0. 0. ... 0. 0. 0.]\n",
      "  [0. 0. 0. ... 0. 0. 0.]\n",
      "  [0. 0. 0. ... 0. 0. 0.]\n",
      "  ...\n",
      "  [0. 0. 0. ... 0. 0. 0.]\n",
      "  [0. 0. 0. ... 0. 0. 0.]\n",
      "  [0. 0. 0. ... 0. 0. 0.]]\n",
      "\n",
      " ...\n",
      "\n",
      " [[0. 0. 0. ... 0. 0. 0.]\n",
      "  [0. 0. 0. ... 0. 0. 0.]\n",
      "  [0. 0. 0. ... 0. 0. 0.]\n",
      "  ...\n",
      "  [0. 0. 0. ... 0. 0. 0.]\n",
      "  [0. 0. 0. ... 0. 0. 0.]\n",
      "  [0. 0. 0. ... 0. 0. 0.]]\n",
      "\n",
      " [[0. 0. 0. ... 0. 0. 0.]\n",
      "  [0. 0. 0. ... 0. 0. 0.]\n",
      "  [0. 0. 0. ... 0. 0. 0.]\n",
      "  ...\n",
      "  [0. 0. 0. ... 0. 0. 0.]\n",
      "  [0. 0. 0. ... 0. 0. 0.]\n",
      "  [0. 0. 0. ... 0. 0. 0.]]\n",
      "\n",
      " [[0. 0. 0. ... 0. 0. 0.]\n",
      "  [0. 0. 0. ... 0. 0. 0.]\n",
      "  [0. 0. 0. ... 0. 0. 0.]\n",
      "  ...\n",
      "  [0. 0. 0. ... 0. 0. 0.]\n",
      "  [0. 0. 0. ... 0. 0. 0.]\n",
      "  [0. 0. 0. ... 0. 0. 0.]]]\n",
      "Rótulos (respostas): [9 0 0 ... 3 0 5]\n"
     ]
    }
   ],
   "source": [
    "print('Variáveis (preditoras):', train_images)\n",
    "print('Rótulos (respostas):', train_labels)"
   ]
  },
  {
   "cell_type": "markdown",
   "metadata": {
    "id": "mh6ISO1-XN4K"
   },
   "source": [
    "## Pergunta 2\n",
    "\n",
    "No nosso exemplo executado, o modelo lida com quantas classes?"
   ]
  },
  {
   "cell_type": "code",
   "execution_count": null,
   "metadata": {
    "colab": {
     "base_uri": "https://localhost:8080/"
    },
    "id": "KDs0lhljw6WR",
    "outputId": "366eddca-e885-4f34-b2c1-b3d5dac611b6"
   },
   "outputs": [
    {
     "data": {
      "text/plain": [
       "10"
      ]
     },
     "execution_count": 31,
     "metadata": {
      "tags": []
     },
     "output_type": "execute_result"
    }
   ],
   "source": [
    "len(np.unique(train_labels))"
   ]
  },
  {
   "cell_type": "markdown",
   "metadata": {
    "id": "EVPz4vdAXSSu"
   },
   "source": [
    "## Pergunta 3\n",
    "\n",
    "Em Machine Learning, especificamente no reconhecimento de imagens características relacionadas à forma, normalmente são extraídas a partir da imagem binarizada do objeto. No nosso contexto, como os tipos de características de uma imagem podem ser identificados?\n",
    "\n",
    "R: Pelos descritores de forma (Shape)."
   ]
  },
  {
   "cell_type": "code",
   "execution_count": null,
   "metadata": {
    "colab": {
     "base_uri": "https://localhost:8080/"
    },
    "id": "pjXov1o_ydQw",
    "outputId": "25b817d3-f97a-4fb4-c32d-e6ed2083425f"
   },
   "outputs": [
    {
     "data": {
      "text/plain": [
       "(60000, 28, 28)"
      ]
     },
     "execution_count": 32,
     "metadata": {
      "tags": []
     },
     "output_type": "execute_result"
    }
   ],
   "source": [
    "train_images.shape # descrição da forma: 60000 imagens de 28x28 pixels"
   ]
  },
  {
   "cell_type": "markdown",
   "metadata": {
    "id": "ptIaYDROXjdz"
   },
   "source": [
    "## Pergunta 4\n",
    "\n",
    "Em relação à análise de dados, o Machine Learning utiliza-se de uma forma. Qual seria essa forma?\n",
    "\n",
    "R: Preditiva."
   ]
  },
  {
   "cell_type": "code",
   "execution_count": null,
   "metadata": {
    "colab": {
     "base_uri": "https://localhost:8080/"
    },
    "id": "Rq0wGhRM4wz3",
    "outputId": "8ea59d32-a4d5-4627-fee5-2c2d0569cf5a"
   },
   "outputs": [
    {
     "name": "stdout",
     "output_type": "stream",
     "text": [
      "WARNING:tensorflow:Model was constructed with shape (None, 28, 28) for input Tensor(\"flatten_input:0\", shape=(None, 28, 28), dtype=float32), but it was called on an input with incompatible shape (None, 1, 28, 28).\n"
     ]
    },
    {
     "data": {
      "text/plain": [
       "array([[1.0869565e-09, 1.7740213e-07, 1.5778094e-09, 8.4248081e-11,\n",
       "        4.7008630e-10, 7.0214781e-05, 9.4607252e-08, 1.1456566e-02,\n",
       "        2.8994258e-08, 9.8847288e-01]], dtype=float32)"
      ]
     },
     "execution_count": 33,
     "metadata": {
      "tags": []
     },
     "output_type": "execute_result"
    }
   ],
   "source": [
    "img50 = test_images[50]\n",
    "img50 = (np.expand_dims(img, 0))\n",
    "model.predict(img50) # ML => forma preditiva"
   ]
  },
  {
   "cell_type": "markdown",
   "metadata": {
    "id": "G-H6-qGeXpTv"
   },
   "source": [
    "## Pergunta 5\n",
    "\n",
    "Pensando no conceito de Inteligência Artificial, podemos dizer que:\n",
    "\n",
    "R: O sistema montado tenta pensar como humanos."
   ]
  },
  {
   "cell_type": "markdown",
   "metadata": {
    "id": "UppatG--Xv3L"
   },
   "source": [
    "## Pergunta 6\n",
    "\n",
    "O desempenho do sistema deve melhorar não apenas na repetição da mesma tarefa, mas também nas tarefas similares do domínio. Portanto:\n",
    "\n",
    "R: O aprendizado envolve a generalização a partir da experiência. "
   ]
  },
  {
   "cell_type": "code",
   "execution_count": null,
   "metadata": {
    "colab": {
     "base_uri": "https://localhost:8080/"
    },
    "id": "0qQeuAun5RYg",
    "outputId": "c8d2c505-ccde-4d06-e210-590f525a4efa"
   },
   "outputs": [
    {
     "name": "stdout",
     "output_type": "stream",
     "text": [
      "1875/1875 - 2s - loss: 0.2191 - accuracy: 0.9183\n",
      "313/313 - 0s - loss: 0.3251 - accuracy: 0.8841\n"
     ]
    }
   ],
   "source": [
    "# Medindo perda e acurácia dos dados de teste: availiação de generalização do modelo com base nos dados (experiência)\n",
    "metricas_treino = model.evaluate(train_images, train_labels, verbose=2)\n",
    "metricas_teste = model.evaluate(test_images, test_labels, verbose=2)"
   ]
  },
  {
   "cell_type": "markdown",
   "metadata": {
    "id": "jafIQeuRX-Ti"
   },
   "source": [
    "## Pergunta 7\n",
    "\n",
    "Inferência é uma dedução feita com base em informações ou um raciocínio que usa dados disponíveis para se chegar a uma conclusão. O nosso exemplo utilizou-se de qual tipo de inferência?"
   ]
  },
  {
   "cell_type": "code",
   "execution_count": null,
   "metadata": {
    "id": "iTL6ypE259tC"
   },
   "outputs": [],
   "source": [
    "poder_generalizacao = metricas_treino[1] - metricas_teste[1] # medindo o poder de generalização ou inferência indutiva do modelo "
   ]
  },
  {
   "cell_type": "markdown",
   "metadata": {
    "id": "kj3p0XTmZjok"
   },
   "source": [
    "## Pergunta 8\n",
    "\n",
    "Qual dessas técnicas NÃO poderia ser utilizada para classificação?\n",
    "\n",
    "R: Regressão linear."
   ]
  },
  {
   "cell_type": "code",
   "execution_count": null,
   "metadata": {
    "id": "0UYaZPvL9DLx"
   },
   "outputs": [],
   "source": [
    "# Classificação\n",
    "from sklearn.svm import SVC\n",
    "from sklearn.neural_network import MLPClassifier\n",
    "from sklearn.linear_model import LogisticRegression\n",
    "\n",
    "# Regressão\n",
    "from sklearn.linear_model import LinearRegression"
   ]
  },
  {
   "cell_type": "markdown",
   "metadata": {
    "id": "QzfdjPhvZp9J"
   },
   "source": [
    "## Pergunta 9\n",
    "\n",
    "Pelo uso da etapa de Flatten, podemos afirmar qual a rede neural foi utilizada dentre as opções abaixo?\n",
    "\n",
    "R: Sim, podemos dizer que foi uma Rede Neural CNN. (gabarito do trabalho)\n",
    "\n",
    "R: Sim, podemos dizer que foi a forma simples de um Perceptron duas camadas. (resposta correta)"
   ]
  },
  {
   "cell_type": "markdown",
   "metadata": {
    "id": "5I_lkxLSaB6T"
   },
   "source": [
    "**[Texto retirado do notebook da segunda aula interativa do módulo 2]**:\n",
    "\n",
    "### Introdução\n",
    "\n",
    "Uma Rede Neural Convolucional (ConvNet / Convolutional Neural Network / CNN) é um algoritmo de Aprendizado Profundo (Deep Learning) que pode captar uma imagem de entrada, atribuir importância (pesos e vieses que podem ser aprendidos) a vários aspectos / objetos da imagem e ser capaz de diferenciar um do outro. O pré-processamento exigido em uma CNN é muito menor em comparação com outros algoritmos de classificação. Enquanto nos métodos primitivos os filtros são feitos à mão, com treinamento suficiente, as CNNs têm a capacidade de aprender esses filtros / características.\n",
    "\n",
    "#### Por que não usar redes MLPs?\n",
    "\n",
    "Uma imagem não é nada além de uma matriz de valores de pixels, não é mesmo? **<u>Então, por que não podemos apenas achatar a imagem (por exemplo, converter uma matriz 3×3 em um vetor 9×1) e alimentá-lo em uma rede MLP para fins de classificação?</u>**\n",
    "\n",
    "Uma CNN é capaz de capturar com sucesso as dependências espaciais e temporais em uma imagem através da aplicação de filtros relevantes. A arquitetura executa um melhor ajuste ao conjunto de dados da imagem devido à redução no número de parâmetros envolvidos e à capacidade de reutilização dos pesos. Em outras palavras, a rede pode ser treinada para entender melhor a sofisticação da imagem. Coisa que uma rede MLP tradicional não consegue."
   ]
  },
  {
   "cell_type": "markdown",
   "metadata": {
    "id": "eW_XUwsMb_Ec"
   },
   "source": [
    "## Pergunta 10\n",
    "\n",
    "Para que serviu a função Loss no nosso modelo?\n",
    "\n",
    "R: Serve para minimizar a função de perda para guiar o modelo para direção certa."
   ]
  },
  {
   "cell_type": "code",
   "execution_count": null,
   "metadata": {
    "colab": {
     "base_uri": "https://localhost:8080/"
    },
    "id": "hOaU0ODyc-Va",
    "outputId": "6bb91bcd-7c41-4d09-94ac-64abeb034736"
   },
   "outputs": [
    {
     "name": "stdout",
     "output_type": "stream",
     "text": [
      "Época 1/10: 0.4934781491756439\n",
      "Época 2/10: 0.3721643090248108\n",
      "Época 3/10: 0.33474454283714294\n",
      "Época 4/10: 0.31172868609428406\n",
      "Época 5/10: 0.29242080450057983\n",
      "Época 6/10: 0.2778433561325073\n",
      "Época 7/10: 0.266294926404953\n",
      "Época 8/10: 0.25616034865379333\n",
      "Época 9/10: 0.24582116305828094\n",
      "Época 10/10: 0.237196683883667\n"
     ]
    }
   ],
   "source": [
    "numero_epocas = len(history.history['loss'])\n",
    "for i, loss_i in enumerate(history.history['loss']):\n",
    "    print(f'Época {i + 1}/{numero_epocas}: {loss_i}')"
   ]
  },
  {
   "cell_type": "markdown",
   "metadata": {
    "id": "MnK-F_COdsAM"
   },
   "source": [
    "## Pergunta 11\n",
    "\n",
    "Para que serve o comando model.fit?\n",
    "\n",
    "R: Treinamento."
   ]
  },
  {
   "cell_type": "code",
   "execution_count": null,
   "metadata": {
    "colab": {
     "base_uri": "https://localhost:8080/",
     "height": 35
    },
    "id": "42EX2IOOc_B_",
    "outputId": "7e1a5bef-0399-455c-e689-ee2ed63208cd"
   },
   "outputs": [
    {
     "data": {
      "application/vnd.google.colaboratory.intrinsic+json": {
       "type": "string"
      },
      "text/plain": [
       "'Trains the model for a fixed number of epochs (iterations on a dataset).'"
      ]
     },
     "execution_count": 38,
     "metadata": {
      "tags": []
     },
     "output_type": "execute_result"
    }
   ],
   "source": [
    "import pydoc\n",
    "\n",
    "doc_comando_fit = pydoc.render_doc(model.fit, renderer=pydoc.plaintext).split('\\n')\n",
    "descricao_comando_fit = doc_comando_fit[3].strip()\n",
    "\n",
    "descricao_comando_fit"
   ]
  },
  {
   "cell_type": "markdown",
   "metadata": {
    "id": "5Ud2H-JngSZH"
   },
   "source": [
    "## Pergunta 12\n",
    "\n",
    "O que seria uma Epoch?\n",
    "\n",
    "R: Seria o número de passagens de todo o conjunto de dados de treinamento que o algoritmo de aprendizado de máquina concluiu."
   ]
  },
  {
   "cell_type": "code",
   "execution_count": null,
   "metadata": {
    "colab": {
     "base_uri": "https://localhost:8080/"
    },
    "id": "ixHpIbORi2tA",
    "outputId": "bafc374f-812f-4437-d5fa-6d522f72a307"
   },
   "outputs": [
    {
     "name": "stdout",
     "output_type": "stream",
     "text": [
      "fit(x=None, y=None, batch_size=None, epochs=1, verbose=1, callbacks=None, validation_split=0.0, validation_data=None, shuffle=True, class_weight=None, sample_weight=None, initial_epoch=0, steps_per_epoch=None, validation_steps=None, validation_batch_size=None, validation_freq=1, max_queue_size=10, workers=1, use_multiprocessing=False) method of tensorflow.python.keras.engine.sequential.Sequential instance\n",
      "    Trains the model for a fixed number of epochs (iterations on a dataset).\n",
      "        epochs: Integer. Number of epochs to train the model.\n",
      "            `epochs` is to be understood as \"final epoch\".\n",
      "            given by `epochs`, but merely until the epoch\n",
      "            of index `epochs` is reached.\n",
      "            If an integer, specifies how many training epochs to run before a\n",
      "            validation every 2 epochs. If a Container, specifies the epochs on\n",
      "            validation at the end of the 1st, 2nd, and 10th epochs.\n",
      "        at successive epochs, as well as validation loss values\n"
     ]
    }
   ],
   "source": [
    "import pydoc\n",
    "\n",
    "doc_comando_fit = pydoc.render_doc(model.fit, renderer=pydoc.plaintext).split('\\n')\n",
    "\n",
    "for linha in doc_comando_fit:\n",
    "    if 'epochs' in linha:\n",
    "        print(linha)"
   ]
  },
  {
   "cell_type": "markdown",
   "metadata": {
    "id": "1yx8doUBvS1C"
   },
   "source": [
    "## Pergunta 13\n",
    "\n",
    "No treinamento do modelo, qual foi a acurácia aproximada da Epoch 5/10?\n",
    "\n",
    "R: 0,8914. (resposta mais próxima)"
   ]
  },
  {
   "cell_type": "code",
   "execution_count": null,
   "metadata": {
    "colab": {
     "base_uri": "https://localhost:8080/"
    },
    "id": "8lhjW6MZi6ek",
    "outputId": "ae5a0a90-f47a-46ca-a64f-d2990b6ebdc2"
   },
   "outputs": [
    {
     "data": {
      "text/plain": [
       "0.8925666809082031"
      ]
     },
     "execution_count": 40,
     "metadata": {
      "tags": []
     },
     "output_type": "execute_result"
    }
   ],
   "source": [
    "epoca = 5\n",
    "\n",
    "history.history['accuracy'][epoca - 1]"
   ]
  },
  {
   "cell_type": "markdown",
   "metadata": {
    "id": "vJYHwEZ9zhr7"
   },
   "source": [
    "## Pergunta 14\n",
    "\n",
    "Quantas imagens foram utilizadas para predições de imagens em batch?\n",
    "\n",
    "R: Todo o conjunto de teste chamado “test_images”."
   ]
  },
  {
   "cell_type": "code",
   "execution_count": null,
   "metadata": {
    "colab": {
     "base_uri": "https://localhost:8080/"
    },
    "id": "2ZJEqDlHwwZ1",
    "outputId": "e1bf4145-a1d6-403c-a75b-24b615ddb2ef"
   },
   "outputs": [
    {
     "data": {
      "text/plain": [
       "10000"
      ]
     },
     "execution_count": 41,
     "metadata": {
      "tags": []
     },
     "output_type": "execute_result"
    }
   ],
   "source": [
    "predictions = model.predict(test_images)\n",
    "\n",
    "len(test_images)"
   ]
  },
  {
   "cell_type": "markdown",
   "metadata": {
    "id": "WDf7NqIi0oTA"
   },
   "source": [
    "## Pergunta 15\n",
    "\n",
    "Qual foi o resultado da classificação da única imagem ao final? Foi correta?"
   ]
  },
  {
   "cell_type": "code",
   "execution_count": null,
   "metadata": {
    "colab": {
     "base_uri": "https://localhost:8080/"
    },
    "id": "jptBMwX40j4y",
    "outputId": "14b1c7fc-c67e-4e8e-f524-0aa69a9e83b3"
   },
   "outputs": [
    {
     "data": {
      "text/plain": [
       "9"
      ]
     },
     "execution_count": 42,
     "metadata": {
      "tags": []
     },
     "output_type": "execute_result"
    }
   ],
   "source": [
    "np.argmax(predictions_single[0])"
   ]
  }
 ],
 "metadata": {
  "colab": {
   "collapsed_sections": [],
   "name": "trabalho_pratico_modulo4.ipynb",
   "provenance": []
  },
  "kernelspec": {
   "display_name": "Python 3",
   "language": "python",
   "name": "python3"
  },
  "language_info": {
   "codemirror_mode": {
    "name": "ipython",
    "version": 3
   },
   "file_extension": ".py",
   "mimetype": "text/x-python",
   "name": "python",
   "nbconvert_exporter": "python",
   "pygments_lexer": "ipython3",
   "version": "3.8.5"
  }
 },
 "nbformat": 4,
 "nbformat_minor": 4
}
